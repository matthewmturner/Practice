{
 "cells": [
  {
   "cell_type": "markdown",
   "metadata": {},
   "source": [
    "# Scope\n",
    "I receive a 140mb csv file daily into a share drive that I would like to use for historical analytics.  I have two problems I am trying to solve for:\n",
    "\n",
    "    1. I want to create a historical parquet dataset as the storage for the historical analytics\n",
    "\n",
    "    2. I want to know what combintation of tools I should use to perform the analytics\n",
    "\n",
    "## Options\n",
    "Problem 1\n",
    "\n",
    "    1. Convert the daily file into its own parquet file and write that.  With that I can then use Dask or Pyarrow datasets\n",
    "    \n",
    "    2. Create partioned parquet dataset.  Partitioning strategy to be determined (i.e. weekly/monthly).  In particular partitioning is relevant because parquet does not have an append mode - so I cant simply append to the same parquet file or a file that contains a large number of dates.  As a result reading in the parquet file to memory to append the latest days data can get out of hand quickly (since I am appending all columns).  After a few months I will have an in memory dataframe of 12-16GB which will be very difficult for the PC and server we have to handle.  So a scalable solution is required. CAN PYARROW.CONCAT_TABLES HANDLE THIS?\n",
    "\n",
    "Problem 2\n",
    "\n",
    "    1. Pyarrow and pandas.  If were smart with data types and only choosing what columns we want this should suffice.\n",
    "    2. Dask.\n",
    "    3. Combination.  Dask for early steps, reading in and filtering, then convert to pandas when data is a managable size."
   ]
  },
  {
   "cell_type": "markdown",
   "metadata": {},
   "source": [
    "Data Source:\n",
    "https://www.kaggle.com/benhamner/sf-bay-area-bike-share"
   ]
  },
  {
   "cell_type": "markdown",
   "metadata": {},
   "source": []
  }
 ],
 "metadata": {
  "kernelspec": {
   "display_name": "Python 3.7.6 64-bit ('learning': conda)",
   "language": "python",
   "name": "python37664bitlearningconda19657ba668a546319d94c84a2735f47c"
  },
  "language_info": {
   "codemirror_mode": {
    "name": "ipython",
    "version": 3
   },
   "file_extension": ".py",
   "mimetype": "text/x-python",
   "name": "python",
   "nbconvert_exporter": "python",
   "pygments_lexer": "ipython3",
   "version": "3.7.6"
  },
  "toc": {
   "base_numbering": 1,
   "nav_menu": {},
   "number_sections": true,
   "sideBar": true,
   "skip_h1_title": false,
   "title_cell": "Table of Contents",
   "title_sidebar": "Contents",
   "toc_cell": false,
   "toc_position": {},
   "toc_section_display": true,
   "toc_window_display": false
  }
 },
 "nbformat": 4,
 "nbformat_minor": 4
}