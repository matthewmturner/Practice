{
 "cells": [
  {
   "cell_type": "code",
   "execution_count": 94,
   "metadata": {
    "ExecuteTime": {
     "end_time": "2020-05-28T04:10:10.624690Z",
     "start_time": "2020-05-28T04:10:10.615766Z"
    }
   },
   "outputs": [],
   "source": [
    "import pandas as pd\n",
    "import numpy as np\n",
    "from concurrent.futures import ThreadPoolExecutor\n",
    "from pyarrow import csv\n",
    "import pyarrow"
   ]
  },
  {
   "cell_type": "code",
   "execution_count": 95,
   "metadata": {
    "ExecuteTime": {
     "end_time": "2020-05-28T04:10:28.839626Z",
     "start_time": "2020-05-28T04:10:28.830897Z"
    }
   },
   "outputs": [
    {
     "data": {
      "text/plain": [
       "12"
      ]
     },
     "execution_count": 95,
     "metadata": {},
     "output_type": "execute_result"
    }
   ],
   "source": [
    "pyarrow.cpu_count()"
   ]
  },
  {
   "cell_type": "code",
   "execution_count": 75,
   "metadata": {
    "ExecuteTime": {
     "end_time": "2020-05-28T03:36:13.953059Z",
     "start_time": "2020-05-28T03:36:13.594662Z"
    }
   },
   "outputs": [],
   "source": [
    "df1 = pd.DataFrame(np.random.random((100000,20)))\n",
    "df2 = pd.DataFrame(np.random.random((100000,21)))\n",
    "df3 = pd.DataFrame(np.random.random((100000,22)))\n",
    "df4 = pd.DataFrame(np.random.random((100000,23)))"
   ]
  },
  {
   "cell_type": "code",
   "execution_count": 76,
   "metadata": {
    "ExecuteTime": {
     "end_time": "2020-05-28T03:37:06.963916Z",
     "start_time": "2020-05-28T03:36:14.437369Z"
    }
   },
   "outputs": [],
   "source": [
    "df1.to_csv(\"df1.csv\")\n",
    "df2.to_csv(\"df2.csv\")\n",
    "df3.to_csv(\"df3.csv\")\n",
    "df4.to_csv(\"df4.csv\")"
   ]
  },
  {
   "cell_type": "code",
   "execution_count": 34,
   "metadata": {
    "ExecuteTime": {
     "end_time": "2020-05-28T03:20:27.133738Z",
     "start_time": "2020-05-28T03:20:27.125105Z"
    }
   },
   "outputs": [],
   "source": [
    "def csv_reader_generic(params):\n",
    "    filename, kw = params\n",
    "    return pd.read_csv(filename, **kw)"
   ]
  },
  {
   "cell_type": "code",
   "execution_count": 86,
   "metadata": {
    "ExecuteTime": {
     "end_time": "2020-05-28T03:49:35.025256Z",
     "start_time": "2020-05-28T03:49:35.020099Z"
    }
   },
   "outputs": [],
   "source": [
    "def arrow_csv_reader_generic(params):\n",
    "    filename, kw = params\n",
    "    return csv.read_csv(filename, **kw)"
   ]
  },
  {
   "cell_type": "code",
   "execution_count": 78,
   "metadata": {
    "ExecuteTime": {
     "end_time": "2020-05-28T03:38:00.797341Z",
     "start_time": "2020-05-28T03:38:00.788435Z"
    }
   },
   "outputs": [],
   "source": [
    "files = [\n",
    "    ('df1.csv', {}), \n",
    "    ('df2.csv', {}),\n",
    "    ('df3.csv', {}),\n",
    "    ('df4.csv', {})\n",
    "]"
   ]
  },
  {
   "cell_type": "code",
   "execution_count": 79,
   "metadata": {
    "ExecuteTime": {
     "end_time": "2020-05-28T03:38:20.815014Z",
     "start_time": "2020-05-28T03:38:17.807500Z"
    }
   },
   "outputs": [],
   "source": [
    "with ThreadPoolExecutor(2) as executor:\n",
    "    results = executor.map(csv_reader_generic, files)"
   ]
  },
  {
   "cell_type": "code",
   "execution_count": 77,
   "metadata": {
    "ExecuteTime": {
     "end_time": "2020-05-28T03:37:54.523046Z",
     "start_time": "2020-05-28T03:37:06.968859Z"
    }
   },
   "outputs": [
    {
     "name": "stdout",
     "output_type": "stream",
     "text": [
      "5.9 s ± 469 ms per loop (mean ± std. dev. of 7 runs, 1 loop each)\n"
     ]
    }
   ],
   "source": [
    "%%timeit\n",
    "\n",
    "dff1 = pd.read_csv(\"df1.csv\")\n",
    "dff2 = pd.read_csv(\"df2.csv\")\n",
    "dff3 = pd.read_csv(\"df3.csv\")\n",
    "dff4 = pd.read_csv(\"df4.csv\")"
   ]
  },
  {
   "cell_type": "code",
   "execution_count": 91,
   "metadata": {
    "ExecuteTime": {
     "end_time": "2020-05-28T03:52:51.172069Z",
     "start_time": "2020-05-28T03:52:46.492271Z"
    }
   },
   "outputs": [
    {
     "name": "stdout",
     "output_type": "stream",
     "text": [
      "573 ms ± 19.9 ms per loop (mean ± std. dev. of 7 runs, 1 loop each)\n"
     ]
    }
   ],
   "source": [
    "%%timeit\n",
    "\n",
    "dff1 = csv.read_csv(\"df1.csv\")\n",
    "dff2 = csv.read_csv(\"df2.csv\")\n",
    "dff3 = csv.read_csv(\"df3.csv\")\n",
    "dff4 = csv.read_csv(\"df4.csv\")"
   ]
  },
  {
   "cell_type": "code",
   "execution_count": 92,
   "metadata": {
    "ExecuteTime": {
     "end_time": "2020-05-28T03:54:39.872213Z",
     "start_time": "2020-05-28T03:54:29.189907Z"
    }
   },
   "outputs": [
    {
     "name": "stdout",
     "output_type": "stream",
     "text": [
      "1.35 s ± 179 ms per loop (mean ± std. dev. of 7 runs, 1 loop each)\n"
     ]
    }
   ],
   "source": [
    "%%timeit\n",
    "\n",
    "dff1 = pd.read_csv(\"df1.csv\")"
   ]
  },
  {
   "cell_type": "code",
   "execution_count": 93,
   "metadata": {
    "ExecuteTime": {
     "end_time": "2020-05-28T03:54:57.865544Z",
     "start_time": "2020-05-28T03:54:47.359476Z"
    }
   },
   "outputs": [
    {
     "name": "stdout",
     "output_type": "stream",
     "text": [
      "129 ms ± 3.5 ms per loop (mean ± std. dev. of 7 runs, 10 loops each)\n"
     ]
    }
   ],
   "source": [
    "%%timeit\n",
    "\n",
    "dff1 = csv.read_csv(\"df1.csv\")"
   ]
  },
  {
   "cell_type": "code",
   "execution_count": 87,
   "metadata": {
    "ExecuteTime": {
     "end_time": "2020-05-28T03:50:41.079444Z",
     "start_time": "2020-05-28T03:50:17.021588Z"
    }
   },
   "outputs": [
    {
     "name": "stdout",
     "output_type": "stream",
     "text": [
      "3.04 s ± 166 ms per loop (mean ± std. dev. of 7 runs, 1 loop each)\n"
     ]
    }
   ],
   "source": [
    "%%timeit\n",
    "\n",
    "with ThreadPoolExecutor(2) as executor:\n",
    "    results = executor.map(csv_reader_generic, files)"
   ]
  },
  {
   "cell_type": "code",
   "execution_count": 88,
   "metadata": {
    "ExecuteTime": {
     "end_time": "2020-05-28T03:50:51.887972Z",
     "start_time": "2020-05-28T03:50:47.550699Z"
    }
   },
   "outputs": [
    {
     "name": "stdout",
     "output_type": "stream",
     "text": [
      "530 ms ± 21.8 ms per loop (mean ± std. dev. of 7 runs, 1 loop each)\n"
     ]
    }
   ],
   "source": [
    "%%timeit\n",
    "\n",
    "with ThreadPoolExecutor(2) as executor:\n",
    "    results = executor.map(arrow_csv_reader_generic, files)"
   ]
  },
  {
   "cell_type": "code",
   "execution_count": 90,
   "metadata": {
    "ExecuteTime": {
     "end_time": "2020-05-28T03:52:24.784278Z",
     "start_time": "2020-05-28T03:52:20.496010Z"
    }
   },
   "outputs": [
    {
     "name": "stdout",
     "output_type": "stream",
     "text": [
      "525 ms ± 30.4 ms per loop (mean ± std. dev. of 7 runs, 1 loop each)\n"
     ]
    }
   ],
   "source": [
    "%%timeit\n",
    "\n",
    "with ThreadPoolExecutor(4) as executor:\n",
    "    results = executor.map(arrow_csv_reader_generic, files)"
   ]
  },
  {
   "cell_type": "code",
   "execution_count": 81,
   "metadata": {
    "ExecuteTime": {
     "end_time": "2020-05-28T03:39:13.917129Z",
     "start_time": "2020-05-28T03:39:02.079601Z"
    }
   },
   "outputs": [
    {
     "name": "stdout",
     "output_type": "stream",
     "text": [
      "1.46 s ± 60.2 ms per loop (mean ± std. dev. of 7 runs, 1 loop each)\n"
     ]
    }
   ],
   "source": [
    "%%timeit\n",
    "\n",
    "with ThreadPoolExecutor(4) as executor:\n",
    "    results = executor.map(csv_reader_generic, files)"
   ]
  },
  {
   "cell_type": "code",
   "execution_count": 63,
   "metadata": {
    "ExecuteTime": {
     "end_time": "2020-05-28T03:26:25.892376Z",
     "start_time": "2020-05-28T03:26:25.887204Z"
    }
   },
   "outputs": [
    {
     "data": {
      "text/plain": [
       "[]"
      ]
     },
     "execution_count": 63,
     "metadata": {},
     "output_type": "execute_result"
    }
   ],
   "source": [
    "list(results)"
   ]
  }
 ],
 "metadata": {
  "kernelspec": {
   "display_name": "Python 3.7.6 64-bit ('learning': conda)",
   "language": "python",
   "name": "python37664bitlearningconda19657ba668a546319d94c84a2735f47c"
  },
  "language_info": {
   "codemirror_mode": {
    "name": "ipython",
    "version": 3
   },
   "file_extension": ".py",
   "mimetype": "text/x-python",
   "name": "python",
   "nbconvert_exporter": "python",
   "pygments_lexer": "ipython3",
   "version": "3.7.6"
  },
  "toc": {
   "base_numbering": 1,
   "nav_menu": {},
   "number_sections": true,
   "sideBar": true,
   "skip_h1_title": false,
   "title_cell": "Table of Contents",
   "title_sidebar": "Contents",
   "toc_cell": false,
   "toc_position": {},
   "toc_section_display": true,
   "toc_window_display": false
  }
 },
 "nbformat": 4,
 "nbformat_minor": 4
}
