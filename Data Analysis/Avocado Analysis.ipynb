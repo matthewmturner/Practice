{
 "cells": [
  {
   "cell_type": "markdown",
   "metadata": {
    "toc-hr-collapsed": true
   },
   "source": [
    "# Setup"
   ]
  },
  {
   "cell_type": "markdown",
   "metadata": {},
   "source": [
    "## Imports"
   ]
  },
  {
   "cell_type": "code",
   "execution_count": 89,
   "metadata": {
    "ExecuteTime": {
     "end_time": "2020-03-22T15:04:32.731989Z",
     "start_time": "2020-03-22T15:04:32.727966Z"
    }
   },
   "outputs": [],
   "source": [
    "import pandas as pd\n",
    "from pyarrow import csv\n",
    "import plotly.express as px\n",
    "import plotly.graph_objects as go\n",
    "from plotly.subplots import make_subplots\n",
    "import plotly.io as pio\n",
    "import seaborn as sns"
   ]
  },
  {
   "cell_type": "markdown",
   "metadata": {},
   "source": [
    "## Config"
   ]
  },
  {
   "cell_type": "code",
   "execution_count": 2,
   "metadata": {
    "ExecuteTime": {
     "end_time": "2020-03-22T14:05:24.685042Z",
     "start_time": "2020-03-22T14:05:24.681044Z"
    }
   },
   "outputs": [],
   "source": [
    "pio.renderers.default = 'notebook_connected'"
   ]
  },
  {
   "cell_type": "code",
   "execution_count": 3,
   "metadata": {
    "ExecuteTime": {
     "end_time": "2020-03-22T14:05:25.431196Z",
     "start_time": "2020-03-22T14:05:25.421217Z"
    }
   },
   "outputs": [],
   "source": [
    "pd.options.display.float_format = '{:,.2f}'.format\n",
    "pd.options.display.max_rows = 25\n",
    "pd.options.display.min_rows = 25\n",
    "\n",
    "cm_blue_red = sns.diverging_palette(10, 240, n=19, as_cmap=True)"
   ]
  },
  {
   "cell_type": "markdown",
   "metadata": {},
   "source": [
    "## To-Dos\n",
    "\n",
    "This analysis will be revisited after taking more stats / probability courses.\n",
    "\n",
    "- Add introduction and specific problems to be answered by analysis\n",
    "- Look into city and region specific trends\n",
    "- Add bag size dimension / analysis"
   ]
  },
  {
   "cell_type": "markdown",
   "metadata": {},
   "source": [
    "# Data Ingestion"
   ]
  },
  {
   "cell_type": "markdown",
   "metadata": {},
   "source": [
    "**Data source**: https://www.kaggle.com/neuromusic/avocado-prices\n",
    "\n",
    "**Data Dictionary**\n",
    "- **Date**: The date of the observation\n",
    "- **AveragePrice**: the average price of a single avocado\n",
    "- **type**: conventional or organic\n",
    "- **year**: the year\n",
    "- **Region**: the city or region of the observation\n",
    "- **Total Volume**: Total number of avocados sold\n",
    "- **4046**: Total number of avocados with PLU 4046 sold\n",
    "- **4225**: Total number of avocados with PLU 4225 sold\n",
    "- **4770**: Total number of avocados with PLU 4770 sold\n",
    "\n",
    "**Data Overview**\n",
    "\n",
    "The table below represents weekly 2018 retail scan data for National retail volume (units) and price. Retail scan data comes directly from retailers’ cash registers based on actual retail sales of Hass avocados. Starting in 2013, the table below reflects an expanded, multi-outlet retail data set. Multi-outlet reporting includes an aggregation of the following channels: grocery, mass, club, drug, dollar and military. The Average Price (of avocados) in the table reflects a per unit (per avocado) cost, even when multiple units (avocados) are sold in bags. The Product Lookup codes (PLU’s) in the table are only for Hass avocados. Other varieties of avocados (e.g. greenskins) are not included in this table."
   ]
  },
  {
   "cell_type": "code",
   "execution_count": 4,
   "metadata": {
    "ExecuteTime": {
     "end_time": "2020-03-22T14:05:28.370314Z",
     "start_time": "2020-03-22T14:05:28.366326Z"
    }
   },
   "outputs": [],
   "source": [
    "avocado_path = r\"C:\\Users\\matth\\OneDrive\\Data\\Kaggle\\avocado.csv\""
   ]
  },
  {
   "cell_type": "code",
   "execution_count": 5,
   "metadata": {
    "ExecuteTime": {
     "end_time": "2020-03-22T14:05:29.217478Z",
     "start_time": "2020-03-22T14:05:29.183003Z"
    }
   },
   "outputs": [],
   "source": [
    "arrow_avo = csv.read_csv(avocado_path)"
   ]
  },
  {
   "cell_type": "markdown",
   "metadata": {},
   "source": [
    "Arrow infers data types for each column and picks up Date as timestamp, which saves the effort of having to do this in pandas as its own operation.  I see that the first columns has no label that needs to be investigated.  After checking the source documentation I see that this represent the index and since we already have that baked into our data structure the column can be removed."
   ]
  },
  {
   "cell_type": "code",
   "execution_count": 6,
   "metadata": {
    "ExecuteTime": {
     "end_time": "2020-03-22T14:05:31.270469Z",
     "start_time": "2020-03-22T14:05:31.263437Z"
    }
   },
   "outputs": [
    {
     "data": {
      "text/plain": [
       "pyarrow.Table\n",
       ": int64\n",
       "Date: timestamp[s]\n",
       "AveragePrice: double\n",
       "Total Volume: double\n",
       "4046: double\n",
       "4225: double\n",
       "4770: double\n",
       "Total Bags: double\n",
       "Small Bags: double\n",
       "Large Bags: double\n",
       "XLarge Bags: double\n",
       "type: string\n",
       "year: int64\n",
       "region: string"
      ]
     },
     "execution_count": 6,
     "metadata": {},
     "output_type": "execute_result"
    }
   ],
   "source": [
    "arrow_avo"
   ]
  },
  {
   "cell_type": "markdown",
   "metadata": {},
   "source": [
    "After removing the column I can safely convert to pandas for further analysis.  The one additional cleanup is that I want to remove spaces in the column names to enable query methods on the dataframe down the line."
   ]
  },
  {
   "cell_type": "code",
   "execution_count": 7,
   "metadata": {
    "ExecuteTime": {
     "end_time": "2020-03-22T14:05:33.613083Z",
     "start_time": "2020-03-22T14:05:33.599070Z"
    }
   },
   "outputs": [],
   "source": [
    "df_avo = arrow_avo.remove_column(0).to_pandas()\n",
    "df_avo.columns = df_avo.columns.str.replace(\" \", \"\")"
   ]
  },
  {
   "cell_type": "code",
   "execution_count": 8,
   "metadata": {
    "ExecuteTime": {
     "end_time": "2020-03-22T14:05:36.121969Z",
     "start_time": "2020-03-22T14:05:36.110968Z"
    }
   },
   "outputs": [
    {
     "name": "stdout",
     "output_type": "stream",
     "text": [
      "<class 'pandas.core.frame.DataFrame'>\n",
      "RangeIndex: 18249 entries, 0 to 18248\n",
      "Data columns (total 13 columns):\n",
      " #   Column        Non-Null Count  Dtype         \n",
      "---  ------        --------------  -----         \n",
      " 0   Date          18249 non-null  datetime64[ns]\n",
      " 1   AveragePrice  18249 non-null  float64       \n",
      " 2   TotalVolume   18249 non-null  float64       \n",
      " 3   4046          18249 non-null  float64       \n",
      " 4   4225          18249 non-null  float64       \n",
      " 5   4770          18249 non-null  float64       \n",
      " 6   TotalBags     18249 non-null  float64       \n",
      " 7   SmallBags     18249 non-null  float64       \n",
      " 8   LargeBags     18249 non-null  float64       \n",
      " 9   XLargeBags    18249 non-null  float64       \n",
      " 10  type          18249 non-null  object        \n",
      " 11  year          18249 non-null  int64         \n",
      " 12  region        18249 non-null  object        \n",
      "dtypes: datetime64[ns](1), float64(9), int64(1), object(2)\n",
      "memory usage: 1.8+ MB\n"
     ]
    }
   ],
   "source": [
    "df_avo.info()"
   ]
  },
  {
   "cell_type": "markdown",
   "metadata": {},
   "source": [
    "First things first I want to look into the numerical columns to make them into a more human friendly name.  The documentation gives some information on this, but it is not explicit so I will search the PLUs on Google for confirmation.  The result is:\n",
    "\n",
    "- **PLU 4046**: California Small Hass\n",
    "- **PLU 4225**: Mexico Large Hass\n",
    "- **PLU 4770**: California Extra Large Hass\n",
    "\n",
    "It's actually good we looked into this because as a result we see that PLU 4225 is from Mexico while the other two are from California.  The fact that they are from different geographic regions could certainly have an impact on price and volumnes.\n",
    "\n",
    "Asides from this there are no null values which will make my life easier."
   ]
  },
  {
   "cell_type": "markdown",
   "metadata": {},
   "source": [
    "# Data Cleaning"
   ]
  },
  {
   "cell_type": "code",
   "execution_count": 9,
   "metadata": {
    "ExecuteTime": {
     "end_time": "2020-03-22T14:05:39.585356Z",
     "start_time": "2020-03-22T14:05:39.568401Z"
    }
   },
   "outputs": [
    {
     "data": {
      "text/html": [
       "<div>\n",
       "<style scoped>\n",
       "    .dataframe tbody tr th:only-of-type {\n",
       "        vertical-align: middle;\n",
       "    }\n",
       "\n",
       "    .dataframe tbody tr th {\n",
       "        vertical-align: top;\n",
       "    }\n",
       "\n",
       "    .dataframe thead th {\n",
       "        text-align: right;\n",
       "    }\n",
       "</style>\n",
       "<table border=\"1\" class=\"dataframe\">\n",
       "  <thead>\n",
       "    <tr style=\"text-align: right;\">\n",
       "      <th></th>\n",
       "      <th>Date</th>\n",
       "      <th>AveragePrice</th>\n",
       "      <th>TotalVolume</th>\n",
       "      <th>CaliSmall</th>\n",
       "      <th>MexicoLarge</th>\n",
       "      <th>CalixLarge</th>\n",
       "      <th>TotalBags</th>\n",
       "      <th>SmallBags</th>\n",
       "      <th>LargeBags</th>\n",
       "      <th>XLargeBags</th>\n",
       "      <th>type</th>\n",
       "      <th>year</th>\n",
       "      <th>region</th>\n",
       "    </tr>\n",
       "  </thead>\n",
       "  <tbody>\n",
       "    <tr>\n",
       "      <th>0</th>\n",
       "      <td>2015-12-27</td>\n",
       "      <td>1.33</td>\n",
       "      <td>64,236.62</td>\n",
       "      <td>1,036.74</td>\n",
       "      <td>54,454.85</td>\n",
       "      <td>48.16</td>\n",
       "      <td>8,696.87</td>\n",
       "      <td>8,603.62</td>\n",
       "      <td>93.25</td>\n",
       "      <td>0.00</td>\n",
       "      <td>conventional</td>\n",
       "      <td>2015</td>\n",
       "      <td>Albany</td>\n",
       "    </tr>\n",
       "    <tr>\n",
       "      <th>1</th>\n",
       "      <td>2015-12-20</td>\n",
       "      <td>1.35</td>\n",
       "      <td>54,876.98</td>\n",
       "      <td>674.28</td>\n",
       "      <td>44,638.81</td>\n",
       "      <td>58.33</td>\n",
       "      <td>9,505.56</td>\n",
       "      <td>9,408.07</td>\n",
       "      <td>97.49</td>\n",
       "      <td>0.00</td>\n",
       "      <td>conventional</td>\n",
       "      <td>2015</td>\n",
       "      <td>Albany</td>\n",
       "    </tr>\n",
       "    <tr>\n",
       "      <th>2</th>\n",
       "      <td>2015-12-13</td>\n",
       "      <td>0.93</td>\n",
       "      <td>118,220.22</td>\n",
       "      <td>794.70</td>\n",
       "      <td>109,149.67</td>\n",
       "      <td>130.50</td>\n",
       "      <td>8,145.35</td>\n",
       "      <td>8,042.21</td>\n",
       "      <td>103.14</td>\n",
       "      <td>0.00</td>\n",
       "      <td>conventional</td>\n",
       "      <td>2015</td>\n",
       "      <td>Albany</td>\n",
       "    </tr>\n",
       "    <tr>\n",
       "      <th>3</th>\n",
       "      <td>2015-12-06</td>\n",
       "      <td>1.08</td>\n",
       "      <td>78,992.15</td>\n",
       "      <td>1,132.00</td>\n",
       "      <td>71,976.41</td>\n",
       "      <td>72.58</td>\n",
       "      <td>5,811.16</td>\n",
       "      <td>5,677.40</td>\n",
       "      <td>133.76</td>\n",
       "      <td>0.00</td>\n",
       "      <td>conventional</td>\n",
       "      <td>2015</td>\n",
       "      <td>Albany</td>\n",
       "    </tr>\n",
       "    <tr>\n",
       "      <th>4</th>\n",
       "      <td>2015-11-29</td>\n",
       "      <td>1.28</td>\n",
       "      <td>51,039.60</td>\n",
       "      <td>941.48</td>\n",
       "      <td>43,838.39</td>\n",
       "      <td>75.78</td>\n",
       "      <td>6,183.95</td>\n",
       "      <td>5,986.26</td>\n",
       "      <td>197.69</td>\n",
       "      <td>0.00</td>\n",
       "      <td>conventional</td>\n",
       "      <td>2015</td>\n",
       "      <td>Albany</td>\n",
       "    </tr>\n",
       "    <tr>\n",
       "      <th>5</th>\n",
       "      <td>2015-11-22</td>\n",
       "      <td>1.26</td>\n",
       "      <td>55,979.78</td>\n",
       "      <td>1,184.27</td>\n",
       "      <td>48,067.99</td>\n",
       "      <td>43.61</td>\n",
       "      <td>6,683.91</td>\n",
       "      <td>6,556.47</td>\n",
       "      <td>127.44</td>\n",
       "      <td>0.00</td>\n",
       "      <td>conventional</td>\n",
       "      <td>2015</td>\n",
       "      <td>Albany</td>\n",
       "    </tr>\n",
       "    <tr>\n",
       "      <th>6</th>\n",
       "      <td>2015-11-15</td>\n",
       "      <td>0.99</td>\n",
       "      <td>83,453.76</td>\n",
       "      <td>1,368.92</td>\n",
       "      <td>73,672.72</td>\n",
       "      <td>93.26</td>\n",
       "      <td>8,318.86</td>\n",
       "      <td>8,196.81</td>\n",
       "      <td>122.05</td>\n",
       "      <td>0.00</td>\n",
       "      <td>conventional</td>\n",
       "      <td>2015</td>\n",
       "      <td>Albany</td>\n",
       "    </tr>\n",
       "    <tr>\n",
       "      <th>7</th>\n",
       "      <td>2015-11-08</td>\n",
       "      <td>0.98</td>\n",
       "      <td>109,428.33</td>\n",
       "      <td>703.75</td>\n",
       "      <td>101,815.36</td>\n",
       "      <td>80.00</td>\n",
       "      <td>6,829.22</td>\n",
       "      <td>6,266.85</td>\n",
       "      <td>562.37</td>\n",
       "      <td>0.00</td>\n",
       "      <td>conventional</td>\n",
       "      <td>2015</td>\n",
       "      <td>Albany</td>\n",
       "    </tr>\n",
       "    <tr>\n",
       "      <th>8</th>\n",
       "      <td>2015-11-01</td>\n",
       "      <td>1.02</td>\n",
       "      <td>99,811.42</td>\n",
       "      <td>1,022.15</td>\n",
       "      <td>87,315.57</td>\n",
       "      <td>85.34</td>\n",
       "      <td>11,388.36</td>\n",
       "      <td>11,104.53</td>\n",
       "      <td>283.83</td>\n",
       "      <td>0.00</td>\n",
       "      <td>conventional</td>\n",
       "      <td>2015</td>\n",
       "      <td>Albany</td>\n",
       "    </tr>\n",
       "    <tr>\n",
       "      <th>9</th>\n",
       "      <td>2015-10-25</td>\n",
       "      <td>1.07</td>\n",
       "      <td>74,338.76</td>\n",
       "      <td>842.40</td>\n",
       "      <td>64,757.44</td>\n",
       "      <td>113.00</td>\n",
       "      <td>8,625.92</td>\n",
       "      <td>8,061.47</td>\n",
       "      <td>564.45</td>\n",
       "      <td>0.00</td>\n",
       "      <td>conventional</td>\n",
       "      <td>2015</td>\n",
       "      <td>Albany</td>\n",
       "    </tr>\n",
       "  </tbody>\n",
       "</table>\n",
       "</div>"
      ],
      "text/plain": [
       "        Date  AveragePrice  TotalVolume  CaliSmall  MexicoLarge  CalixLarge  \\\n",
       "0 2015-12-27          1.33    64,236.62   1,036.74    54,454.85       48.16   \n",
       "1 2015-12-20          1.35    54,876.98     674.28    44,638.81       58.33   \n",
       "2 2015-12-13          0.93   118,220.22     794.70   109,149.67      130.50   \n",
       "3 2015-12-06          1.08    78,992.15   1,132.00    71,976.41       72.58   \n",
       "4 2015-11-29          1.28    51,039.60     941.48    43,838.39       75.78   \n",
       "5 2015-11-22          1.26    55,979.78   1,184.27    48,067.99       43.61   \n",
       "6 2015-11-15          0.99    83,453.76   1,368.92    73,672.72       93.26   \n",
       "7 2015-11-08          0.98   109,428.33     703.75   101,815.36       80.00   \n",
       "8 2015-11-01          1.02    99,811.42   1,022.15    87,315.57       85.34   \n",
       "9 2015-10-25          1.07    74,338.76     842.40    64,757.44      113.00   \n",
       "\n",
       "   TotalBags  SmallBags  LargeBags  XLargeBags          type  year  region  \n",
       "0   8,696.87   8,603.62      93.25        0.00  conventional  2015  Albany  \n",
       "1   9,505.56   9,408.07      97.49        0.00  conventional  2015  Albany  \n",
       "2   8,145.35   8,042.21     103.14        0.00  conventional  2015  Albany  \n",
       "3   5,811.16   5,677.40     133.76        0.00  conventional  2015  Albany  \n",
       "4   6,183.95   5,986.26     197.69        0.00  conventional  2015  Albany  \n",
       "5   6,683.91   6,556.47     127.44        0.00  conventional  2015  Albany  \n",
       "6   8,318.86   8,196.81     122.05        0.00  conventional  2015  Albany  \n",
       "7   6,829.22   6,266.85     562.37        0.00  conventional  2015  Albany  \n",
       "8  11,388.36  11,104.53     283.83        0.00  conventional  2015  Albany  \n",
       "9   8,625.92   8,061.47     564.45        0.00  conventional  2015  Albany  "
      ]
     },
     "execution_count": 9,
     "metadata": {},
     "output_type": "execute_result"
    }
   ],
   "source": [
    "avo_col_mapper = {'4046': 'CaliSmall', '4225': 'MexicoLarge', '4770': 'CalixLarge'}\n",
    "df_avo.rename(columns=avo_col_mapper, inplace=True)\n",
    "df_avo.head(10)"
   ]
  },
  {
   "cell_type": "markdown",
   "metadata": {},
   "source": [
    "Now I will sanity check the values in the columns to see if there are any outliers that need to be handled.\n",
    "\n",
    "- For the column 'Date' I will look at the range and distribution of dates available\n",
    "- For integer and float data I will generate summary stats (mean, quartiles, min, max) to get a high level view of the distribution\n",
    "- For strings I will look at the cardinality and unique values."
   ]
  },
  {
   "cell_type": "markdown",
   "metadata": {},
   "source": [
    "For the 'Date' field I can see that the observation period starts on January 4th 2015 and ends on March 25th 2018.  I can also see the distribution across time periods is completely uniform.  This is positive, as it shows consistency in collecting data.  Now we'll need to see if the actual data collected is of good quality."
   ]
  },
  {
   "cell_type": "code",
   "execution_count": 10,
   "metadata": {
    "ExecuteTime": {
     "end_time": "2020-03-22T14:05:41.964845Z",
     "start_time": "2020-03-22T14:05:41.957863Z"
    }
   },
   "outputs": [
    {
     "data": {
      "text/plain": [
       "Timestamp('2015-01-04 00:00:00')"
      ]
     },
     "execution_count": 10,
     "metadata": {},
     "output_type": "execute_result"
    }
   ],
   "source": [
    "df_avo.Date.min()"
   ]
  },
  {
   "cell_type": "code",
   "execution_count": 11,
   "metadata": {
    "ExecuteTime": {
     "end_time": "2020-03-22T14:05:43.299245Z",
     "start_time": "2020-03-22T14:05:43.294258Z"
    }
   },
   "outputs": [
    {
     "data": {
      "text/plain": [
       "Timestamp('2018-03-25 00:00:00')"
      ]
     },
     "execution_count": 11,
     "metadata": {},
     "output_type": "execute_result"
    }
   ],
   "source": [
    "df_avo.Date.max()"
   ]
  },
  {
   "cell_type": "code",
   "execution_count": 12,
   "metadata": {
    "ExecuteTime": {
     "end_time": "2020-03-22T14:05:46.141307Z",
     "start_time": "2020-03-22T14:05:46.127364Z"
    }
   },
   "outputs": [
    {
     "data": {
      "text/plain": [
       "count                   18249\n",
       "unique                    169\n",
       "top       2015-05-24 00:00:00\n",
       "freq                      108\n",
       "first     2015-01-04 00:00:00\n",
       "last      2018-03-25 00:00:00\n",
       "Name: Date, dtype: object"
      ]
     },
     "execution_count": 12,
     "metadata": {},
     "output_type": "execute_result"
    }
   ],
   "source": [
    "df_avo.Date.describe()"
   ]
  },
  {
   "cell_type": "code",
   "execution_count": 13,
   "metadata": {
    "ExecuteTime": {
     "end_time": "2020-03-22T14:05:49.949107Z",
     "start_time": "2020-03-22T14:05:49.942099Z"
    }
   },
   "outputs": [
    {
     "data": {
      "text/plain": [
       "year\n",
       "2015    5615\n",
       "2016    5616\n",
       "2017    5722\n",
       "2018    1296\n",
       "dtype: int64"
      ]
     },
     "execution_count": 13,
     "metadata": {},
     "output_type": "execute_result"
    }
   ],
   "source": [
    "df_avo.groupby('year').size()"
   ]
  },
  {
   "cell_type": "markdown",
   "metadata": {},
   "source": [
    "There is some interest spikes in reecords that are worth looking into more.  What makes these interesting is that there are only two values that a given month can have - 432 or 540 - with no variation.  Also of interest is that the months with 540 counts do not appear with a regular cadence (i.e. same month each year or following a distinct patern). Depending on the validity of these spikes they could impact statistics that I want to compute later on.  This doesnt seem to be driven by the type of avocado as there are spikes at the same time across both conventional and organic.  Additionally, when you look by region to see if some contributed inconsistently or more than others you see that is not the case and it the number of contributions is uniform across all regions."
   ]
  },
  {
   "cell_type": "code",
   "execution_count": 14,
   "metadata": {
    "ExecuteTime": {
     "end_time": "2020-03-22T14:05:54.523207Z",
     "start_time": "2020-03-22T14:05:53.663146Z"
    }
   },
   "outputs": [
    {
     "data": {
      "text/html": [
       "        <script type=\"text/javascript\">\n",
       "        window.PlotlyConfig = {MathJaxConfig: 'local'};\n",
       "        if (window.MathJax) {MathJax.Hub.Config({SVG: {font: \"STIX-Web\"}});}\n",
       "        if (typeof require !== 'undefined') {\n",
       "        require.undef(\"plotly\");\n",
       "        requirejs.config({\n",
       "            paths: {\n",
       "                'plotly': ['https://cdn.plot.ly/plotly-latest.min']\n",
       "            }\n",
       "        });\n",
       "        require(['plotly'], function(Plotly) {\n",
       "            window._Plotly = Plotly;\n",
       "        });\n",
       "        }\n",
       "        </script>\n",
       "        "
      ]
     },
     "metadata": {},
     "output_type": "display_data"
    },
    {
     "data": {
      "text/html": [
       "<div>\n",
       "        \n",
       "        \n",
       "            <div id=\"b7330d21-e8e1-42d4-a453-6eb10674318d\" class=\"plotly-graph-div\" style=\"height:525px; width:100%;\"></div>\n",
       "            <script type=\"text/javascript\">\n",
       "                require([\"plotly\"], function(Plotly) {\n",
       "                    window.PLOTLYENV=window.PLOTLYENV || {};\n",
       "                    \n",
       "                if (document.getElementById(\"b7330d21-e8e1-42d4-a453-6eb10674318d\")) {\n",
       "                    Plotly.newPlot(\n",
       "                        'b7330d21-e8e1-42d4-a453-6eb10674318d',\n",
       "                        [{\"alignmentgroup\": \"True\", \"hoverlabel\": {\"namelength\": 0}, \"hovertemplate\": \"x=%{x}<br>Size=%{y}\", \"legendgroup\": \"\", \"marker\": {\"color\": \"#636efa\"}, \"name\": \"\", \"offsetgroup\": \"\", \"orientation\": \"v\", \"showlegend\": false, \"textposition\": \"auto\", \"type\": \"bar\", \"x\": [\"2015-01-31T00:00:00\", \"2015-02-28T00:00:00\", \"2015-03-31T00:00:00\", \"2015-04-30T00:00:00\", \"2015-05-31T00:00:00\", \"2015-06-30T00:00:00\", \"2015-07-31T00:00:00\", \"2015-08-31T00:00:00\", \"2015-09-30T00:00:00\", \"2015-10-31T00:00:00\", \"2015-11-30T00:00:00\", \"2015-12-31T00:00:00\", \"2016-01-31T00:00:00\", \"2016-02-29T00:00:00\", \"2016-03-31T00:00:00\", \"2016-04-30T00:00:00\", \"2016-05-31T00:00:00\", \"2016-06-30T00:00:00\", \"2016-07-31T00:00:00\", \"2016-08-31T00:00:00\", \"2016-09-30T00:00:00\", \"2016-10-31T00:00:00\", \"2016-11-30T00:00:00\", \"2016-12-31T00:00:00\", \"2017-01-31T00:00:00\", \"2017-02-28T00:00:00\", \"2017-03-31T00:00:00\", \"2017-04-30T00:00:00\", \"2017-05-31T00:00:00\", \"2017-06-30T00:00:00\", \"2017-07-31T00:00:00\", \"2017-08-31T00:00:00\", \"2017-09-30T00:00:00\", \"2017-10-31T00:00:00\", \"2017-11-30T00:00:00\", \"2017-12-31T00:00:00\", \"2018-01-31T00:00:00\", \"2018-02-28T00:00:00\", \"2018-03-31T00:00:00\"], \"xaxis\": \"x\", \"y\": [432, 432, 540, 432, 540, 432, 432, 540, 432, 432, 540, 431, 540, 432, 432, 432, 540, 432, 540, 432, 432, 540, 432, 432, 540, 432, 432, 540, 432, 430, 540, 432, 432, 540, 432, 540, 432, 432, 432], \"yaxis\": \"y\"}],\n",
       "                        {\"barmode\": \"relative\", \"legend\": {\"tracegroupgap\": 0}, \"margin\": {\"t\": 60}, \"template\": {\"data\": {\"bar\": [{\"error_x\": {\"color\": \"#2a3f5f\"}, \"error_y\": {\"color\": \"#2a3f5f\"}, \"marker\": {\"line\": {\"color\": \"#E5ECF6\", \"width\": 0.5}}, \"type\": \"bar\"}], \"barpolar\": [{\"marker\": {\"line\": {\"color\": \"#E5ECF6\", \"width\": 0.5}}, \"type\": \"barpolar\"}], \"carpet\": [{\"aaxis\": {\"endlinecolor\": \"#2a3f5f\", \"gridcolor\": \"white\", \"linecolor\": \"white\", \"minorgridcolor\": \"white\", \"startlinecolor\": \"#2a3f5f\"}, \"baxis\": {\"endlinecolor\": \"#2a3f5f\", \"gridcolor\": \"white\", \"linecolor\": \"white\", \"minorgridcolor\": \"white\", \"startlinecolor\": \"#2a3f5f\"}, \"type\": \"carpet\"}], \"choropleth\": [{\"colorbar\": {\"outlinewidth\": 0, \"ticks\": \"\"}, \"type\": \"choropleth\"}], \"contour\": [{\"colorbar\": {\"outlinewidth\": 0, \"ticks\": \"\"}, \"colorscale\": [[0.0, \"#0d0887\"], [0.1111111111111111, \"#46039f\"], [0.2222222222222222, \"#7201a8\"], [0.3333333333333333, \"#9c179e\"], [0.4444444444444444, \"#bd3786\"], [0.5555555555555556, \"#d8576b\"], [0.6666666666666666, \"#ed7953\"], [0.7777777777777778, \"#fb9f3a\"], [0.8888888888888888, \"#fdca26\"], [1.0, \"#f0f921\"]], \"type\": \"contour\"}], \"contourcarpet\": [{\"colorbar\": {\"outlinewidth\": 0, \"ticks\": \"\"}, \"type\": \"contourcarpet\"}], \"heatmap\": [{\"colorbar\": {\"outlinewidth\": 0, \"ticks\": \"\"}, \"colorscale\": [[0.0, \"#0d0887\"], [0.1111111111111111, \"#46039f\"], [0.2222222222222222, \"#7201a8\"], [0.3333333333333333, \"#9c179e\"], [0.4444444444444444, \"#bd3786\"], [0.5555555555555556, \"#d8576b\"], [0.6666666666666666, \"#ed7953\"], [0.7777777777777778, \"#fb9f3a\"], [0.8888888888888888, \"#fdca26\"], [1.0, \"#f0f921\"]], \"type\": \"heatmap\"}], \"heatmapgl\": [{\"colorbar\": {\"outlinewidth\": 0, \"ticks\": \"\"}, \"colorscale\": [[0.0, \"#0d0887\"], [0.1111111111111111, \"#46039f\"], [0.2222222222222222, \"#7201a8\"], [0.3333333333333333, \"#9c179e\"], [0.4444444444444444, \"#bd3786\"], [0.5555555555555556, \"#d8576b\"], [0.6666666666666666, \"#ed7953\"], [0.7777777777777778, \"#fb9f3a\"], [0.8888888888888888, \"#fdca26\"], [1.0, \"#f0f921\"]], \"type\": \"heatmapgl\"}], \"histogram\": [{\"marker\": {\"colorbar\": {\"outlinewidth\": 0, \"ticks\": \"\"}}, \"type\": \"histogram\"}], \"histogram2d\": [{\"colorbar\": {\"outlinewidth\": 0, \"ticks\": \"\"}, \"colorscale\": [[0.0, \"#0d0887\"], [0.1111111111111111, \"#46039f\"], [0.2222222222222222, \"#7201a8\"], [0.3333333333333333, \"#9c179e\"], [0.4444444444444444, \"#bd3786\"], [0.5555555555555556, \"#d8576b\"], [0.6666666666666666, \"#ed7953\"], [0.7777777777777778, \"#fb9f3a\"], [0.8888888888888888, \"#fdca26\"], [1.0, \"#f0f921\"]], \"type\": \"histogram2d\"}], \"histogram2dcontour\": [{\"colorbar\": {\"outlinewidth\": 0, \"ticks\": \"\"}, \"colorscale\": [[0.0, \"#0d0887\"], [0.1111111111111111, \"#46039f\"], [0.2222222222222222, \"#7201a8\"], [0.3333333333333333, \"#9c179e\"], [0.4444444444444444, \"#bd3786\"], [0.5555555555555556, \"#d8576b\"], [0.6666666666666666, \"#ed7953\"], [0.7777777777777778, \"#fb9f3a\"], [0.8888888888888888, \"#fdca26\"], [1.0, \"#f0f921\"]], \"type\": \"histogram2dcontour\"}], \"mesh3d\": [{\"colorbar\": {\"outlinewidth\": 0, \"ticks\": \"\"}, \"type\": \"mesh3d\"}], \"parcoords\": [{\"line\": {\"colorbar\": {\"outlinewidth\": 0, \"ticks\": \"\"}}, \"type\": \"parcoords\"}], \"pie\": [{\"automargin\": true, \"type\": \"pie\"}], \"scatter\": [{\"marker\": {\"colorbar\": {\"outlinewidth\": 0, \"ticks\": \"\"}}, \"type\": \"scatter\"}], \"scatter3d\": [{\"line\": {\"colorbar\": {\"outlinewidth\": 0, \"ticks\": \"\"}}, \"marker\": {\"colorbar\": {\"outlinewidth\": 0, \"ticks\": \"\"}}, \"type\": \"scatter3d\"}], \"scattercarpet\": [{\"marker\": {\"colorbar\": {\"outlinewidth\": 0, \"ticks\": \"\"}}, \"type\": \"scattercarpet\"}], \"scattergeo\": [{\"marker\": {\"colorbar\": {\"outlinewidth\": 0, \"ticks\": \"\"}}, \"type\": \"scattergeo\"}], \"scattergl\": [{\"marker\": {\"colorbar\": {\"outlinewidth\": 0, \"ticks\": \"\"}}, \"type\": \"scattergl\"}], \"scattermapbox\": [{\"marker\": {\"colorbar\": {\"outlinewidth\": 0, \"ticks\": \"\"}}, \"type\": \"scattermapbox\"}], \"scatterpolar\": [{\"marker\": {\"colorbar\": {\"outlinewidth\": 0, \"ticks\": \"\"}}, \"type\": \"scatterpolar\"}], \"scatterpolargl\": [{\"marker\": {\"colorbar\": {\"outlinewidth\": 0, \"ticks\": \"\"}}, \"type\": \"scatterpolargl\"}], \"scatterternary\": [{\"marker\": {\"colorbar\": {\"outlinewidth\": 0, \"ticks\": \"\"}}, \"type\": \"scatterternary\"}], \"surface\": [{\"colorbar\": {\"outlinewidth\": 0, \"ticks\": \"\"}, \"colorscale\": [[0.0, \"#0d0887\"], [0.1111111111111111, \"#46039f\"], [0.2222222222222222, \"#7201a8\"], [0.3333333333333333, \"#9c179e\"], [0.4444444444444444, \"#bd3786\"], [0.5555555555555556, \"#d8576b\"], [0.6666666666666666, \"#ed7953\"], [0.7777777777777778, \"#fb9f3a\"], [0.8888888888888888, \"#fdca26\"], [1.0, \"#f0f921\"]], \"type\": \"surface\"}], \"table\": [{\"cells\": {\"fill\": {\"color\": \"#EBF0F8\"}, \"line\": {\"color\": \"white\"}}, \"header\": {\"fill\": {\"color\": \"#C8D4E3\"}, \"line\": {\"color\": \"white\"}}, \"type\": \"table\"}]}, \"layout\": {\"annotationdefaults\": {\"arrowcolor\": \"#2a3f5f\", \"arrowhead\": 0, \"arrowwidth\": 1}, \"coloraxis\": {\"colorbar\": {\"outlinewidth\": 0, \"ticks\": \"\"}}, \"colorscale\": {\"diverging\": [[0, \"#8e0152\"], [0.1, \"#c51b7d\"], [0.2, \"#de77ae\"], [0.3, \"#f1b6da\"], [0.4, \"#fde0ef\"], [0.5, \"#f7f7f7\"], [0.6, \"#e6f5d0\"], [0.7, \"#b8e186\"], [0.8, \"#7fbc41\"], [0.9, \"#4d9221\"], [1, \"#276419\"]], \"sequential\": [[0.0, \"#0d0887\"], [0.1111111111111111, \"#46039f\"], [0.2222222222222222, \"#7201a8\"], [0.3333333333333333, \"#9c179e\"], [0.4444444444444444, \"#bd3786\"], [0.5555555555555556, \"#d8576b\"], [0.6666666666666666, \"#ed7953\"], [0.7777777777777778, \"#fb9f3a\"], [0.8888888888888888, \"#fdca26\"], [1.0, \"#f0f921\"]], \"sequentialminus\": [[0.0, \"#0d0887\"], [0.1111111111111111, \"#46039f\"], [0.2222222222222222, \"#7201a8\"], [0.3333333333333333, \"#9c179e\"], [0.4444444444444444, \"#bd3786\"], [0.5555555555555556, \"#d8576b\"], [0.6666666666666666, \"#ed7953\"], [0.7777777777777778, \"#fb9f3a\"], [0.8888888888888888, \"#fdca26\"], [1.0, \"#f0f921\"]]}, \"colorway\": [\"#636efa\", \"#EF553B\", \"#00cc96\", \"#ab63fa\", \"#FFA15A\", \"#19d3f3\", \"#FF6692\", \"#B6E880\", \"#FF97FF\", \"#FECB52\"], \"font\": {\"color\": \"#2a3f5f\"}, \"geo\": {\"bgcolor\": \"white\", \"lakecolor\": \"white\", \"landcolor\": \"#E5ECF6\", \"showlakes\": true, \"showland\": true, \"subunitcolor\": \"white\"}, \"hoverlabel\": {\"align\": \"left\"}, \"hovermode\": \"closest\", \"mapbox\": {\"style\": \"light\"}, \"paper_bgcolor\": \"white\", \"plot_bgcolor\": \"#E5ECF6\", \"polar\": {\"angularaxis\": {\"gridcolor\": \"white\", \"linecolor\": \"white\", \"ticks\": \"\"}, \"bgcolor\": \"#E5ECF6\", \"radialaxis\": {\"gridcolor\": \"white\", \"linecolor\": \"white\", \"ticks\": \"\"}}, \"scene\": {\"xaxis\": {\"backgroundcolor\": \"#E5ECF6\", \"gridcolor\": \"white\", \"gridwidth\": 2, \"linecolor\": \"white\", \"showbackground\": true, \"ticks\": \"\", \"zerolinecolor\": \"white\"}, \"yaxis\": {\"backgroundcolor\": \"#E5ECF6\", \"gridcolor\": \"white\", \"gridwidth\": 2, \"linecolor\": \"white\", \"showbackground\": true, \"ticks\": \"\", \"zerolinecolor\": \"white\"}, \"zaxis\": {\"backgroundcolor\": \"#E5ECF6\", \"gridcolor\": \"white\", \"gridwidth\": 2, \"linecolor\": \"white\", \"showbackground\": true, \"ticks\": \"\", \"zerolinecolor\": \"white\"}}, \"shapedefaults\": {\"line\": {\"color\": \"#2a3f5f\"}}, \"ternary\": {\"aaxis\": {\"gridcolor\": \"white\", \"linecolor\": \"white\", \"ticks\": \"\"}, \"baxis\": {\"gridcolor\": \"white\", \"linecolor\": \"white\", \"ticks\": \"\"}, \"bgcolor\": \"#E5ECF6\", \"caxis\": {\"gridcolor\": \"white\", \"linecolor\": \"white\", \"ticks\": \"\"}}, \"title\": {\"x\": 0.05}, \"xaxis\": {\"automargin\": true, \"gridcolor\": \"white\", \"linecolor\": \"white\", \"ticks\": \"\", \"title\": {\"standoff\": 15}, \"zerolinecolor\": \"white\", \"zerolinewidth\": 2}, \"yaxis\": {\"automargin\": true, \"gridcolor\": \"white\", \"linecolor\": \"white\", \"ticks\": \"\", \"title\": {\"standoff\": 15}, \"zerolinecolor\": \"white\", \"zerolinewidth\": 2}}}, \"xaxis\": {\"anchor\": \"y\", \"domain\": [0.0, 1.0], \"title\": {\"text\": \"x\"}}, \"yaxis\": {\"anchor\": \"x\", \"domain\": [0.0, 1.0], \"title\": {\"text\": \"Size\"}}},\n",
       "                        {\"responsive\": true}\n",
       "                    ).then(function(){\n",
       "                            \n",
       "var gd = document.getElementById('b7330d21-e8e1-42d4-a453-6eb10674318d');\n",
       "var x = new MutationObserver(function (mutations, observer) {{\n",
       "        var display = window.getComputedStyle(gd).display;\n",
       "        if (!display || display === 'none') {{\n",
       "            console.log([gd, 'removed!']);\n",
       "            Plotly.purge(gd);\n",
       "            observer.disconnect();\n",
       "        }}\n",
       "}});\n",
       "\n",
       "// Listen for the removal of the full notebook cells\n",
       "var notebookContainer = gd.closest('#notebook-container');\n",
       "if (notebookContainer) {{\n",
       "    x.observe(notebookContainer, {childList: true});\n",
       "}}\n",
       "\n",
       "// Listen for the clearing of the current output cell\n",
       "var outputEl = gd.closest('.output');\n",
       "if (outputEl) {{\n",
       "    x.observe(outputEl, {childList: true});\n",
       "}}\n",
       "\n",
       "                        })\n",
       "                };\n",
       "                });\n",
       "            </script>\n",
       "        </div>"
      ]
     },
     "metadata": {},
     "output_type": "display_data"
    }
   ],
   "source": [
    "df_monthly_count = df_avo.set_index('Date').resample('m').size().to_frame('Size')\n",
    "px.bar(df_monthly_count, x=df_monthly_count.index, y='Size')"
   ]
  },
  {
   "cell_type": "markdown",
   "metadata": {},
   "source": [
    "I put this data into a table with month index and year columns where I highlight the max counts to see if that helps identify a trend. The only trend that I can see is that it appears that 4 times per year a large record is collected.  The outlier being 2018 which looks like its larger record count may have been added to 2017 in December as December has five 540 counts.  As it relates to data cleaning it will is hard at this stage to pick anything immediately concerning up.  Once we dig more into the data analysis section we may have to circle back and clean up the data if something shows up.  It will be interesting later to see if there is a material difference between data from the two different size reporting groups."
   ]
  },
  {
   "cell_type": "code",
   "execution_count": 15,
   "metadata": {
    "ExecuteTime": {
     "end_time": "2020-03-22T14:05:58.598976Z",
     "start_time": "2020-03-22T14:05:58.470101Z"
    }
   },
   "outputs": [
    {
     "data": {
      "text/html": [
       "<style  type=\"text/css\" >\n",
       "    #T_413870a8_6c46_11ea_b0d5_24418c64cff2row0_col1 {\n",
       "            background-color:  yellow;\n",
       "        }    #T_413870a8_6c46_11ea_b0d5_24418c64cff2row0_col2 {\n",
       "            background-color:  yellow;\n",
       "        }    #T_413870a8_6c46_11ea_b0d5_24418c64cff2row0_col3 {\n",
       "            background-color:  yellow;\n",
       "        }    #T_413870a8_6c46_11ea_b0d5_24418c64cff2row1_col3 {\n",
       "            background-color:  yellow;\n",
       "        }    #T_413870a8_6c46_11ea_b0d5_24418c64cff2row2_col0 {\n",
       "            background-color:  yellow;\n",
       "        }    #T_413870a8_6c46_11ea_b0d5_24418c64cff2row2_col3 {\n",
       "            background-color:  yellow;\n",
       "        }    #T_413870a8_6c46_11ea_b0d5_24418c64cff2row3_col2 {\n",
       "            background-color:  yellow;\n",
       "        }    #T_413870a8_6c46_11ea_b0d5_24418c64cff2row4_col0 {\n",
       "            background-color:  yellow;\n",
       "        }    #T_413870a8_6c46_11ea_b0d5_24418c64cff2row4_col1 {\n",
       "            background-color:  yellow;\n",
       "        }    #T_413870a8_6c46_11ea_b0d5_24418c64cff2row6_col1 {\n",
       "            background-color:  yellow;\n",
       "        }    #T_413870a8_6c46_11ea_b0d5_24418c64cff2row6_col2 {\n",
       "            background-color:  yellow;\n",
       "        }    #T_413870a8_6c46_11ea_b0d5_24418c64cff2row7_col0 {\n",
       "            background-color:  yellow;\n",
       "        }    #T_413870a8_6c46_11ea_b0d5_24418c64cff2row9_col1 {\n",
       "            background-color:  yellow;\n",
       "        }    #T_413870a8_6c46_11ea_b0d5_24418c64cff2row9_col2 {\n",
       "            background-color:  yellow;\n",
       "        }    #T_413870a8_6c46_11ea_b0d5_24418c64cff2row10_col0 {\n",
       "            background-color:  yellow;\n",
       "        }    #T_413870a8_6c46_11ea_b0d5_24418c64cff2row11_col2 {\n",
       "            background-color:  yellow;\n",
       "        }</style><table id=\"T_413870a8_6c46_11ea_b0d5_24418c64cff2\" ><thead>    <tr>        <th class=\"index_name level0\" >year</th>        <th class=\"col_heading level0 col0\" >2015</th>        <th class=\"col_heading level0 col1\" >2016</th>        <th class=\"col_heading level0 col2\" >2017</th>        <th class=\"col_heading level0 col3\" >2018</th>    </tr>    <tr>        <th class=\"index_name level0\" >month</th>        <th class=\"blank\" ></th>        <th class=\"blank\" ></th>        <th class=\"blank\" ></th>        <th class=\"blank\" ></th>    </tr></thead><tbody>\n",
       "                <tr>\n",
       "                        <th id=\"T_413870a8_6c46_11ea_b0d5_24418c64cff2level0_row0\" class=\"row_heading level0 row0\" >1</th>\n",
       "                        <td id=\"T_413870a8_6c46_11ea_b0d5_24418c64cff2row0_col0\" class=\"data row0 col0\" >432.000000</td>\n",
       "                        <td id=\"T_413870a8_6c46_11ea_b0d5_24418c64cff2row0_col1\" class=\"data row0 col1\" >540.000000</td>\n",
       "                        <td id=\"T_413870a8_6c46_11ea_b0d5_24418c64cff2row0_col2\" class=\"data row0 col2\" >540.000000</td>\n",
       "                        <td id=\"T_413870a8_6c46_11ea_b0d5_24418c64cff2row0_col3\" class=\"data row0 col3\" >432.000000</td>\n",
       "            </tr>\n",
       "            <tr>\n",
       "                        <th id=\"T_413870a8_6c46_11ea_b0d5_24418c64cff2level0_row1\" class=\"row_heading level0 row1\" >2</th>\n",
       "                        <td id=\"T_413870a8_6c46_11ea_b0d5_24418c64cff2row1_col0\" class=\"data row1 col0\" >432.000000</td>\n",
       "                        <td id=\"T_413870a8_6c46_11ea_b0d5_24418c64cff2row1_col1\" class=\"data row1 col1\" >432.000000</td>\n",
       "                        <td id=\"T_413870a8_6c46_11ea_b0d5_24418c64cff2row1_col2\" class=\"data row1 col2\" >432.000000</td>\n",
       "                        <td id=\"T_413870a8_6c46_11ea_b0d5_24418c64cff2row1_col3\" class=\"data row1 col3\" >432.000000</td>\n",
       "            </tr>\n",
       "            <tr>\n",
       "                        <th id=\"T_413870a8_6c46_11ea_b0d5_24418c64cff2level0_row2\" class=\"row_heading level0 row2\" >3</th>\n",
       "                        <td id=\"T_413870a8_6c46_11ea_b0d5_24418c64cff2row2_col0\" class=\"data row2 col0\" >540.000000</td>\n",
       "                        <td id=\"T_413870a8_6c46_11ea_b0d5_24418c64cff2row2_col1\" class=\"data row2 col1\" >432.000000</td>\n",
       "                        <td id=\"T_413870a8_6c46_11ea_b0d5_24418c64cff2row2_col2\" class=\"data row2 col2\" >432.000000</td>\n",
       "                        <td id=\"T_413870a8_6c46_11ea_b0d5_24418c64cff2row2_col3\" class=\"data row2 col3\" >432.000000</td>\n",
       "            </tr>\n",
       "            <tr>\n",
       "                        <th id=\"T_413870a8_6c46_11ea_b0d5_24418c64cff2level0_row3\" class=\"row_heading level0 row3\" >4</th>\n",
       "                        <td id=\"T_413870a8_6c46_11ea_b0d5_24418c64cff2row3_col0\" class=\"data row3 col0\" >432.000000</td>\n",
       "                        <td id=\"T_413870a8_6c46_11ea_b0d5_24418c64cff2row3_col1\" class=\"data row3 col1\" >432.000000</td>\n",
       "                        <td id=\"T_413870a8_6c46_11ea_b0d5_24418c64cff2row3_col2\" class=\"data row3 col2\" >540.000000</td>\n",
       "                        <td id=\"T_413870a8_6c46_11ea_b0d5_24418c64cff2row3_col3\" class=\"data row3 col3\" >nan</td>\n",
       "            </tr>\n",
       "            <tr>\n",
       "                        <th id=\"T_413870a8_6c46_11ea_b0d5_24418c64cff2level0_row4\" class=\"row_heading level0 row4\" >5</th>\n",
       "                        <td id=\"T_413870a8_6c46_11ea_b0d5_24418c64cff2row4_col0\" class=\"data row4 col0\" >540.000000</td>\n",
       "                        <td id=\"T_413870a8_6c46_11ea_b0d5_24418c64cff2row4_col1\" class=\"data row4 col1\" >540.000000</td>\n",
       "                        <td id=\"T_413870a8_6c46_11ea_b0d5_24418c64cff2row4_col2\" class=\"data row4 col2\" >432.000000</td>\n",
       "                        <td id=\"T_413870a8_6c46_11ea_b0d5_24418c64cff2row4_col3\" class=\"data row4 col3\" >nan</td>\n",
       "            </tr>\n",
       "            <tr>\n",
       "                        <th id=\"T_413870a8_6c46_11ea_b0d5_24418c64cff2level0_row5\" class=\"row_heading level0 row5\" >6</th>\n",
       "                        <td id=\"T_413870a8_6c46_11ea_b0d5_24418c64cff2row5_col0\" class=\"data row5 col0\" >432.000000</td>\n",
       "                        <td id=\"T_413870a8_6c46_11ea_b0d5_24418c64cff2row5_col1\" class=\"data row5 col1\" >432.000000</td>\n",
       "                        <td id=\"T_413870a8_6c46_11ea_b0d5_24418c64cff2row5_col2\" class=\"data row5 col2\" >430.000000</td>\n",
       "                        <td id=\"T_413870a8_6c46_11ea_b0d5_24418c64cff2row5_col3\" class=\"data row5 col3\" >nan</td>\n",
       "            </tr>\n",
       "            <tr>\n",
       "                        <th id=\"T_413870a8_6c46_11ea_b0d5_24418c64cff2level0_row6\" class=\"row_heading level0 row6\" >7</th>\n",
       "                        <td id=\"T_413870a8_6c46_11ea_b0d5_24418c64cff2row6_col0\" class=\"data row6 col0\" >432.000000</td>\n",
       "                        <td id=\"T_413870a8_6c46_11ea_b0d5_24418c64cff2row6_col1\" class=\"data row6 col1\" >540.000000</td>\n",
       "                        <td id=\"T_413870a8_6c46_11ea_b0d5_24418c64cff2row6_col2\" class=\"data row6 col2\" >540.000000</td>\n",
       "                        <td id=\"T_413870a8_6c46_11ea_b0d5_24418c64cff2row6_col3\" class=\"data row6 col3\" >nan</td>\n",
       "            </tr>\n",
       "            <tr>\n",
       "                        <th id=\"T_413870a8_6c46_11ea_b0d5_24418c64cff2level0_row7\" class=\"row_heading level0 row7\" >8</th>\n",
       "                        <td id=\"T_413870a8_6c46_11ea_b0d5_24418c64cff2row7_col0\" class=\"data row7 col0\" >540.000000</td>\n",
       "                        <td id=\"T_413870a8_6c46_11ea_b0d5_24418c64cff2row7_col1\" class=\"data row7 col1\" >432.000000</td>\n",
       "                        <td id=\"T_413870a8_6c46_11ea_b0d5_24418c64cff2row7_col2\" class=\"data row7 col2\" >432.000000</td>\n",
       "                        <td id=\"T_413870a8_6c46_11ea_b0d5_24418c64cff2row7_col3\" class=\"data row7 col3\" >nan</td>\n",
       "            </tr>\n",
       "            <tr>\n",
       "                        <th id=\"T_413870a8_6c46_11ea_b0d5_24418c64cff2level0_row8\" class=\"row_heading level0 row8\" >9</th>\n",
       "                        <td id=\"T_413870a8_6c46_11ea_b0d5_24418c64cff2row8_col0\" class=\"data row8 col0\" >432.000000</td>\n",
       "                        <td id=\"T_413870a8_6c46_11ea_b0d5_24418c64cff2row8_col1\" class=\"data row8 col1\" >432.000000</td>\n",
       "                        <td id=\"T_413870a8_6c46_11ea_b0d5_24418c64cff2row8_col2\" class=\"data row8 col2\" >432.000000</td>\n",
       "                        <td id=\"T_413870a8_6c46_11ea_b0d5_24418c64cff2row8_col3\" class=\"data row8 col3\" >nan</td>\n",
       "            </tr>\n",
       "            <tr>\n",
       "                        <th id=\"T_413870a8_6c46_11ea_b0d5_24418c64cff2level0_row9\" class=\"row_heading level0 row9\" >10</th>\n",
       "                        <td id=\"T_413870a8_6c46_11ea_b0d5_24418c64cff2row9_col0\" class=\"data row9 col0\" >432.000000</td>\n",
       "                        <td id=\"T_413870a8_6c46_11ea_b0d5_24418c64cff2row9_col1\" class=\"data row9 col1\" >540.000000</td>\n",
       "                        <td id=\"T_413870a8_6c46_11ea_b0d5_24418c64cff2row9_col2\" class=\"data row9 col2\" >540.000000</td>\n",
       "                        <td id=\"T_413870a8_6c46_11ea_b0d5_24418c64cff2row9_col3\" class=\"data row9 col3\" >nan</td>\n",
       "            </tr>\n",
       "            <tr>\n",
       "                        <th id=\"T_413870a8_6c46_11ea_b0d5_24418c64cff2level0_row10\" class=\"row_heading level0 row10\" >11</th>\n",
       "                        <td id=\"T_413870a8_6c46_11ea_b0d5_24418c64cff2row10_col0\" class=\"data row10 col0\" >540.000000</td>\n",
       "                        <td id=\"T_413870a8_6c46_11ea_b0d5_24418c64cff2row10_col1\" class=\"data row10 col1\" >432.000000</td>\n",
       "                        <td id=\"T_413870a8_6c46_11ea_b0d5_24418c64cff2row10_col2\" class=\"data row10 col2\" >432.000000</td>\n",
       "                        <td id=\"T_413870a8_6c46_11ea_b0d5_24418c64cff2row10_col3\" class=\"data row10 col3\" >nan</td>\n",
       "            </tr>\n",
       "            <tr>\n",
       "                        <th id=\"T_413870a8_6c46_11ea_b0d5_24418c64cff2level0_row11\" class=\"row_heading level0 row11\" >12</th>\n",
       "                        <td id=\"T_413870a8_6c46_11ea_b0d5_24418c64cff2row11_col0\" class=\"data row11 col0\" >431.000000</td>\n",
       "                        <td id=\"T_413870a8_6c46_11ea_b0d5_24418c64cff2row11_col1\" class=\"data row11 col1\" >432.000000</td>\n",
       "                        <td id=\"T_413870a8_6c46_11ea_b0d5_24418c64cff2row11_col2\" class=\"data row11 col2\" >540.000000</td>\n",
       "                        <td id=\"T_413870a8_6c46_11ea_b0d5_24418c64cff2row11_col3\" class=\"data row11 col3\" >nan</td>\n",
       "            </tr>\n",
       "    </tbody></table>"
      ],
      "text/plain": [
       "<pandas.io.formats.style.Styler at 0x202c29aa7c8>"
      ]
     },
     "execution_count": 15,
     "metadata": {},
     "output_type": "execute_result"
    }
   ],
   "source": [
    "df_month_year_count = (df_avo.assign(month=lambda x: x['Date'].dt.month)\n",
    "                             .pivot_table(index='month', columns='year', values='Date', aggfunc='count'))\n",
    "df_month_year_count.style.highlight_max(axis=0)"
   ]
  },
  {
   "cell_type": "code",
   "execution_count": 16,
   "metadata": {
    "ExecuteTime": {
     "end_time": "2020-03-22T14:06:14.605224Z",
     "start_time": "2020-03-22T14:06:14.358847Z"
    }
   },
   "outputs": [
    {
     "data": {
      "text/html": [
       "<div>\n",
       "        \n",
       "        \n",
       "            <div id=\"9862d903-b178-4849-b958-626d13f465b5\" class=\"plotly-graph-div\" style=\"height:525px; width:100%;\"></div>\n",
       "            <script type=\"text/javascript\">\n",
       "                require([\"plotly\"], function(Plotly) {\n",
       "                    window.PLOTLYENV=window.PLOTLYENV || {};\n",
       "                    \n",
       "                if (document.getElementById(\"9862d903-b178-4849-b958-626d13f465b5\")) {\n",
       "                    Plotly.newPlot(\n",
       "                        '9862d903-b178-4849-b958-626d13f465b5',\n",
       "                        [{\"alignmentgroup\": \"True\", \"hoverlabel\": {\"namelength\": 0}, \"hovertemplate\": \"x=%{x}<br>Size=%{y}\", \"legendgroup\": \"\", \"marker\": {\"color\": \"#636efa\"}, \"name\": \"\", \"offsetgroup\": \"\", \"orientation\": \"v\", \"showlegend\": false, \"textposition\": \"auto\", \"type\": \"bar\", \"x\": [\"2015-01-31T00:00:00\", \"2015-02-28T00:00:00\", \"2015-03-31T00:00:00\", \"2015-04-30T00:00:00\", \"2015-05-31T00:00:00\", \"2015-06-30T00:00:00\", \"2015-07-31T00:00:00\", \"2015-08-31T00:00:00\", \"2015-09-30T00:00:00\", \"2015-10-31T00:00:00\", \"2015-11-30T00:00:00\", \"2015-12-31T00:00:00\", \"2016-01-31T00:00:00\", \"2016-02-29T00:00:00\", \"2016-03-31T00:00:00\", \"2016-04-30T00:00:00\", \"2016-05-31T00:00:00\", \"2016-06-30T00:00:00\", \"2016-07-31T00:00:00\", \"2016-08-31T00:00:00\", \"2016-09-30T00:00:00\", \"2016-10-31T00:00:00\", \"2016-11-30T00:00:00\", \"2016-12-31T00:00:00\", \"2017-01-31T00:00:00\", \"2017-02-28T00:00:00\", \"2017-03-31T00:00:00\", \"2017-04-30T00:00:00\", \"2017-05-31T00:00:00\", \"2017-06-30T00:00:00\", \"2017-07-31T00:00:00\", \"2017-08-31T00:00:00\", \"2017-09-30T00:00:00\", \"2017-10-31T00:00:00\", \"2017-11-30T00:00:00\", \"2017-12-31T00:00:00\", \"2018-01-31T00:00:00\", \"2018-02-28T00:00:00\", \"2018-03-31T00:00:00\"], \"xaxis\": \"x\", \"y\": [216, 216, 270, 216, 270, 216, 216, 270, 216, 216, 270, 216, 270, 216, 216, 216, 270, 216, 270, 216, 216, 270, 216, 216, 270, 216, 216, 270, 216, 216, 270, 216, 216, 270, 216, 270, 216, 216, 216], \"yaxis\": \"y\"}],\n",
       "                        {\"barmode\": \"relative\", \"legend\": {\"tracegroupgap\": 0}, \"margin\": {\"t\": 60}, \"template\": {\"data\": {\"bar\": [{\"error_x\": {\"color\": \"#2a3f5f\"}, \"error_y\": {\"color\": \"#2a3f5f\"}, \"marker\": {\"line\": {\"color\": \"#E5ECF6\", \"width\": 0.5}}, \"type\": \"bar\"}], \"barpolar\": [{\"marker\": {\"line\": {\"color\": \"#E5ECF6\", \"width\": 0.5}}, \"type\": \"barpolar\"}], \"carpet\": [{\"aaxis\": {\"endlinecolor\": \"#2a3f5f\", \"gridcolor\": \"white\", \"linecolor\": \"white\", \"minorgridcolor\": \"white\", \"startlinecolor\": \"#2a3f5f\"}, \"baxis\": {\"endlinecolor\": \"#2a3f5f\", \"gridcolor\": \"white\", \"linecolor\": \"white\", \"minorgridcolor\": \"white\", \"startlinecolor\": \"#2a3f5f\"}, \"type\": \"carpet\"}], \"choropleth\": [{\"colorbar\": {\"outlinewidth\": 0, \"ticks\": \"\"}, \"type\": \"choropleth\"}], \"contour\": [{\"colorbar\": {\"outlinewidth\": 0, \"ticks\": \"\"}, \"colorscale\": [[0.0, \"#0d0887\"], [0.1111111111111111, \"#46039f\"], [0.2222222222222222, \"#7201a8\"], [0.3333333333333333, \"#9c179e\"], [0.4444444444444444, \"#bd3786\"], [0.5555555555555556, \"#d8576b\"], [0.6666666666666666, \"#ed7953\"], [0.7777777777777778, \"#fb9f3a\"], [0.8888888888888888, \"#fdca26\"], [1.0, \"#f0f921\"]], \"type\": \"contour\"}], \"contourcarpet\": [{\"colorbar\": {\"outlinewidth\": 0, \"ticks\": \"\"}, \"type\": \"contourcarpet\"}], \"heatmap\": [{\"colorbar\": {\"outlinewidth\": 0, \"ticks\": \"\"}, \"colorscale\": [[0.0, \"#0d0887\"], [0.1111111111111111, \"#46039f\"], [0.2222222222222222, \"#7201a8\"], [0.3333333333333333, \"#9c179e\"], [0.4444444444444444, \"#bd3786\"], [0.5555555555555556, \"#d8576b\"], [0.6666666666666666, \"#ed7953\"], [0.7777777777777778, \"#fb9f3a\"], [0.8888888888888888, \"#fdca26\"], [1.0, \"#f0f921\"]], \"type\": \"heatmap\"}], \"heatmapgl\": [{\"colorbar\": {\"outlinewidth\": 0, \"ticks\": \"\"}, \"colorscale\": [[0.0, \"#0d0887\"], [0.1111111111111111, \"#46039f\"], [0.2222222222222222, \"#7201a8\"], [0.3333333333333333, \"#9c179e\"], [0.4444444444444444, \"#bd3786\"], [0.5555555555555556, \"#d8576b\"], [0.6666666666666666, \"#ed7953\"], [0.7777777777777778, \"#fb9f3a\"], [0.8888888888888888, \"#fdca26\"], [1.0, \"#f0f921\"]], \"type\": \"heatmapgl\"}], \"histogram\": [{\"marker\": {\"colorbar\": {\"outlinewidth\": 0, \"ticks\": \"\"}}, \"type\": \"histogram\"}], \"histogram2d\": [{\"colorbar\": {\"outlinewidth\": 0, \"ticks\": \"\"}, \"colorscale\": [[0.0, \"#0d0887\"], [0.1111111111111111, \"#46039f\"], [0.2222222222222222, \"#7201a8\"], [0.3333333333333333, \"#9c179e\"], [0.4444444444444444, \"#bd3786\"], [0.5555555555555556, \"#d8576b\"], [0.6666666666666666, \"#ed7953\"], [0.7777777777777778, \"#fb9f3a\"], [0.8888888888888888, \"#fdca26\"], [1.0, \"#f0f921\"]], \"type\": \"histogram2d\"}], \"histogram2dcontour\": [{\"colorbar\": {\"outlinewidth\": 0, \"ticks\": \"\"}, \"colorscale\": [[0.0, \"#0d0887\"], [0.1111111111111111, \"#46039f\"], [0.2222222222222222, \"#7201a8\"], [0.3333333333333333, \"#9c179e\"], [0.4444444444444444, \"#bd3786\"], [0.5555555555555556, \"#d8576b\"], [0.6666666666666666, \"#ed7953\"], [0.7777777777777778, \"#fb9f3a\"], [0.8888888888888888, \"#fdca26\"], [1.0, \"#f0f921\"]], \"type\": \"histogram2dcontour\"}], \"mesh3d\": [{\"colorbar\": {\"outlinewidth\": 0, \"ticks\": \"\"}, \"type\": \"mesh3d\"}], \"parcoords\": [{\"line\": {\"colorbar\": {\"outlinewidth\": 0, \"ticks\": \"\"}}, \"type\": \"parcoords\"}], \"pie\": [{\"automargin\": true, \"type\": \"pie\"}], \"scatter\": [{\"marker\": {\"colorbar\": {\"outlinewidth\": 0, \"ticks\": \"\"}}, \"type\": \"scatter\"}], \"scatter3d\": [{\"line\": {\"colorbar\": {\"outlinewidth\": 0, \"ticks\": \"\"}}, \"marker\": {\"colorbar\": {\"outlinewidth\": 0, \"ticks\": \"\"}}, \"type\": \"scatter3d\"}], \"scattercarpet\": [{\"marker\": {\"colorbar\": {\"outlinewidth\": 0, \"ticks\": \"\"}}, \"type\": \"scattercarpet\"}], \"scattergeo\": [{\"marker\": {\"colorbar\": {\"outlinewidth\": 0, \"ticks\": \"\"}}, \"type\": \"scattergeo\"}], \"scattergl\": [{\"marker\": {\"colorbar\": {\"outlinewidth\": 0, \"ticks\": \"\"}}, \"type\": \"scattergl\"}], \"scattermapbox\": [{\"marker\": {\"colorbar\": {\"outlinewidth\": 0, \"ticks\": \"\"}}, \"type\": \"scattermapbox\"}], \"scatterpolar\": [{\"marker\": {\"colorbar\": {\"outlinewidth\": 0, \"ticks\": \"\"}}, \"type\": \"scatterpolar\"}], \"scatterpolargl\": [{\"marker\": {\"colorbar\": {\"outlinewidth\": 0, \"ticks\": \"\"}}, \"type\": \"scatterpolargl\"}], \"scatterternary\": [{\"marker\": {\"colorbar\": {\"outlinewidth\": 0, \"ticks\": \"\"}}, \"type\": \"scatterternary\"}], \"surface\": [{\"colorbar\": {\"outlinewidth\": 0, \"ticks\": \"\"}, \"colorscale\": [[0.0, \"#0d0887\"], [0.1111111111111111, \"#46039f\"], [0.2222222222222222, \"#7201a8\"], [0.3333333333333333, \"#9c179e\"], [0.4444444444444444, \"#bd3786\"], [0.5555555555555556, \"#d8576b\"], [0.6666666666666666, \"#ed7953\"], [0.7777777777777778, \"#fb9f3a\"], [0.8888888888888888, \"#fdca26\"], [1.0, \"#f0f921\"]], \"type\": \"surface\"}], \"table\": [{\"cells\": {\"fill\": {\"color\": \"#EBF0F8\"}, \"line\": {\"color\": \"white\"}}, \"header\": {\"fill\": {\"color\": \"#C8D4E3\"}, \"line\": {\"color\": \"white\"}}, \"type\": \"table\"}]}, \"layout\": {\"annotationdefaults\": {\"arrowcolor\": \"#2a3f5f\", \"arrowhead\": 0, \"arrowwidth\": 1}, \"coloraxis\": {\"colorbar\": {\"outlinewidth\": 0, \"ticks\": \"\"}}, \"colorscale\": {\"diverging\": [[0, \"#8e0152\"], [0.1, \"#c51b7d\"], [0.2, \"#de77ae\"], [0.3, \"#f1b6da\"], [0.4, \"#fde0ef\"], [0.5, \"#f7f7f7\"], [0.6, \"#e6f5d0\"], [0.7, \"#b8e186\"], [0.8, \"#7fbc41\"], [0.9, \"#4d9221\"], [1, \"#276419\"]], \"sequential\": [[0.0, \"#0d0887\"], [0.1111111111111111, \"#46039f\"], [0.2222222222222222, \"#7201a8\"], [0.3333333333333333, \"#9c179e\"], [0.4444444444444444, \"#bd3786\"], [0.5555555555555556, \"#d8576b\"], [0.6666666666666666, \"#ed7953\"], [0.7777777777777778, \"#fb9f3a\"], [0.8888888888888888, \"#fdca26\"], [1.0, \"#f0f921\"]], \"sequentialminus\": [[0.0, \"#0d0887\"], [0.1111111111111111, \"#46039f\"], [0.2222222222222222, \"#7201a8\"], [0.3333333333333333, \"#9c179e\"], [0.4444444444444444, \"#bd3786\"], [0.5555555555555556, \"#d8576b\"], [0.6666666666666666, \"#ed7953\"], [0.7777777777777778, \"#fb9f3a\"], [0.8888888888888888, \"#fdca26\"], [1.0, \"#f0f921\"]]}, \"colorway\": [\"#636efa\", \"#EF553B\", \"#00cc96\", \"#ab63fa\", \"#FFA15A\", \"#19d3f3\", \"#FF6692\", \"#B6E880\", \"#FF97FF\", \"#FECB52\"], \"font\": {\"color\": \"#2a3f5f\"}, \"geo\": {\"bgcolor\": \"white\", \"lakecolor\": \"white\", \"landcolor\": \"#E5ECF6\", \"showlakes\": true, \"showland\": true, \"subunitcolor\": \"white\"}, \"hoverlabel\": {\"align\": \"left\"}, \"hovermode\": \"closest\", \"mapbox\": {\"style\": \"light\"}, \"paper_bgcolor\": \"white\", \"plot_bgcolor\": \"#E5ECF6\", \"polar\": {\"angularaxis\": {\"gridcolor\": \"white\", \"linecolor\": \"white\", \"ticks\": \"\"}, \"bgcolor\": \"#E5ECF6\", \"radialaxis\": {\"gridcolor\": \"white\", \"linecolor\": \"white\", \"ticks\": \"\"}}, \"scene\": {\"xaxis\": {\"backgroundcolor\": \"#E5ECF6\", \"gridcolor\": \"white\", \"gridwidth\": 2, \"linecolor\": \"white\", \"showbackground\": true, \"ticks\": \"\", \"zerolinecolor\": \"white\"}, \"yaxis\": {\"backgroundcolor\": \"#E5ECF6\", \"gridcolor\": \"white\", \"gridwidth\": 2, \"linecolor\": \"white\", \"showbackground\": true, \"ticks\": \"\", \"zerolinecolor\": \"white\"}, \"zaxis\": {\"backgroundcolor\": \"#E5ECF6\", \"gridcolor\": \"white\", \"gridwidth\": 2, \"linecolor\": \"white\", \"showbackground\": true, \"ticks\": \"\", \"zerolinecolor\": \"white\"}}, \"shapedefaults\": {\"line\": {\"color\": \"#2a3f5f\"}}, \"ternary\": {\"aaxis\": {\"gridcolor\": \"white\", \"linecolor\": \"white\", \"ticks\": \"\"}, \"baxis\": {\"gridcolor\": \"white\", \"linecolor\": \"white\", \"ticks\": \"\"}, \"bgcolor\": \"#E5ECF6\", \"caxis\": {\"gridcolor\": \"white\", \"linecolor\": \"white\", \"ticks\": \"\"}}, \"title\": {\"x\": 0.05}, \"xaxis\": {\"automargin\": true, \"gridcolor\": \"white\", \"linecolor\": \"white\", \"ticks\": \"\", \"title\": {\"standoff\": 15}, \"zerolinecolor\": \"white\", \"zerolinewidth\": 2}, \"yaxis\": {\"automargin\": true, \"gridcolor\": \"white\", \"linecolor\": \"white\", \"ticks\": \"\", \"title\": {\"standoff\": 15}, \"zerolinecolor\": \"white\", \"zerolinewidth\": 2}}}, \"xaxis\": {\"anchor\": \"y\", \"domain\": [0.0, 1.0], \"title\": {\"text\": \"x\"}}, \"yaxis\": {\"anchor\": \"x\", \"domain\": [0.0, 1.0], \"title\": {\"text\": \"Size\"}}},\n",
       "                        {\"responsive\": true}\n",
       "                    ).then(function(){\n",
       "                            \n",
       "var gd = document.getElementById('9862d903-b178-4849-b958-626d13f465b5');\n",
       "var x = new MutationObserver(function (mutations, observer) {{\n",
       "        var display = window.getComputedStyle(gd).display;\n",
       "        if (!display || display === 'none') {{\n",
       "            console.log([gd, 'removed!']);\n",
       "            Plotly.purge(gd);\n",
       "            observer.disconnect();\n",
       "        }}\n",
       "}});\n",
       "\n",
       "// Listen for the removal of the full notebook cells\n",
       "var notebookContainer = gd.closest('#notebook-container');\n",
       "if (notebookContainer) {{\n",
       "    x.observe(notebookContainer, {childList: true});\n",
       "}}\n",
       "\n",
       "// Listen for the clearing of the current output cell\n",
       "var outputEl = gd.closest('.output');\n",
       "if (outputEl) {{\n",
       "    x.observe(outputEl, {childList: true});\n",
       "}}\n",
       "\n",
       "                        })\n",
       "                };\n",
       "                });\n",
       "            </script>\n",
       "        </div>"
      ]
     },
     "metadata": {},
     "output_type": "display_data"
    }
   ],
   "source": [
    "df_monthly_count_conventional = df_avo.query(\"type=='conventional'\").set_index('Date').resample('m').size().to_frame('Size')\n",
    "px.bar(df_monthly_count_conventional, x=df_monthly_count.index, y='Size')"
   ]
  },
  {
   "cell_type": "code",
   "execution_count": 17,
   "metadata": {
    "ExecuteTime": {
     "end_time": "2020-03-22T14:06:17.553931Z",
     "start_time": "2020-03-22T14:06:17.270658Z"
    }
   },
   "outputs": [
    {
     "data": {
      "text/html": [
       "<div>\n",
       "        \n",
       "        \n",
       "            <div id=\"95e70f5b-667e-47df-97b5-ac330a7c00c8\" class=\"plotly-graph-div\" style=\"height:525px; width:100%;\"></div>\n",
       "            <script type=\"text/javascript\">\n",
       "                require([\"plotly\"], function(Plotly) {\n",
       "                    window.PLOTLYENV=window.PLOTLYENV || {};\n",
       "                    \n",
       "                if (document.getElementById(\"95e70f5b-667e-47df-97b5-ac330a7c00c8\")) {\n",
       "                    Plotly.newPlot(\n",
       "                        '95e70f5b-667e-47df-97b5-ac330a7c00c8',\n",
       "                        [{\"alignmentgroup\": \"True\", \"hoverlabel\": {\"namelength\": 0}, \"hovertemplate\": \"x=%{x}<br>Size=%{y}\", \"legendgroup\": \"\", \"marker\": {\"color\": \"#636efa\"}, \"name\": \"\", \"offsetgroup\": \"\", \"orientation\": \"v\", \"showlegend\": false, \"textposition\": \"auto\", \"type\": \"bar\", \"x\": [\"2015-01-31T00:00:00\", \"2015-02-28T00:00:00\", \"2015-03-31T00:00:00\", \"2015-04-30T00:00:00\", \"2015-05-31T00:00:00\", \"2015-06-30T00:00:00\", \"2015-07-31T00:00:00\", \"2015-08-31T00:00:00\", \"2015-09-30T00:00:00\", \"2015-10-31T00:00:00\", \"2015-11-30T00:00:00\", \"2015-12-31T00:00:00\", \"2016-01-31T00:00:00\", \"2016-02-29T00:00:00\", \"2016-03-31T00:00:00\", \"2016-04-30T00:00:00\", \"2016-05-31T00:00:00\", \"2016-06-30T00:00:00\", \"2016-07-31T00:00:00\", \"2016-08-31T00:00:00\", \"2016-09-30T00:00:00\", \"2016-10-31T00:00:00\", \"2016-11-30T00:00:00\", \"2016-12-31T00:00:00\", \"2017-01-31T00:00:00\", \"2017-02-28T00:00:00\", \"2017-03-31T00:00:00\", \"2017-04-30T00:00:00\", \"2017-05-31T00:00:00\", \"2017-06-30T00:00:00\", \"2017-07-31T00:00:00\", \"2017-08-31T00:00:00\", \"2017-09-30T00:00:00\", \"2017-10-31T00:00:00\", \"2017-11-30T00:00:00\", \"2017-12-31T00:00:00\", \"2018-01-31T00:00:00\", \"2018-02-28T00:00:00\", \"2018-03-31T00:00:00\"], \"xaxis\": \"x\", \"y\": [216, 216, 270, 216, 270, 216, 216, 270, 216, 216, 270, 215, 270, 216, 216, 216, 270, 216, 270, 216, 216, 270, 216, 216, 270, 216, 216, 270, 216, 214, 270, 216, 216, 270, 216, 270, 216, 216, 216], \"yaxis\": \"y\"}],\n",
       "                        {\"barmode\": \"relative\", \"legend\": {\"tracegroupgap\": 0}, \"margin\": {\"t\": 60}, \"template\": {\"data\": {\"bar\": [{\"error_x\": {\"color\": \"#2a3f5f\"}, \"error_y\": {\"color\": \"#2a3f5f\"}, \"marker\": {\"line\": {\"color\": \"#E5ECF6\", \"width\": 0.5}}, \"type\": \"bar\"}], \"barpolar\": [{\"marker\": {\"line\": {\"color\": \"#E5ECF6\", \"width\": 0.5}}, \"type\": \"barpolar\"}], \"carpet\": [{\"aaxis\": {\"endlinecolor\": \"#2a3f5f\", \"gridcolor\": \"white\", \"linecolor\": \"white\", \"minorgridcolor\": \"white\", \"startlinecolor\": \"#2a3f5f\"}, \"baxis\": {\"endlinecolor\": \"#2a3f5f\", \"gridcolor\": \"white\", \"linecolor\": \"white\", \"minorgridcolor\": \"white\", \"startlinecolor\": \"#2a3f5f\"}, \"type\": \"carpet\"}], \"choropleth\": [{\"colorbar\": {\"outlinewidth\": 0, \"ticks\": \"\"}, \"type\": \"choropleth\"}], \"contour\": [{\"colorbar\": {\"outlinewidth\": 0, \"ticks\": \"\"}, \"colorscale\": [[0.0, \"#0d0887\"], [0.1111111111111111, \"#46039f\"], [0.2222222222222222, \"#7201a8\"], [0.3333333333333333, \"#9c179e\"], [0.4444444444444444, \"#bd3786\"], [0.5555555555555556, \"#d8576b\"], [0.6666666666666666, \"#ed7953\"], [0.7777777777777778, \"#fb9f3a\"], [0.8888888888888888, \"#fdca26\"], [1.0, \"#f0f921\"]], \"type\": \"contour\"}], \"contourcarpet\": [{\"colorbar\": {\"outlinewidth\": 0, \"ticks\": \"\"}, \"type\": \"contourcarpet\"}], \"heatmap\": [{\"colorbar\": {\"outlinewidth\": 0, \"ticks\": \"\"}, \"colorscale\": [[0.0, \"#0d0887\"], [0.1111111111111111, \"#46039f\"], [0.2222222222222222, \"#7201a8\"], [0.3333333333333333, \"#9c179e\"], [0.4444444444444444, \"#bd3786\"], [0.5555555555555556, \"#d8576b\"], [0.6666666666666666, \"#ed7953\"], [0.7777777777777778, \"#fb9f3a\"], [0.8888888888888888, \"#fdca26\"], [1.0, \"#f0f921\"]], \"type\": \"heatmap\"}], \"heatmapgl\": [{\"colorbar\": {\"outlinewidth\": 0, \"ticks\": \"\"}, \"colorscale\": [[0.0, \"#0d0887\"], [0.1111111111111111, \"#46039f\"], [0.2222222222222222, \"#7201a8\"], [0.3333333333333333, \"#9c179e\"], [0.4444444444444444, \"#bd3786\"], [0.5555555555555556, \"#d8576b\"], [0.6666666666666666, \"#ed7953\"], [0.7777777777777778, \"#fb9f3a\"], [0.8888888888888888, \"#fdca26\"], [1.0, \"#f0f921\"]], \"type\": \"heatmapgl\"}], \"histogram\": [{\"marker\": {\"colorbar\": {\"outlinewidth\": 0, \"ticks\": \"\"}}, \"type\": \"histogram\"}], \"histogram2d\": [{\"colorbar\": {\"outlinewidth\": 0, \"ticks\": \"\"}, \"colorscale\": [[0.0, \"#0d0887\"], [0.1111111111111111, \"#46039f\"], [0.2222222222222222, \"#7201a8\"], [0.3333333333333333, \"#9c179e\"], [0.4444444444444444, \"#bd3786\"], [0.5555555555555556, \"#d8576b\"], [0.6666666666666666, \"#ed7953\"], [0.7777777777777778, \"#fb9f3a\"], [0.8888888888888888, \"#fdca26\"], [1.0, \"#f0f921\"]], \"type\": \"histogram2d\"}], \"histogram2dcontour\": [{\"colorbar\": {\"outlinewidth\": 0, \"ticks\": \"\"}, \"colorscale\": [[0.0, \"#0d0887\"], [0.1111111111111111, \"#46039f\"], [0.2222222222222222, \"#7201a8\"], [0.3333333333333333, \"#9c179e\"], [0.4444444444444444, \"#bd3786\"], [0.5555555555555556, \"#d8576b\"], [0.6666666666666666, \"#ed7953\"], [0.7777777777777778, \"#fb9f3a\"], [0.8888888888888888, \"#fdca26\"], [1.0, \"#f0f921\"]], \"type\": \"histogram2dcontour\"}], \"mesh3d\": [{\"colorbar\": {\"outlinewidth\": 0, \"ticks\": \"\"}, \"type\": \"mesh3d\"}], \"parcoords\": [{\"line\": {\"colorbar\": {\"outlinewidth\": 0, \"ticks\": \"\"}}, \"type\": \"parcoords\"}], \"pie\": [{\"automargin\": true, \"type\": \"pie\"}], \"scatter\": [{\"marker\": {\"colorbar\": {\"outlinewidth\": 0, \"ticks\": \"\"}}, \"type\": \"scatter\"}], \"scatter3d\": [{\"line\": {\"colorbar\": {\"outlinewidth\": 0, \"ticks\": \"\"}}, \"marker\": {\"colorbar\": {\"outlinewidth\": 0, \"ticks\": \"\"}}, \"type\": \"scatter3d\"}], \"scattercarpet\": [{\"marker\": {\"colorbar\": {\"outlinewidth\": 0, \"ticks\": \"\"}}, \"type\": \"scattercarpet\"}], \"scattergeo\": [{\"marker\": {\"colorbar\": {\"outlinewidth\": 0, \"ticks\": \"\"}}, \"type\": \"scattergeo\"}], \"scattergl\": [{\"marker\": {\"colorbar\": {\"outlinewidth\": 0, \"ticks\": \"\"}}, \"type\": \"scattergl\"}], \"scattermapbox\": [{\"marker\": {\"colorbar\": {\"outlinewidth\": 0, \"ticks\": \"\"}}, \"type\": \"scattermapbox\"}], \"scatterpolar\": [{\"marker\": {\"colorbar\": {\"outlinewidth\": 0, \"ticks\": \"\"}}, \"type\": \"scatterpolar\"}], \"scatterpolargl\": [{\"marker\": {\"colorbar\": {\"outlinewidth\": 0, \"ticks\": \"\"}}, \"type\": \"scatterpolargl\"}], \"scatterternary\": [{\"marker\": {\"colorbar\": {\"outlinewidth\": 0, \"ticks\": \"\"}}, \"type\": \"scatterternary\"}], \"surface\": [{\"colorbar\": {\"outlinewidth\": 0, \"ticks\": \"\"}, \"colorscale\": [[0.0, \"#0d0887\"], [0.1111111111111111, \"#46039f\"], [0.2222222222222222, \"#7201a8\"], [0.3333333333333333, \"#9c179e\"], [0.4444444444444444, \"#bd3786\"], [0.5555555555555556, \"#d8576b\"], [0.6666666666666666, \"#ed7953\"], [0.7777777777777778, \"#fb9f3a\"], [0.8888888888888888, \"#fdca26\"], [1.0, \"#f0f921\"]], \"type\": \"surface\"}], \"table\": [{\"cells\": {\"fill\": {\"color\": \"#EBF0F8\"}, \"line\": {\"color\": \"white\"}}, \"header\": {\"fill\": {\"color\": \"#C8D4E3\"}, \"line\": {\"color\": \"white\"}}, \"type\": \"table\"}]}, \"layout\": {\"annotationdefaults\": {\"arrowcolor\": \"#2a3f5f\", \"arrowhead\": 0, \"arrowwidth\": 1}, \"coloraxis\": {\"colorbar\": {\"outlinewidth\": 0, \"ticks\": \"\"}}, \"colorscale\": {\"diverging\": [[0, \"#8e0152\"], [0.1, \"#c51b7d\"], [0.2, \"#de77ae\"], [0.3, \"#f1b6da\"], [0.4, \"#fde0ef\"], [0.5, \"#f7f7f7\"], [0.6, \"#e6f5d0\"], [0.7, \"#b8e186\"], [0.8, \"#7fbc41\"], [0.9, \"#4d9221\"], [1, \"#276419\"]], \"sequential\": [[0.0, \"#0d0887\"], [0.1111111111111111, \"#46039f\"], [0.2222222222222222, \"#7201a8\"], [0.3333333333333333, \"#9c179e\"], [0.4444444444444444, \"#bd3786\"], [0.5555555555555556, \"#d8576b\"], [0.6666666666666666, \"#ed7953\"], [0.7777777777777778, \"#fb9f3a\"], [0.8888888888888888, \"#fdca26\"], [1.0, \"#f0f921\"]], \"sequentialminus\": [[0.0, \"#0d0887\"], [0.1111111111111111, \"#46039f\"], [0.2222222222222222, \"#7201a8\"], [0.3333333333333333, \"#9c179e\"], [0.4444444444444444, \"#bd3786\"], [0.5555555555555556, \"#d8576b\"], [0.6666666666666666, \"#ed7953\"], [0.7777777777777778, \"#fb9f3a\"], [0.8888888888888888, \"#fdca26\"], [1.0, \"#f0f921\"]]}, \"colorway\": [\"#636efa\", \"#EF553B\", \"#00cc96\", \"#ab63fa\", \"#FFA15A\", \"#19d3f3\", \"#FF6692\", \"#B6E880\", \"#FF97FF\", \"#FECB52\"], \"font\": {\"color\": \"#2a3f5f\"}, \"geo\": {\"bgcolor\": \"white\", \"lakecolor\": \"white\", \"landcolor\": \"#E5ECF6\", \"showlakes\": true, \"showland\": true, \"subunitcolor\": \"white\"}, \"hoverlabel\": {\"align\": \"left\"}, \"hovermode\": \"closest\", \"mapbox\": {\"style\": \"light\"}, \"paper_bgcolor\": \"white\", \"plot_bgcolor\": \"#E5ECF6\", \"polar\": {\"angularaxis\": {\"gridcolor\": \"white\", \"linecolor\": \"white\", \"ticks\": \"\"}, \"bgcolor\": \"#E5ECF6\", \"radialaxis\": {\"gridcolor\": \"white\", \"linecolor\": \"white\", \"ticks\": \"\"}}, \"scene\": {\"xaxis\": {\"backgroundcolor\": \"#E5ECF6\", \"gridcolor\": \"white\", \"gridwidth\": 2, \"linecolor\": \"white\", \"showbackground\": true, \"ticks\": \"\", \"zerolinecolor\": \"white\"}, \"yaxis\": {\"backgroundcolor\": \"#E5ECF6\", \"gridcolor\": \"white\", \"gridwidth\": 2, \"linecolor\": \"white\", \"showbackground\": true, \"ticks\": \"\", \"zerolinecolor\": \"white\"}, \"zaxis\": {\"backgroundcolor\": \"#E5ECF6\", \"gridcolor\": \"white\", \"gridwidth\": 2, \"linecolor\": \"white\", \"showbackground\": true, \"ticks\": \"\", \"zerolinecolor\": \"white\"}}, \"shapedefaults\": {\"line\": {\"color\": \"#2a3f5f\"}}, \"ternary\": {\"aaxis\": {\"gridcolor\": \"white\", \"linecolor\": \"white\", \"ticks\": \"\"}, \"baxis\": {\"gridcolor\": \"white\", \"linecolor\": \"white\", \"ticks\": \"\"}, \"bgcolor\": \"#E5ECF6\", \"caxis\": {\"gridcolor\": \"white\", \"linecolor\": \"white\", \"ticks\": \"\"}}, \"title\": {\"x\": 0.05}, \"xaxis\": {\"automargin\": true, \"gridcolor\": \"white\", \"linecolor\": \"white\", \"ticks\": \"\", \"title\": {\"standoff\": 15}, \"zerolinecolor\": \"white\", \"zerolinewidth\": 2}, \"yaxis\": {\"automargin\": true, \"gridcolor\": \"white\", \"linecolor\": \"white\", \"ticks\": \"\", \"title\": {\"standoff\": 15}, \"zerolinecolor\": \"white\", \"zerolinewidth\": 2}}}, \"xaxis\": {\"anchor\": \"y\", \"domain\": [0.0, 1.0], \"title\": {\"text\": \"x\"}}, \"yaxis\": {\"anchor\": \"x\", \"domain\": [0.0, 1.0], \"title\": {\"text\": \"Size\"}}},\n",
       "                        {\"responsive\": true}\n",
       "                    ).then(function(){\n",
       "                            \n",
       "var gd = document.getElementById('95e70f5b-667e-47df-97b5-ac330a7c00c8');\n",
       "var x = new MutationObserver(function (mutations, observer) {{\n",
       "        var display = window.getComputedStyle(gd).display;\n",
       "        if (!display || display === 'none') {{\n",
       "            console.log([gd, 'removed!']);\n",
       "            Plotly.purge(gd);\n",
       "            observer.disconnect();\n",
       "        }}\n",
       "}});\n",
       "\n",
       "// Listen for the removal of the full notebook cells\n",
       "var notebookContainer = gd.closest('#notebook-container');\n",
       "if (notebookContainer) {{\n",
       "    x.observe(notebookContainer, {childList: true});\n",
       "}}\n",
       "\n",
       "// Listen for the clearing of the current output cell\n",
       "var outputEl = gd.closest('.output');\n",
       "if (outputEl) {{\n",
       "    x.observe(outputEl, {childList: true});\n",
       "}}\n",
       "\n",
       "                        })\n",
       "                };\n",
       "                });\n",
       "            </script>\n",
       "        </div>"
      ]
     },
     "metadata": {},
     "output_type": "display_data"
    }
   ],
   "source": [
    "df_monthly_count_organic = df_avo.query(\"type=='organic'\").set_index('Date').resample('m').size().to_frame('Size')\n",
    "px.bar(df_monthly_count_organic, x=df_monthly_count.index, y='Size')"
   ]
  },
  {
   "cell_type": "code",
   "execution_count": 18,
   "metadata": {
    "ExecuteTime": {
     "end_time": "2020-03-22T14:06:19.362902Z",
     "start_time": "2020-03-22T14:06:19.135503Z"
    }
   },
   "outputs": [
    {
     "data": {
      "text/html": [
       "<div>\n",
       "        \n",
       "        \n",
       "            <div id=\"463da6be-a268-4cfb-853a-68fdfe7fe26c\" class=\"plotly-graph-div\" style=\"height:525px; width:100%;\"></div>\n",
       "            <script type=\"text/javascript\">\n",
       "                require([\"plotly\"], function(Plotly) {\n",
       "                    window.PLOTLYENV=window.PLOTLYENV || {};\n",
       "                    \n",
       "                if (document.getElementById(\"463da6be-a268-4cfb-853a-68fdfe7fe26c\")) {\n",
       "                    Plotly.newPlot(\n",
       "                        '463da6be-a268-4cfb-853a-68fdfe7fe26c',\n",
       "                        [{\"alignmentgroup\": \"True\", \"hoverlabel\": {\"namelength\": 0}, \"hovertemplate\": \"x=%{x}<br>sum_records=%{y}\", \"legendgroup\": \"\", \"marker\": {\"color\": \"#636efa\"}, \"name\": \"\", \"offsetgroup\": \"\", \"orientation\": \"v\", \"showlegend\": false, \"textposition\": \"auto\", \"type\": \"bar\", \"x\": [\"Albany\", \"Atlanta\", \"BaltimoreWashington\", \"Boise\", \"Boston\", \"BuffaloRochester\", \"California\", \"Charlotte\", \"Chicago\", \"CincinnatiDayton\", \"Columbus\", \"DallasFtWorth\", \"Denver\", \"Detroit\", \"GrandRapids\", \"GreatLakes\", \"HarrisburgScranton\", \"HartfordSpringfield\", \"Houston\", \"Indianapolis\", \"Jacksonville\", \"LasVegas\", \"LosAngeles\", \"Louisville\", \"MiamiFtLauderdale\", \"Midsouth\", \"Nashville\", \"NewOrleansMobile\", \"NewYork\", \"Northeast\", \"NorthernNewEngland\", \"Orlando\", \"Philadelphia\", \"PhoenixTucson\", \"Pittsburgh\", \"Plains\", \"Portland\", \"RaleighGreensboro\", \"RichmondNorfolk\", \"Roanoke\", \"Sacramento\", \"SanDiego\", \"SanFrancisco\", \"Seattle\", \"SouthCarolina\", \"SouthCentral\", \"Southeast\", \"Spokane\", \"StLouis\", \"Syracuse\", \"Tampa\", \"TotalUS\", \"West\", \"WestTexNewMexico\"], \"xaxis\": \"x\", \"y\": [338, 338, 338, 338, 338, 338, 338, 338, 338, 338, 338, 338, 338, 338, 338, 338, 338, 338, 338, 338, 338, 338, 338, 338, 338, 338, 338, 338, 338, 338, 338, 338, 338, 338, 338, 338, 338, 338, 338, 338, 338, 338, 338, 338, 338, 338, 338, 338, 338, 338, 338, 338, 338, 335], \"yaxis\": \"y\"}],\n",
       "                        {\"barmode\": \"relative\", \"legend\": {\"tracegroupgap\": 0}, \"template\": {\"data\": {\"bar\": [{\"error_x\": {\"color\": \"#2a3f5f\"}, \"error_y\": {\"color\": \"#2a3f5f\"}, \"marker\": {\"line\": {\"color\": \"#E5ECF6\", \"width\": 0.5}}, \"type\": \"bar\"}], \"barpolar\": [{\"marker\": {\"line\": {\"color\": \"#E5ECF6\", \"width\": 0.5}}, \"type\": \"barpolar\"}], \"carpet\": [{\"aaxis\": {\"endlinecolor\": \"#2a3f5f\", \"gridcolor\": \"white\", \"linecolor\": \"white\", \"minorgridcolor\": \"white\", \"startlinecolor\": \"#2a3f5f\"}, \"baxis\": {\"endlinecolor\": \"#2a3f5f\", \"gridcolor\": \"white\", \"linecolor\": \"white\", \"minorgridcolor\": \"white\", \"startlinecolor\": \"#2a3f5f\"}, \"type\": \"carpet\"}], \"choropleth\": [{\"colorbar\": {\"outlinewidth\": 0, \"ticks\": \"\"}, \"type\": \"choropleth\"}], \"contour\": [{\"colorbar\": {\"outlinewidth\": 0, \"ticks\": \"\"}, \"colorscale\": [[0.0, \"#0d0887\"], [0.1111111111111111, \"#46039f\"], [0.2222222222222222, \"#7201a8\"], [0.3333333333333333, \"#9c179e\"], [0.4444444444444444, \"#bd3786\"], [0.5555555555555556, \"#d8576b\"], [0.6666666666666666, \"#ed7953\"], [0.7777777777777778, \"#fb9f3a\"], [0.8888888888888888, \"#fdca26\"], [1.0, \"#f0f921\"]], \"type\": \"contour\"}], \"contourcarpet\": [{\"colorbar\": {\"outlinewidth\": 0, \"ticks\": \"\"}, \"type\": \"contourcarpet\"}], \"heatmap\": [{\"colorbar\": {\"outlinewidth\": 0, \"ticks\": \"\"}, \"colorscale\": [[0.0, \"#0d0887\"], [0.1111111111111111, \"#46039f\"], [0.2222222222222222, \"#7201a8\"], [0.3333333333333333, \"#9c179e\"], [0.4444444444444444, \"#bd3786\"], [0.5555555555555556, \"#d8576b\"], [0.6666666666666666, \"#ed7953\"], [0.7777777777777778, \"#fb9f3a\"], [0.8888888888888888, \"#fdca26\"], [1.0, \"#f0f921\"]], \"type\": \"heatmap\"}], \"heatmapgl\": [{\"colorbar\": {\"outlinewidth\": 0, \"ticks\": \"\"}, \"colorscale\": [[0.0, \"#0d0887\"], [0.1111111111111111, \"#46039f\"], [0.2222222222222222, \"#7201a8\"], [0.3333333333333333, \"#9c179e\"], [0.4444444444444444, \"#bd3786\"], [0.5555555555555556, \"#d8576b\"], [0.6666666666666666, \"#ed7953\"], [0.7777777777777778, \"#fb9f3a\"], [0.8888888888888888, \"#fdca26\"], [1.0, \"#f0f921\"]], \"type\": \"heatmapgl\"}], \"histogram\": [{\"marker\": {\"colorbar\": {\"outlinewidth\": 0, \"ticks\": \"\"}}, \"type\": \"histogram\"}], \"histogram2d\": [{\"colorbar\": {\"outlinewidth\": 0, \"ticks\": \"\"}, \"colorscale\": [[0.0, \"#0d0887\"], [0.1111111111111111, \"#46039f\"], [0.2222222222222222, \"#7201a8\"], [0.3333333333333333, \"#9c179e\"], [0.4444444444444444, \"#bd3786\"], [0.5555555555555556, \"#d8576b\"], [0.6666666666666666, \"#ed7953\"], [0.7777777777777778, \"#fb9f3a\"], [0.8888888888888888, \"#fdca26\"], [1.0, \"#f0f921\"]], \"type\": \"histogram2d\"}], \"histogram2dcontour\": [{\"colorbar\": {\"outlinewidth\": 0, \"ticks\": \"\"}, \"colorscale\": [[0.0, \"#0d0887\"], [0.1111111111111111, \"#46039f\"], [0.2222222222222222, \"#7201a8\"], [0.3333333333333333, \"#9c179e\"], [0.4444444444444444, \"#bd3786\"], [0.5555555555555556, \"#d8576b\"], [0.6666666666666666, \"#ed7953\"], [0.7777777777777778, \"#fb9f3a\"], [0.8888888888888888, \"#fdca26\"], [1.0, \"#f0f921\"]], \"type\": \"histogram2dcontour\"}], \"mesh3d\": [{\"colorbar\": {\"outlinewidth\": 0, \"ticks\": \"\"}, \"type\": \"mesh3d\"}], \"parcoords\": [{\"line\": {\"colorbar\": {\"outlinewidth\": 0, \"ticks\": \"\"}}, \"type\": \"parcoords\"}], \"pie\": [{\"automargin\": true, \"type\": \"pie\"}], \"scatter\": [{\"marker\": {\"colorbar\": {\"outlinewidth\": 0, \"ticks\": \"\"}}, \"type\": \"scatter\"}], \"scatter3d\": [{\"line\": {\"colorbar\": {\"outlinewidth\": 0, \"ticks\": \"\"}}, \"marker\": {\"colorbar\": {\"outlinewidth\": 0, \"ticks\": \"\"}}, \"type\": \"scatter3d\"}], \"scattercarpet\": [{\"marker\": {\"colorbar\": {\"outlinewidth\": 0, \"ticks\": \"\"}}, \"type\": \"scattercarpet\"}], \"scattergeo\": [{\"marker\": {\"colorbar\": {\"outlinewidth\": 0, \"ticks\": \"\"}}, \"type\": \"scattergeo\"}], \"scattergl\": [{\"marker\": {\"colorbar\": {\"outlinewidth\": 0, \"ticks\": \"\"}}, \"type\": \"scattergl\"}], \"scattermapbox\": [{\"marker\": {\"colorbar\": {\"outlinewidth\": 0, \"ticks\": \"\"}}, \"type\": \"scattermapbox\"}], \"scatterpolar\": [{\"marker\": {\"colorbar\": {\"outlinewidth\": 0, \"ticks\": \"\"}}, \"type\": \"scatterpolar\"}], \"scatterpolargl\": [{\"marker\": {\"colorbar\": {\"outlinewidth\": 0, \"ticks\": \"\"}}, \"type\": \"scatterpolargl\"}], \"scatterternary\": [{\"marker\": {\"colorbar\": {\"outlinewidth\": 0, \"ticks\": \"\"}}, \"type\": \"scatterternary\"}], \"surface\": [{\"colorbar\": {\"outlinewidth\": 0, \"ticks\": \"\"}, \"colorscale\": [[0.0, \"#0d0887\"], [0.1111111111111111, \"#46039f\"], [0.2222222222222222, \"#7201a8\"], [0.3333333333333333, \"#9c179e\"], [0.4444444444444444, \"#bd3786\"], [0.5555555555555556, \"#d8576b\"], [0.6666666666666666, \"#ed7953\"], [0.7777777777777778, \"#fb9f3a\"], [0.8888888888888888, \"#fdca26\"], [1.0, \"#f0f921\"]], \"type\": \"surface\"}], \"table\": [{\"cells\": {\"fill\": {\"color\": \"#EBF0F8\"}, \"line\": {\"color\": \"white\"}}, \"header\": {\"fill\": {\"color\": \"#C8D4E3\"}, \"line\": {\"color\": \"white\"}}, \"type\": \"table\"}]}, \"layout\": {\"annotationdefaults\": {\"arrowcolor\": \"#2a3f5f\", \"arrowhead\": 0, \"arrowwidth\": 1}, \"coloraxis\": {\"colorbar\": {\"outlinewidth\": 0, \"ticks\": \"\"}}, \"colorscale\": {\"diverging\": [[0, \"#8e0152\"], [0.1, \"#c51b7d\"], [0.2, \"#de77ae\"], [0.3, \"#f1b6da\"], [0.4, \"#fde0ef\"], [0.5, \"#f7f7f7\"], [0.6, \"#e6f5d0\"], [0.7, \"#b8e186\"], [0.8, \"#7fbc41\"], [0.9, \"#4d9221\"], [1, \"#276419\"]], \"sequential\": [[0.0, \"#0d0887\"], [0.1111111111111111, \"#46039f\"], [0.2222222222222222, \"#7201a8\"], [0.3333333333333333, \"#9c179e\"], [0.4444444444444444, \"#bd3786\"], [0.5555555555555556, \"#d8576b\"], [0.6666666666666666, \"#ed7953\"], [0.7777777777777778, \"#fb9f3a\"], [0.8888888888888888, \"#fdca26\"], [1.0, \"#f0f921\"]], \"sequentialminus\": [[0.0, \"#0d0887\"], [0.1111111111111111, \"#46039f\"], [0.2222222222222222, \"#7201a8\"], [0.3333333333333333, \"#9c179e\"], [0.4444444444444444, \"#bd3786\"], [0.5555555555555556, \"#d8576b\"], [0.6666666666666666, \"#ed7953\"], [0.7777777777777778, \"#fb9f3a\"], [0.8888888888888888, \"#fdca26\"], [1.0, \"#f0f921\"]]}, \"colorway\": [\"#636efa\", \"#EF553B\", \"#00cc96\", \"#ab63fa\", \"#FFA15A\", \"#19d3f3\", \"#FF6692\", \"#B6E880\", \"#FF97FF\", \"#FECB52\"], \"font\": {\"color\": \"#2a3f5f\"}, \"geo\": {\"bgcolor\": \"white\", \"lakecolor\": \"white\", \"landcolor\": \"#E5ECF6\", \"showlakes\": true, \"showland\": true, \"subunitcolor\": \"white\"}, \"hoverlabel\": {\"align\": \"left\"}, \"hovermode\": \"closest\", \"mapbox\": {\"style\": \"light\"}, \"paper_bgcolor\": \"white\", \"plot_bgcolor\": \"#E5ECF6\", \"polar\": {\"angularaxis\": {\"gridcolor\": \"white\", \"linecolor\": \"white\", \"ticks\": \"\"}, \"bgcolor\": \"#E5ECF6\", \"radialaxis\": {\"gridcolor\": \"white\", \"linecolor\": \"white\", \"ticks\": \"\"}}, \"scene\": {\"xaxis\": {\"backgroundcolor\": \"#E5ECF6\", \"gridcolor\": \"white\", \"gridwidth\": 2, \"linecolor\": \"white\", \"showbackground\": true, \"ticks\": \"\", \"zerolinecolor\": \"white\"}, \"yaxis\": {\"backgroundcolor\": \"#E5ECF6\", \"gridcolor\": \"white\", \"gridwidth\": 2, \"linecolor\": \"white\", \"showbackground\": true, \"ticks\": \"\", \"zerolinecolor\": \"white\"}, \"zaxis\": {\"backgroundcolor\": \"#E5ECF6\", \"gridcolor\": \"white\", \"gridwidth\": 2, \"linecolor\": \"white\", \"showbackground\": true, \"ticks\": \"\", \"zerolinecolor\": \"white\"}}, \"shapedefaults\": {\"line\": {\"color\": \"#2a3f5f\"}}, \"ternary\": {\"aaxis\": {\"gridcolor\": \"white\", \"linecolor\": \"white\", \"ticks\": \"\"}, \"baxis\": {\"gridcolor\": \"white\", \"linecolor\": \"white\", \"ticks\": \"\"}, \"bgcolor\": \"#E5ECF6\", \"caxis\": {\"gridcolor\": \"white\", \"linecolor\": \"white\", \"ticks\": \"\"}}, \"title\": {\"x\": 0.05}, \"xaxis\": {\"automargin\": true, \"gridcolor\": \"white\", \"linecolor\": \"white\", \"ticks\": \"\", \"title\": {\"standoff\": 15}, \"zerolinecolor\": \"white\", \"zerolinewidth\": 2}, \"yaxis\": {\"automargin\": true, \"gridcolor\": \"white\", \"linecolor\": \"white\", \"ticks\": \"\", \"title\": {\"standoff\": 15}, \"zerolinecolor\": \"white\", \"zerolinewidth\": 2}}}, \"title\": {\"text\": \"Total Monthly Records by Region\"}, \"xaxis\": {\"anchor\": \"y\", \"domain\": [0.0, 1.0], \"title\": {\"text\": \"x\"}}, \"yaxis\": {\"anchor\": \"x\", \"domain\": [0.0, 1.0], \"title\": {\"text\": \"sum_records\"}}},\n",
       "                        {\"responsive\": true}\n",
       "                    ).then(function(){\n",
       "                            \n",
       "var gd = document.getElementById('463da6be-a268-4cfb-853a-68fdfe7fe26c');\n",
       "var x = new MutationObserver(function (mutations, observer) {{\n",
       "        var display = window.getComputedStyle(gd).display;\n",
       "        if (!display || display === 'none') {{\n",
       "            console.log([gd, 'removed!']);\n",
       "            Plotly.purge(gd);\n",
       "            observer.disconnect();\n",
       "        }}\n",
       "}});\n",
       "\n",
       "// Listen for the removal of the full notebook cells\n",
       "var notebookContainer = gd.closest('#notebook-container');\n",
       "if (notebookContainer) {{\n",
       "    x.observe(notebookContainer, {childList: true});\n",
       "}}\n",
       "\n",
       "// Listen for the clearing of the current output cell\n",
       "var outputEl = gd.closest('.output');\n",
       "if (outputEl) {{\n",
       "    x.observe(outputEl, {childList: true});\n",
       "}}\n",
       "\n",
       "                        })\n",
       "                };\n",
       "                });\n",
       "            </script>\n",
       "        </div>"
      ]
     },
     "metadata": {},
     "output_type": "display_data"
    }
   ],
   "source": [
    "df_region_sum = (df_avo.set_index('Date')\n",
    "                       .groupby('region').size().to_frame('sum_records'))\n",
    "px.bar(df_region_sum, x=df_region_sum.index, y='sum_records', title=\"Total Monthly Records by Region\")"
   ]
  },
  {
   "cell_type": "code",
   "execution_count": 19,
   "metadata": {
    "ExecuteTime": {
     "end_time": "2020-03-22T14:06:21.106269Z",
     "start_time": "2020-03-22T14:06:20.705340Z"
    }
   },
   "outputs": [
    {
     "data": {
      "text/html": [
       "<div>\n",
       "        \n",
       "        \n",
       "            <div id=\"aee3605b-63fa-441b-8b0d-75340d320c66\" class=\"plotly-graph-div\" style=\"height:525px; width:100%;\"></div>\n",
       "            <script type=\"text/javascript\">\n",
       "                require([\"plotly\"], function(Plotly) {\n",
       "                    window.PLOTLYENV=window.PLOTLYENV || {};\n",
       "                    \n",
       "                if (document.getElementById(\"aee3605b-63fa-441b-8b0d-75340d320c66\")) {\n",
       "                    Plotly.newPlot(\n",
       "                        'aee3605b-63fa-441b-8b0d-75340d320c66',\n",
       "                        [{\"alignmentgroup\": \"True\", \"hoverlabel\": {\"namelength\": 0}, \"hovertemplate\": \"x=%{x}<br>avg_monthly_records=%{y}\", \"legendgroup\": \"\", \"marker\": {\"color\": \"#636efa\"}, \"name\": \"\", \"offsetgroup\": \"\", \"orientation\": \"v\", \"showlegend\": false, \"textposition\": \"auto\", \"type\": \"bar\", \"x\": [\"Albany\", \"Atlanta\", \"BaltimoreWashington\", \"Boise\", \"Boston\", \"BuffaloRochester\", \"California\", \"Charlotte\", \"Chicago\", \"CincinnatiDayton\", \"Columbus\", \"DallasFtWorth\", \"Denver\", \"Detroit\", \"GrandRapids\", \"GreatLakes\", \"HarrisburgScranton\", \"HartfordSpringfield\", \"Houston\", \"Indianapolis\", \"Jacksonville\", \"LasVegas\", \"LosAngeles\", \"Louisville\", \"MiamiFtLauderdale\", \"Midsouth\", \"Nashville\", \"NewOrleansMobile\", \"NewYork\", \"Northeast\", \"NorthernNewEngland\", \"Orlando\", \"Philadelphia\", \"PhoenixTucson\", \"Pittsburgh\", \"Plains\", \"Portland\", \"RaleighGreensboro\", \"RichmondNorfolk\", \"Roanoke\", \"Sacramento\", \"SanDiego\", \"SanFrancisco\", \"Seattle\", \"SouthCarolina\", \"SouthCentral\", \"Southeast\", \"Spokane\", \"StLouis\", \"Syracuse\", \"Tampa\", \"TotalUS\", \"West\", \"WestTexNewMexico\"], \"xaxis\": \"x\", \"y\": [8.666666666666666, 8.666666666666666, 8.666666666666666, 8.666666666666666, 8.666666666666666, 8.666666666666666, 8.666666666666666, 8.666666666666666, 8.666666666666666, 8.666666666666666, 8.666666666666666, 8.666666666666666, 8.666666666666666, 8.666666666666666, 8.666666666666666, 8.666666666666666, 8.666666666666666, 8.666666666666666, 8.666666666666666, 8.666666666666666, 8.666666666666666, 8.666666666666666, 8.666666666666666, 8.666666666666666, 8.666666666666666, 8.666666666666666, 8.666666666666666, 8.666666666666666, 8.666666666666666, 8.666666666666666, 8.666666666666666, 8.666666666666666, 8.666666666666666, 8.666666666666666, 8.666666666666666, 8.666666666666666, 8.666666666666666, 8.666666666666666, 8.666666666666666, 8.666666666666666, 8.666666666666666, 8.666666666666666, 8.666666666666666, 8.666666666666666, 8.666666666666666, 8.666666666666666, 8.666666666666666, 8.666666666666666, 8.666666666666666, 8.666666666666666, 8.666666666666666, 8.666666666666666, 8.666666666666666, 8.58974358974359], \"yaxis\": \"y\"}],\n",
       "                        {\"barmode\": \"relative\", \"legend\": {\"tracegroupgap\": 0}, \"template\": {\"data\": {\"bar\": [{\"error_x\": {\"color\": \"#2a3f5f\"}, \"error_y\": {\"color\": \"#2a3f5f\"}, \"marker\": {\"line\": {\"color\": \"#E5ECF6\", \"width\": 0.5}}, \"type\": \"bar\"}], \"barpolar\": [{\"marker\": {\"line\": {\"color\": \"#E5ECF6\", \"width\": 0.5}}, \"type\": \"barpolar\"}], \"carpet\": [{\"aaxis\": {\"endlinecolor\": \"#2a3f5f\", \"gridcolor\": \"white\", \"linecolor\": \"white\", \"minorgridcolor\": \"white\", \"startlinecolor\": \"#2a3f5f\"}, \"baxis\": {\"endlinecolor\": \"#2a3f5f\", \"gridcolor\": \"white\", \"linecolor\": \"white\", \"minorgridcolor\": \"white\", \"startlinecolor\": \"#2a3f5f\"}, \"type\": \"carpet\"}], \"choropleth\": [{\"colorbar\": {\"outlinewidth\": 0, \"ticks\": \"\"}, \"type\": \"choropleth\"}], \"contour\": [{\"colorbar\": {\"outlinewidth\": 0, \"ticks\": \"\"}, \"colorscale\": [[0.0, \"#0d0887\"], [0.1111111111111111, \"#46039f\"], [0.2222222222222222, \"#7201a8\"], [0.3333333333333333, \"#9c179e\"], [0.4444444444444444, \"#bd3786\"], [0.5555555555555556, \"#d8576b\"], [0.6666666666666666, \"#ed7953\"], [0.7777777777777778, \"#fb9f3a\"], [0.8888888888888888, \"#fdca26\"], [1.0, \"#f0f921\"]], \"type\": \"contour\"}], \"contourcarpet\": [{\"colorbar\": {\"outlinewidth\": 0, \"ticks\": \"\"}, \"type\": \"contourcarpet\"}], \"heatmap\": [{\"colorbar\": {\"outlinewidth\": 0, \"ticks\": \"\"}, \"colorscale\": [[0.0, \"#0d0887\"], [0.1111111111111111, \"#46039f\"], [0.2222222222222222, \"#7201a8\"], [0.3333333333333333, \"#9c179e\"], [0.4444444444444444, \"#bd3786\"], [0.5555555555555556, \"#d8576b\"], [0.6666666666666666, \"#ed7953\"], [0.7777777777777778, \"#fb9f3a\"], [0.8888888888888888, \"#fdca26\"], [1.0, \"#f0f921\"]], \"type\": \"heatmap\"}], \"heatmapgl\": [{\"colorbar\": {\"outlinewidth\": 0, \"ticks\": \"\"}, \"colorscale\": [[0.0, \"#0d0887\"], [0.1111111111111111, \"#46039f\"], [0.2222222222222222, \"#7201a8\"], [0.3333333333333333, \"#9c179e\"], [0.4444444444444444, \"#bd3786\"], [0.5555555555555556, \"#d8576b\"], [0.6666666666666666, \"#ed7953\"], [0.7777777777777778, \"#fb9f3a\"], [0.8888888888888888, \"#fdca26\"], [1.0, \"#f0f921\"]], \"type\": \"heatmapgl\"}], \"histogram\": [{\"marker\": {\"colorbar\": {\"outlinewidth\": 0, \"ticks\": \"\"}}, \"type\": \"histogram\"}], \"histogram2d\": [{\"colorbar\": {\"outlinewidth\": 0, \"ticks\": \"\"}, \"colorscale\": [[0.0, \"#0d0887\"], [0.1111111111111111, \"#46039f\"], [0.2222222222222222, \"#7201a8\"], [0.3333333333333333, \"#9c179e\"], [0.4444444444444444, \"#bd3786\"], [0.5555555555555556, \"#d8576b\"], [0.6666666666666666, \"#ed7953\"], [0.7777777777777778, \"#fb9f3a\"], [0.8888888888888888, \"#fdca26\"], [1.0, \"#f0f921\"]], \"type\": \"histogram2d\"}], \"histogram2dcontour\": [{\"colorbar\": {\"outlinewidth\": 0, \"ticks\": \"\"}, \"colorscale\": [[0.0, \"#0d0887\"], [0.1111111111111111, \"#46039f\"], [0.2222222222222222, \"#7201a8\"], [0.3333333333333333, \"#9c179e\"], [0.4444444444444444, \"#bd3786\"], [0.5555555555555556, \"#d8576b\"], [0.6666666666666666, \"#ed7953\"], [0.7777777777777778, \"#fb9f3a\"], [0.8888888888888888, \"#fdca26\"], [1.0, \"#f0f921\"]], \"type\": \"histogram2dcontour\"}], \"mesh3d\": [{\"colorbar\": {\"outlinewidth\": 0, \"ticks\": \"\"}, \"type\": \"mesh3d\"}], \"parcoords\": [{\"line\": {\"colorbar\": {\"outlinewidth\": 0, \"ticks\": \"\"}}, \"type\": \"parcoords\"}], \"pie\": [{\"automargin\": true, \"type\": \"pie\"}], \"scatter\": [{\"marker\": {\"colorbar\": {\"outlinewidth\": 0, \"ticks\": \"\"}}, \"type\": \"scatter\"}], \"scatter3d\": [{\"line\": {\"colorbar\": {\"outlinewidth\": 0, \"ticks\": \"\"}}, \"marker\": {\"colorbar\": {\"outlinewidth\": 0, \"ticks\": \"\"}}, \"type\": \"scatter3d\"}], \"scattercarpet\": [{\"marker\": {\"colorbar\": {\"outlinewidth\": 0, \"ticks\": \"\"}}, \"type\": \"scattercarpet\"}], \"scattergeo\": [{\"marker\": {\"colorbar\": {\"outlinewidth\": 0, \"ticks\": \"\"}}, \"type\": \"scattergeo\"}], \"scattergl\": [{\"marker\": {\"colorbar\": {\"outlinewidth\": 0, \"ticks\": \"\"}}, \"type\": \"scattergl\"}], \"scattermapbox\": [{\"marker\": {\"colorbar\": {\"outlinewidth\": 0, \"ticks\": \"\"}}, \"type\": \"scattermapbox\"}], \"scatterpolar\": [{\"marker\": {\"colorbar\": {\"outlinewidth\": 0, \"ticks\": \"\"}}, \"type\": \"scatterpolar\"}], \"scatterpolargl\": [{\"marker\": {\"colorbar\": {\"outlinewidth\": 0, \"ticks\": \"\"}}, \"type\": \"scatterpolargl\"}], \"scatterternary\": [{\"marker\": {\"colorbar\": {\"outlinewidth\": 0, \"ticks\": \"\"}}, \"type\": \"scatterternary\"}], \"surface\": [{\"colorbar\": {\"outlinewidth\": 0, \"ticks\": \"\"}, \"colorscale\": [[0.0, \"#0d0887\"], [0.1111111111111111, \"#46039f\"], [0.2222222222222222, \"#7201a8\"], [0.3333333333333333, \"#9c179e\"], [0.4444444444444444, \"#bd3786\"], [0.5555555555555556, \"#d8576b\"], [0.6666666666666666, \"#ed7953\"], [0.7777777777777778, \"#fb9f3a\"], [0.8888888888888888, \"#fdca26\"], [1.0, \"#f0f921\"]], \"type\": \"surface\"}], \"table\": [{\"cells\": {\"fill\": {\"color\": \"#EBF0F8\"}, \"line\": {\"color\": \"white\"}}, \"header\": {\"fill\": {\"color\": \"#C8D4E3\"}, \"line\": {\"color\": \"white\"}}, \"type\": \"table\"}]}, \"layout\": {\"annotationdefaults\": {\"arrowcolor\": \"#2a3f5f\", \"arrowhead\": 0, \"arrowwidth\": 1}, \"coloraxis\": {\"colorbar\": {\"outlinewidth\": 0, \"ticks\": \"\"}}, \"colorscale\": {\"diverging\": [[0, \"#8e0152\"], [0.1, \"#c51b7d\"], [0.2, \"#de77ae\"], [0.3, \"#f1b6da\"], [0.4, \"#fde0ef\"], [0.5, \"#f7f7f7\"], [0.6, \"#e6f5d0\"], [0.7, \"#b8e186\"], [0.8, \"#7fbc41\"], [0.9, \"#4d9221\"], [1, \"#276419\"]], \"sequential\": [[0.0, \"#0d0887\"], [0.1111111111111111, \"#46039f\"], [0.2222222222222222, \"#7201a8\"], [0.3333333333333333, \"#9c179e\"], [0.4444444444444444, \"#bd3786\"], [0.5555555555555556, \"#d8576b\"], [0.6666666666666666, \"#ed7953\"], [0.7777777777777778, \"#fb9f3a\"], [0.8888888888888888, \"#fdca26\"], [1.0, \"#f0f921\"]], \"sequentialminus\": [[0.0, \"#0d0887\"], [0.1111111111111111, \"#46039f\"], [0.2222222222222222, \"#7201a8\"], [0.3333333333333333, \"#9c179e\"], [0.4444444444444444, \"#bd3786\"], [0.5555555555555556, \"#d8576b\"], [0.6666666666666666, \"#ed7953\"], [0.7777777777777778, \"#fb9f3a\"], [0.8888888888888888, \"#fdca26\"], [1.0, \"#f0f921\"]]}, \"colorway\": [\"#636efa\", \"#EF553B\", \"#00cc96\", \"#ab63fa\", \"#FFA15A\", \"#19d3f3\", \"#FF6692\", \"#B6E880\", \"#FF97FF\", \"#FECB52\"], \"font\": {\"color\": \"#2a3f5f\"}, \"geo\": {\"bgcolor\": \"white\", \"lakecolor\": \"white\", \"landcolor\": \"#E5ECF6\", \"showlakes\": true, \"showland\": true, \"subunitcolor\": \"white\"}, \"hoverlabel\": {\"align\": \"left\"}, \"hovermode\": \"closest\", \"mapbox\": {\"style\": \"light\"}, \"paper_bgcolor\": \"white\", \"plot_bgcolor\": \"#E5ECF6\", \"polar\": {\"angularaxis\": {\"gridcolor\": \"white\", \"linecolor\": \"white\", \"ticks\": \"\"}, \"bgcolor\": \"#E5ECF6\", \"radialaxis\": {\"gridcolor\": \"white\", \"linecolor\": \"white\", \"ticks\": \"\"}}, \"scene\": {\"xaxis\": {\"backgroundcolor\": \"#E5ECF6\", \"gridcolor\": \"white\", \"gridwidth\": 2, \"linecolor\": \"white\", \"showbackground\": true, \"ticks\": \"\", \"zerolinecolor\": \"white\"}, \"yaxis\": {\"backgroundcolor\": \"#E5ECF6\", \"gridcolor\": \"white\", \"gridwidth\": 2, \"linecolor\": \"white\", \"showbackground\": true, \"ticks\": \"\", \"zerolinecolor\": \"white\"}, \"zaxis\": {\"backgroundcolor\": \"#E5ECF6\", \"gridcolor\": \"white\", \"gridwidth\": 2, \"linecolor\": \"white\", \"showbackground\": true, \"ticks\": \"\", \"zerolinecolor\": \"white\"}}, \"shapedefaults\": {\"line\": {\"color\": \"#2a3f5f\"}}, \"ternary\": {\"aaxis\": {\"gridcolor\": \"white\", \"linecolor\": \"white\", \"ticks\": \"\"}, \"baxis\": {\"gridcolor\": \"white\", \"linecolor\": \"white\", \"ticks\": \"\"}, \"bgcolor\": \"#E5ECF6\", \"caxis\": {\"gridcolor\": \"white\", \"linecolor\": \"white\", \"ticks\": \"\"}}, \"title\": {\"x\": 0.05}, \"xaxis\": {\"automargin\": true, \"gridcolor\": \"white\", \"linecolor\": \"white\", \"ticks\": \"\", \"title\": {\"standoff\": 15}, \"zerolinecolor\": \"white\", \"zerolinewidth\": 2}, \"yaxis\": {\"automargin\": true, \"gridcolor\": \"white\", \"linecolor\": \"white\", \"ticks\": \"\", \"title\": {\"standoff\": 15}, \"zerolinecolor\": \"white\", \"zerolinewidth\": 2}}}, \"title\": {\"text\": \"Average Monthly Records by Region\"}, \"xaxis\": {\"anchor\": \"y\", \"domain\": [0.0, 1.0], \"title\": {\"text\": \"x\"}}, \"yaxis\": {\"anchor\": \"x\", \"domain\": [0.0, 1.0], \"title\": {\"text\": \"avg_monthly_records\"}}},\n",
       "                        {\"responsive\": true}\n",
       "                    ).then(function(){\n",
       "                            \n",
       "var gd = document.getElementById('aee3605b-63fa-441b-8b0d-75340d320c66');\n",
       "var x = new MutationObserver(function (mutations, observer) {{\n",
       "        var display = window.getComputedStyle(gd).display;\n",
       "        if (!display || display === 'none') {{\n",
       "            console.log([gd, 'removed!']);\n",
       "            Plotly.purge(gd);\n",
       "            observer.disconnect();\n",
       "        }}\n",
       "}});\n",
       "\n",
       "// Listen for the removal of the full notebook cells\n",
       "var notebookContainer = gd.closest('#notebook-container');\n",
       "if (notebookContainer) {{\n",
       "    x.observe(notebookContainer, {childList: true});\n",
       "}}\n",
       "\n",
       "// Listen for the clearing of the current output cell\n",
       "var outputEl = gd.closest('.output');\n",
       "if (outputEl) {{\n",
       "    x.observe(outputEl, {childList: true});\n",
       "}}\n",
       "\n",
       "                        })\n",
       "                };\n",
       "                });\n",
       "            </script>\n",
       "        </div>"
      ]
     },
     "metadata": {},
     "output_type": "display_data"
    }
   ],
   "source": [
    "df_region_avg = (df_avo.set_index('Date')\n",
    "                       .groupby('region').resample('m').size()\n",
    "                       .stack().to_frame('size').reset_index()\n",
    "                       .groupby('region').agg(avg_monthly_records=('size', 'mean')))\n",
    "px.bar(df_region_avg, x=df_region_avg.index, y='avg_monthly_records', title=\"Average Monthly Records by Region\")"
   ]
  },
  {
   "cell_type": "markdown",
   "metadata": {},
   "source": [
    "The two string fields to be investigated are region and type.  For region it appears that a majority of the items are major metropolitan areas. However, it can also be seen that there are aggregated areas as well.  These can be put into the following categories:\n",
    "\n",
    "- **Metro Area**: A city in a state - the deepest level of detail.  Example: Albany\n",
    "- **State**: Contain multiple cities from the dataset. First level of aggregation.  If the dataset is consistent the expectation is that if you sum all metro areas within a state that it would equal the state total.  Example: California\n",
    "- **Geographic Region**: Contain multiple states from the dataset. Second level of aggregation.  If the dataset is consistent the expectation is that if you sum all states within a state that it would equal the geographic region total.  Example: West\n",
    "- **Total**: The sum of the entire dataset.  If the dataset is consistent the expectation is that if you sum all values within any of the sub groups that it would equal the total."
   ]
  },
  {
   "cell_type": "code",
   "execution_count": 20,
   "metadata": {
    "ExecuteTime": {
     "end_time": "2020-03-22T14:06:25.253120Z",
     "start_time": "2020-03-22T14:06:25.247123Z"
    }
   },
   "outputs": [
    {
     "data": {
      "text/plain": [
       "array(['Albany', 'Atlanta', 'BaltimoreWashington', 'Boise', 'Boston',\n",
       "       'BuffaloRochester', 'California', 'Charlotte', 'Chicago',\n",
       "       'CincinnatiDayton', 'Columbus', 'DallasFtWorth', 'Denver',\n",
       "       'Detroit', 'GrandRapids', 'GreatLakes', 'HarrisburgScranton',\n",
       "       'HartfordSpringfield', 'Houston', 'Indianapolis', 'Jacksonville',\n",
       "       'LasVegas', 'LosAngeles', 'Louisville', 'MiamiFtLauderdale',\n",
       "       'Midsouth', 'Nashville', 'NewOrleansMobile', 'NewYork',\n",
       "       'Northeast', 'NorthernNewEngland', 'Orlando', 'Philadelphia',\n",
       "       'PhoenixTucson', 'Pittsburgh', 'Plains', 'Portland',\n",
       "       'RaleighGreensboro', 'RichmondNorfolk', 'Roanoke', 'Sacramento',\n",
       "       'SanDiego', 'SanFrancisco', 'Seattle', 'SouthCarolina',\n",
       "       'SouthCentral', 'Southeast', 'Spokane', 'StLouis', 'Syracuse',\n",
       "       'Tampa', 'TotalUS', 'West', 'WestTexNewMexico'], dtype=object)"
      ]
     },
     "execution_count": 20,
     "metadata": {},
     "output_type": "execute_result"
    }
   ],
   "source": [
    "df_avo['region'].unique()\n",
    "# TODO Automate mapping of regions to categories"
   ]
  },
  {
   "cell_type": "markdown",
   "metadata": {},
   "source": [
    "A mapping will need to be done for each region to it's appropriate category so that figures can be appropriately aggregated.  For now, I will do a quick and easy separation of the categories."
   ]
  },
  {
   "cell_type": "code",
   "execution_count": 21,
   "metadata": {
    "ExecuteTime": {
     "end_time": "2020-03-22T14:06:28.210227Z",
     "start_time": "2020-03-22T14:06:28.192298Z"
    }
   },
   "outputs": [],
   "source": [
    "df_avo_total = df_avo.query(\"region=='TotalUS'\").sort_values('Date')\n",
    "regions = ['Midsouth', 'Northeast', 'SouthCentral', 'Southeast', 'West']\n",
    "df_avo_region = df_avo.query(\"region in @regions\").sort_values('Date')\n",
    "df_avo_metro = df_avo.query(\"region != 'TotalUS' & region not in @regions\").sort_values('Date')"
   ]
  },
  {
   "cell_type": "markdown",
   "metadata": {},
   "source": [
    "We are now ready to move into analyzing the data."
   ]
  },
  {
   "cell_type": "markdown",
   "metadata": {},
   "source": [
    "# Data Analysis"
   ]
  },
  {
   "cell_type": "markdown",
   "metadata": {
    "ExecuteTime": {
     "end_time": "2020-03-19T18:56:34.097683Z",
     "start_time": "2020-03-19T18:56:34.090733Z"
    }
   },
   "source": [
    "I will do a top down analysis where I first look at the totals to see if anything sticks out.  To start a simple line graph to get a view of the overall trend and summary statistics will guide me in the right direction - I will focus on 'AveragePrice' and 'Total Volume'.  You can quickly see that there seems to be something wrong with the price data for organic avocados in July of 2015.  Additionally, you can quickly see that conventional avocados are significantly more popular than organic.  In 2016 and 2017 there was also a significant increase and subsequent decrease in prices in the Fall."
   ]
  },
  {
   "cell_type": "code",
   "execution_count": 22,
   "metadata": {
    "ExecuteTime": {
     "end_time": "2020-03-22T14:06:34.240148Z",
     "start_time": "2020-03-22T14:06:33.943902Z"
    }
   },
   "outputs": [
    {
     "data": {
      "text/html": [
       "<div>\n",
       "        \n",
       "        \n",
       "            <div id=\"5e592674-ecea-4a90-a442-a5fb7e3d3816\" class=\"plotly-graph-div\" style=\"height:525px; width:100%;\"></div>\n",
       "            <script type=\"text/javascript\">\n",
       "                require([\"plotly\"], function(Plotly) {\n",
       "                    window.PLOTLYENV=window.PLOTLYENV || {};\n",
       "                    \n",
       "                if (document.getElementById(\"5e592674-ecea-4a90-a442-a5fb7e3d3816\")) {\n",
       "                    Plotly.newPlot(\n",
       "                        '5e592674-ecea-4a90-a442-a5fb7e3d3816',\n",
       "                        [{\"hoverlabel\": {\"namelength\": 0}, \"hovertemplate\": \"type=conventional<br>Date=%{x}<br>AveragePrice=%{y}\", \"legendgroup\": \"conventional\", \"line\": {\"color\": \"#636efa\", \"dash\": \"solid\"}, \"mode\": \"lines\", \"name\": \"conventional\", \"showlegend\": true, \"type\": \"scatter\", \"x\": [\"2015-01-04T00:00:00\", \"2015-01-11T00:00:00\", \"2015-01-18T00:00:00\", \"2015-01-25T00:00:00\", \"2015-02-01T00:00:00\", \"2015-02-08T00:00:00\", \"2015-02-15T00:00:00\", \"2015-02-22T00:00:00\", \"2015-03-01T00:00:00\", \"2015-03-08T00:00:00\", \"2015-03-15T00:00:00\", \"2015-03-22T00:00:00\", \"2015-03-29T00:00:00\", \"2015-04-05T00:00:00\", \"2015-04-12T00:00:00\", \"2015-04-19T00:00:00\", \"2015-04-26T00:00:00\", \"2015-05-03T00:00:00\", \"2015-05-10T00:00:00\", \"2015-05-17T00:00:00\", \"2015-05-24T00:00:00\", \"2015-05-31T00:00:00\", \"2015-06-07T00:00:00\", \"2015-06-14T00:00:00\", \"2015-06-21T00:00:00\", \"2015-06-28T00:00:00\", \"2015-07-05T00:00:00\", \"2015-07-12T00:00:00\", \"2015-07-19T00:00:00\", \"2015-07-26T00:00:00\", \"2015-08-02T00:00:00\", \"2015-08-09T00:00:00\", \"2015-08-16T00:00:00\", \"2015-08-23T00:00:00\", \"2015-08-30T00:00:00\", \"2015-09-06T00:00:00\", \"2015-09-13T00:00:00\", \"2015-09-20T00:00:00\", \"2015-09-27T00:00:00\", \"2015-10-04T00:00:00\", \"2015-10-11T00:00:00\", \"2015-10-18T00:00:00\", \"2015-10-25T00:00:00\", \"2015-11-01T00:00:00\", \"2015-11-08T00:00:00\", \"2015-11-15T00:00:00\", \"2015-11-22T00:00:00\", \"2015-11-29T00:00:00\", \"2015-12-06T00:00:00\", \"2015-12-13T00:00:00\", \"2015-12-20T00:00:00\", \"2015-12-27T00:00:00\", \"2016-01-03T00:00:00\", \"2016-01-10T00:00:00\", \"2016-01-17T00:00:00\", \"2016-01-24T00:00:00\", \"2016-01-31T00:00:00\", \"2016-02-07T00:00:00\", \"2016-02-14T00:00:00\", \"2016-02-21T00:00:00\", \"2016-02-28T00:00:00\", \"2016-03-06T00:00:00\", \"2016-03-13T00:00:00\", \"2016-03-20T00:00:00\", \"2016-03-27T00:00:00\", \"2016-04-03T00:00:00\", \"2016-04-10T00:00:00\", \"2016-04-17T00:00:00\", \"2016-04-24T00:00:00\", \"2016-05-01T00:00:00\", \"2016-05-08T00:00:00\", \"2016-05-15T00:00:00\", \"2016-05-22T00:00:00\", \"2016-05-29T00:00:00\", \"2016-06-05T00:00:00\", \"2016-06-12T00:00:00\", \"2016-06-19T00:00:00\", \"2016-06-26T00:00:00\", \"2016-07-03T00:00:00\", \"2016-07-10T00:00:00\", \"2016-07-17T00:00:00\", \"2016-07-24T00:00:00\", \"2016-07-31T00:00:00\", \"2016-08-07T00:00:00\", \"2016-08-14T00:00:00\", \"2016-08-21T00:00:00\", \"2016-08-28T00:00:00\", \"2016-09-04T00:00:00\", \"2016-09-11T00:00:00\", \"2016-09-18T00:00:00\", \"2016-09-25T00:00:00\", \"2016-10-02T00:00:00\", \"2016-10-09T00:00:00\", \"2016-10-16T00:00:00\", \"2016-10-23T00:00:00\", \"2016-10-30T00:00:00\", \"2016-11-06T00:00:00\", \"2016-11-13T00:00:00\", \"2016-11-20T00:00:00\", \"2016-11-27T00:00:00\", \"2016-12-04T00:00:00\", \"2016-12-11T00:00:00\", \"2016-12-18T00:00:00\", \"2016-12-25T00:00:00\", \"2017-01-01T00:00:00\", \"2017-01-08T00:00:00\", \"2017-01-15T00:00:00\", \"2017-01-22T00:00:00\", \"2017-01-29T00:00:00\", \"2017-02-05T00:00:00\", \"2017-02-12T00:00:00\", \"2017-02-19T00:00:00\", \"2017-02-26T00:00:00\", \"2017-03-05T00:00:00\", \"2017-03-12T00:00:00\", \"2017-03-19T00:00:00\", \"2017-03-26T00:00:00\", \"2017-04-02T00:00:00\", \"2017-04-09T00:00:00\", \"2017-04-16T00:00:00\", \"2017-04-23T00:00:00\", \"2017-04-30T00:00:00\", \"2017-05-07T00:00:00\", \"2017-05-14T00:00:00\", \"2017-05-21T00:00:00\", \"2017-05-28T00:00:00\", \"2017-06-04T00:00:00\", \"2017-06-11T00:00:00\", \"2017-06-18T00:00:00\", \"2017-06-25T00:00:00\", \"2017-07-02T00:00:00\", \"2017-07-09T00:00:00\", \"2017-07-16T00:00:00\", \"2017-07-23T00:00:00\", \"2017-07-30T00:00:00\", \"2017-08-06T00:00:00\", \"2017-08-13T00:00:00\", \"2017-08-20T00:00:00\", \"2017-08-27T00:00:00\", \"2017-09-03T00:00:00\", \"2017-09-10T00:00:00\", \"2017-09-17T00:00:00\", \"2017-09-24T00:00:00\", \"2017-10-01T00:00:00\", \"2017-10-08T00:00:00\", \"2017-10-15T00:00:00\", \"2017-10-22T00:00:00\", \"2017-10-29T00:00:00\", \"2017-11-05T00:00:00\", \"2017-11-12T00:00:00\", \"2017-11-19T00:00:00\", \"2017-11-26T00:00:00\", \"2017-12-03T00:00:00\", \"2017-12-10T00:00:00\", \"2017-12-17T00:00:00\", \"2017-12-24T00:00:00\", \"2017-12-31T00:00:00\", \"2018-01-07T00:00:00\", \"2018-01-14T00:00:00\", \"2018-01-21T00:00:00\", \"2018-01-28T00:00:00\", \"2018-02-04T00:00:00\", \"2018-02-11T00:00:00\", \"2018-02-18T00:00:00\", \"2018-02-25T00:00:00\", \"2018-03-04T00:00:00\", \"2018-03-11T00:00:00\", \"2018-03-18T00:00:00\", \"2018-03-25T00:00:00\"], \"xaxis\": \"x\", \"y\": [0.95, 1.01, 1.03, 1.04, 0.89, 0.95, 1.03, 1.02, 0.97, 1.02, 1.04, 1.01, 1.04, 1.06, 1.02, 1.03, 1.07, 0.96, 1.02, 1.06, 1.04, 1.03, 1.0, 0.98, 1.02, 1.06, 1.04, 1.07, 1.07, 1.07, 1.09, 1.05, 1.05, 1.08, 1.07, 1.02, 1.03, 1.02, 1.03, 1.02, 1.0, 0.99, 1.04, 0.97, 0.97, 0.92, 0.96, 0.99, 0.89, 0.93, 0.98, 0.95, 0.86, 0.93, 0.94, 0.95, 0.93, 0.76, 0.88, 0.94, 0.91, 0.95, 0.93, 0.93, 0.94, 0.94, 0.9, 0.9, 0.87, 0.84, 0.82, 0.89, 0.93, 0.94, 0.97, 1.04, 1.02, 1.04, 1.06, 1.1, 1.15, 1.2, 1.23, 1.15, 1.12, 1.1, 1.09, 1.04, 1.08, 1.15, 1.22, 1.23, 1.27, 1.3, 1.34, 1.43, 1.44, 1.36, 1.27, 1.21, 1.0, 0.98, 0.96, 1.0, 0.89, 0.99, 0.98, 0.94, 0.96, 0.77, 0.87, 0.99, 0.99, 1.13, 1.22, 1.25, 1.24, 1.21, 1.21, 1.23, 1.18, 1.18, 1.09, 1.19, 1.26, 1.28, 1.24, 1.21, 1.18, 1.17, 1.21, 1.17, 1.33, 1.31, 1.32, 1.33, 1.33, 1.41, 1.47, 1.57, 1.56, 1.57, 1.62, 1.64, 1.65, 1.58, 1.44, 1.29, 1.19, 1.15, 1.17, 1.24, 1.09, 1.03, 1.07, 1.18, 0.98, 1.13, 1.2, 1.08, 1.09, 0.87, 0.97, 1.08, 1.06, 1.07, 1.09, 1.05, 1.03], \"yaxis\": \"y\"}, {\"hoverlabel\": {\"namelength\": 0}, \"hovertemplate\": \"type=organic<br>Date=%{x}<br>AveragePrice=%{y}\", \"legendgroup\": \"organic\", \"line\": {\"color\": \"#EF553B\", \"dash\": \"solid\"}, \"mode\": \"lines\", \"name\": \"organic\", \"showlegend\": true, \"type\": \"scatter\", \"x\": [\"2015-01-04T00:00:00\", \"2015-01-11T00:00:00\", \"2015-01-18T00:00:00\", \"2015-01-25T00:00:00\", \"2015-02-01T00:00:00\", \"2015-02-08T00:00:00\", \"2015-02-15T00:00:00\", \"2015-02-22T00:00:00\", \"2015-03-01T00:00:00\", \"2015-03-08T00:00:00\", \"2015-03-15T00:00:00\", \"2015-03-22T00:00:00\", \"2015-03-29T00:00:00\", \"2015-04-05T00:00:00\", \"2015-04-12T00:00:00\", \"2015-04-19T00:00:00\", \"2015-04-26T00:00:00\", \"2015-05-03T00:00:00\", \"2015-05-10T00:00:00\", \"2015-05-17T00:00:00\", \"2015-05-24T00:00:00\", \"2015-05-31T00:00:00\", \"2015-06-07T00:00:00\", \"2015-06-14T00:00:00\", \"2015-06-21T00:00:00\", \"2015-06-28T00:00:00\", \"2015-07-05T00:00:00\", \"2015-07-12T00:00:00\", \"2015-07-19T00:00:00\", \"2015-07-26T00:00:00\", \"2015-08-02T00:00:00\", \"2015-08-09T00:00:00\", \"2015-08-16T00:00:00\", \"2015-08-23T00:00:00\", \"2015-08-30T00:00:00\", \"2015-09-06T00:00:00\", \"2015-09-13T00:00:00\", \"2015-09-20T00:00:00\", \"2015-09-27T00:00:00\", \"2015-10-04T00:00:00\", \"2015-10-11T00:00:00\", \"2015-10-18T00:00:00\", \"2015-10-25T00:00:00\", \"2015-11-01T00:00:00\", \"2015-11-08T00:00:00\", \"2015-11-15T00:00:00\", \"2015-11-22T00:00:00\", \"2015-11-29T00:00:00\", \"2015-12-06T00:00:00\", \"2015-12-13T00:00:00\", \"2015-12-20T00:00:00\", \"2015-12-27T00:00:00\", \"2016-01-03T00:00:00\", \"2016-01-10T00:00:00\", \"2016-01-17T00:00:00\", \"2016-01-24T00:00:00\", \"2016-01-31T00:00:00\", \"2016-02-07T00:00:00\", \"2016-02-14T00:00:00\", \"2016-02-21T00:00:00\", \"2016-02-28T00:00:00\", \"2016-03-06T00:00:00\", \"2016-03-13T00:00:00\", \"2016-03-20T00:00:00\", \"2016-03-27T00:00:00\", \"2016-04-03T00:00:00\", \"2016-04-10T00:00:00\", \"2016-04-17T00:00:00\", \"2016-04-24T00:00:00\", \"2016-05-01T00:00:00\", \"2016-05-08T00:00:00\", \"2016-05-15T00:00:00\", \"2016-05-22T00:00:00\", \"2016-05-29T00:00:00\", \"2016-06-05T00:00:00\", \"2016-06-12T00:00:00\", \"2016-06-19T00:00:00\", \"2016-06-26T00:00:00\", \"2016-07-03T00:00:00\", \"2016-07-10T00:00:00\", \"2016-07-17T00:00:00\", \"2016-07-24T00:00:00\", \"2016-07-31T00:00:00\", \"2016-08-07T00:00:00\", \"2016-08-14T00:00:00\", \"2016-08-21T00:00:00\", \"2016-08-28T00:00:00\", \"2016-09-04T00:00:00\", \"2016-09-11T00:00:00\", \"2016-09-18T00:00:00\", \"2016-09-25T00:00:00\", \"2016-10-02T00:00:00\", \"2016-10-09T00:00:00\", \"2016-10-16T00:00:00\", \"2016-10-23T00:00:00\", \"2016-10-30T00:00:00\", \"2016-11-06T00:00:00\", \"2016-11-13T00:00:00\", \"2016-11-20T00:00:00\", \"2016-11-27T00:00:00\", \"2016-12-04T00:00:00\", \"2016-12-11T00:00:00\", \"2016-12-18T00:00:00\", \"2016-12-25T00:00:00\", \"2017-01-01T00:00:00\", \"2017-01-08T00:00:00\", \"2017-01-15T00:00:00\", \"2017-01-22T00:00:00\", \"2017-01-29T00:00:00\", \"2017-02-05T00:00:00\", \"2017-02-12T00:00:00\", \"2017-02-19T00:00:00\", \"2017-02-26T00:00:00\", \"2017-03-05T00:00:00\", \"2017-03-12T00:00:00\", \"2017-03-19T00:00:00\", \"2017-03-26T00:00:00\", \"2017-04-02T00:00:00\", \"2017-04-09T00:00:00\", \"2017-04-16T00:00:00\", \"2017-04-23T00:00:00\", \"2017-04-30T00:00:00\", \"2017-05-07T00:00:00\", \"2017-05-14T00:00:00\", \"2017-05-21T00:00:00\", \"2017-05-28T00:00:00\", \"2017-06-04T00:00:00\", \"2017-06-11T00:00:00\", \"2017-06-18T00:00:00\", \"2017-06-25T00:00:00\", \"2017-07-02T00:00:00\", \"2017-07-09T00:00:00\", \"2017-07-16T00:00:00\", \"2017-07-23T00:00:00\", \"2017-07-30T00:00:00\", \"2017-08-06T00:00:00\", \"2017-08-13T00:00:00\", \"2017-08-20T00:00:00\", \"2017-08-27T00:00:00\", \"2017-09-03T00:00:00\", \"2017-09-10T00:00:00\", \"2017-09-17T00:00:00\", \"2017-09-24T00:00:00\", \"2017-10-01T00:00:00\", \"2017-10-08T00:00:00\", \"2017-10-15T00:00:00\", \"2017-10-22T00:00:00\", \"2017-10-29T00:00:00\", \"2017-11-05T00:00:00\", \"2017-11-12T00:00:00\", \"2017-11-19T00:00:00\", \"2017-11-26T00:00:00\", \"2017-12-03T00:00:00\", \"2017-12-10T00:00:00\", \"2017-12-17T00:00:00\", \"2017-12-24T00:00:00\", \"2017-12-31T00:00:00\", \"2018-01-07T00:00:00\", \"2018-01-14T00:00:00\", \"2018-01-21T00:00:00\", \"2018-01-28T00:00:00\", \"2018-02-04T00:00:00\", \"2018-02-11T00:00:00\", \"2018-02-18T00:00:00\", \"2018-02-25T00:00:00\", \"2018-03-04T00:00:00\", \"2018-03-11T00:00:00\", \"2018-03-18T00:00:00\", \"2018-03-25T00:00:00\"], \"xaxis\": \"x\", \"y\": [1.46, 1.42, 1.42, 1.53, 1.36, 1.48, 1.58, 1.51, 1.4, 1.49, 1.5, 1.49, 1.6, 1.63, 1.53, 1.59, 1.45, 1.37, 1.42, 1.5, 1.59, 1.58, 1.67, 1.68, 1.66, 1.64, 1.0, 1.0, 1.0, 1.0, 1.0, 1.0, 1.75, 1.72, 1.66, 1.78, 1.8, 1.77, 1.75, 1.72, 1.69, 1.71, 1.62, 1.47, 1.54, 1.6, 1.49, 1.5, 1.52, 1.43, 1.53, 1.52, 1.43, 1.35, 1.44, 1.41, 1.43, 1.44, 1.37, 1.45, 1.44, 1.28, 1.29, 1.27, 1.44, 1.44, 1.26, 1.38, 1.25, 1.28, 1.3, 1.45, 1.36, 1.41, 1.43, 1.45, 1.45, 1.5, 1.47, 1.51, 1.63, 1.65, 1.58, 1.55, 1.48, 1.51, 1.49, 1.54, 1.52, 1.67, 1.69, 1.71, 1.52, 1.5, 1.63, 1.93, 1.68, 1.7, 1.63, 1.64, 1.56, 1.42, 1.43, 1.34, 1.48, 1.43, 1.44, 1.37, 1.43, 1.36, 1.41, 1.31, 1.21, 1.16, 1.38, 1.5, 1.29, 1.42, 1.43, 1.49, 1.61, 1.68, 1.57, 1.55, 1.71, 1.69, 1.64, 1.56, 1.71, 1.77, 1.74, 1.71, 1.78, 1.76, 1.78, 1.83, 1.88, 1.96, 2.09, 2.06, 2.03, 2.0, 1.94, 1.95, 1.9, 1.85, 1.82, 1.84, 1.82, 1.81, 1.77, 1.72, 1.62, 1.54, 1.57, 1.64, 1.52, 1.51, 1.59, 1.63, 1.61, 1.53, 1.56, 1.52, 1.57, 1.52, 1.52, 1.54, 1.55], \"yaxis\": \"y\"}],\n",
       "                        {\"legend\": {\"title\": {\"text\": \"type\"}, \"tracegroupgap\": 0}, \"template\": {\"data\": {\"bar\": [{\"error_x\": {\"color\": \"#2a3f5f\"}, \"error_y\": {\"color\": \"#2a3f5f\"}, \"marker\": {\"line\": {\"color\": \"#E5ECF6\", \"width\": 0.5}}, \"type\": \"bar\"}], \"barpolar\": [{\"marker\": {\"line\": {\"color\": \"#E5ECF6\", \"width\": 0.5}}, \"type\": \"barpolar\"}], \"carpet\": [{\"aaxis\": {\"endlinecolor\": \"#2a3f5f\", \"gridcolor\": \"white\", \"linecolor\": \"white\", \"minorgridcolor\": \"white\", \"startlinecolor\": \"#2a3f5f\"}, \"baxis\": {\"endlinecolor\": \"#2a3f5f\", \"gridcolor\": \"white\", \"linecolor\": \"white\", \"minorgridcolor\": \"white\", \"startlinecolor\": \"#2a3f5f\"}, \"type\": \"carpet\"}], \"choropleth\": [{\"colorbar\": {\"outlinewidth\": 0, \"ticks\": \"\"}, \"type\": \"choropleth\"}], \"contour\": [{\"colorbar\": {\"outlinewidth\": 0, \"ticks\": \"\"}, \"colorscale\": [[0.0, \"#0d0887\"], [0.1111111111111111, \"#46039f\"], [0.2222222222222222, \"#7201a8\"], [0.3333333333333333, \"#9c179e\"], [0.4444444444444444, \"#bd3786\"], [0.5555555555555556, \"#d8576b\"], [0.6666666666666666, \"#ed7953\"], [0.7777777777777778, \"#fb9f3a\"], [0.8888888888888888, \"#fdca26\"], [1.0, \"#f0f921\"]], \"type\": \"contour\"}], \"contourcarpet\": [{\"colorbar\": {\"outlinewidth\": 0, \"ticks\": \"\"}, \"type\": \"contourcarpet\"}], \"heatmap\": [{\"colorbar\": {\"outlinewidth\": 0, \"ticks\": \"\"}, \"colorscale\": [[0.0, \"#0d0887\"], [0.1111111111111111, \"#46039f\"], [0.2222222222222222, \"#7201a8\"], [0.3333333333333333, \"#9c179e\"], [0.4444444444444444, \"#bd3786\"], [0.5555555555555556, \"#d8576b\"], [0.6666666666666666, \"#ed7953\"], [0.7777777777777778, \"#fb9f3a\"], [0.8888888888888888, \"#fdca26\"], [1.0, \"#f0f921\"]], \"type\": \"heatmap\"}], \"heatmapgl\": [{\"colorbar\": {\"outlinewidth\": 0, \"ticks\": \"\"}, \"colorscale\": [[0.0, \"#0d0887\"], [0.1111111111111111, \"#46039f\"], [0.2222222222222222, \"#7201a8\"], [0.3333333333333333, \"#9c179e\"], [0.4444444444444444, \"#bd3786\"], [0.5555555555555556, \"#d8576b\"], [0.6666666666666666, \"#ed7953\"], [0.7777777777777778, \"#fb9f3a\"], [0.8888888888888888, \"#fdca26\"], [1.0, \"#f0f921\"]], \"type\": \"heatmapgl\"}], \"histogram\": [{\"marker\": {\"colorbar\": {\"outlinewidth\": 0, \"ticks\": \"\"}}, \"type\": \"histogram\"}], \"histogram2d\": [{\"colorbar\": {\"outlinewidth\": 0, \"ticks\": \"\"}, \"colorscale\": [[0.0, \"#0d0887\"], [0.1111111111111111, \"#46039f\"], [0.2222222222222222, \"#7201a8\"], [0.3333333333333333, \"#9c179e\"], [0.4444444444444444, \"#bd3786\"], [0.5555555555555556, \"#d8576b\"], [0.6666666666666666, \"#ed7953\"], [0.7777777777777778, \"#fb9f3a\"], [0.8888888888888888, \"#fdca26\"], [1.0, \"#f0f921\"]], \"type\": \"histogram2d\"}], \"histogram2dcontour\": [{\"colorbar\": {\"outlinewidth\": 0, \"ticks\": \"\"}, \"colorscale\": [[0.0, \"#0d0887\"], [0.1111111111111111, \"#46039f\"], [0.2222222222222222, \"#7201a8\"], [0.3333333333333333, \"#9c179e\"], [0.4444444444444444, \"#bd3786\"], [0.5555555555555556, \"#d8576b\"], [0.6666666666666666, \"#ed7953\"], [0.7777777777777778, \"#fb9f3a\"], [0.8888888888888888, \"#fdca26\"], [1.0, \"#f0f921\"]], \"type\": \"histogram2dcontour\"}], \"mesh3d\": [{\"colorbar\": {\"outlinewidth\": 0, \"ticks\": \"\"}, \"type\": \"mesh3d\"}], \"parcoords\": [{\"line\": {\"colorbar\": {\"outlinewidth\": 0, \"ticks\": \"\"}}, \"type\": \"parcoords\"}], \"pie\": [{\"automargin\": true, \"type\": \"pie\"}], \"scatter\": [{\"marker\": {\"colorbar\": {\"outlinewidth\": 0, \"ticks\": \"\"}}, \"type\": \"scatter\"}], \"scatter3d\": [{\"line\": {\"colorbar\": {\"outlinewidth\": 0, \"ticks\": \"\"}}, \"marker\": {\"colorbar\": {\"outlinewidth\": 0, \"ticks\": \"\"}}, \"type\": \"scatter3d\"}], \"scattercarpet\": [{\"marker\": {\"colorbar\": {\"outlinewidth\": 0, \"ticks\": \"\"}}, \"type\": \"scattercarpet\"}], \"scattergeo\": [{\"marker\": {\"colorbar\": {\"outlinewidth\": 0, \"ticks\": \"\"}}, \"type\": \"scattergeo\"}], \"scattergl\": [{\"marker\": {\"colorbar\": {\"outlinewidth\": 0, \"ticks\": \"\"}}, \"type\": \"scattergl\"}], \"scattermapbox\": [{\"marker\": {\"colorbar\": {\"outlinewidth\": 0, \"ticks\": \"\"}}, \"type\": \"scattermapbox\"}], \"scatterpolar\": [{\"marker\": {\"colorbar\": {\"outlinewidth\": 0, \"ticks\": \"\"}}, \"type\": \"scatterpolar\"}], \"scatterpolargl\": [{\"marker\": {\"colorbar\": {\"outlinewidth\": 0, \"ticks\": \"\"}}, \"type\": \"scatterpolargl\"}], \"scatterternary\": [{\"marker\": {\"colorbar\": {\"outlinewidth\": 0, \"ticks\": \"\"}}, \"type\": \"scatterternary\"}], \"surface\": [{\"colorbar\": {\"outlinewidth\": 0, \"ticks\": \"\"}, \"colorscale\": [[0.0, \"#0d0887\"], [0.1111111111111111, \"#46039f\"], [0.2222222222222222, \"#7201a8\"], [0.3333333333333333, \"#9c179e\"], [0.4444444444444444, \"#bd3786\"], [0.5555555555555556, \"#d8576b\"], [0.6666666666666666, \"#ed7953\"], [0.7777777777777778, \"#fb9f3a\"], [0.8888888888888888, \"#fdca26\"], [1.0, \"#f0f921\"]], \"type\": \"surface\"}], \"table\": [{\"cells\": {\"fill\": {\"color\": \"#EBF0F8\"}, \"line\": {\"color\": \"white\"}}, \"header\": {\"fill\": {\"color\": \"#C8D4E3\"}, \"line\": {\"color\": \"white\"}}, \"type\": \"table\"}]}, \"layout\": {\"annotationdefaults\": {\"arrowcolor\": \"#2a3f5f\", \"arrowhead\": 0, \"arrowwidth\": 1}, \"coloraxis\": {\"colorbar\": {\"outlinewidth\": 0, \"ticks\": \"\"}}, \"colorscale\": {\"diverging\": [[0, \"#8e0152\"], [0.1, \"#c51b7d\"], [0.2, \"#de77ae\"], [0.3, \"#f1b6da\"], [0.4, \"#fde0ef\"], [0.5, \"#f7f7f7\"], [0.6, \"#e6f5d0\"], [0.7, \"#b8e186\"], [0.8, \"#7fbc41\"], [0.9, \"#4d9221\"], [1, \"#276419\"]], \"sequential\": [[0.0, \"#0d0887\"], [0.1111111111111111, \"#46039f\"], [0.2222222222222222, \"#7201a8\"], [0.3333333333333333, \"#9c179e\"], [0.4444444444444444, \"#bd3786\"], [0.5555555555555556, \"#d8576b\"], [0.6666666666666666, \"#ed7953\"], [0.7777777777777778, \"#fb9f3a\"], [0.8888888888888888, \"#fdca26\"], [1.0, \"#f0f921\"]], \"sequentialminus\": [[0.0, \"#0d0887\"], [0.1111111111111111, \"#46039f\"], [0.2222222222222222, \"#7201a8\"], [0.3333333333333333, \"#9c179e\"], [0.4444444444444444, \"#bd3786\"], [0.5555555555555556, \"#d8576b\"], [0.6666666666666666, \"#ed7953\"], [0.7777777777777778, \"#fb9f3a\"], [0.8888888888888888, \"#fdca26\"], [1.0, \"#f0f921\"]]}, \"colorway\": [\"#636efa\", \"#EF553B\", \"#00cc96\", \"#ab63fa\", \"#FFA15A\", \"#19d3f3\", \"#FF6692\", \"#B6E880\", \"#FF97FF\", \"#FECB52\"], \"font\": {\"color\": \"#2a3f5f\"}, \"geo\": {\"bgcolor\": \"white\", \"lakecolor\": \"white\", \"landcolor\": \"#E5ECF6\", \"showlakes\": true, \"showland\": true, \"subunitcolor\": \"white\"}, \"hoverlabel\": {\"align\": \"left\"}, \"hovermode\": \"closest\", \"mapbox\": {\"style\": \"light\"}, \"paper_bgcolor\": \"white\", \"plot_bgcolor\": \"#E5ECF6\", \"polar\": {\"angularaxis\": {\"gridcolor\": \"white\", \"linecolor\": \"white\", \"ticks\": \"\"}, \"bgcolor\": \"#E5ECF6\", \"radialaxis\": {\"gridcolor\": \"white\", \"linecolor\": \"white\", \"ticks\": \"\"}}, \"scene\": {\"xaxis\": {\"backgroundcolor\": \"#E5ECF6\", \"gridcolor\": \"white\", \"gridwidth\": 2, \"linecolor\": \"white\", \"showbackground\": true, \"ticks\": \"\", \"zerolinecolor\": \"white\"}, \"yaxis\": {\"backgroundcolor\": \"#E5ECF6\", \"gridcolor\": \"white\", \"gridwidth\": 2, \"linecolor\": \"white\", \"showbackground\": true, \"ticks\": \"\", \"zerolinecolor\": \"white\"}, \"zaxis\": {\"backgroundcolor\": \"#E5ECF6\", \"gridcolor\": \"white\", \"gridwidth\": 2, \"linecolor\": \"white\", \"showbackground\": true, \"ticks\": \"\", \"zerolinecolor\": \"white\"}}, \"shapedefaults\": {\"line\": {\"color\": \"#2a3f5f\"}}, \"ternary\": {\"aaxis\": {\"gridcolor\": \"white\", \"linecolor\": \"white\", \"ticks\": \"\"}, \"baxis\": {\"gridcolor\": \"white\", \"linecolor\": \"white\", \"ticks\": \"\"}, \"bgcolor\": \"#E5ECF6\", \"caxis\": {\"gridcolor\": \"white\", \"linecolor\": \"white\", \"ticks\": \"\"}}, \"title\": {\"x\": 0.05}, \"xaxis\": {\"automargin\": true, \"gridcolor\": \"white\", \"linecolor\": \"white\", \"ticks\": \"\", \"title\": {\"standoff\": 15}, \"zerolinecolor\": \"white\", \"zerolinewidth\": 2}, \"yaxis\": {\"automargin\": true, \"gridcolor\": \"white\", \"linecolor\": \"white\", \"ticks\": \"\", \"title\": {\"standoff\": 15}, \"zerolinecolor\": \"white\", \"zerolinewidth\": 2}}}, \"title\": {\"text\": \"Average Prices by Type\"}, \"xaxis\": {\"anchor\": \"y\", \"domain\": [0.0, 1.0], \"title\": {\"text\": \"Date\"}}, \"yaxis\": {\"anchor\": \"x\", \"domain\": [0.0, 1.0], \"title\": {\"text\": \"AveragePrice\"}}},\n",
       "                        {\"responsive\": true}\n",
       "                    ).then(function(){\n",
       "                            \n",
       "var gd = document.getElementById('5e592674-ecea-4a90-a442-a5fb7e3d3816');\n",
       "var x = new MutationObserver(function (mutations, observer) {{\n",
       "        var display = window.getComputedStyle(gd).display;\n",
       "        if (!display || display === 'none') {{\n",
       "            console.log([gd, 'removed!']);\n",
       "            Plotly.purge(gd);\n",
       "            observer.disconnect();\n",
       "        }}\n",
       "}});\n",
       "\n",
       "// Listen for the removal of the full notebook cells\n",
       "var notebookContainer = gd.closest('#notebook-container');\n",
       "if (notebookContainer) {{\n",
       "    x.observe(notebookContainer, {childList: true});\n",
       "}}\n",
       "\n",
       "// Listen for the clearing of the current output cell\n",
       "var outputEl = gd.closest('.output');\n",
       "if (outputEl) {{\n",
       "    x.observe(outputEl, {childList: true});\n",
       "}}\n",
       "\n",
       "                        })\n",
       "                };\n",
       "                });\n",
       "            </script>\n",
       "        </div>"
      ]
     },
     "metadata": {},
     "output_type": "display_data"
    }
   ],
   "source": [
    "px.line(df_avo_total, \n",
    "        x='Date', \n",
    "        y='AveragePrice', \n",
    "        color='type', \n",
    "        title='Average Prices by Type')"
   ]
  },
  {
   "cell_type": "markdown",
   "metadata": {},
   "source": [
    "Looking at the distribution of prices for the two we can see that the distribution of organic has a wider range.  Part of this is due to what is likely an outlier data point.  The conventional avocados also seem to have a positive or right skew."
   ]
  },
  {
   "cell_type": "code",
   "execution_count": 23,
   "metadata": {
    "ExecuteTime": {
     "end_time": "2020-03-22T14:06:36.749549Z",
     "start_time": "2020-03-22T14:06:36.511151Z"
    }
   },
   "outputs": [
    {
     "data": {
      "text/html": [
       "<div>\n",
       "        \n",
       "        \n",
       "            <div id=\"2f6f41bb-3e2b-4cd4-9d91-a4eb915656e0\" class=\"plotly-graph-div\" style=\"height:525px; width:100%;\"></div>\n",
       "            <script type=\"text/javascript\">\n",
       "                require([\"plotly\"], function(Plotly) {\n",
       "                    window.PLOTLYENV=window.PLOTLYENV || {};\n",
       "                    \n",
       "                if (document.getElementById(\"2f6f41bb-3e2b-4cd4-9d91-a4eb915656e0\")) {\n",
       "                    Plotly.newPlot(\n",
       "                        '2f6f41bb-3e2b-4cd4-9d91-a4eb915656e0',\n",
       "                        [{\"alignmentgroup\": \"True\", \"bingroup\": \"x\", \"hoverlabel\": {\"namelength\": 0}, \"hovertemplate\": \"type=conventional<br>AveragePrice=%{x}<br>count=%{y}\", \"legendgroup\": \"conventional\", \"marker\": {\"color\": \"#636efa\", \"opacity\": 0.75}, \"name\": \"conventional\", \"nbinsx\": 25, \"offsetgroup\": \"conventional\", \"orientation\": \"v\", \"showlegend\": true, \"type\": \"histogram\", \"x\": [0.95, 1.01, 1.03, 1.04, 0.89, 0.95, 1.03, 1.02, 0.97, 1.02, 1.04, 1.01, 1.04, 1.06, 1.02, 1.03, 1.07, 0.96, 1.02, 1.06, 1.04, 1.03, 1.0, 0.98, 1.02, 1.06, 1.04, 1.07, 1.07, 1.07, 1.09, 1.05, 1.05, 1.08, 1.07, 1.02, 1.03, 1.02, 1.03, 1.02, 1.0, 0.99, 1.04, 0.97, 0.97, 0.92, 0.96, 0.99, 0.89, 0.93, 0.98, 0.95, 0.86, 0.93, 0.94, 0.95, 0.93, 0.76, 0.88, 0.94, 0.91, 0.95, 0.93, 0.93, 0.94, 0.94, 0.9, 0.9, 0.87, 0.84, 0.82, 0.89, 0.93, 0.94, 0.97, 1.04, 1.02, 1.04, 1.06, 1.1, 1.15, 1.2, 1.23, 1.15, 1.12, 1.1, 1.09, 1.04, 1.08, 1.15, 1.22, 1.23, 1.27, 1.3, 1.34, 1.43, 1.44, 1.36, 1.27, 1.21, 1.0, 0.98, 0.96, 1.0, 0.89, 0.99, 0.98, 0.94, 0.96, 0.77, 0.87, 0.99, 0.99, 1.13, 1.22, 1.25, 1.24, 1.21, 1.21, 1.23, 1.18, 1.18, 1.09, 1.19, 1.26, 1.28, 1.24, 1.21, 1.18, 1.17, 1.21, 1.17, 1.33, 1.31, 1.32, 1.33, 1.33, 1.41, 1.47, 1.57, 1.56, 1.57, 1.62, 1.64, 1.65, 1.58, 1.44, 1.29, 1.19, 1.15, 1.17, 1.24, 1.09, 1.03, 1.07, 1.18, 0.98, 1.13, 1.2, 1.08, 1.09, 0.87, 0.97, 1.08, 1.06, 1.07, 1.09, 1.05, 1.03], \"xaxis\": \"x\", \"yaxis\": \"y\"}, {\"alignmentgroup\": \"True\", \"hoverlabel\": {\"namelength\": 0}, \"hovertemplate\": \"type=conventional<br>AveragePrice=%{x}\", \"legendgroup\": \"conventional\", \"marker\": {\"color\": \"#636efa\"}, \"name\": \"conventional\", \"offsetgroup\": \"conventional\", \"scalegroup\": \"x\", \"showlegend\": false, \"type\": \"violin\", \"x\": [0.95, 1.01, 1.03, 1.04, 0.89, 0.95, 1.03, 1.02, 0.97, 1.02, 1.04, 1.01, 1.04, 1.06, 1.02, 1.03, 1.07, 0.96, 1.02, 1.06, 1.04, 1.03, 1.0, 0.98, 1.02, 1.06, 1.04, 1.07, 1.07, 1.07, 1.09, 1.05, 1.05, 1.08, 1.07, 1.02, 1.03, 1.02, 1.03, 1.02, 1.0, 0.99, 1.04, 0.97, 0.97, 0.92, 0.96, 0.99, 0.89, 0.93, 0.98, 0.95, 0.86, 0.93, 0.94, 0.95, 0.93, 0.76, 0.88, 0.94, 0.91, 0.95, 0.93, 0.93, 0.94, 0.94, 0.9, 0.9, 0.87, 0.84, 0.82, 0.89, 0.93, 0.94, 0.97, 1.04, 1.02, 1.04, 1.06, 1.1, 1.15, 1.2, 1.23, 1.15, 1.12, 1.1, 1.09, 1.04, 1.08, 1.15, 1.22, 1.23, 1.27, 1.3, 1.34, 1.43, 1.44, 1.36, 1.27, 1.21, 1.0, 0.98, 0.96, 1.0, 0.89, 0.99, 0.98, 0.94, 0.96, 0.77, 0.87, 0.99, 0.99, 1.13, 1.22, 1.25, 1.24, 1.21, 1.21, 1.23, 1.18, 1.18, 1.09, 1.19, 1.26, 1.28, 1.24, 1.21, 1.18, 1.17, 1.21, 1.17, 1.33, 1.31, 1.32, 1.33, 1.33, 1.41, 1.47, 1.57, 1.56, 1.57, 1.62, 1.64, 1.65, 1.58, 1.44, 1.29, 1.19, 1.15, 1.17, 1.24, 1.09, 1.03, 1.07, 1.18, 0.98, 1.13, 1.2, 1.08, 1.09, 0.87, 0.97, 1.08, 1.06, 1.07, 1.09, 1.05, 1.03], \"xaxis\": \"x2\", \"yaxis\": \"y2\"}, {\"alignmentgroup\": \"True\", \"bingroup\": \"x\", \"hoverlabel\": {\"namelength\": 0}, \"hovertemplate\": \"type=organic<br>AveragePrice=%{x}<br>count=%{y}\", \"legendgroup\": \"organic\", \"marker\": {\"color\": \"#EF553B\", \"opacity\": 0.75}, \"name\": \"organic\", \"nbinsx\": 25, \"offsetgroup\": \"organic\", \"orientation\": \"v\", \"showlegend\": true, \"type\": \"histogram\", \"x\": [1.46, 1.42, 1.42, 1.53, 1.36, 1.48, 1.58, 1.51, 1.4, 1.49, 1.5, 1.49, 1.6, 1.63, 1.53, 1.59, 1.45, 1.37, 1.42, 1.5, 1.59, 1.58, 1.67, 1.68, 1.66, 1.64, 1.0, 1.0, 1.0, 1.0, 1.0, 1.0, 1.75, 1.72, 1.66, 1.78, 1.8, 1.77, 1.75, 1.72, 1.69, 1.71, 1.62, 1.47, 1.54, 1.6, 1.49, 1.5, 1.52, 1.43, 1.53, 1.52, 1.43, 1.35, 1.44, 1.41, 1.43, 1.44, 1.37, 1.45, 1.44, 1.28, 1.29, 1.27, 1.44, 1.44, 1.26, 1.38, 1.25, 1.28, 1.3, 1.45, 1.36, 1.41, 1.43, 1.45, 1.45, 1.5, 1.47, 1.51, 1.63, 1.65, 1.58, 1.55, 1.48, 1.51, 1.49, 1.54, 1.52, 1.67, 1.69, 1.71, 1.52, 1.5, 1.63, 1.93, 1.68, 1.7, 1.63, 1.64, 1.56, 1.42, 1.43, 1.34, 1.48, 1.43, 1.44, 1.37, 1.43, 1.36, 1.41, 1.31, 1.21, 1.16, 1.38, 1.5, 1.29, 1.42, 1.43, 1.49, 1.61, 1.68, 1.57, 1.55, 1.71, 1.69, 1.64, 1.56, 1.71, 1.77, 1.74, 1.71, 1.78, 1.76, 1.78, 1.83, 1.88, 1.96, 2.09, 2.06, 2.03, 2.0, 1.94, 1.95, 1.9, 1.85, 1.82, 1.84, 1.82, 1.81, 1.77, 1.72, 1.62, 1.54, 1.57, 1.64, 1.52, 1.51, 1.59, 1.63, 1.61, 1.53, 1.56, 1.52, 1.57, 1.52, 1.52, 1.54, 1.55], \"xaxis\": \"x\", \"yaxis\": \"y\"}, {\"alignmentgroup\": \"True\", \"hoverlabel\": {\"namelength\": 0}, \"hovertemplate\": \"type=organic<br>AveragePrice=%{x}\", \"legendgroup\": \"organic\", \"marker\": {\"color\": \"#EF553B\"}, \"name\": \"organic\", \"offsetgroup\": \"organic\", \"scalegroup\": \"x\", \"showlegend\": false, \"type\": \"violin\", \"x\": [1.46, 1.42, 1.42, 1.53, 1.36, 1.48, 1.58, 1.51, 1.4, 1.49, 1.5, 1.49, 1.6, 1.63, 1.53, 1.59, 1.45, 1.37, 1.42, 1.5, 1.59, 1.58, 1.67, 1.68, 1.66, 1.64, 1.0, 1.0, 1.0, 1.0, 1.0, 1.0, 1.75, 1.72, 1.66, 1.78, 1.8, 1.77, 1.75, 1.72, 1.69, 1.71, 1.62, 1.47, 1.54, 1.6, 1.49, 1.5, 1.52, 1.43, 1.53, 1.52, 1.43, 1.35, 1.44, 1.41, 1.43, 1.44, 1.37, 1.45, 1.44, 1.28, 1.29, 1.27, 1.44, 1.44, 1.26, 1.38, 1.25, 1.28, 1.3, 1.45, 1.36, 1.41, 1.43, 1.45, 1.45, 1.5, 1.47, 1.51, 1.63, 1.65, 1.58, 1.55, 1.48, 1.51, 1.49, 1.54, 1.52, 1.67, 1.69, 1.71, 1.52, 1.5, 1.63, 1.93, 1.68, 1.7, 1.63, 1.64, 1.56, 1.42, 1.43, 1.34, 1.48, 1.43, 1.44, 1.37, 1.43, 1.36, 1.41, 1.31, 1.21, 1.16, 1.38, 1.5, 1.29, 1.42, 1.43, 1.49, 1.61, 1.68, 1.57, 1.55, 1.71, 1.69, 1.64, 1.56, 1.71, 1.77, 1.74, 1.71, 1.78, 1.76, 1.78, 1.83, 1.88, 1.96, 2.09, 2.06, 2.03, 2.0, 1.94, 1.95, 1.9, 1.85, 1.82, 1.84, 1.82, 1.81, 1.77, 1.72, 1.62, 1.54, 1.57, 1.64, 1.52, 1.51, 1.59, 1.63, 1.61, 1.53, 1.56, 1.52, 1.57, 1.52, 1.52, 1.54, 1.55], \"xaxis\": \"x2\", \"yaxis\": \"y2\"}],\n",
       "                        {\"barmode\": \"overlay\", \"legend\": {\"title\": {\"text\": \"type\"}, \"tracegroupgap\": 0}, \"margin\": {\"t\": 60}, \"template\": {\"data\": {\"bar\": [{\"error_x\": {\"color\": \"#2a3f5f\"}, \"error_y\": {\"color\": \"#2a3f5f\"}, \"marker\": {\"line\": {\"color\": \"#E5ECF6\", \"width\": 0.5}}, \"type\": \"bar\"}], \"barpolar\": [{\"marker\": {\"line\": {\"color\": \"#E5ECF6\", \"width\": 0.5}}, \"type\": \"barpolar\"}], \"carpet\": [{\"aaxis\": {\"endlinecolor\": \"#2a3f5f\", \"gridcolor\": \"white\", \"linecolor\": \"white\", \"minorgridcolor\": \"white\", \"startlinecolor\": \"#2a3f5f\"}, \"baxis\": {\"endlinecolor\": \"#2a3f5f\", \"gridcolor\": \"white\", \"linecolor\": \"white\", \"minorgridcolor\": \"white\", \"startlinecolor\": \"#2a3f5f\"}, \"type\": \"carpet\"}], \"choropleth\": [{\"colorbar\": {\"outlinewidth\": 0, \"ticks\": \"\"}, \"type\": \"choropleth\"}], \"contour\": [{\"colorbar\": {\"outlinewidth\": 0, \"ticks\": \"\"}, \"colorscale\": [[0.0, \"#0d0887\"], [0.1111111111111111, \"#46039f\"], [0.2222222222222222, \"#7201a8\"], [0.3333333333333333, \"#9c179e\"], [0.4444444444444444, \"#bd3786\"], [0.5555555555555556, \"#d8576b\"], [0.6666666666666666, \"#ed7953\"], [0.7777777777777778, \"#fb9f3a\"], [0.8888888888888888, \"#fdca26\"], [1.0, \"#f0f921\"]], \"type\": \"contour\"}], \"contourcarpet\": [{\"colorbar\": {\"outlinewidth\": 0, \"ticks\": \"\"}, \"type\": \"contourcarpet\"}], \"heatmap\": [{\"colorbar\": {\"outlinewidth\": 0, \"ticks\": \"\"}, \"colorscale\": [[0.0, \"#0d0887\"], [0.1111111111111111, \"#46039f\"], [0.2222222222222222, \"#7201a8\"], [0.3333333333333333, \"#9c179e\"], [0.4444444444444444, \"#bd3786\"], [0.5555555555555556, \"#d8576b\"], [0.6666666666666666, \"#ed7953\"], [0.7777777777777778, \"#fb9f3a\"], [0.8888888888888888, \"#fdca26\"], [1.0, \"#f0f921\"]], \"type\": \"heatmap\"}], \"heatmapgl\": [{\"colorbar\": {\"outlinewidth\": 0, \"ticks\": \"\"}, \"colorscale\": [[0.0, \"#0d0887\"], [0.1111111111111111, \"#46039f\"], [0.2222222222222222, \"#7201a8\"], [0.3333333333333333, \"#9c179e\"], [0.4444444444444444, \"#bd3786\"], [0.5555555555555556, \"#d8576b\"], [0.6666666666666666, \"#ed7953\"], [0.7777777777777778, \"#fb9f3a\"], [0.8888888888888888, \"#fdca26\"], [1.0, \"#f0f921\"]], \"type\": \"heatmapgl\"}], \"histogram\": [{\"marker\": {\"colorbar\": {\"outlinewidth\": 0, \"ticks\": \"\"}}, \"type\": \"histogram\"}], \"histogram2d\": [{\"colorbar\": {\"outlinewidth\": 0, \"ticks\": \"\"}, \"colorscale\": [[0.0, \"#0d0887\"], [0.1111111111111111, \"#46039f\"], [0.2222222222222222, \"#7201a8\"], [0.3333333333333333, \"#9c179e\"], [0.4444444444444444, \"#bd3786\"], [0.5555555555555556, \"#d8576b\"], [0.6666666666666666, \"#ed7953\"], [0.7777777777777778, \"#fb9f3a\"], [0.8888888888888888, \"#fdca26\"], [1.0, \"#f0f921\"]], \"type\": \"histogram2d\"}], \"histogram2dcontour\": [{\"colorbar\": {\"outlinewidth\": 0, \"ticks\": \"\"}, \"colorscale\": [[0.0, \"#0d0887\"], [0.1111111111111111, \"#46039f\"], [0.2222222222222222, \"#7201a8\"], [0.3333333333333333, \"#9c179e\"], [0.4444444444444444, \"#bd3786\"], [0.5555555555555556, \"#d8576b\"], [0.6666666666666666, \"#ed7953\"], [0.7777777777777778, \"#fb9f3a\"], [0.8888888888888888, \"#fdca26\"], [1.0, \"#f0f921\"]], \"type\": \"histogram2dcontour\"}], \"mesh3d\": [{\"colorbar\": {\"outlinewidth\": 0, \"ticks\": \"\"}, \"type\": \"mesh3d\"}], \"parcoords\": [{\"line\": {\"colorbar\": {\"outlinewidth\": 0, \"ticks\": \"\"}}, \"type\": \"parcoords\"}], \"pie\": [{\"automargin\": true, \"type\": \"pie\"}], \"scatter\": [{\"marker\": {\"colorbar\": {\"outlinewidth\": 0, \"ticks\": \"\"}}, \"type\": \"scatter\"}], \"scatter3d\": [{\"line\": {\"colorbar\": {\"outlinewidth\": 0, \"ticks\": \"\"}}, \"marker\": {\"colorbar\": {\"outlinewidth\": 0, \"ticks\": \"\"}}, \"type\": \"scatter3d\"}], \"scattercarpet\": [{\"marker\": {\"colorbar\": {\"outlinewidth\": 0, \"ticks\": \"\"}}, \"type\": \"scattercarpet\"}], \"scattergeo\": [{\"marker\": {\"colorbar\": {\"outlinewidth\": 0, \"ticks\": \"\"}}, \"type\": \"scattergeo\"}], \"scattergl\": [{\"marker\": {\"colorbar\": {\"outlinewidth\": 0, \"ticks\": \"\"}}, \"type\": \"scattergl\"}], \"scattermapbox\": [{\"marker\": {\"colorbar\": {\"outlinewidth\": 0, \"ticks\": \"\"}}, \"type\": \"scattermapbox\"}], \"scatterpolar\": [{\"marker\": {\"colorbar\": {\"outlinewidth\": 0, \"ticks\": \"\"}}, \"type\": \"scatterpolar\"}], \"scatterpolargl\": [{\"marker\": {\"colorbar\": {\"outlinewidth\": 0, \"ticks\": \"\"}}, \"type\": \"scatterpolargl\"}], \"scatterternary\": [{\"marker\": {\"colorbar\": {\"outlinewidth\": 0, \"ticks\": \"\"}}, \"type\": \"scatterternary\"}], \"surface\": [{\"colorbar\": {\"outlinewidth\": 0, \"ticks\": \"\"}, \"colorscale\": [[0.0, \"#0d0887\"], [0.1111111111111111, \"#46039f\"], [0.2222222222222222, \"#7201a8\"], [0.3333333333333333, \"#9c179e\"], [0.4444444444444444, \"#bd3786\"], [0.5555555555555556, \"#d8576b\"], [0.6666666666666666, \"#ed7953\"], [0.7777777777777778, \"#fb9f3a\"], [0.8888888888888888, \"#fdca26\"], [1.0, \"#f0f921\"]], \"type\": \"surface\"}], \"table\": [{\"cells\": {\"fill\": {\"color\": \"#EBF0F8\"}, \"line\": {\"color\": \"white\"}}, \"header\": {\"fill\": {\"color\": \"#C8D4E3\"}, \"line\": {\"color\": \"white\"}}, \"type\": \"table\"}]}, \"layout\": {\"annotationdefaults\": {\"arrowcolor\": \"#2a3f5f\", \"arrowhead\": 0, \"arrowwidth\": 1}, \"coloraxis\": {\"colorbar\": {\"outlinewidth\": 0, \"ticks\": \"\"}}, \"colorscale\": {\"diverging\": [[0, \"#8e0152\"], [0.1, \"#c51b7d\"], [0.2, \"#de77ae\"], [0.3, \"#f1b6da\"], [0.4, \"#fde0ef\"], [0.5, \"#f7f7f7\"], [0.6, \"#e6f5d0\"], [0.7, \"#b8e186\"], [0.8, \"#7fbc41\"], [0.9, \"#4d9221\"], [1, \"#276419\"]], \"sequential\": [[0.0, \"#0d0887\"], [0.1111111111111111, \"#46039f\"], [0.2222222222222222, \"#7201a8\"], [0.3333333333333333, \"#9c179e\"], [0.4444444444444444, \"#bd3786\"], [0.5555555555555556, \"#d8576b\"], [0.6666666666666666, \"#ed7953\"], [0.7777777777777778, \"#fb9f3a\"], [0.8888888888888888, \"#fdca26\"], [1.0, \"#f0f921\"]], \"sequentialminus\": [[0.0, \"#0d0887\"], [0.1111111111111111, \"#46039f\"], [0.2222222222222222, \"#7201a8\"], [0.3333333333333333, \"#9c179e\"], [0.4444444444444444, \"#bd3786\"], [0.5555555555555556, \"#d8576b\"], [0.6666666666666666, \"#ed7953\"], [0.7777777777777778, \"#fb9f3a\"], [0.8888888888888888, \"#fdca26\"], [1.0, \"#f0f921\"]]}, \"colorway\": [\"#636efa\", \"#EF553B\", \"#00cc96\", \"#ab63fa\", \"#FFA15A\", \"#19d3f3\", \"#FF6692\", \"#B6E880\", \"#FF97FF\", \"#FECB52\"], \"font\": {\"color\": \"#2a3f5f\"}, \"geo\": {\"bgcolor\": \"white\", \"lakecolor\": \"white\", \"landcolor\": \"#E5ECF6\", \"showlakes\": true, \"showland\": true, \"subunitcolor\": \"white\"}, \"hoverlabel\": {\"align\": \"left\"}, \"hovermode\": \"closest\", \"mapbox\": {\"style\": \"light\"}, \"paper_bgcolor\": \"white\", \"plot_bgcolor\": \"#E5ECF6\", \"polar\": {\"angularaxis\": {\"gridcolor\": \"white\", \"linecolor\": \"white\", \"ticks\": \"\"}, \"bgcolor\": \"#E5ECF6\", \"radialaxis\": {\"gridcolor\": \"white\", \"linecolor\": \"white\", \"ticks\": \"\"}}, \"scene\": {\"xaxis\": {\"backgroundcolor\": \"#E5ECF6\", \"gridcolor\": \"white\", \"gridwidth\": 2, \"linecolor\": \"white\", \"showbackground\": true, \"ticks\": \"\", \"zerolinecolor\": \"white\"}, \"yaxis\": {\"backgroundcolor\": \"#E5ECF6\", \"gridcolor\": \"white\", \"gridwidth\": 2, \"linecolor\": \"white\", \"showbackground\": true, \"ticks\": \"\", \"zerolinecolor\": \"white\"}, \"zaxis\": {\"backgroundcolor\": \"#E5ECF6\", \"gridcolor\": \"white\", \"gridwidth\": 2, \"linecolor\": \"white\", \"showbackground\": true, \"ticks\": \"\", \"zerolinecolor\": \"white\"}}, \"shapedefaults\": {\"line\": {\"color\": \"#2a3f5f\"}}, \"ternary\": {\"aaxis\": {\"gridcolor\": \"white\", \"linecolor\": \"white\", \"ticks\": \"\"}, \"baxis\": {\"gridcolor\": \"white\", \"linecolor\": \"white\", \"ticks\": \"\"}, \"bgcolor\": \"#E5ECF6\", \"caxis\": {\"gridcolor\": \"white\", \"linecolor\": \"white\", \"ticks\": \"\"}}, \"title\": {\"x\": 0.05}, \"xaxis\": {\"automargin\": true, \"gridcolor\": \"white\", \"linecolor\": \"white\", \"ticks\": \"\", \"title\": {\"standoff\": 15}, \"zerolinecolor\": \"white\", \"zerolinewidth\": 2}, \"yaxis\": {\"automargin\": true, \"gridcolor\": \"white\", \"linecolor\": \"white\", \"ticks\": \"\", \"title\": {\"standoff\": 15}, \"zerolinecolor\": \"white\", \"zerolinewidth\": 2}}}, \"xaxis\": {\"anchor\": \"y\", \"domain\": [0.0, 1.0], \"title\": {\"text\": \"AveragePrice\"}}, \"xaxis2\": {\"anchor\": \"y2\", \"domain\": [0.0, 1.0], \"matches\": \"x\", \"showgrid\": true, \"showticklabels\": false}, \"yaxis\": {\"anchor\": \"x\", \"domain\": [0.0, 0.7326], \"title\": {\"text\": \"count\"}}, \"yaxis2\": {\"anchor\": \"x2\", \"domain\": [0.7426, 1.0], \"matches\": \"y2\", \"showgrid\": false, \"showline\": false, \"showticklabels\": false, \"ticks\": \"\"}},\n",
       "                        {\"responsive\": true}\n",
       "                    ).then(function(){\n",
       "                            \n",
       "var gd = document.getElementById('2f6f41bb-3e2b-4cd4-9d91-a4eb915656e0');\n",
       "var x = new MutationObserver(function (mutations, observer) {{\n",
       "        var display = window.getComputedStyle(gd).display;\n",
       "        if (!display || display === 'none') {{\n",
       "            console.log([gd, 'removed!']);\n",
       "            Plotly.purge(gd);\n",
       "            observer.disconnect();\n",
       "        }}\n",
       "}});\n",
       "\n",
       "// Listen for the removal of the full notebook cells\n",
       "var notebookContainer = gd.closest('#notebook-container');\n",
       "if (notebookContainer) {{\n",
       "    x.observe(notebookContainer, {childList: true});\n",
       "}}\n",
       "\n",
       "// Listen for the clearing of the current output cell\n",
       "var outputEl = gd.closest('.output');\n",
       "if (outputEl) {{\n",
       "    x.observe(outputEl, {childList: true});\n",
       "}}\n",
       "\n",
       "                        })\n",
       "                };\n",
       "                });\n",
       "            </script>\n",
       "        </div>"
      ]
     },
     "metadata": {},
     "output_type": "display_data"
    }
   ],
   "source": [
    "px.histogram(df_avo_total, \n",
    "             x='AveragePrice', \n",
    "             color='type', \n",
    "             nbins=25,\n",
    "             barmode='overlay',\n",
    "             opacity=.75,\n",
    "             marginal='violin')"
   ]
  },
  {
   "cell_type": "code",
   "execution_count": 24,
   "metadata": {
    "ExecuteTime": {
     "end_time": "2020-03-22T14:06:39.152135Z",
     "start_time": "2020-03-22T14:06:38.855908Z"
    }
   },
   "outputs": [
    {
     "data": {
      "text/html": [
       "<div>\n",
       "        \n",
       "        \n",
       "            <div id=\"4f3726bb-fa3d-42b3-a51b-1cab3fe559cd\" class=\"plotly-graph-div\" style=\"height:525px; width:100%;\"></div>\n",
       "            <script type=\"text/javascript\">\n",
       "                require([\"plotly\"], function(Plotly) {\n",
       "                    window.PLOTLYENV=window.PLOTLYENV || {};\n",
       "                    \n",
       "                if (document.getElementById(\"4f3726bb-fa3d-42b3-a51b-1cab3fe559cd\")) {\n",
       "                    Plotly.newPlot(\n",
       "                        '4f3726bb-fa3d-42b3-a51b-1cab3fe559cd',\n",
       "                        [{\"alignmentgroup\": \"True\", \"bingroup\": \"x\", \"cumulative\": {\"enabled\": true}, \"histnorm\": \"probability\", \"hoverlabel\": {\"namelength\": 0}, \"hovertemplate\": \"type=conventional<br>AveragePrice=%{x}<br>count=%{y}\", \"legendgroup\": \"conventional\", \"marker\": {\"color\": \"#636efa\", \"opacity\": 0.75}, \"name\": \"conventional\", \"nbinsx\": 50, \"offsetgroup\": \"conventional\", \"orientation\": \"v\", \"showlegend\": true, \"type\": \"histogram\", \"x\": [0.95, 1.01, 1.03, 1.04, 0.89, 0.95, 1.03, 1.02, 0.97, 1.02, 1.04, 1.01, 1.04, 1.06, 1.02, 1.03, 1.07, 0.96, 1.02, 1.06, 1.04, 1.03, 1.0, 0.98, 1.02, 1.06, 1.04, 1.07, 1.07, 1.07, 1.09, 1.05, 1.05, 1.08, 1.07, 1.02, 1.03, 1.02, 1.03, 1.02, 1.0, 0.99, 1.04, 0.97, 0.97, 0.92, 0.96, 0.99, 0.89, 0.93, 0.98, 0.95, 0.86, 0.93, 0.94, 0.95, 0.93, 0.76, 0.88, 0.94, 0.91, 0.95, 0.93, 0.93, 0.94, 0.94, 0.9, 0.9, 0.87, 0.84, 0.82, 0.89, 0.93, 0.94, 0.97, 1.04, 1.02, 1.04, 1.06, 1.1, 1.15, 1.2, 1.23, 1.15, 1.12, 1.1, 1.09, 1.04, 1.08, 1.15, 1.22, 1.23, 1.27, 1.3, 1.34, 1.43, 1.44, 1.36, 1.27, 1.21, 1.0, 0.98, 0.96, 1.0, 0.89, 0.99, 0.98, 0.94, 0.96, 0.77, 0.87, 0.99, 0.99, 1.13, 1.22, 1.25, 1.24, 1.21, 1.21, 1.23, 1.18, 1.18, 1.09, 1.19, 1.26, 1.28, 1.24, 1.21, 1.18, 1.17, 1.21, 1.17, 1.33, 1.31, 1.32, 1.33, 1.33, 1.41, 1.47, 1.57, 1.56, 1.57, 1.62, 1.64, 1.65, 1.58, 1.44, 1.29, 1.19, 1.15, 1.17, 1.24, 1.09, 1.03, 1.07, 1.18, 0.98, 1.13, 1.2, 1.08, 1.09, 0.87, 0.97, 1.08, 1.06, 1.07, 1.09, 1.05, 1.03], \"xaxis\": \"x\", \"yaxis\": \"y\"}, {\"alignmentgroup\": \"True\", \"bingroup\": \"x\", \"cumulative\": {\"enabled\": true}, \"histnorm\": \"probability\", \"hoverlabel\": {\"namelength\": 0}, \"hovertemplate\": \"type=organic<br>AveragePrice=%{x}<br>count=%{y}\", \"legendgroup\": \"organic\", \"marker\": {\"color\": \"#EF553B\", \"opacity\": 0.75}, \"name\": \"organic\", \"nbinsx\": 50, \"offsetgroup\": \"organic\", \"orientation\": \"v\", \"showlegend\": true, \"type\": \"histogram\", \"x\": [1.46, 1.42, 1.42, 1.53, 1.36, 1.48, 1.58, 1.51, 1.4, 1.49, 1.5, 1.49, 1.6, 1.63, 1.53, 1.59, 1.45, 1.37, 1.42, 1.5, 1.59, 1.58, 1.67, 1.68, 1.66, 1.64, 1.0, 1.0, 1.0, 1.0, 1.0, 1.0, 1.75, 1.72, 1.66, 1.78, 1.8, 1.77, 1.75, 1.72, 1.69, 1.71, 1.62, 1.47, 1.54, 1.6, 1.49, 1.5, 1.52, 1.43, 1.53, 1.52, 1.43, 1.35, 1.44, 1.41, 1.43, 1.44, 1.37, 1.45, 1.44, 1.28, 1.29, 1.27, 1.44, 1.44, 1.26, 1.38, 1.25, 1.28, 1.3, 1.45, 1.36, 1.41, 1.43, 1.45, 1.45, 1.5, 1.47, 1.51, 1.63, 1.65, 1.58, 1.55, 1.48, 1.51, 1.49, 1.54, 1.52, 1.67, 1.69, 1.71, 1.52, 1.5, 1.63, 1.93, 1.68, 1.7, 1.63, 1.64, 1.56, 1.42, 1.43, 1.34, 1.48, 1.43, 1.44, 1.37, 1.43, 1.36, 1.41, 1.31, 1.21, 1.16, 1.38, 1.5, 1.29, 1.42, 1.43, 1.49, 1.61, 1.68, 1.57, 1.55, 1.71, 1.69, 1.64, 1.56, 1.71, 1.77, 1.74, 1.71, 1.78, 1.76, 1.78, 1.83, 1.88, 1.96, 2.09, 2.06, 2.03, 2.0, 1.94, 1.95, 1.9, 1.85, 1.82, 1.84, 1.82, 1.81, 1.77, 1.72, 1.62, 1.54, 1.57, 1.64, 1.52, 1.51, 1.59, 1.63, 1.61, 1.53, 1.56, 1.52, 1.57, 1.52, 1.52, 1.54, 1.55], \"xaxis\": \"x\", \"yaxis\": \"y\"}],\n",
       "                        {\"barmode\": \"overlay\", \"legend\": {\"title\": {\"text\": \"type\"}, \"tracegroupgap\": 0}, \"margin\": {\"t\": 60}, \"template\": {\"data\": {\"bar\": [{\"error_x\": {\"color\": \"#2a3f5f\"}, \"error_y\": {\"color\": \"#2a3f5f\"}, \"marker\": {\"line\": {\"color\": \"#E5ECF6\", \"width\": 0.5}}, \"type\": \"bar\"}], \"barpolar\": [{\"marker\": {\"line\": {\"color\": \"#E5ECF6\", \"width\": 0.5}}, \"type\": \"barpolar\"}], \"carpet\": [{\"aaxis\": {\"endlinecolor\": \"#2a3f5f\", \"gridcolor\": \"white\", \"linecolor\": \"white\", \"minorgridcolor\": \"white\", \"startlinecolor\": \"#2a3f5f\"}, \"baxis\": {\"endlinecolor\": \"#2a3f5f\", \"gridcolor\": \"white\", \"linecolor\": \"white\", \"minorgridcolor\": \"white\", \"startlinecolor\": \"#2a3f5f\"}, \"type\": \"carpet\"}], \"choropleth\": [{\"colorbar\": {\"outlinewidth\": 0, \"ticks\": \"\"}, \"type\": \"choropleth\"}], \"contour\": [{\"colorbar\": {\"outlinewidth\": 0, \"ticks\": \"\"}, \"colorscale\": [[0.0, \"#0d0887\"], [0.1111111111111111, \"#46039f\"], [0.2222222222222222, \"#7201a8\"], [0.3333333333333333, \"#9c179e\"], [0.4444444444444444, \"#bd3786\"], [0.5555555555555556, \"#d8576b\"], [0.6666666666666666, \"#ed7953\"], [0.7777777777777778, \"#fb9f3a\"], [0.8888888888888888, \"#fdca26\"], [1.0, \"#f0f921\"]], \"type\": \"contour\"}], \"contourcarpet\": [{\"colorbar\": {\"outlinewidth\": 0, \"ticks\": \"\"}, \"type\": \"contourcarpet\"}], \"heatmap\": [{\"colorbar\": {\"outlinewidth\": 0, \"ticks\": \"\"}, \"colorscale\": [[0.0, \"#0d0887\"], [0.1111111111111111, \"#46039f\"], [0.2222222222222222, \"#7201a8\"], [0.3333333333333333, \"#9c179e\"], [0.4444444444444444, \"#bd3786\"], [0.5555555555555556, \"#d8576b\"], [0.6666666666666666, \"#ed7953\"], [0.7777777777777778, \"#fb9f3a\"], [0.8888888888888888, \"#fdca26\"], [1.0, \"#f0f921\"]], \"type\": \"heatmap\"}], \"heatmapgl\": [{\"colorbar\": {\"outlinewidth\": 0, \"ticks\": \"\"}, \"colorscale\": [[0.0, \"#0d0887\"], [0.1111111111111111, \"#46039f\"], [0.2222222222222222, \"#7201a8\"], [0.3333333333333333, \"#9c179e\"], [0.4444444444444444, \"#bd3786\"], [0.5555555555555556, \"#d8576b\"], [0.6666666666666666, \"#ed7953\"], [0.7777777777777778, \"#fb9f3a\"], [0.8888888888888888, \"#fdca26\"], [1.0, \"#f0f921\"]], \"type\": \"heatmapgl\"}], \"histogram\": [{\"marker\": {\"colorbar\": {\"outlinewidth\": 0, \"ticks\": \"\"}}, \"type\": \"histogram\"}], \"histogram2d\": [{\"colorbar\": {\"outlinewidth\": 0, \"ticks\": \"\"}, \"colorscale\": [[0.0, \"#0d0887\"], [0.1111111111111111, \"#46039f\"], [0.2222222222222222, \"#7201a8\"], [0.3333333333333333, \"#9c179e\"], [0.4444444444444444, \"#bd3786\"], [0.5555555555555556, \"#d8576b\"], [0.6666666666666666, \"#ed7953\"], [0.7777777777777778, \"#fb9f3a\"], [0.8888888888888888, \"#fdca26\"], [1.0, \"#f0f921\"]], \"type\": \"histogram2d\"}], \"histogram2dcontour\": [{\"colorbar\": {\"outlinewidth\": 0, \"ticks\": \"\"}, \"colorscale\": [[0.0, \"#0d0887\"], [0.1111111111111111, \"#46039f\"], [0.2222222222222222, \"#7201a8\"], [0.3333333333333333, \"#9c179e\"], [0.4444444444444444, \"#bd3786\"], [0.5555555555555556, \"#d8576b\"], [0.6666666666666666, \"#ed7953\"], [0.7777777777777778, \"#fb9f3a\"], [0.8888888888888888, \"#fdca26\"], [1.0, \"#f0f921\"]], \"type\": \"histogram2dcontour\"}], \"mesh3d\": [{\"colorbar\": {\"outlinewidth\": 0, \"ticks\": \"\"}, \"type\": \"mesh3d\"}], \"parcoords\": [{\"line\": {\"colorbar\": {\"outlinewidth\": 0, \"ticks\": \"\"}}, \"type\": \"parcoords\"}], \"pie\": [{\"automargin\": true, \"type\": \"pie\"}], \"scatter\": [{\"marker\": {\"colorbar\": {\"outlinewidth\": 0, \"ticks\": \"\"}}, \"type\": \"scatter\"}], \"scatter3d\": [{\"line\": {\"colorbar\": {\"outlinewidth\": 0, \"ticks\": \"\"}}, \"marker\": {\"colorbar\": {\"outlinewidth\": 0, \"ticks\": \"\"}}, \"type\": \"scatter3d\"}], \"scattercarpet\": [{\"marker\": {\"colorbar\": {\"outlinewidth\": 0, \"ticks\": \"\"}}, \"type\": \"scattercarpet\"}], \"scattergeo\": [{\"marker\": {\"colorbar\": {\"outlinewidth\": 0, \"ticks\": \"\"}}, \"type\": \"scattergeo\"}], \"scattergl\": [{\"marker\": {\"colorbar\": {\"outlinewidth\": 0, \"ticks\": \"\"}}, \"type\": \"scattergl\"}], \"scattermapbox\": [{\"marker\": {\"colorbar\": {\"outlinewidth\": 0, \"ticks\": \"\"}}, \"type\": \"scattermapbox\"}], \"scatterpolar\": [{\"marker\": {\"colorbar\": {\"outlinewidth\": 0, \"ticks\": \"\"}}, \"type\": \"scatterpolar\"}], \"scatterpolargl\": [{\"marker\": {\"colorbar\": {\"outlinewidth\": 0, \"ticks\": \"\"}}, \"type\": \"scatterpolargl\"}], \"scatterternary\": [{\"marker\": {\"colorbar\": {\"outlinewidth\": 0, \"ticks\": \"\"}}, \"type\": \"scatterternary\"}], \"surface\": [{\"colorbar\": {\"outlinewidth\": 0, \"ticks\": \"\"}, \"colorscale\": [[0.0, \"#0d0887\"], [0.1111111111111111, \"#46039f\"], [0.2222222222222222, \"#7201a8\"], [0.3333333333333333, \"#9c179e\"], [0.4444444444444444, \"#bd3786\"], [0.5555555555555556, \"#d8576b\"], [0.6666666666666666, \"#ed7953\"], [0.7777777777777778, \"#fb9f3a\"], [0.8888888888888888, \"#fdca26\"], [1.0, \"#f0f921\"]], \"type\": \"surface\"}], \"table\": [{\"cells\": {\"fill\": {\"color\": \"#EBF0F8\"}, \"line\": {\"color\": \"white\"}}, \"header\": {\"fill\": {\"color\": \"#C8D4E3\"}, \"line\": {\"color\": \"white\"}}, \"type\": \"table\"}]}, \"layout\": {\"annotationdefaults\": {\"arrowcolor\": \"#2a3f5f\", \"arrowhead\": 0, \"arrowwidth\": 1}, \"coloraxis\": {\"colorbar\": {\"outlinewidth\": 0, \"ticks\": \"\"}}, \"colorscale\": {\"diverging\": [[0, \"#8e0152\"], [0.1, \"#c51b7d\"], [0.2, \"#de77ae\"], [0.3, \"#f1b6da\"], [0.4, \"#fde0ef\"], [0.5, \"#f7f7f7\"], [0.6, \"#e6f5d0\"], [0.7, \"#b8e186\"], [0.8, \"#7fbc41\"], [0.9, \"#4d9221\"], [1, \"#276419\"]], \"sequential\": [[0.0, \"#0d0887\"], [0.1111111111111111, \"#46039f\"], [0.2222222222222222, \"#7201a8\"], [0.3333333333333333, \"#9c179e\"], [0.4444444444444444, \"#bd3786\"], [0.5555555555555556, \"#d8576b\"], [0.6666666666666666, \"#ed7953\"], [0.7777777777777778, \"#fb9f3a\"], [0.8888888888888888, \"#fdca26\"], [1.0, \"#f0f921\"]], \"sequentialminus\": [[0.0, \"#0d0887\"], [0.1111111111111111, \"#46039f\"], [0.2222222222222222, \"#7201a8\"], [0.3333333333333333, \"#9c179e\"], [0.4444444444444444, \"#bd3786\"], [0.5555555555555556, \"#d8576b\"], [0.6666666666666666, \"#ed7953\"], [0.7777777777777778, \"#fb9f3a\"], [0.8888888888888888, \"#fdca26\"], [1.0, \"#f0f921\"]]}, \"colorway\": [\"#636efa\", \"#EF553B\", \"#00cc96\", \"#ab63fa\", \"#FFA15A\", \"#19d3f3\", \"#FF6692\", \"#B6E880\", \"#FF97FF\", \"#FECB52\"], \"font\": {\"color\": \"#2a3f5f\"}, \"geo\": {\"bgcolor\": \"white\", \"lakecolor\": \"white\", \"landcolor\": \"#E5ECF6\", \"showlakes\": true, \"showland\": true, \"subunitcolor\": \"white\"}, \"hoverlabel\": {\"align\": \"left\"}, \"hovermode\": \"closest\", \"mapbox\": {\"style\": \"light\"}, \"paper_bgcolor\": \"white\", \"plot_bgcolor\": \"#E5ECF6\", \"polar\": {\"angularaxis\": {\"gridcolor\": \"white\", \"linecolor\": \"white\", \"ticks\": \"\"}, \"bgcolor\": \"#E5ECF6\", \"radialaxis\": {\"gridcolor\": \"white\", \"linecolor\": \"white\", \"ticks\": \"\"}}, \"scene\": {\"xaxis\": {\"backgroundcolor\": \"#E5ECF6\", \"gridcolor\": \"white\", \"gridwidth\": 2, \"linecolor\": \"white\", \"showbackground\": true, \"ticks\": \"\", \"zerolinecolor\": \"white\"}, \"yaxis\": {\"backgroundcolor\": \"#E5ECF6\", \"gridcolor\": \"white\", \"gridwidth\": 2, \"linecolor\": \"white\", \"showbackground\": true, \"ticks\": \"\", \"zerolinecolor\": \"white\"}, \"zaxis\": {\"backgroundcolor\": \"#E5ECF6\", \"gridcolor\": \"white\", \"gridwidth\": 2, \"linecolor\": \"white\", \"showbackground\": true, \"ticks\": \"\", \"zerolinecolor\": \"white\"}}, \"shapedefaults\": {\"line\": {\"color\": \"#2a3f5f\"}}, \"ternary\": {\"aaxis\": {\"gridcolor\": \"white\", \"linecolor\": \"white\", \"ticks\": \"\"}, \"baxis\": {\"gridcolor\": \"white\", \"linecolor\": \"white\", \"ticks\": \"\"}, \"bgcolor\": \"#E5ECF6\", \"caxis\": {\"gridcolor\": \"white\", \"linecolor\": \"white\", \"ticks\": \"\"}}, \"title\": {\"x\": 0.05}, \"xaxis\": {\"automargin\": true, \"gridcolor\": \"white\", \"linecolor\": \"white\", \"ticks\": \"\", \"title\": {\"standoff\": 15}, \"zerolinecolor\": \"white\", \"zerolinewidth\": 2}, \"yaxis\": {\"automargin\": true, \"gridcolor\": \"white\", \"linecolor\": \"white\", \"ticks\": \"\", \"title\": {\"standoff\": 15}, \"zerolinecolor\": \"white\", \"zerolinewidth\": 2}}}, \"xaxis\": {\"anchor\": \"y\", \"domain\": [0.0, 1.0], \"title\": {\"text\": \"AveragePrice\"}}, \"yaxis\": {\"anchor\": \"x\", \"domain\": [0.0, 1.0], \"title\": {\"text\": \"count\"}}},\n",
       "                        {\"responsive\": true}\n",
       "                    ).then(function(){\n",
       "                            \n",
       "var gd = document.getElementById('4f3726bb-fa3d-42b3-a51b-1cab3fe559cd');\n",
       "var x = new MutationObserver(function (mutations, observer) {{\n",
       "        var display = window.getComputedStyle(gd).display;\n",
       "        if (!display || display === 'none') {{\n",
       "            console.log([gd, 'removed!']);\n",
       "            Plotly.purge(gd);\n",
       "            observer.disconnect();\n",
       "        }}\n",
       "}});\n",
       "\n",
       "// Listen for the removal of the full notebook cells\n",
       "var notebookContainer = gd.closest('#notebook-container');\n",
       "if (notebookContainer) {{\n",
       "    x.observe(notebookContainer, {childList: true});\n",
       "}}\n",
       "\n",
       "// Listen for the clearing of the current output cell\n",
       "var outputEl = gd.closest('.output');\n",
       "if (outputEl) {{\n",
       "    x.observe(outputEl, {childList: true});\n",
       "}}\n",
       "\n",
       "                        })\n",
       "                };\n",
       "                });\n",
       "            </script>\n",
       "        </div>"
      ]
     },
     "metadata": {},
     "output_type": "display_data"
    }
   ],
   "source": [
    "px.histogram(df_avo_total, \n",
    "             x='AveragePrice', \n",
    "             color='type', \n",
    "             nbins=50,\n",
    "             cumulative=True,\n",
    "             histnorm='probability',\n",
    "             barmode='overlay',\n",
    "             opacity=.75)"
   ]
  },
  {
   "cell_type": "markdown",
   "metadata": {},
   "source": [
    "From looking at the prices it appears like the organic and conventional avocados have a pretty strong correlation, but we'll compute that to be sure.  The result is a correlation of .65 which is quite strong."
   ]
  },
  {
   "cell_type": "code",
   "execution_count": 25,
   "metadata": {
    "ExecuteTime": {
     "end_time": "2020-03-22T14:06:42.162998Z",
     "start_time": "2020-03-22T14:06:42.150047Z"
    }
   },
   "outputs": [
    {
     "data": {
      "text/html": [
       "<div>\n",
       "<style scoped>\n",
       "    .dataframe tbody tr th:only-of-type {\n",
       "        vertical-align: middle;\n",
       "    }\n",
       "\n",
       "    .dataframe tbody tr th {\n",
       "        vertical-align: top;\n",
       "    }\n",
       "\n",
       "    .dataframe thead th {\n",
       "        text-align: right;\n",
       "    }\n",
       "</style>\n",
       "<table border=\"1\" class=\"dataframe\">\n",
       "  <thead>\n",
       "    <tr style=\"text-align: right;\">\n",
       "      <th>type</th>\n",
       "      <th>conventional</th>\n",
       "      <th>organic</th>\n",
       "    </tr>\n",
       "    <tr>\n",
       "      <th>type</th>\n",
       "      <th></th>\n",
       "      <th></th>\n",
       "    </tr>\n",
       "  </thead>\n",
       "  <tbody>\n",
       "    <tr>\n",
       "      <th>conventional</th>\n",
       "      <td>1.00</td>\n",
       "      <td>0.65</td>\n",
       "    </tr>\n",
       "    <tr>\n",
       "      <th>organic</th>\n",
       "      <td>0.65</td>\n",
       "      <td>1.00</td>\n",
       "    </tr>\n",
       "  </tbody>\n",
       "</table>\n",
       "</div>"
      ],
      "text/plain": [
       "type          conventional  organic\n",
       "type                               \n",
       "conventional          1.00     0.65\n",
       "organic               0.65     1.00"
      ]
     },
     "execution_count": 25,
     "metadata": {},
     "output_type": "execute_result"
    }
   ],
   "source": [
    "(df_avo_total[['Date', 'AveragePrice', 'type']].pivot(index='Date', \n",
    "                                                     columns='type', \n",
    "                                                     values='AveragePrice')\n",
    "                                              .corr())"
   ]
  },
  {
   "cell_type": "markdown",
   "metadata": {},
   "source": [
    "When looking at volume it is immediately apparent that there is seasonality in the conventional data as every January there is a spike in volume (an increase in daily volume of over 100% or 30 million plus avocados a day between December and end of January).  Additionally it can also be seen that from July on there is a general downtrend to the end of the year.  While there does appear to be a small uptrend in the conventional volumes (highs continue to get higher and like dates over years appear to be going up) this is accompanied with significant volatility as well as lows that continue to get to the same level.  Further statistics will be required to see the actual magnitude of change. Due to the volume of organic avocoados being signficantly less than the conventional it is hard to get an idea of the trend for them - this will require plotting on its own."
   ]
  },
  {
   "cell_type": "code",
   "execution_count": 26,
   "metadata": {
    "ExecuteTime": {
     "end_time": "2020-03-22T14:06:44.801735Z",
     "start_time": "2020-03-22T14:06:44.583125Z"
    }
   },
   "outputs": [
    {
     "data": {
      "text/html": [
       "<div>\n",
       "        \n",
       "        \n",
       "            <div id=\"ba61a49e-9943-49ad-b76f-42dfa8de1194\" class=\"plotly-graph-div\" style=\"height:525px; width:100%;\"></div>\n",
       "            <script type=\"text/javascript\">\n",
       "                require([\"plotly\"], function(Plotly) {\n",
       "                    window.PLOTLYENV=window.PLOTLYENV || {};\n",
       "                    \n",
       "                if (document.getElementById(\"ba61a49e-9943-49ad-b76f-42dfa8de1194\")) {\n",
       "                    Plotly.newPlot(\n",
       "                        'ba61a49e-9943-49ad-b76f-42dfa8de1194',\n",
       "                        [{\"hoverlabel\": {\"namelength\": 0}, \"hovertemplate\": \"type=conventional<br>Date=%{x}<br>TotalVolume=%{y}\", \"legendgroup\": \"conventional\", \"line\": {\"color\": \"#636efa\", \"dash\": \"solid\"}, \"mode\": \"lines\", \"name\": \"conventional\", \"showlegend\": true, \"type\": \"scatter\", \"x\": [\"2015-01-04T00:00:00\", \"2015-01-11T00:00:00\", \"2015-01-18T00:00:00\", \"2015-01-25T00:00:00\", \"2015-02-01T00:00:00\", \"2015-02-08T00:00:00\", \"2015-02-15T00:00:00\", \"2015-02-22T00:00:00\", \"2015-03-01T00:00:00\", \"2015-03-08T00:00:00\", \"2015-03-15T00:00:00\", \"2015-03-22T00:00:00\", \"2015-03-29T00:00:00\", \"2015-04-05T00:00:00\", \"2015-04-12T00:00:00\", \"2015-04-19T00:00:00\", \"2015-04-26T00:00:00\", \"2015-05-03T00:00:00\", \"2015-05-10T00:00:00\", \"2015-05-17T00:00:00\", \"2015-05-24T00:00:00\", \"2015-05-31T00:00:00\", \"2015-06-07T00:00:00\", \"2015-06-14T00:00:00\", \"2015-06-21T00:00:00\", \"2015-06-28T00:00:00\", \"2015-07-05T00:00:00\", \"2015-07-12T00:00:00\", \"2015-07-19T00:00:00\", \"2015-07-26T00:00:00\", \"2015-08-02T00:00:00\", \"2015-08-09T00:00:00\", \"2015-08-16T00:00:00\", \"2015-08-23T00:00:00\", \"2015-08-30T00:00:00\", \"2015-09-06T00:00:00\", \"2015-09-13T00:00:00\", \"2015-09-20T00:00:00\", \"2015-09-27T00:00:00\", \"2015-10-04T00:00:00\", \"2015-10-11T00:00:00\", \"2015-10-18T00:00:00\", \"2015-10-25T00:00:00\", \"2015-11-01T00:00:00\", \"2015-11-08T00:00:00\", \"2015-11-15T00:00:00\", \"2015-11-22T00:00:00\", \"2015-11-29T00:00:00\", \"2015-12-06T00:00:00\", \"2015-12-13T00:00:00\", \"2015-12-20T00:00:00\", \"2015-12-27T00:00:00\", \"2016-01-03T00:00:00\", \"2016-01-10T00:00:00\", \"2016-01-17T00:00:00\", \"2016-01-24T00:00:00\", \"2016-01-31T00:00:00\", \"2016-02-07T00:00:00\", \"2016-02-14T00:00:00\", \"2016-02-21T00:00:00\", \"2016-02-28T00:00:00\", \"2016-03-06T00:00:00\", \"2016-03-13T00:00:00\", \"2016-03-20T00:00:00\", \"2016-03-27T00:00:00\", \"2016-04-03T00:00:00\", \"2016-04-10T00:00:00\", \"2016-04-17T00:00:00\", \"2016-04-24T00:00:00\", \"2016-05-01T00:00:00\", \"2016-05-08T00:00:00\", \"2016-05-15T00:00:00\", \"2016-05-22T00:00:00\", \"2016-05-29T00:00:00\", \"2016-06-05T00:00:00\", \"2016-06-12T00:00:00\", \"2016-06-19T00:00:00\", \"2016-06-26T00:00:00\", \"2016-07-03T00:00:00\", \"2016-07-10T00:00:00\", \"2016-07-17T00:00:00\", \"2016-07-24T00:00:00\", \"2016-07-31T00:00:00\", \"2016-08-07T00:00:00\", \"2016-08-14T00:00:00\", \"2016-08-21T00:00:00\", \"2016-08-28T00:00:00\", \"2016-09-04T00:00:00\", \"2016-09-11T00:00:00\", \"2016-09-18T00:00:00\", \"2016-09-25T00:00:00\", \"2016-10-02T00:00:00\", \"2016-10-09T00:00:00\", \"2016-10-16T00:00:00\", \"2016-10-23T00:00:00\", \"2016-10-30T00:00:00\", \"2016-11-06T00:00:00\", \"2016-11-13T00:00:00\", \"2016-11-20T00:00:00\", \"2016-11-27T00:00:00\", \"2016-12-04T00:00:00\", \"2016-12-11T00:00:00\", \"2016-12-18T00:00:00\", \"2016-12-25T00:00:00\", \"2017-01-01T00:00:00\", \"2017-01-08T00:00:00\", \"2017-01-15T00:00:00\", \"2017-01-22T00:00:00\", \"2017-01-29T00:00:00\", \"2017-02-05T00:00:00\", \"2017-02-12T00:00:00\", \"2017-02-19T00:00:00\", \"2017-02-26T00:00:00\", \"2017-03-05T00:00:00\", \"2017-03-12T00:00:00\", \"2017-03-19T00:00:00\", \"2017-03-26T00:00:00\", \"2017-04-02T00:00:00\", \"2017-04-09T00:00:00\", \"2017-04-16T00:00:00\", \"2017-04-23T00:00:00\", \"2017-04-30T00:00:00\", \"2017-05-07T00:00:00\", \"2017-05-14T00:00:00\", \"2017-05-21T00:00:00\", \"2017-05-28T00:00:00\", \"2017-06-04T00:00:00\", \"2017-06-11T00:00:00\", \"2017-06-18T00:00:00\", \"2017-06-25T00:00:00\", \"2017-07-02T00:00:00\", \"2017-07-09T00:00:00\", \"2017-07-16T00:00:00\", \"2017-07-23T00:00:00\", \"2017-07-30T00:00:00\", \"2017-08-06T00:00:00\", \"2017-08-13T00:00:00\", \"2017-08-20T00:00:00\", \"2017-08-27T00:00:00\", \"2017-09-03T00:00:00\", \"2017-09-10T00:00:00\", \"2017-09-17T00:00:00\", \"2017-09-24T00:00:00\", \"2017-10-01T00:00:00\", \"2017-10-08T00:00:00\", \"2017-10-15T00:00:00\", \"2017-10-22T00:00:00\", \"2017-10-29T00:00:00\", \"2017-11-05T00:00:00\", \"2017-11-12T00:00:00\", \"2017-11-19T00:00:00\", \"2017-11-26T00:00:00\", \"2017-12-03T00:00:00\", \"2017-12-10T00:00:00\", \"2017-12-17T00:00:00\", \"2017-12-24T00:00:00\", \"2017-12-31T00:00:00\", \"2018-01-07T00:00:00\", \"2018-01-14T00:00:00\", \"2018-01-21T00:00:00\", \"2018-01-28T00:00:00\", \"2018-02-04T00:00:00\", \"2018-02-11T00:00:00\", \"2018-02-18T00:00:00\", \"2018-02-25T00:00:00\", \"2018-03-04T00:00:00\", \"2018-03-11T00:00:00\", \"2018-03-18T00:00:00\", \"2018-03-25T00:00:00\"], \"xaxis\": \"x\", \"y\": [31324277.73, 29063542.75, 29043458.85, 28470310.84, 44655461.51, 32137333.01, 28012520.93, 29936729.76, 32994014.16, 30094698.85, 29572225.71, 32513550.51, 29982648.43, 31500669.44, 32046401.64, 33091256.26, 30894157.8, 41291704.39, 36400886.58, 32027686.15, 35344183.15, 33720159.09, 36549995.66, 37026085.75, 35734613.9, 32408705.7, 37943670.34, 31660031.68, 32324647.66, 30652211.08, 30358467.88, 33254911.87, 31936856.18, 29699845.61, 29761638.48, 33526480.08, 31245835.65, 29569086.56, 27753508.14, 28243505.52, 29216198.15, 29375123.6, 26240072.11, 31047484.27, 28485715.97, 28597756.27, 25114228.11, 22617999.38, 28800396.57, 28041335.38, 25083647.17, 27297983.67, 38142088.04, 35264336.01, 34426341.87, 32787079.21, 34721249.92, 52288697.89, 36476441.86, 32804733.22, 36801817.68, 35064506.04, 36374516.14, 36335483.78, 35930195.92, 33668450.55, 36584029.39, 37467885.19, 39607695.3, 42867608.54, 46324529.7, 39914996.74, 36958035.51, 40019075.24, 40231259.65, 35580820.0, 38489936.14, 36617023.79, 39993186.04, 35567568.43, 32656123.63, 32339377.09, 31201590.22, 33819909.09, 34386177.3, 33592097.72, 33993931.31, 37130688.91, 34126730.95, 31346091.46, 30305112.89, 29615008.49, 28857581.98, 27707046.82, 24753513.95, 21009730.21, 22534698.38, 24075126.49, 24989702.75, 22923062.65, 31621221.9, 30093540.7, 29583882.61, 30287853.7, 38879716.85, 38049802.62, 38295488.31, 42140393.39, 39373579.25, 61034457.1, 41077470.65, 33905854.58, 37007797.69, 33684175.01, 32020573.94, 31595125.23, 32555119.32, 34468017.36, 34785712.55, 35182320.78, 35729013.92, 38315500.43, 47293921.6, 36634269.03, 34397651.15, 37030893.73, 37352360.59, 37039853.8, 38247669.33, 37305307.68, 38010426.16, 39367336.18, 32455047.11, 32608301.51, 31756097.22, 32529920.23, 32817254.13, 29913744.37, 28785279.75, 26808410.65, 26385081.36, 25394902.82, 24637148.38, 24610645.21, 24397166.19, 25031589.09, 26706971.51, 30237911.23, 32051594.24, 32336225.0, 29253484.0, 24686675.0, 33824253.0, 35634913.01, 30757767.03, 29102349.33, 38267341.61, 36703156.72, 37299945.22, 42939821.55, 40171640.84, 62505646.52, 43167806.09, 36709887.49, 40021528.76, 40741214.05, 40449603.12, 41386314.12, 43409835.75], \"yaxis\": \"y\"}, {\"hoverlabel\": {\"namelength\": 0}, \"hovertemplate\": \"type=organic<br>Date=%{x}<br>TotalVolume=%{y}\", \"legendgroup\": \"organic\", \"line\": {\"color\": \"#EF553B\", \"dash\": \"solid\"}, \"mode\": \"lines\", \"name\": \"organic\", \"showlegend\": true, \"type\": \"scatter\", \"x\": [\"2015-01-04T00:00:00\", \"2015-01-11T00:00:00\", \"2015-01-18T00:00:00\", \"2015-01-25T00:00:00\", \"2015-02-01T00:00:00\", \"2015-02-08T00:00:00\", \"2015-02-15T00:00:00\", \"2015-02-22T00:00:00\", \"2015-03-01T00:00:00\", \"2015-03-08T00:00:00\", \"2015-03-15T00:00:00\", \"2015-03-22T00:00:00\", \"2015-03-29T00:00:00\", \"2015-04-05T00:00:00\", \"2015-04-12T00:00:00\", \"2015-04-19T00:00:00\", \"2015-04-26T00:00:00\", \"2015-05-03T00:00:00\", \"2015-05-10T00:00:00\", \"2015-05-17T00:00:00\", \"2015-05-24T00:00:00\", \"2015-05-31T00:00:00\", \"2015-06-07T00:00:00\", \"2015-06-14T00:00:00\", \"2015-06-21T00:00:00\", \"2015-06-28T00:00:00\", \"2015-07-05T00:00:00\", \"2015-07-12T00:00:00\", \"2015-07-19T00:00:00\", \"2015-07-26T00:00:00\", \"2015-08-02T00:00:00\", \"2015-08-09T00:00:00\", \"2015-08-16T00:00:00\", \"2015-08-23T00:00:00\", \"2015-08-30T00:00:00\", \"2015-09-06T00:00:00\", \"2015-09-13T00:00:00\", \"2015-09-20T00:00:00\", \"2015-09-27T00:00:00\", \"2015-10-04T00:00:00\", \"2015-10-11T00:00:00\", \"2015-10-18T00:00:00\", \"2015-10-25T00:00:00\", \"2015-11-01T00:00:00\", \"2015-11-08T00:00:00\", \"2015-11-15T00:00:00\", \"2015-11-22T00:00:00\", \"2015-11-29T00:00:00\", \"2015-12-06T00:00:00\", \"2015-12-13T00:00:00\", \"2015-12-20T00:00:00\", \"2015-12-27T00:00:00\", \"2016-01-03T00:00:00\", \"2016-01-10T00:00:00\", \"2016-01-17T00:00:00\", \"2016-01-24T00:00:00\", \"2016-01-31T00:00:00\", \"2016-02-07T00:00:00\", \"2016-02-14T00:00:00\", \"2016-02-21T00:00:00\", \"2016-02-28T00:00:00\", \"2016-03-06T00:00:00\", \"2016-03-13T00:00:00\", \"2016-03-20T00:00:00\", \"2016-03-27T00:00:00\", \"2016-04-03T00:00:00\", \"2016-04-10T00:00:00\", \"2016-04-17T00:00:00\", \"2016-04-24T00:00:00\", \"2016-05-01T00:00:00\", \"2016-05-08T00:00:00\", \"2016-05-15T00:00:00\", \"2016-05-22T00:00:00\", \"2016-05-29T00:00:00\", \"2016-06-05T00:00:00\", \"2016-06-12T00:00:00\", \"2016-06-19T00:00:00\", \"2016-06-26T00:00:00\", \"2016-07-03T00:00:00\", \"2016-07-10T00:00:00\", \"2016-07-17T00:00:00\", \"2016-07-24T00:00:00\", \"2016-07-31T00:00:00\", \"2016-08-07T00:00:00\", \"2016-08-14T00:00:00\", \"2016-08-21T00:00:00\", \"2016-08-28T00:00:00\", \"2016-09-04T00:00:00\", \"2016-09-11T00:00:00\", \"2016-09-18T00:00:00\", \"2016-09-25T00:00:00\", \"2016-10-02T00:00:00\", \"2016-10-09T00:00:00\", \"2016-10-16T00:00:00\", \"2016-10-23T00:00:00\", \"2016-10-30T00:00:00\", \"2016-11-06T00:00:00\", \"2016-11-13T00:00:00\", \"2016-11-20T00:00:00\", \"2016-11-27T00:00:00\", \"2016-12-04T00:00:00\", \"2016-12-11T00:00:00\", \"2016-12-18T00:00:00\", \"2016-12-25T00:00:00\", \"2017-01-01T00:00:00\", \"2017-01-08T00:00:00\", \"2017-01-15T00:00:00\", \"2017-01-22T00:00:00\", \"2017-01-29T00:00:00\", \"2017-02-05T00:00:00\", \"2017-02-12T00:00:00\", \"2017-02-19T00:00:00\", \"2017-02-26T00:00:00\", \"2017-03-05T00:00:00\", \"2017-03-12T00:00:00\", \"2017-03-19T00:00:00\", \"2017-03-26T00:00:00\", \"2017-04-02T00:00:00\", \"2017-04-09T00:00:00\", \"2017-04-16T00:00:00\", \"2017-04-23T00:00:00\", \"2017-04-30T00:00:00\", \"2017-05-07T00:00:00\", \"2017-05-14T00:00:00\", \"2017-05-21T00:00:00\", \"2017-05-28T00:00:00\", \"2017-06-04T00:00:00\", \"2017-06-11T00:00:00\", \"2017-06-18T00:00:00\", \"2017-06-25T00:00:00\", \"2017-07-02T00:00:00\", \"2017-07-09T00:00:00\", \"2017-07-16T00:00:00\", \"2017-07-23T00:00:00\", \"2017-07-30T00:00:00\", \"2017-08-06T00:00:00\", \"2017-08-13T00:00:00\", \"2017-08-20T00:00:00\", \"2017-08-27T00:00:00\", \"2017-09-03T00:00:00\", \"2017-09-10T00:00:00\", \"2017-09-17T00:00:00\", \"2017-09-24T00:00:00\", \"2017-10-01T00:00:00\", \"2017-10-08T00:00:00\", \"2017-10-15T00:00:00\", \"2017-10-22T00:00:00\", \"2017-10-29T00:00:00\", \"2017-11-05T00:00:00\", \"2017-11-12T00:00:00\", \"2017-11-19T00:00:00\", \"2017-11-26T00:00:00\", \"2017-12-03T00:00:00\", \"2017-12-10T00:00:00\", \"2017-12-17T00:00:00\", \"2017-12-24T00:00:00\", \"2017-12-31T00:00:00\", \"2018-01-07T00:00:00\", \"2018-01-14T00:00:00\", \"2018-01-21T00:00:00\", \"2018-01-28T00:00:00\", \"2018-02-04T00:00:00\", \"2018-02-11T00:00:00\", \"2018-02-18T00:00:00\", \"2018-02-25T00:00:00\", \"2018-03-04T00:00:00\", \"2018-03-11T00:00:00\", \"2018-03-18T00:00:00\", \"2018-03-25T00:00:00\"], \"xaxis\": \"x\", \"y\": [612910.15, 669528.88, 713120.0, 556368.86, 740896.97, 730874.31, 616177.0, 673446.69, 814484.79, 783913.05, 644584.67, 682640.03, 674551.02, 661842.02, 810018.27, 675907.97, 872239.07, 912681.57, 861671.11, 761972.65, 714266.31, 716942.71, 640448.59, 646098.42, 638192.89, 659947.03, 668233.0, 608845.0, 650389.0, 580826.0, 573873.0, 625259.0, 644689.71, 666276.26, 670005.94, 593797.17, 552059.64, 515240.82, 501814.87, 557392.73, 519892.67, 518034.86, 560830.54, 647789.17, 605197.12, 511347.26, 584276.79, 507830.81, 514112.96, 624300.31, 531478.24, 549787.59, 704100.5, 828670.59, 695341.42, 776964.55, 772077.2, 758795.1, 852463.31, 738856.92, 845011.63, 1012415.85, 1023655.87, 1045450.41, 900644.79, 930722.39, 1179603.03, 1022217.32, 1475457.53, 1317867.0, 1137940.78, 1023252.17, 1165715.01, 1085152.56, 1012717.93, 975275.55, 1071066.66, 1007378.78, 1073595.37, 1043428.53, 1018118.27, 919489.84, 946087.81, 1012237.01, 1093287.79, 1033169.7, 948530.88, 1052088.77, 1103488.85, 871627.58, 808891.94, 790926.03, 878367.41, 815859.49, 699763.35, 647723.55, 897671.29, 863948.15, 860320.59, 761675.87, 832767.55, 856795.63, 797042.27, 914035.42, 808971.88, 990721.83, 975724.28, 994282.98, 953206.1, 1015621.03, 1060775.98, 1634877.11, 1436663.15, 1619398.24, 1337596.89, 1284018.65, 1581127.36, 1492167.41, 1387436.32, 1493331.28, 1190461.18, 1248175.29, 1394126.23, 1375125.12, 1210560.61, 1302205.55, 1352960.47, 1397448.17, 1304554.29, 1101009.92, 1173393.06, 1130374.7, 1148354.84, 1214158.19, 1091590.78, 1059971.14, 1014709.07, 1071538.25, 1045992.02, 1075538.53, 1093955.66, 1074567.7, 1125443.38, 1072521.35, 1164140.49, 1172057.19, 1180823.79, 1123703.61, 1068530.09, 1044591.43, 967886.13, 957800.72, 1119325.0, 1217680.36, 1148617.16, 1179930.12, 1243940.09, 1517332.7, 1476651.08, 1283987.65, 1336979.09, 1384683.41, 1317000.47, 1814929.97, 1459852.55, 1634430.77, 1664234.88, 1675804.22, 1559967.2], \"yaxis\": \"y\"}],\n",
       "                        {\"legend\": {\"title\": {\"text\": \"type\"}, \"tracegroupgap\": 0}, \"template\": {\"data\": {\"bar\": [{\"error_x\": {\"color\": \"#2a3f5f\"}, \"error_y\": {\"color\": \"#2a3f5f\"}, \"marker\": {\"line\": {\"color\": \"#E5ECF6\", \"width\": 0.5}}, \"type\": \"bar\"}], \"barpolar\": [{\"marker\": {\"line\": {\"color\": \"#E5ECF6\", \"width\": 0.5}}, \"type\": \"barpolar\"}], \"carpet\": [{\"aaxis\": {\"endlinecolor\": \"#2a3f5f\", \"gridcolor\": \"white\", \"linecolor\": \"white\", \"minorgridcolor\": \"white\", \"startlinecolor\": \"#2a3f5f\"}, \"baxis\": {\"endlinecolor\": \"#2a3f5f\", \"gridcolor\": \"white\", \"linecolor\": \"white\", \"minorgridcolor\": \"white\", \"startlinecolor\": \"#2a3f5f\"}, \"type\": \"carpet\"}], \"choropleth\": [{\"colorbar\": {\"outlinewidth\": 0, \"ticks\": \"\"}, \"type\": \"choropleth\"}], \"contour\": [{\"colorbar\": {\"outlinewidth\": 0, \"ticks\": \"\"}, \"colorscale\": [[0.0, \"#0d0887\"], [0.1111111111111111, \"#46039f\"], [0.2222222222222222, \"#7201a8\"], [0.3333333333333333, \"#9c179e\"], [0.4444444444444444, \"#bd3786\"], [0.5555555555555556, \"#d8576b\"], [0.6666666666666666, \"#ed7953\"], [0.7777777777777778, \"#fb9f3a\"], [0.8888888888888888, \"#fdca26\"], [1.0, \"#f0f921\"]], \"type\": \"contour\"}], \"contourcarpet\": [{\"colorbar\": {\"outlinewidth\": 0, \"ticks\": \"\"}, \"type\": \"contourcarpet\"}], \"heatmap\": [{\"colorbar\": {\"outlinewidth\": 0, \"ticks\": \"\"}, \"colorscale\": [[0.0, \"#0d0887\"], [0.1111111111111111, \"#46039f\"], [0.2222222222222222, \"#7201a8\"], [0.3333333333333333, \"#9c179e\"], [0.4444444444444444, \"#bd3786\"], [0.5555555555555556, \"#d8576b\"], [0.6666666666666666, \"#ed7953\"], [0.7777777777777778, \"#fb9f3a\"], [0.8888888888888888, \"#fdca26\"], [1.0, \"#f0f921\"]], \"type\": \"heatmap\"}], \"heatmapgl\": [{\"colorbar\": {\"outlinewidth\": 0, \"ticks\": \"\"}, \"colorscale\": [[0.0, \"#0d0887\"], [0.1111111111111111, \"#46039f\"], [0.2222222222222222, \"#7201a8\"], [0.3333333333333333, \"#9c179e\"], [0.4444444444444444, \"#bd3786\"], [0.5555555555555556, \"#d8576b\"], [0.6666666666666666, \"#ed7953\"], [0.7777777777777778, \"#fb9f3a\"], [0.8888888888888888, \"#fdca26\"], [1.0, \"#f0f921\"]], \"type\": \"heatmapgl\"}], \"histogram\": [{\"marker\": {\"colorbar\": {\"outlinewidth\": 0, \"ticks\": \"\"}}, \"type\": \"histogram\"}], \"histogram2d\": [{\"colorbar\": {\"outlinewidth\": 0, \"ticks\": \"\"}, \"colorscale\": [[0.0, \"#0d0887\"], [0.1111111111111111, \"#46039f\"], [0.2222222222222222, \"#7201a8\"], [0.3333333333333333, \"#9c179e\"], [0.4444444444444444, \"#bd3786\"], [0.5555555555555556, \"#d8576b\"], [0.6666666666666666, \"#ed7953\"], [0.7777777777777778, \"#fb9f3a\"], [0.8888888888888888, \"#fdca26\"], [1.0, \"#f0f921\"]], \"type\": \"histogram2d\"}], \"histogram2dcontour\": [{\"colorbar\": {\"outlinewidth\": 0, \"ticks\": \"\"}, \"colorscale\": [[0.0, \"#0d0887\"], [0.1111111111111111, \"#46039f\"], [0.2222222222222222, \"#7201a8\"], [0.3333333333333333, \"#9c179e\"], [0.4444444444444444, \"#bd3786\"], [0.5555555555555556, \"#d8576b\"], [0.6666666666666666, \"#ed7953\"], [0.7777777777777778, \"#fb9f3a\"], [0.8888888888888888, \"#fdca26\"], [1.0, \"#f0f921\"]], \"type\": \"histogram2dcontour\"}], \"mesh3d\": [{\"colorbar\": {\"outlinewidth\": 0, \"ticks\": \"\"}, \"type\": \"mesh3d\"}], \"parcoords\": [{\"line\": {\"colorbar\": {\"outlinewidth\": 0, \"ticks\": \"\"}}, \"type\": \"parcoords\"}], \"pie\": [{\"automargin\": true, \"type\": \"pie\"}], \"scatter\": [{\"marker\": {\"colorbar\": {\"outlinewidth\": 0, \"ticks\": \"\"}}, \"type\": \"scatter\"}], \"scatter3d\": [{\"line\": {\"colorbar\": {\"outlinewidth\": 0, \"ticks\": \"\"}}, \"marker\": {\"colorbar\": {\"outlinewidth\": 0, \"ticks\": \"\"}}, \"type\": \"scatter3d\"}], \"scattercarpet\": [{\"marker\": {\"colorbar\": {\"outlinewidth\": 0, \"ticks\": \"\"}}, \"type\": \"scattercarpet\"}], \"scattergeo\": [{\"marker\": {\"colorbar\": {\"outlinewidth\": 0, \"ticks\": \"\"}}, \"type\": \"scattergeo\"}], \"scattergl\": [{\"marker\": {\"colorbar\": {\"outlinewidth\": 0, \"ticks\": \"\"}}, \"type\": \"scattergl\"}], \"scattermapbox\": [{\"marker\": {\"colorbar\": {\"outlinewidth\": 0, \"ticks\": \"\"}}, \"type\": \"scattermapbox\"}], \"scatterpolar\": [{\"marker\": {\"colorbar\": {\"outlinewidth\": 0, \"ticks\": \"\"}}, \"type\": \"scatterpolar\"}], \"scatterpolargl\": [{\"marker\": {\"colorbar\": {\"outlinewidth\": 0, \"ticks\": \"\"}}, \"type\": \"scatterpolargl\"}], \"scatterternary\": [{\"marker\": {\"colorbar\": {\"outlinewidth\": 0, \"ticks\": \"\"}}, \"type\": \"scatterternary\"}], \"surface\": [{\"colorbar\": {\"outlinewidth\": 0, \"ticks\": \"\"}, \"colorscale\": [[0.0, \"#0d0887\"], [0.1111111111111111, \"#46039f\"], [0.2222222222222222, \"#7201a8\"], [0.3333333333333333, \"#9c179e\"], [0.4444444444444444, \"#bd3786\"], [0.5555555555555556, \"#d8576b\"], [0.6666666666666666, \"#ed7953\"], [0.7777777777777778, \"#fb9f3a\"], [0.8888888888888888, \"#fdca26\"], [1.0, \"#f0f921\"]], \"type\": \"surface\"}], \"table\": [{\"cells\": {\"fill\": {\"color\": \"#EBF0F8\"}, \"line\": {\"color\": \"white\"}}, \"header\": {\"fill\": {\"color\": \"#C8D4E3\"}, \"line\": {\"color\": \"white\"}}, \"type\": \"table\"}]}, \"layout\": {\"annotationdefaults\": {\"arrowcolor\": \"#2a3f5f\", \"arrowhead\": 0, \"arrowwidth\": 1}, \"coloraxis\": {\"colorbar\": {\"outlinewidth\": 0, \"ticks\": \"\"}}, \"colorscale\": {\"diverging\": [[0, \"#8e0152\"], [0.1, \"#c51b7d\"], [0.2, \"#de77ae\"], [0.3, \"#f1b6da\"], [0.4, \"#fde0ef\"], [0.5, \"#f7f7f7\"], [0.6, \"#e6f5d0\"], [0.7, \"#b8e186\"], [0.8, \"#7fbc41\"], [0.9, \"#4d9221\"], [1, \"#276419\"]], \"sequential\": [[0.0, \"#0d0887\"], [0.1111111111111111, \"#46039f\"], [0.2222222222222222, \"#7201a8\"], [0.3333333333333333, \"#9c179e\"], [0.4444444444444444, \"#bd3786\"], [0.5555555555555556, \"#d8576b\"], [0.6666666666666666, \"#ed7953\"], [0.7777777777777778, \"#fb9f3a\"], [0.8888888888888888, \"#fdca26\"], [1.0, \"#f0f921\"]], \"sequentialminus\": [[0.0, \"#0d0887\"], [0.1111111111111111, \"#46039f\"], [0.2222222222222222, \"#7201a8\"], [0.3333333333333333, \"#9c179e\"], [0.4444444444444444, \"#bd3786\"], [0.5555555555555556, \"#d8576b\"], [0.6666666666666666, \"#ed7953\"], [0.7777777777777778, \"#fb9f3a\"], [0.8888888888888888, \"#fdca26\"], [1.0, \"#f0f921\"]]}, \"colorway\": [\"#636efa\", \"#EF553B\", \"#00cc96\", \"#ab63fa\", \"#FFA15A\", \"#19d3f3\", \"#FF6692\", \"#B6E880\", \"#FF97FF\", \"#FECB52\"], \"font\": {\"color\": \"#2a3f5f\"}, \"geo\": {\"bgcolor\": \"white\", \"lakecolor\": \"white\", \"landcolor\": \"#E5ECF6\", \"showlakes\": true, \"showland\": true, \"subunitcolor\": \"white\"}, \"hoverlabel\": {\"align\": \"left\"}, \"hovermode\": \"closest\", \"mapbox\": {\"style\": \"light\"}, \"paper_bgcolor\": \"white\", \"plot_bgcolor\": \"#E5ECF6\", \"polar\": {\"angularaxis\": {\"gridcolor\": \"white\", \"linecolor\": \"white\", \"ticks\": \"\"}, \"bgcolor\": \"#E5ECF6\", \"radialaxis\": {\"gridcolor\": \"white\", \"linecolor\": \"white\", \"ticks\": \"\"}}, \"scene\": {\"xaxis\": {\"backgroundcolor\": \"#E5ECF6\", \"gridcolor\": \"white\", \"gridwidth\": 2, \"linecolor\": \"white\", \"showbackground\": true, \"ticks\": \"\", \"zerolinecolor\": \"white\"}, \"yaxis\": {\"backgroundcolor\": \"#E5ECF6\", \"gridcolor\": \"white\", \"gridwidth\": 2, \"linecolor\": \"white\", \"showbackground\": true, \"ticks\": \"\", \"zerolinecolor\": \"white\"}, \"zaxis\": {\"backgroundcolor\": \"#E5ECF6\", \"gridcolor\": \"white\", \"gridwidth\": 2, \"linecolor\": \"white\", \"showbackground\": true, \"ticks\": \"\", \"zerolinecolor\": \"white\"}}, \"shapedefaults\": {\"line\": {\"color\": \"#2a3f5f\"}}, \"ternary\": {\"aaxis\": {\"gridcolor\": \"white\", \"linecolor\": \"white\", \"ticks\": \"\"}, \"baxis\": {\"gridcolor\": \"white\", \"linecolor\": \"white\", \"ticks\": \"\"}, \"bgcolor\": \"#E5ECF6\", \"caxis\": {\"gridcolor\": \"white\", \"linecolor\": \"white\", \"ticks\": \"\"}}, \"title\": {\"x\": 0.05}, \"xaxis\": {\"automargin\": true, \"gridcolor\": \"white\", \"linecolor\": \"white\", \"ticks\": \"\", \"title\": {\"standoff\": 15}, \"zerolinecolor\": \"white\", \"zerolinewidth\": 2}, \"yaxis\": {\"automargin\": true, \"gridcolor\": \"white\", \"linecolor\": \"white\", \"ticks\": \"\", \"title\": {\"standoff\": 15}, \"zerolinecolor\": \"white\", \"zerolinewidth\": 2}}}, \"title\": {\"text\": \"Total Volume by Type\"}, \"xaxis\": {\"anchor\": \"y\", \"domain\": [0.0, 1.0], \"title\": {\"text\": \"Date\"}}, \"yaxis\": {\"anchor\": \"x\", \"domain\": [0.0, 1.0], \"title\": {\"text\": \"TotalVolume\"}}},\n",
       "                        {\"responsive\": true}\n",
       "                    ).then(function(){\n",
       "                            \n",
       "var gd = document.getElementById('ba61a49e-9943-49ad-b76f-42dfa8de1194');\n",
       "var x = new MutationObserver(function (mutations, observer) {{\n",
       "        var display = window.getComputedStyle(gd).display;\n",
       "        if (!display || display === 'none') {{\n",
       "            console.log([gd, 'removed!']);\n",
       "            Plotly.purge(gd);\n",
       "            observer.disconnect();\n",
       "        }}\n",
       "}});\n",
       "\n",
       "// Listen for the removal of the full notebook cells\n",
       "var notebookContainer = gd.closest('#notebook-container');\n",
       "if (notebookContainer) {{\n",
       "    x.observe(notebookContainer, {childList: true});\n",
       "}}\n",
       "\n",
       "// Listen for the clearing of the current output cell\n",
       "var outputEl = gd.closest('.output');\n",
       "if (outputEl) {{\n",
       "    x.observe(outputEl, {childList: true});\n",
       "}}\n",
       "\n",
       "                        })\n",
       "                };\n",
       "                });\n",
       "            </script>\n",
       "        </div>"
      ]
     },
     "metadata": {},
     "output_type": "display_data"
    }
   ],
   "source": [
    "px.line(df_avo_total, \n",
    "        x='Date', \n",
    "        y='TotalVolume', \n",
    "        color='type', \n",
    "        title='Total Volume by Type')"
   ]
  },
  {
   "cell_type": "markdown",
   "metadata": {},
   "source": [
    "I have created a helper function to add some additional summary statistics such as coefficient of variation and interquartile range to the standard pandas dataframe describe method."
   ]
  },
  {
   "cell_type": "code",
   "execution_count": 31,
   "metadata": {
    "ExecuteTime": {
     "end_time": "2020-03-22T14:09:34.067884Z",
     "start_time": "2020-03-22T14:09:34.064893Z"
    }
   },
   "outputs": [],
   "source": [
    "def describe_stats(df):\n",
    "    stats_df = df.describe()\n",
    "    stats_df.loc['cv'] = stats_df.loc['std'] / stats_df.loc['mean']\n",
    "    stats_df.loc['iqr'] = stats_df.loc['75%'] - stats_df.loc['25%']\n",
    "    # Index order\n",
    "    stats_index = ['count', 'mean', 'std', 'cv', 'min', '25%', \\\n",
    "                   '50%', '75%', 'max', 'iqr']\n",
    "    \n",
    "    return stats_df.reindex(stats_index)"
   ]
  },
  {
   "cell_type": "markdown",
   "metadata": {},
   "source": [
    "Viewing the summary statistic for conventional avocados does show some evidence of an uptrend.  Comparing the earliest and latest full years (2015 and 2017) you can see that the mean, min, max, and quartiles are increasing.  In each case there is at least a 4% increase over the two years and in most cases closer to 10%.  The largest increase is seen in the max where there was a 37% increase.  An interesting point is that over the two full years there was a substantial increase in volatility compared to the modest increase in volume."
   ]
  },
  {
   "cell_type": "code",
   "execution_count": 33,
   "metadata": {
    "ExecuteTime": {
     "end_time": "2020-03-22T14:09:59.728732Z",
     "start_time": "2020-03-22T14:09:59.694831Z"
    }
   },
   "outputs": [
    {
     "data": {
      "text/html": [
       "<div>\n",
       "<style scoped>\n",
       "    .dataframe tbody tr th:only-of-type {\n",
       "        vertical-align: middle;\n",
       "    }\n",
       "\n",
       "    .dataframe tbody tr th {\n",
       "        vertical-align: top;\n",
       "    }\n",
       "\n",
       "    .dataframe thead th {\n",
       "        text-align: right;\n",
       "    }\n",
       "</style>\n",
       "<table border=\"1\" class=\"dataframe\">\n",
       "  <thead>\n",
       "    <tr style=\"text-align: right;\">\n",
       "      <th>year</th>\n",
       "      <th>Y_2015</th>\n",
       "      <th>Y_2016</th>\n",
       "      <th>Y_2017</th>\n",
       "      <th>Y_2018</th>\n",
       "      <th>Ratio</th>\n",
       "    </tr>\n",
       "  </thead>\n",
       "  <tbody>\n",
       "    <tr>\n",
       "      <th>count</th>\n",
       "      <td>52.00</td>\n",
       "      <td>52.00</td>\n",
       "      <td>53.00</td>\n",
       "      <td>12.00</td>\n",
       "      <td>1.02</td>\n",
       "    </tr>\n",
       "    <tr>\n",
       "      <th>mean</th>\n",
       "      <td>31,224,729.15</td>\n",
       "      <td>34,043,449.79</td>\n",
       "      <td>33,995,658.14</td>\n",
       "      <td>42,125,533.35</td>\n",
       "      <td>1.09</td>\n",
       "    </tr>\n",
       "    <tr>\n",
       "      <th>std</th>\n",
       "      <td>3,894,760.81</td>\n",
       "      <td>5,815,718.20</td>\n",
       "      <td>6,346,590.41</td>\n",
       "      <td>6,837,607.18</td>\n",
       "      <td>1.63</td>\n",
       "    </tr>\n",
       "    <tr>\n",
       "      <th>cv</th>\n",
       "      <td>0.12</td>\n",
       "      <td>0.17</td>\n",
       "      <td>0.19</td>\n",
       "      <td>0.16</td>\n",
       "      <td>1.50</td>\n",
       "    </tr>\n",
       "    <tr>\n",
       "      <th>min</th>\n",
       "      <td>22,617,999.38</td>\n",
       "      <td>21,009,730.21</td>\n",
       "      <td>24,397,166.19</td>\n",
       "      <td>36,703,156.72</td>\n",
       "      <td>1.08</td>\n",
       "    </tr>\n",
       "    <tr>\n",
       "      <th>25%</th>\n",
       "      <td>28,982,693.28</td>\n",
       "      <td>30,977,470.89</td>\n",
       "      <td>30,237,911.23</td>\n",
       "      <td>39,341,132.88</td>\n",
       "      <td>1.04</td>\n",
       "    </tr>\n",
       "    <tr>\n",
       "      <th>50%</th>\n",
       "      <td>30,773,184.44</td>\n",
       "      <td>34,406,259.58</td>\n",
       "      <td>33,824,253.00</td>\n",
       "      <td>40,595,408.58</td>\n",
       "      <td>1.10</td>\n",
       "    </tr>\n",
       "    <tr>\n",
       "      <th>75%</th>\n",
       "      <td>32,633,666.42</td>\n",
       "      <td>36,840,872.14</td>\n",
       "      <td>37,352,360.59</td>\n",
       "      <td>42,996,817.69</td>\n",
       "      <td>1.14</td>\n",
       "    </tr>\n",
       "    <tr>\n",
       "      <th>max</th>\n",
       "      <td>44,655,461.51</td>\n",
       "      <td>52,288,697.89</td>\n",
       "      <td>61,034,457.10</td>\n",
       "      <td>62,505,646.52</td>\n",
       "      <td>1.37</td>\n",
       "    </tr>\n",
       "    <tr>\n",
       "      <th>iqr</th>\n",
       "      <td>3,650,973.14</td>\n",
       "      <td>5,863,401.25</td>\n",
       "      <td>7,114,449.36</td>\n",
       "      <td>3,655,684.81</td>\n",
       "      <td>1.95</td>\n",
       "    </tr>\n",
       "  </tbody>\n",
       "</table>\n",
       "</div>"
      ],
      "text/plain": [
       "year         Y_2015        Y_2016        Y_2017        Y_2018  Ratio\n",
       "count         52.00         52.00         53.00         12.00   1.02\n",
       "mean  31,224,729.15 34,043,449.79 33,995,658.14 42,125,533.35   1.09\n",
       "std    3,894,760.81  5,815,718.20  6,346,590.41  6,837,607.18   1.63\n",
       "cv             0.12          0.17          0.19          0.16   1.50\n",
       "min   22,617,999.38 21,009,730.21 24,397,166.19 36,703,156.72   1.08\n",
       "25%   28,982,693.28 30,977,470.89 30,237,911.23 39,341,132.88   1.04\n",
       "50%   30,773,184.44 34,406,259.58 33,824,253.00 40,595,408.58   1.10\n",
       "75%   32,633,666.42 36,840,872.14 37,352,360.59 42,996,817.69   1.14\n",
       "max   44,655,461.51 52,288,697.89 61,034,457.10 62,505,646.52   1.37\n",
       "iqr    3,650,973.14  5,863,401.25  7,114,449.36  3,655,684.81   1.95"
      ]
     },
     "execution_count": 33,
     "metadata": {},
     "output_type": "execute_result"
    }
   ],
   "source": [
    "(df_avo_total.query(\"type=='conventional'\")\n",
    "            .pivot(index='Date', columns='year', values='TotalVolume')\n",
    "            .pipe(describe_stats)\n",
    "            .add_prefix('Y_')\n",
    "            .eval(\"Ratio=Y_2017/Y_2015\"))"
   ]
  },
  {
   "cell_type": "markdown",
   "metadata": {},
   "source": [
    "Getting the volume for organic on it's own you can quickly see that there is an obvious uptrend as the lows and highs continue to increase.  The seasonality is also apparent however it appears that the spike in volume comes just after the spike from conventional avocados - usually starting after January for organic."
   ]
  },
  {
   "cell_type": "code",
   "execution_count": 34,
   "metadata": {
    "ExecuteTime": {
     "end_time": "2020-03-22T14:10:01.955320Z",
     "start_time": "2020-03-22T14:10:01.743890Z"
    }
   },
   "outputs": [
    {
     "data": {
      "text/html": [
       "<div>\n",
       "        \n",
       "        \n",
       "            <div id=\"3a0d848e-95f8-491c-811b-f8edab127e17\" class=\"plotly-graph-div\" style=\"height:525px; width:100%;\"></div>\n",
       "            <script type=\"text/javascript\">\n",
       "                require([\"plotly\"], function(Plotly) {\n",
       "                    window.PLOTLYENV=window.PLOTLYENV || {};\n",
       "                    \n",
       "                if (document.getElementById(\"3a0d848e-95f8-491c-811b-f8edab127e17\")) {\n",
       "                    Plotly.newPlot(\n",
       "                        '3a0d848e-95f8-491c-811b-f8edab127e17',\n",
       "                        [{\"hoverlabel\": {\"namelength\": 0}, \"hovertemplate\": \"Date=%{x}<br>TotalVolume=%{y}\", \"legendgroup\": \"\", \"line\": {\"color\": \"#636efa\", \"dash\": \"solid\"}, \"mode\": \"lines\", \"name\": \"\", \"showlegend\": false, \"type\": \"scatter\", \"x\": [\"2015-01-04T00:00:00\", \"2015-01-11T00:00:00\", \"2015-01-18T00:00:00\", \"2015-01-25T00:00:00\", \"2015-02-01T00:00:00\", \"2015-02-08T00:00:00\", \"2015-02-15T00:00:00\", \"2015-02-22T00:00:00\", \"2015-03-01T00:00:00\", \"2015-03-08T00:00:00\", \"2015-03-15T00:00:00\", \"2015-03-22T00:00:00\", \"2015-03-29T00:00:00\", \"2015-04-05T00:00:00\", \"2015-04-12T00:00:00\", \"2015-04-19T00:00:00\", \"2015-04-26T00:00:00\", \"2015-05-03T00:00:00\", \"2015-05-10T00:00:00\", \"2015-05-17T00:00:00\", \"2015-05-24T00:00:00\", \"2015-05-31T00:00:00\", \"2015-06-07T00:00:00\", \"2015-06-14T00:00:00\", \"2015-06-21T00:00:00\", \"2015-06-28T00:00:00\", \"2015-07-05T00:00:00\", \"2015-07-12T00:00:00\", \"2015-07-19T00:00:00\", \"2015-07-26T00:00:00\", \"2015-08-02T00:00:00\", \"2015-08-09T00:00:00\", \"2015-08-16T00:00:00\", \"2015-08-23T00:00:00\", \"2015-08-30T00:00:00\", \"2015-09-06T00:00:00\", \"2015-09-13T00:00:00\", \"2015-09-20T00:00:00\", \"2015-09-27T00:00:00\", \"2015-10-04T00:00:00\", \"2015-10-11T00:00:00\", \"2015-10-18T00:00:00\", \"2015-10-25T00:00:00\", \"2015-11-01T00:00:00\", \"2015-11-08T00:00:00\", \"2015-11-15T00:00:00\", \"2015-11-22T00:00:00\", \"2015-11-29T00:00:00\", \"2015-12-06T00:00:00\", \"2015-12-13T00:00:00\", \"2015-12-20T00:00:00\", \"2015-12-27T00:00:00\", \"2016-01-03T00:00:00\", \"2016-01-10T00:00:00\", \"2016-01-17T00:00:00\", \"2016-01-24T00:00:00\", \"2016-01-31T00:00:00\", \"2016-02-07T00:00:00\", \"2016-02-14T00:00:00\", \"2016-02-21T00:00:00\", \"2016-02-28T00:00:00\", \"2016-03-06T00:00:00\", \"2016-03-13T00:00:00\", \"2016-03-20T00:00:00\", \"2016-03-27T00:00:00\", \"2016-04-03T00:00:00\", \"2016-04-10T00:00:00\", \"2016-04-17T00:00:00\", \"2016-04-24T00:00:00\", \"2016-05-01T00:00:00\", \"2016-05-08T00:00:00\", \"2016-05-15T00:00:00\", \"2016-05-22T00:00:00\", \"2016-05-29T00:00:00\", \"2016-06-05T00:00:00\", \"2016-06-12T00:00:00\", \"2016-06-19T00:00:00\", \"2016-06-26T00:00:00\", \"2016-07-03T00:00:00\", \"2016-07-10T00:00:00\", \"2016-07-17T00:00:00\", \"2016-07-24T00:00:00\", \"2016-07-31T00:00:00\", \"2016-08-07T00:00:00\", \"2016-08-14T00:00:00\", \"2016-08-21T00:00:00\", \"2016-08-28T00:00:00\", \"2016-09-04T00:00:00\", \"2016-09-11T00:00:00\", \"2016-09-18T00:00:00\", \"2016-09-25T00:00:00\", \"2016-10-02T00:00:00\", \"2016-10-09T00:00:00\", \"2016-10-16T00:00:00\", \"2016-10-23T00:00:00\", \"2016-10-30T00:00:00\", \"2016-11-06T00:00:00\", \"2016-11-13T00:00:00\", \"2016-11-20T00:00:00\", \"2016-11-27T00:00:00\", \"2016-12-04T00:00:00\", \"2016-12-11T00:00:00\", \"2016-12-18T00:00:00\", \"2016-12-25T00:00:00\", \"2017-01-01T00:00:00\", \"2017-01-08T00:00:00\", \"2017-01-15T00:00:00\", \"2017-01-22T00:00:00\", \"2017-01-29T00:00:00\", \"2017-02-05T00:00:00\", \"2017-02-12T00:00:00\", \"2017-02-19T00:00:00\", \"2017-02-26T00:00:00\", \"2017-03-05T00:00:00\", \"2017-03-12T00:00:00\", \"2017-03-19T00:00:00\", \"2017-03-26T00:00:00\", \"2017-04-02T00:00:00\", \"2017-04-09T00:00:00\", \"2017-04-16T00:00:00\", \"2017-04-23T00:00:00\", \"2017-04-30T00:00:00\", \"2017-05-07T00:00:00\", \"2017-05-14T00:00:00\", \"2017-05-21T00:00:00\", \"2017-05-28T00:00:00\", \"2017-06-04T00:00:00\", \"2017-06-11T00:00:00\", \"2017-06-18T00:00:00\", \"2017-06-25T00:00:00\", \"2017-07-02T00:00:00\", \"2017-07-09T00:00:00\", \"2017-07-16T00:00:00\", \"2017-07-23T00:00:00\", \"2017-07-30T00:00:00\", \"2017-08-06T00:00:00\", \"2017-08-13T00:00:00\", \"2017-08-20T00:00:00\", \"2017-08-27T00:00:00\", \"2017-09-03T00:00:00\", \"2017-09-10T00:00:00\", \"2017-09-17T00:00:00\", \"2017-09-24T00:00:00\", \"2017-10-01T00:00:00\", \"2017-10-08T00:00:00\", \"2017-10-15T00:00:00\", \"2017-10-22T00:00:00\", \"2017-10-29T00:00:00\", \"2017-11-05T00:00:00\", \"2017-11-12T00:00:00\", \"2017-11-19T00:00:00\", \"2017-11-26T00:00:00\", \"2017-12-03T00:00:00\", \"2017-12-10T00:00:00\", \"2017-12-17T00:00:00\", \"2017-12-24T00:00:00\", \"2017-12-31T00:00:00\", \"2018-01-07T00:00:00\", \"2018-01-14T00:00:00\", \"2018-01-21T00:00:00\", \"2018-01-28T00:00:00\", \"2018-02-04T00:00:00\", \"2018-02-11T00:00:00\", \"2018-02-18T00:00:00\", \"2018-02-25T00:00:00\", \"2018-03-04T00:00:00\", \"2018-03-11T00:00:00\", \"2018-03-18T00:00:00\", \"2018-03-25T00:00:00\"], \"xaxis\": \"x\", \"y\": [612910.15, 669528.88, 713120.0, 556368.86, 740896.97, 730874.31, 616177.0, 673446.69, 814484.79, 783913.05, 644584.67, 682640.03, 674551.02, 661842.02, 810018.27, 675907.97, 872239.07, 912681.57, 861671.11, 761972.65, 714266.31, 716942.71, 640448.59, 646098.42, 638192.89, 659947.03, 668233.0, 608845.0, 650389.0, 580826.0, 573873.0, 625259.0, 644689.71, 666276.26, 670005.94, 593797.17, 552059.64, 515240.82, 501814.87, 557392.73, 519892.67, 518034.86, 560830.54, 647789.17, 605197.12, 511347.26, 584276.79, 507830.81, 514112.96, 624300.31, 531478.24, 549787.59, 704100.5, 828670.59, 695341.42, 776964.55, 772077.2, 758795.1, 852463.31, 738856.92, 845011.63, 1012415.85, 1023655.87, 1045450.41, 900644.79, 930722.39, 1179603.03, 1022217.32, 1475457.53, 1317867.0, 1137940.78, 1023252.17, 1165715.01, 1085152.56, 1012717.93, 975275.55, 1071066.66, 1007378.78, 1073595.37, 1043428.53, 1018118.27, 919489.84, 946087.81, 1012237.01, 1093287.79, 1033169.7, 948530.88, 1052088.77, 1103488.85, 871627.58, 808891.94, 790926.03, 878367.41, 815859.49, 699763.35, 647723.55, 897671.29, 863948.15, 860320.59, 761675.87, 832767.55, 856795.63, 797042.27, 914035.42, 808971.88, 990721.83, 975724.28, 994282.98, 953206.1, 1015621.03, 1060775.98, 1634877.11, 1436663.15, 1619398.24, 1337596.89, 1284018.65, 1581127.36, 1492167.41, 1387436.32, 1493331.28, 1190461.18, 1248175.29, 1394126.23, 1375125.12, 1210560.61, 1302205.55, 1352960.47, 1397448.17, 1304554.29, 1101009.92, 1173393.06, 1130374.7, 1148354.84, 1214158.19, 1091590.78, 1059971.14, 1014709.07, 1071538.25, 1045992.02, 1075538.53, 1093955.66, 1074567.7, 1125443.38, 1072521.35, 1164140.49, 1172057.19, 1180823.79, 1123703.61, 1068530.09, 1044591.43, 967886.13, 957800.72, 1119325.0, 1217680.36, 1148617.16, 1179930.12, 1243940.09, 1517332.7, 1476651.08, 1283987.65, 1336979.09, 1384683.41, 1317000.47, 1814929.97, 1459852.55, 1634430.77, 1664234.88, 1675804.22, 1559967.2], \"yaxis\": \"y\"}],\n",
       "                        {\"legend\": {\"tracegroupgap\": 0}, \"template\": {\"data\": {\"bar\": [{\"error_x\": {\"color\": \"#2a3f5f\"}, \"error_y\": {\"color\": \"#2a3f5f\"}, \"marker\": {\"line\": {\"color\": \"#E5ECF6\", \"width\": 0.5}}, \"type\": \"bar\"}], \"barpolar\": [{\"marker\": {\"line\": {\"color\": \"#E5ECF6\", \"width\": 0.5}}, \"type\": \"barpolar\"}], \"carpet\": [{\"aaxis\": {\"endlinecolor\": \"#2a3f5f\", \"gridcolor\": \"white\", \"linecolor\": \"white\", \"minorgridcolor\": \"white\", \"startlinecolor\": \"#2a3f5f\"}, \"baxis\": {\"endlinecolor\": \"#2a3f5f\", \"gridcolor\": \"white\", \"linecolor\": \"white\", \"minorgridcolor\": \"white\", \"startlinecolor\": \"#2a3f5f\"}, \"type\": \"carpet\"}], \"choropleth\": [{\"colorbar\": {\"outlinewidth\": 0, \"ticks\": \"\"}, \"type\": \"choropleth\"}], \"contour\": [{\"colorbar\": {\"outlinewidth\": 0, \"ticks\": \"\"}, \"colorscale\": [[0.0, \"#0d0887\"], [0.1111111111111111, \"#46039f\"], [0.2222222222222222, \"#7201a8\"], [0.3333333333333333, \"#9c179e\"], [0.4444444444444444, \"#bd3786\"], [0.5555555555555556, \"#d8576b\"], [0.6666666666666666, \"#ed7953\"], [0.7777777777777778, \"#fb9f3a\"], [0.8888888888888888, \"#fdca26\"], [1.0, \"#f0f921\"]], \"type\": \"contour\"}], \"contourcarpet\": [{\"colorbar\": {\"outlinewidth\": 0, \"ticks\": \"\"}, \"type\": \"contourcarpet\"}], \"heatmap\": [{\"colorbar\": {\"outlinewidth\": 0, \"ticks\": \"\"}, \"colorscale\": [[0.0, \"#0d0887\"], [0.1111111111111111, \"#46039f\"], [0.2222222222222222, \"#7201a8\"], [0.3333333333333333, \"#9c179e\"], [0.4444444444444444, \"#bd3786\"], [0.5555555555555556, \"#d8576b\"], [0.6666666666666666, \"#ed7953\"], [0.7777777777777778, \"#fb9f3a\"], [0.8888888888888888, \"#fdca26\"], [1.0, \"#f0f921\"]], \"type\": \"heatmap\"}], \"heatmapgl\": [{\"colorbar\": {\"outlinewidth\": 0, \"ticks\": \"\"}, \"colorscale\": [[0.0, \"#0d0887\"], [0.1111111111111111, \"#46039f\"], [0.2222222222222222, \"#7201a8\"], [0.3333333333333333, \"#9c179e\"], [0.4444444444444444, \"#bd3786\"], [0.5555555555555556, \"#d8576b\"], [0.6666666666666666, \"#ed7953\"], [0.7777777777777778, \"#fb9f3a\"], [0.8888888888888888, \"#fdca26\"], [1.0, \"#f0f921\"]], \"type\": \"heatmapgl\"}], \"histogram\": [{\"marker\": {\"colorbar\": {\"outlinewidth\": 0, \"ticks\": \"\"}}, \"type\": \"histogram\"}], \"histogram2d\": [{\"colorbar\": {\"outlinewidth\": 0, \"ticks\": \"\"}, \"colorscale\": [[0.0, \"#0d0887\"], [0.1111111111111111, \"#46039f\"], [0.2222222222222222, \"#7201a8\"], [0.3333333333333333, \"#9c179e\"], [0.4444444444444444, \"#bd3786\"], [0.5555555555555556, \"#d8576b\"], [0.6666666666666666, \"#ed7953\"], [0.7777777777777778, \"#fb9f3a\"], [0.8888888888888888, \"#fdca26\"], [1.0, \"#f0f921\"]], \"type\": \"histogram2d\"}], \"histogram2dcontour\": [{\"colorbar\": {\"outlinewidth\": 0, \"ticks\": \"\"}, \"colorscale\": [[0.0, \"#0d0887\"], [0.1111111111111111, \"#46039f\"], [0.2222222222222222, \"#7201a8\"], [0.3333333333333333, \"#9c179e\"], [0.4444444444444444, \"#bd3786\"], [0.5555555555555556, \"#d8576b\"], [0.6666666666666666, \"#ed7953\"], [0.7777777777777778, \"#fb9f3a\"], [0.8888888888888888, \"#fdca26\"], [1.0, \"#f0f921\"]], \"type\": \"histogram2dcontour\"}], \"mesh3d\": [{\"colorbar\": {\"outlinewidth\": 0, \"ticks\": \"\"}, \"type\": \"mesh3d\"}], \"parcoords\": [{\"line\": {\"colorbar\": {\"outlinewidth\": 0, \"ticks\": \"\"}}, \"type\": \"parcoords\"}], \"pie\": [{\"automargin\": true, \"type\": \"pie\"}], \"scatter\": [{\"marker\": {\"colorbar\": {\"outlinewidth\": 0, \"ticks\": \"\"}}, \"type\": \"scatter\"}], \"scatter3d\": [{\"line\": {\"colorbar\": {\"outlinewidth\": 0, \"ticks\": \"\"}}, \"marker\": {\"colorbar\": {\"outlinewidth\": 0, \"ticks\": \"\"}}, \"type\": \"scatter3d\"}], \"scattercarpet\": [{\"marker\": {\"colorbar\": {\"outlinewidth\": 0, \"ticks\": \"\"}}, \"type\": \"scattercarpet\"}], \"scattergeo\": [{\"marker\": {\"colorbar\": {\"outlinewidth\": 0, \"ticks\": \"\"}}, \"type\": \"scattergeo\"}], \"scattergl\": [{\"marker\": {\"colorbar\": {\"outlinewidth\": 0, \"ticks\": \"\"}}, \"type\": \"scattergl\"}], \"scattermapbox\": [{\"marker\": {\"colorbar\": {\"outlinewidth\": 0, \"ticks\": \"\"}}, \"type\": \"scattermapbox\"}], \"scatterpolar\": [{\"marker\": {\"colorbar\": {\"outlinewidth\": 0, \"ticks\": \"\"}}, \"type\": \"scatterpolar\"}], \"scatterpolargl\": [{\"marker\": {\"colorbar\": {\"outlinewidth\": 0, \"ticks\": \"\"}}, \"type\": \"scatterpolargl\"}], \"scatterternary\": [{\"marker\": {\"colorbar\": {\"outlinewidth\": 0, \"ticks\": \"\"}}, \"type\": \"scatterternary\"}], \"surface\": [{\"colorbar\": {\"outlinewidth\": 0, \"ticks\": \"\"}, \"colorscale\": [[0.0, \"#0d0887\"], [0.1111111111111111, \"#46039f\"], [0.2222222222222222, \"#7201a8\"], [0.3333333333333333, \"#9c179e\"], [0.4444444444444444, \"#bd3786\"], [0.5555555555555556, \"#d8576b\"], [0.6666666666666666, \"#ed7953\"], [0.7777777777777778, \"#fb9f3a\"], [0.8888888888888888, \"#fdca26\"], [1.0, \"#f0f921\"]], \"type\": \"surface\"}], \"table\": [{\"cells\": {\"fill\": {\"color\": \"#EBF0F8\"}, \"line\": {\"color\": \"white\"}}, \"header\": {\"fill\": {\"color\": \"#C8D4E3\"}, \"line\": {\"color\": \"white\"}}, \"type\": \"table\"}]}, \"layout\": {\"annotationdefaults\": {\"arrowcolor\": \"#2a3f5f\", \"arrowhead\": 0, \"arrowwidth\": 1}, \"coloraxis\": {\"colorbar\": {\"outlinewidth\": 0, \"ticks\": \"\"}}, \"colorscale\": {\"diverging\": [[0, \"#8e0152\"], [0.1, \"#c51b7d\"], [0.2, \"#de77ae\"], [0.3, \"#f1b6da\"], [0.4, \"#fde0ef\"], [0.5, \"#f7f7f7\"], [0.6, \"#e6f5d0\"], [0.7, \"#b8e186\"], [0.8, \"#7fbc41\"], [0.9, \"#4d9221\"], [1, \"#276419\"]], \"sequential\": [[0.0, \"#0d0887\"], [0.1111111111111111, \"#46039f\"], [0.2222222222222222, \"#7201a8\"], [0.3333333333333333, \"#9c179e\"], [0.4444444444444444, \"#bd3786\"], [0.5555555555555556, \"#d8576b\"], [0.6666666666666666, \"#ed7953\"], [0.7777777777777778, \"#fb9f3a\"], [0.8888888888888888, \"#fdca26\"], [1.0, \"#f0f921\"]], \"sequentialminus\": [[0.0, \"#0d0887\"], [0.1111111111111111, \"#46039f\"], [0.2222222222222222, \"#7201a8\"], [0.3333333333333333, \"#9c179e\"], [0.4444444444444444, \"#bd3786\"], [0.5555555555555556, \"#d8576b\"], [0.6666666666666666, \"#ed7953\"], [0.7777777777777778, \"#fb9f3a\"], [0.8888888888888888, \"#fdca26\"], [1.0, \"#f0f921\"]]}, \"colorway\": [\"#636efa\", \"#EF553B\", \"#00cc96\", \"#ab63fa\", \"#FFA15A\", \"#19d3f3\", \"#FF6692\", \"#B6E880\", \"#FF97FF\", \"#FECB52\"], \"font\": {\"color\": \"#2a3f5f\"}, \"geo\": {\"bgcolor\": \"white\", \"lakecolor\": \"white\", \"landcolor\": \"#E5ECF6\", \"showlakes\": true, \"showland\": true, \"subunitcolor\": \"white\"}, \"hoverlabel\": {\"align\": \"left\"}, \"hovermode\": \"closest\", \"mapbox\": {\"style\": \"light\"}, \"paper_bgcolor\": \"white\", \"plot_bgcolor\": \"#E5ECF6\", \"polar\": {\"angularaxis\": {\"gridcolor\": \"white\", \"linecolor\": \"white\", \"ticks\": \"\"}, \"bgcolor\": \"#E5ECF6\", \"radialaxis\": {\"gridcolor\": \"white\", \"linecolor\": \"white\", \"ticks\": \"\"}}, \"scene\": {\"xaxis\": {\"backgroundcolor\": \"#E5ECF6\", \"gridcolor\": \"white\", \"gridwidth\": 2, \"linecolor\": \"white\", \"showbackground\": true, \"ticks\": \"\", \"zerolinecolor\": \"white\"}, \"yaxis\": {\"backgroundcolor\": \"#E5ECF6\", \"gridcolor\": \"white\", \"gridwidth\": 2, \"linecolor\": \"white\", \"showbackground\": true, \"ticks\": \"\", \"zerolinecolor\": \"white\"}, \"zaxis\": {\"backgroundcolor\": \"#E5ECF6\", \"gridcolor\": \"white\", \"gridwidth\": 2, \"linecolor\": \"white\", \"showbackground\": true, \"ticks\": \"\", \"zerolinecolor\": \"white\"}}, \"shapedefaults\": {\"line\": {\"color\": \"#2a3f5f\"}}, \"ternary\": {\"aaxis\": {\"gridcolor\": \"white\", \"linecolor\": \"white\", \"ticks\": \"\"}, \"baxis\": {\"gridcolor\": \"white\", \"linecolor\": \"white\", \"ticks\": \"\"}, \"bgcolor\": \"#E5ECF6\", \"caxis\": {\"gridcolor\": \"white\", \"linecolor\": \"white\", \"ticks\": \"\"}}, \"title\": {\"x\": 0.05}, \"xaxis\": {\"automargin\": true, \"gridcolor\": \"white\", \"linecolor\": \"white\", \"ticks\": \"\", \"title\": {\"standoff\": 15}, \"zerolinecolor\": \"white\", \"zerolinewidth\": 2}, \"yaxis\": {\"automargin\": true, \"gridcolor\": \"white\", \"linecolor\": \"white\", \"ticks\": \"\", \"title\": {\"standoff\": 15}, \"zerolinecolor\": \"white\", \"zerolinewidth\": 2}}}, \"title\": {\"text\": \"Total Volume for Organic\"}, \"xaxis\": {\"anchor\": \"y\", \"domain\": [0.0, 1.0], \"title\": {\"text\": \"Date\"}}, \"yaxis\": {\"anchor\": \"x\", \"domain\": [0.0, 1.0], \"title\": {\"text\": \"TotalVolume\"}}},\n",
       "                        {\"responsive\": true}\n",
       "                    ).then(function(){\n",
       "                            \n",
       "var gd = document.getElementById('3a0d848e-95f8-491c-811b-f8edab127e17');\n",
       "var x = new MutationObserver(function (mutations, observer) {{\n",
       "        var display = window.getComputedStyle(gd).display;\n",
       "        if (!display || display === 'none') {{\n",
       "            console.log([gd, 'removed!']);\n",
       "            Plotly.purge(gd);\n",
       "            observer.disconnect();\n",
       "        }}\n",
       "}});\n",
       "\n",
       "// Listen for the removal of the full notebook cells\n",
       "var notebookContainer = gd.closest('#notebook-container');\n",
       "if (notebookContainer) {{\n",
       "    x.observe(notebookContainer, {childList: true});\n",
       "}}\n",
       "\n",
       "// Listen for the clearing of the current output cell\n",
       "var outputEl = gd.closest('.output');\n",
       "if (outputEl) {{\n",
       "    x.observe(outputEl, {childList: true});\n",
       "}}\n",
       "\n",
       "                        })\n",
       "                };\n",
       "                });\n",
       "            </script>\n",
       "        </div>"
      ]
     },
     "metadata": {},
     "output_type": "display_data"
    }
   ],
   "source": [
    "px.line(df_avo_total.query(\"type=='organic'\"), \n",
    "        x='Date', \n",
    "        y='TotalVolume', \n",
    "        title='Total Volume for Organic')"
   ]
  },
  {
   "cell_type": "markdown",
   "metadata": {},
   "source": [
    "Looking at summary statistic paints a similar picture where the mean, min, max, and quartiles are all growing by nearly 80% over the two years.  While there was a substantial increase in the volume with the attendant increase in volatility the coefficient of variation actually decreased over the two periods."
   ]
  },
  {
   "cell_type": "code",
   "execution_count": 37,
   "metadata": {
    "ExecuteTime": {
     "end_time": "2020-03-22T14:10:18.727627Z",
     "start_time": "2020-03-22T14:10:18.694663Z"
    }
   },
   "outputs": [
    {
     "data": {
      "text/html": [
       "<div>\n",
       "<style scoped>\n",
       "    .dataframe tbody tr th:only-of-type {\n",
       "        vertical-align: middle;\n",
       "    }\n",
       "\n",
       "    .dataframe tbody tr th {\n",
       "        vertical-align: top;\n",
       "    }\n",
       "\n",
       "    .dataframe thead th {\n",
       "        text-align: right;\n",
       "    }\n",
       "</style>\n",
       "<table border=\"1\" class=\"dataframe\">\n",
       "  <thead>\n",
       "    <tr style=\"text-align: right;\">\n",
       "      <th>year</th>\n",
       "      <th>Y_2015</th>\n",
       "      <th>Y_2016</th>\n",
       "      <th>Y_2017</th>\n",
       "      <th>Y_2018</th>\n",
       "      <th>Ratio</th>\n",
       "    </tr>\n",
       "  </thead>\n",
       "  <tbody>\n",
       "    <tr>\n",
       "      <th>count</th>\n",
       "      <td>52.00</td>\n",
       "      <td>52.00</td>\n",
       "      <td>53.00</td>\n",
       "      <td>12.00</td>\n",
       "      <td>1.02</td>\n",
       "    </tr>\n",
       "    <tr>\n",
       "      <th>mean</th>\n",
       "      <td>645,563.57</td>\n",
       "      <td>940,379.88</td>\n",
       "      <td>1,187,239.29</td>\n",
       "      <td>1,510,487.83</td>\n",
       "      <td>1.84</td>\n",
       "    </tr>\n",
       "    <tr>\n",
       "      <th>std</th>\n",
       "      <td>98,459.77</td>\n",
       "      <td>162,169.92</td>\n",
       "      <td>181,386.85</td>\n",
       "      <td>165,114.33</td>\n",
       "      <td>1.84</td>\n",
       "    </tr>\n",
       "    <tr>\n",
       "      <th>cv</th>\n",
       "      <td>0.15</td>\n",
       "      <td>0.17</td>\n",
       "      <td>0.15</td>\n",
       "      <td>0.11</td>\n",
       "      <td>1.00</td>\n",
       "    </tr>\n",
       "    <tr>\n",
       "      <th>min</th>\n",
       "      <td>501,814.87</td>\n",
       "      <td>647,723.55</td>\n",
       "      <td>808,971.88</td>\n",
       "      <td>1,283,987.65</td>\n",
       "      <td>1.61</td>\n",
       "    </tr>\n",
       "    <tr>\n",
       "      <th>25%</th>\n",
       "      <td>570,612.39</td>\n",
       "      <td>825,467.81</td>\n",
       "      <td>1,068,530.09</td>\n",
       "      <td>1,372,757.33</td>\n",
       "      <td>1.87</td>\n",
       "    </tr>\n",
       "    <tr>\n",
       "      <th>50%</th>\n",
       "      <td>644,637.19</td>\n",
       "      <td>925,106.11</td>\n",
       "      <td>1,148,617.16</td>\n",
       "      <td>1,496,991.89</td>\n",
       "      <td>1.78</td>\n",
       "    </tr>\n",
       "    <tr>\n",
       "      <th>75%</th>\n",
       "      <td>677,590.98</td>\n",
       "      <td>1,035,734.41</td>\n",
       "      <td>1,302,205.55</td>\n",
       "      <td>1,641,881.80</td>\n",
       "      <td>1.92</td>\n",
       "    </tr>\n",
       "    <tr>\n",
       "      <th>max</th>\n",
       "      <td>912,681.57</td>\n",
       "      <td>1,475,457.53</td>\n",
       "      <td>1,634,877.11</td>\n",
       "      <td>1,814,929.97</td>\n",
       "      <td>1.79</td>\n",
       "    </tr>\n",
       "    <tr>\n",
       "      <th>iqr</th>\n",
       "      <td>106,978.60</td>\n",
       "      <td>210,266.59</td>\n",
       "      <td>233,675.46</td>\n",
       "      <td>269,124.47</td>\n",
       "      <td>2.18</td>\n",
       "    </tr>\n",
       "  </tbody>\n",
       "</table>\n",
       "</div>"
      ],
      "text/plain": [
       "year      Y_2015       Y_2016       Y_2017       Y_2018  Ratio\n",
       "count      52.00        52.00        53.00        12.00   1.02\n",
       "mean  645,563.57   940,379.88 1,187,239.29 1,510,487.83   1.84\n",
       "std    98,459.77   162,169.92   181,386.85   165,114.33   1.84\n",
       "cv          0.15         0.17         0.15         0.11   1.00\n",
       "min   501,814.87   647,723.55   808,971.88 1,283,987.65   1.61\n",
       "25%   570,612.39   825,467.81 1,068,530.09 1,372,757.33   1.87\n",
       "50%   644,637.19   925,106.11 1,148,617.16 1,496,991.89   1.78\n",
       "75%   677,590.98 1,035,734.41 1,302,205.55 1,641,881.80   1.92\n",
       "max   912,681.57 1,475,457.53 1,634,877.11 1,814,929.97   1.79\n",
       "iqr   106,978.60   210,266.59   233,675.46   269,124.47   2.18"
      ]
     },
     "execution_count": 37,
     "metadata": {},
     "output_type": "execute_result"
    }
   ],
   "source": [
    "(df_avo_total.query(\"type=='organic'\")\n",
    "            .pivot(index='Date', columns='year', values='TotalVolume')\n",
    "            .pipe(describe_stats)\n",
    "            .add_prefix('Y_')\n",
    "            .eval(\"Ratio=Y_2017/Y_2015\"))"
   ]
  },
  {
   "cell_type": "markdown",
   "metadata": {},
   "source": [
    "I want to get a better understanding of the total revenue brought in so I will mutliply the average price times the volume to get the revenue per day.  The summary stats are mostly in line with expectations.  The one interesting point is that the cv for organic is quite high compared to conventional."
   ]
  },
  {
   "cell_type": "code",
   "execution_count": 58,
   "metadata": {
    "ExecuteTime": {
     "end_time": "2020-03-22T14:31:52.705844Z",
     "start_time": "2020-03-22T14:31:52.697852Z"
    }
   },
   "outputs": [],
   "source": [
    "df_avo_total.eval(\"Revenue=TotalVolume*AveragePrice\", inplace=True)"
   ]
  },
  {
   "cell_type": "code",
   "execution_count": 59,
   "metadata": {
    "ExecuteTime": {
     "end_time": "2020-03-22T14:31:53.352174Z",
     "start_time": "2020-03-22T14:31:53.327241Z"
    }
   },
   "outputs": [
    {
     "data": {
      "text/html": [
       "<div>\n",
       "<style scoped>\n",
       "    .dataframe tbody tr th:only-of-type {\n",
       "        vertical-align: middle;\n",
       "    }\n",
       "\n",
       "    .dataframe tbody tr th {\n",
       "        vertical-align: top;\n",
       "    }\n",
       "\n",
       "    .dataframe thead th {\n",
       "        text-align: right;\n",
       "    }\n",
       "</style>\n",
       "<table border=\"1\" class=\"dataframe\">\n",
       "  <thead>\n",
       "    <tr style=\"text-align: right;\">\n",
       "      <th>type</th>\n",
       "      <th>conventional</th>\n",
       "      <th>organic</th>\n",
       "    </tr>\n",
       "  </thead>\n",
       "  <tbody>\n",
       "    <tr>\n",
       "      <th>count</th>\n",
       "      <td>169.00</td>\n",
       "      <td>169.00</td>\n",
       "    </tr>\n",
       "    <tr>\n",
       "      <th>mean</th>\n",
       "      <td>36,299,028.44</td>\n",
       "      <td>1,497,380.44</td>\n",
       "    </tr>\n",
       "    <tr>\n",
       "      <th>std</th>\n",
       "      <td>5,649,787.93</td>\n",
       "      <td>501,588.85</td>\n",
       "    </tr>\n",
       "    <tr>\n",
       "      <th>cv</th>\n",
       "      <td>0.16</td>\n",
       "      <td>0.33</td>\n",
       "    </tr>\n",
       "    <tr>\n",
       "      <th>min</th>\n",
       "      <td>22,391,819.39</td>\n",
       "      <td>573,873.00</td>\n",
       "    </tr>\n",
       "    <tr>\n",
       "      <th>25%</th>\n",
       "      <td>32,360,761.36</td>\n",
       "      <td>1,085,445.35</td>\n",
       "    </tr>\n",
       "    <tr>\n",
       "      <th>50%</th>\n",
       "      <td>36,449,306.18</td>\n",
       "      <td>1,413,311.01</td>\n",
       "    </tr>\n",
       "    <tr>\n",
       "      <th>75%</th>\n",
       "      <td>39,743,360.74</td>\n",
       "      <td>1,939,747.19</td>\n",
       "    </tr>\n",
       "    <tr>\n",
       "      <th>max</th>\n",
       "      <td>54,379,912.47</td>\n",
       "      <td>2,758,693.55</td>\n",
       "    </tr>\n",
       "    <tr>\n",
       "      <th>iqr</th>\n",
       "      <td>7,382,599.39</td>\n",
       "      <td>854,301.84</td>\n",
       "    </tr>\n",
       "  </tbody>\n",
       "</table>\n",
       "</div>"
      ],
      "text/plain": [
       "type   conventional      organic\n",
       "count        169.00       169.00\n",
       "mean  36,299,028.44 1,497,380.44\n",
       "std    5,649,787.93   501,588.85\n",
       "cv             0.16         0.33\n",
       "min   22,391,819.39   573,873.00\n",
       "25%   32,360,761.36 1,085,445.35\n",
       "50%   36,449,306.18 1,413,311.01\n",
       "75%   39,743,360.74 1,939,747.19\n",
       "max   54,379,912.47 2,758,693.55\n",
       "iqr    7,382,599.39   854,301.84"
      ]
     },
     "execution_count": 59,
     "metadata": {},
     "output_type": "execute_result"
    }
   ],
   "source": [
    "df_avo_total.pivot(index='Date', columns='type', values='Revenue').pipe(describe_stats)"
   ]
  },
  {
   "cell_type": "code",
   "execution_count": 57,
   "metadata": {
    "ExecuteTime": {
     "end_time": "2020-03-22T14:21:16.461349Z",
     "start_time": "2020-03-22T14:21:16.425453Z"
    }
   },
   "outputs": [
    {
     "data": {
      "text/html": [
       "<div>\n",
       "<style scoped>\n",
       "    .dataframe tbody tr th:only-of-type {\n",
       "        vertical-align: middle;\n",
       "    }\n",
       "\n",
       "    .dataframe tbody tr th {\n",
       "        vertical-align: top;\n",
       "    }\n",
       "\n",
       "    .dataframe thead th {\n",
       "        text-align: right;\n",
       "    }\n",
       "</style>\n",
       "<table border=\"1\" class=\"dataframe\">\n",
       "  <thead>\n",
       "    <tr style=\"text-align: right;\">\n",
       "      <th></th>\n",
       "      <th></th>\n",
       "      <th>count</th>\n",
       "      <th>mean</th>\n",
       "      <th>std</th>\n",
       "      <th>min</th>\n",
       "      <th>25%</th>\n",
       "      <th>50%</th>\n",
       "      <th>75%</th>\n",
       "      <th>max</th>\n",
       "    </tr>\n",
       "    <tr>\n",
       "      <th>type</th>\n",
       "      <th>year</th>\n",
       "      <th></th>\n",
       "      <th></th>\n",
       "      <th></th>\n",
       "      <th></th>\n",
       "      <th></th>\n",
       "      <th></th>\n",
       "      <th></th>\n",
       "      <th></th>\n",
       "    </tr>\n",
       "  </thead>\n",
       "  <tbody>\n",
       "    <tr>\n",
       "      <th rowspan=\"4\" valign=\"top\">conventional</th>\n",
       "      <th>2015</th>\n",
       "      <td>52.00</td>\n",
       "      <td>31,602,546.03</td>\n",
       "      <td>3,979,590.95</td>\n",
       "      <td>22,391,819.39</td>\n",
       "      <td>29,182,491.70</td>\n",
       "      <td>31,924,573.45</td>\n",
       "      <td>34,112,247.88</td>\n",
       "      <td>39,743,360.74</td>\n",
       "    </tr>\n",
       "    <tr>\n",
       "      <th>2016</th>\n",
       "      <td>52.00</td>\n",
       "      <td>34,862,218.41</td>\n",
       "      <td>3,300,763.32</td>\n",
       "      <td>27,736,905.81</td>\n",
       "      <td>32,427,664.59</td>\n",
       "      <td>34,414,833.97</td>\n",
       "      <td>37,570,389.31</td>\n",
       "      <td>42,392,777.20</td>\n",
       "    </tr>\n",
       "    <tr>\n",
       "      <th>2017</th>\n",
       "      <td>53.00</td>\n",
       "      <td>40,524,497.14</td>\n",
       "      <td>4,160,410.32</td>\n",
       "      <td>30,611,477.00</td>\n",
       "      <td>37,669,304.59</td>\n",
       "      <td>40,361,458.14</td>\n",
       "      <td>43,274,254.56</td>\n",
       "      <td>51,550,374.54</td>\n",
       "    </tr>\n",
       "    <tr>\n",
       "      <th>2018</th>\n",
       "      <td>12.00</td>\n",
       "      <td>44,214,142.30</td>\n",
       "      <td>3,652,828.97</td>\n",
       "      <td>39,646,678.49</td>\n",
       "      <td>42,285,308.34</td>\n",
       "      <td>43,690,093.77</td>\n",
       "      <td>44,724,081.68</td>\n",
       "      <td>54,379,912.47</td>\n",
       "    </tr>\n",
       "    <tr>\n",
       "      <th rowspan=\"4\" valign=\"top\">organic</th>\n",
       "      <th>2015</th>\n",
       "      <td>52.00</td>\n",
       "      <td>965,857.96</td>\n",
       "      <td>177,175.22</td>\n",
       "      <td>573,873.00</td>\n",
       "      <td>876,275.12</td>\n",
       "      <td>983,633.51</td>\n",
       "      <td>1,083,096.18</td>\n",
       "      <td>1,264,746.65</td>\n",
       "    </tr>\n",
       "    <tr>\n",
       "      <th>2016</th>\n",
       "      <td>52.00</td>\n",
       "      <td>1,380,886.98</td>\n",
       "      <td>196,205.76</td>\n",
       "      <td>1,001,291.64</td>\n",
       "      <td>1,224,552.91</td>\n",
       "      <td>1,406,491.23</td>\n",
       "      <td>1,520,384.95</td>\n",
       "      <td>1,844,321.91</td>\n",
       "    </tr>\n",
       "    <tr>\n",
       "      <th>2017</th>\n",
       "      <td>53.00</td>\n",
       "      <td>1,941,616.33</td>\n",
       "      <td>267,848.42</td>\n",
       "      <td>1,197,278.38</td>\n",
       "      <td>1,875,227.75</td>\n",
       "      <td>1,984,033.94</td>\n",
       "      <td>2,149,099.30</td>\n",
       "      <td>2,230,787.84</td>\n",
       "    </tr>\n",
       "    <tr>\n",
       "      <th>2018</th>\n",
       "      <td>12.00</td>\n",
       "      <td>2,343,407.64</td>\n",
       "      <td>218,980.42</td>\n",
       "      <td>2,054,520.73</td>\n",
       "      <td>2,144,043.66</td>\n",
       "      <td>2,319,921.86</td>\n",
       "      <td>2,495,660.33</td>\n",
       "      <td>2,758,693.55</td>\n",
       "    </tr>\n",
       "  </tbody>\n",
       "</table>\n",
       "</div>"
      ],
      "text/plain": [
       "                   count          mean          std           min  \\\n",
       "type         year                                                   \n",
       "conventional 2015  52.00 31,602,546.03 3,979,590.95 22,391,819.39   \n",
       "             2016  52.00 34,862,218.41 3,300,763.32 27,736,905.81   \n",
       "             2017  53.00 40,524,497.14 4,160,410.32 30,611,477.00   \n",
       "             2018  12.00 44,214,142.30 3,652,828.97 39,646,678.49   \n",
       "organic      2015  52.00    965,857.96   177,175.22    573,873.00   \n",
       "             2016  52.00  1,380,886.98   196,205.76  1,001,291.64   \n",
       "             2017  53.00  1,941,616.33   267,848.42  1,197,278.38   \n",
       "             2018  12.00  2,343,407.64   218,980.42  2,054,520.73   \n",
       "\n",
       "                            25%           50%           75%           max  \n",
       "type         year                                                          \n",
       "conventional 2015 29,182,491.70 31,924,573.45 34,112,247.88 39,743,360.74  \n",
       "             2016 32,427,664.59 34,414,833.97 37,570,389.31 42,392,777.20  \n",
       "             2017 37,669,304.59 40,361,458.14 43,274,254.56 51,550,374.54  \n",
       "             2018 42,285,308.34 43,690,093.77 44,724,081.68 54,379,912.47  \n",
       "organic      2015    876,275.12    983,633.51  1,083,096.18  1,264,746.65  \n",
       "             2016  1,224,552.91  1,406,491.23  1,520,384.95  1,844,321.91  \n",
       "             2017  1,875,227.75  1,984,033.94  2,149,099.30  2,230,787.84  \n",
       "             2018  2,144,043.66  2,319,921.86  2,495,660.33  2,758,693.55  "
      ]
     },
     "execution_count": 57,
     "metadata": {},
     "output_type": "execute_result"
    }
   ],
   "source": [
    "df_avo_total.groupby(['type', 'year'])['Revenue'].describe()"
   ]
  },
  {
   "cell_type": "code",
   "execution_count": 103,
   "metadata": {
    "ExecuteTime": {
     "end_time": "2020-03-22T15:15:36.151961Z",
     "start_time": "2020-03-22T15:15:36.141987Z"
    }
   },
   "outputs": [],
   "source": [
    "df_tidy_conv = (df_avo_total.query(\"type=='conventional'\")\n",
    "                    .melt(id_vars=['Date'], \n",
    "                          var_name=['Category'], \n",
    "                          value_vars=['TotalVolume', 'Revenue', 'AveragePrice'], \n",
    "                          value_name='Value'))"
   ]
  },
  {
   "cell_type": "markdown",
   "metadata": {},
   "source": [
    "When looking at a graph of price, volume, and revenue charted together for conventional avocados it appears there was a change in correlation between price and volume starting in 2016.  In 2015 there was effectively no correlation but starting in 2016 a drastic negative correlation started.  Perhaps this was due to the fact that there was much less volume volatility in 2015 which prevented large price changes.  After 2015 the volality increased by > 60% from the 2015 baseline."
   ]
  },
  {
   "cell_type": "code",
   "execution_count": 132,
   "metadata": {
    "ExecuteTime": {
     "end_time": "2020-03-22T17:56:30.012969Z",
     "start_time": "2020-03-22T17:56:29.184070Z"
    }
   },
   "outputs": [
    {
     "data": {
      "text/html": [
       "<div>\n",
       "        \n",
       "        \n",
       "            <div id=\"16f7e940-7692-4f54-b440-09d6e21e5077\" class=\"plotly-graph-div\" style=\"height:525px; width:800px;\"></div>\n",
       "            <script type=\"text/javascript\">\n",
       "                require([\"plotly\"], function(Plotly) {\n",
       "                    window.PLOTLYENV=window.PLOTLYENV || {};\n",
       "                    \n",
       "                if (document.getElementById(\"16f7e940-7692-4f54-b440-09d6e21e5077\")) {\n",
       "                    Plotly.newPlot(\n",
       "                        '16f7e940-7692-4f54-b440-09d6e21e5077',\n",
       "                        [{\"mode\": \"lines\", \"name\": \"revenue\", \"type\": \"scatter\", \"x\": [\"2015-01-04T00:00:00\", \"2015-01-11T00:00:00\", \"2015-01-18T00:00:00\", \"2015-01-25T00:00:00\", \"2015-02-01T00:00:00\", \"2015-02-08T00:00:00\", \"2015-02-15T00:00:00\", \"2015-02-22T00:00:00\", \"2015-03-01T00:00:00\", \"2015-03-08T00:00:00\", \"2015-03-15T00:00:00\", \"2015-03-22T00:00:00\", \"2015-03-29T00:00:00\", \"2015-04-05T00:00:00\", \"2015-04-12T00:00:00\", \"2015-04-19T00:00:00\", \"2015-04-26T00:00:00\", \"2015-05-03T00:00:00\", \"2015-05-10T00:00:00\", \"2015-05-17T00:00:00\", \"2015-05-24T00:00:00\", \"2015-05-31T00:00:00\", \"2015-06-07T00:00:00\", \"2015-06-14T00:00:00\", \"2015-06-21T00:00:00\", \"2015-06-28T00:00:00\", \"2015-07-05T00:00:00\", \"2015-07-12T00:00:00\", \"2015-07-19T00:00:00\", \"2015-07-26T00:00:00\", \"2015-08-02T00:00:00\", \"2015-08-09T00:00:00\", \"2015-08-16T00:00:00\", \"2015-08-23T00:00:00\", \"2015-08-30T00:00:00\", \"2015-09-06T00:00:00\", \"2015-09-13T00:00:00\", \"2015-09-20T00:00:00\", \"2015-09-27T00:00:00\", \"2015-10-04T00:00:00\", \"2015-10-11T00:00:00\", \"2015-10-18T00:00:00\", \"2015-10-25T00:00:00\", \"2015-11-01T00:00:00\", \"2015-11-08T00:00:00\", \"2015-11-15T00:00:00\", \"2015-11-22T00:00:00\", \"2015-11-29T00:00:00\", \"2015-12-06T00:00:00\", \"2015-12-13T00:00:00\", \"2015-12-20T00:00:00\", \"2015-12-27T00:00:00\", \"2016-01-03T00:00:00\", \"2016-01-10T00:00:00\", \"2016-01-17T00:00:00\", \"2016-01-24T00:00:00\", \"2016-01-31T00:00:00\", \"2016-02-07T00:00:00\", \"2016-02-14T00:00:00\", \"2016-02-21T00:00:00\", \"2016-02-28T00:00:00\", \"2016-03-06T00:00:00\", \"2016-03-13T00:00:00\", \"2016-03-20T00:00:00\", \"2016-03-27T00:00:00\", \"2016-04-03T00:00:00\", \"2016-04-10T00:00:00\", \"2016-04-17T00:00:00\", \"2016-04-24T00:00:00\", \"2016-05-01T00:00:00\", \"2016-05-08T00:00:00\", \"2016-05-15T00:00:00\", \"2016-05-22T00:00:00\", \"2016-05-29T00:00:00\", \"2016-06-05T00:00:00\", \"2016-06-12T00:00:00\", \"2016-06-19T00:00:00\", \"2016-06-26T00:00:00\", \"2016-07-03T00:00:00\", \"2016-07-10T00:00:00\", \"2016-07-17T00:00:00\", \"2016-07-24T00:00:00\", \"2016-07-31T00:00:00\", \"2016-08-07T00:00:00\", \"2016-08-14T00:00:00\", \"2016-08-21T00:00:00\", \"2016-08-28T00:00:00\", \"2016-09-04T00:00:00\", \"2016-09-11T00:00:00\", \"2016-09-18T00:00:00\", \"2016-09-25T00:00:00\", \"2016-10-02T00:00:00\", \"2016-10-09T00:00:00\", \"2016-10-16T00:00:00\", \"2016-10-23T00:00:00\", \"2016-10-30T00:00:00\", \"2016-11-06T00:00:00\", \"2016-11-13T00:00:00\", \"2016-11-20T00:00:00\", \"2016-11-27T00:00:00\", \"2016-12-04T00:00:00\", \"2016-12-11T00:00:00\", \"2016-12-18T00:00:00\", \"2016-12-25T00:00:00\", \"2017-01-01T00:00:00\", \"2017-01-08T00:00:00\", \"2017-01-15T00:00:00\", \"2017-01-22T00:00:00\", \"2017-01-29T00:00:00\", \"2017-02-05T00:00:00\", \"2017-02-12T00:00:00\", \"2017-02-19T00:00:00\", \"2017-02-26T00:00:00\", \"2017-03-05T00:00:00\", \"2017-03-12T00:00:00\", \"2017-03-19T00:00:00\", \"2017-03-26T00:00:00\", \"2017-04-02T00:00:00\", \"2017-04-09T00:00:00\", \"2017-04-16T00:00:00\", \"2017-04-23T00:00:00\", \"2017-04-30T00:00:00\", \"2017-05-07T00:00:00\", \"2017-05-14T00:00:00\", \"2017-05-21T00:00:00\", \"2017-05-28T00:00:00\", \"2017-06-04T00:00:00\", \"2017-06-11T00:00:00\", \"2017-06-18T00:00:00\", \"2017-06-25T00:00:00\", \"2017-07-02T00:00:00\", \"2017-07-09T00:00:00\", \"2017-07-16T00:00:00\", \"2017-07-23T00:00:00\", \"2017-07-30T00:00:00\", \"2017-08-06T00:00:00\", \"2017-08-13T00:00:00\", \"2017-08-20T00:00:00\", \"2017-08-27T00:00:00\", \"2017-09-03T00:00:00\", \"2017-09-10T00:00:00\", \"2017-09-17T00:00:00\", \"2017-09-24T00:00:00\", \"2017-10-01T00:00:00\", \"2017-10-08T00:00:00\", \"2017-10-15T00:00:00\", \"2017-10-22T00:00:00\", \"2017-10-29T00:00:00\", \"2017-11-05T00:00:00\", \"2017-11-12T00:00:00\", \"2017-11-19T00:00:00\", \"2017-11-26T00:00:00\", \"2017-12-03T00:00:00\", \"2017-12-10T00:00:00\", \"2017-12-17T00:00:00\", \"2017-12-24T00:00:00\", \"2017-12-31T00:00:00\", \"2018-01-07T00:00:00\", \"2018-01-14T00:00:00\", \"2018-01-21T00:00:00\", \"2018-01-28T00:00:00\", \"2018-02-04T00:00:00\", \"2018-02-11T00:00:00\", \"2018-02-18T00:00:00\", \"2018-02-25T00:00:00\", \"2018-03-04T00:00:00\", \"2018-03-11T00:00:00\", \"2018-03-18T00:00:00\", \"2018-03-25T00:00:00\"], \"xaxis\": \"x\", \"y\": [29758063.8435, 29354178.177500002, 29914762.615500003, 29609123.2736, 39743360.7439, 30530466.3595, 28852896.5579, 30535464.355200004, 32004193.7352, 30696592.827000003, 30755114.7384, 32838686.015100002, 31181954.367200002, 33390709.6064, 32687329.6728, 34083993.9478, 33056748.846000005, 39640036.2144, 37128904.3116, 33949347.319, 36757950.475999996, 34731763.86270001, 36549995.66, 36285564.035, 36449306.177999996, 34353228.042, 39461417.15360001, 33876233.8976, 34587372.9962, 32797865.8556, 33090729.9892, 34917657.4635, 33533698.989, 32075833.2588, 31844953.173600003, 34197009.6816, 32183210.719499998, 30160468.2912, 28586113.384200003, 28808375.6304, 29216198.15, 29081372.364, 27289674.994400002, 30116059.741899997, 27631144.4909, 26309935.768400002, 24109658.9856, 22391819.3862, 25632352.947300002, 26078441.9034, 24581974.226600002, 25933084.4865, 32802195.714399997, 32795832.4893, 32360761.357799996, 31147725.2495, 32290762.425600003, 39739410.396400005, 32099268.836799998, 30836449.2268, 33489654.088800002, 33311280.737999998, 33828300.0102, 33791999.915400006, 33774384.1648, 31648343.516999997, 32925626.451, 33721096.671, 34458694.911, 36008791.173599996, 37986114.354, 35524347.0986, 34370973.0243, 37617930.7256, 39024321.8605, 37004052.800000004, 39259734.8628, 38081704.7416, 42392777.2024, 39124325.273, 37554542.174499996, 38807252.508, 38377955.9706, 38892895.4535, 38512518.576, 36951307.492, 37053385.127900004, 38615916.4664, 36856869.42600001, 36048005.179, 36972237.7258, 36426460.4427, 36649129.1146, 36019160.866000004, 33169708.693, 30043914.2003, 32449965.6672, 32742172.0264, 31736922.4925, 27736905.8065, 31621221.9, 29491669.886, 28400527.3056, 30287853.7, 34602947.9965, 37669304.59379999, 37529578.543800004, 39611969.7866, 37798636.08, 46996531.967, 35737399.4655, 33566796.0342, 36637719.713099994, 38063117.7613, 39065100.2068, 39493906.5375, 40368347.9568, 41706301.0056, 42090712.185499996, 43274254.5594, 42160236.4256, 45212290.5074, 51550374.54400001, 43594780.1457, 43341040.449, 47399543.9744, 46316927.13160001, 44818223.098, 45132249.80939999, 43647209.985599995, 45992615.65359999, 46059783.33059999, 43165212.6563, 42716874.9781, 41918048.3304, 43264793.9059, 43646947.9929, 42178379.5617, 42314361.2325, 42089204.7205, 41160726.9216, 39869997.4274, 39912180.3756, 40361458.1444, 40255324.2135, 39549910.7622, 38458038.9744, 39006905.4867, 38141397.1456, 37186658.75, 34226576.28, 30611477.0, 36868435.77, 36703960.400299996, 32910810.722100005, 34340772.2094, 37501994.7778, 41474567.0936, 44759934.264, 46375007.274, 43787088.51560001, 54379912.4724, 41872771.9073, 39646678.4892, 42422820.4856, 43593099.0335, 44090067.4008, 43455629.826, 44712130.8225], \"yaxis\": \"y\"}, {\"mode\": \"lines\", \"name\": \"volume\", \"type\": \"scatter\", \"x\": [\"2015-01-04T00:00:00\", \"2015-01-11T00:00:00\", \"2015-01-18T00:00:00\", \"2015-01-25T00:00:00\", \"2015-02-01T00:00:00\", \"2015-02-08T00:00:00\", \"2015-02-15T00:00:00\", \"2015-02-22T00:00:00\", \"2015-03-01T00:00:00\", \"2015-03-08T00:00:00\", \"2015-03-15T00:00:00\", \"2015-03-22T00:00:00\", \"2015-03-29T00:00:00\", \"2015-04-05T00:00:00\", \"2015-04-12T00:00:00\", \"2015-04-19T00:00:00\", \"2015-04-26T00:00:00\", \"2015-05-03T00:00:00\", \"2015-05-10T00:00:00\", \"2015-05-17T00:00:00\", \"2015-05-24T00:00:00\", \"2015-05-31T00:00:00\", \"2015-06-07T00:00:00\", \"2015-06-14T00:00:00\", \"2015-06-21T00:00:00\", \"2015-06-28T00:00:00\", \"2015-07-05T00:00:00\", \"2015-07-12T00:00:00\", \"2015-07-19T00:00:00\", \"2015-07-26T00:00:00\", \"2015-08-02T00:00:00\", \"2015-08-09T00:00:00\", \"2015-08-16T00:00:00\", \"2015-08-23T00:00:00\", \"2015-08-30T00:00:00\", \"2015-09-06T00:00:00\", \"2015-09-13T00:00:00\", \"2015-09-20T00:00:00\", \"2015-09-27T00:00:00\", \"2015-10-04T00:00:00\", \"2015-10-11T00:00:00\", \"2015-10-18T00:00:00\", \"2015-10-25T00:00:00\", \"2015-11-01T00:00:00\", \"2015-11-08T00:00:00\", \"2015-11-15T00:00:00\", \"2015-11-22T00:00:00\", \"2015-11-29T00:00:00\", \"2015-12-06T00:00:00\", \"2015-12-13T00:00:00\", \"2015-12-20T00:00:00\", \"2015-12-27T00:00:00\", \"2016-01-03T00:00:00\", \"2016-01-10T00:00:00\", \"2016-01-17T00:00:00\", \"2016-01-24T00:00:00\", \"2016-01-31T00:00:00\", \"2016-02-07T00:00:00\", \"2016-02-14T00:00:00\", \"2016-02-21T00:00:00\", \"2016-02-28T00:00:00\", \"2016-03-06T00:00:00\", \"2016-03-13T00:00:00\", \"2016-03-20T00:00:00\", \"2016-03-27T00:00:00\", \"2016-04-03T00:00:00\", \"2016-04-10T00:00:00\", \"2016-04-17T00:00:00\", \"2016-04-24T00:00:00\", \"2016-05-01T00:00:00\", \"2016-05-08T00:00:00\", \"2016-05-15T00:00:00\", \"2016-05-22T00:00:00\", \"2016-05-29T00:00:00\", \"2016-06-05T00:00:00\", \"2016-06-12T00:00:00\", \"2016-06-19T00:00:00\", \"2016-06-26T00:00:00\", \"2016-07-03T00:00:00\", \"2016-07-10T00:00:00\", \"2016-07-17T00:00:00\", \"2016-07-24T00:00:00\", \"2016-07-31T00:00:00\", \"2016-08-07T00:00:00\", \"2016-08-14T00:00:00\", \"2016-08-21T00:00:00\", \"2016-08-28T00:00:00\", \"2016-09-04T00:00:00\", \"2016-09-11T00:00:00\", \"2016-09-18T00:00:00\", \"2016-09-25T00:00:00\", \"2016-10-02T00:00:00\", \"2016-10-09T00:00:00\", \"2016-10-16T00:00:00\", \"2016-10-23T00:00:00\", \"2016-10-30T00:00:00\", \"2016-11-06T00:00:00\", \"2016-11-13T00:00:00\", \"2016-11-20T00:00:00\", \"2016-11-27T00:00:00\", \"2016-12-04T00:00:00\", \"2016-12-11T00:00:00\", \"2016-12-18T00:00:00\", \"2016-12-25T00:00:00\", \"2017-01-01T00:00:00\", \"2017-01-08T00:00:00\", \"2017-01-15T00:00:00\", \"2017-01-22T00:00:00\", \"2017-01-29T00:00:00\", \"2017-02-05T00:00:00\", \"2017-02-12T00:00:00\", \"2017-02-19T00:00:00\", \"2017-02-26T00:00:00\", \"2017-03-05T00:00:00\", \"2017-03-12T00:00:00\", \"2017-03-19T00:00:00\", \"2017-03-26T00:00:00\", \"2017-04-02T00:00:00\", \"2017-04-09T00:00:00\", \"2017-04-16T00:00:00\", \"2017-04-23T00:00:00\", \"2017-04-30T00:00:00\", \"2017-05-07T00:00:00\", \"2017-05-14T00:00:00\", \"2017-05-21T00:00:00\", \"2017-05-28T00:00:00\", \"2017-06-04T00:00:00\", \"2017-06-11T00:00:00\", \"2017-06-18T00:00:00\", \"2017-06-25T00:00:00\", \"2017-07-02T00:00:00\", \"2017-07-09T00:00:00\", \"2017-07-16T00:00:00\", \"2017-07-23T00:00:00\", \"2017-07-30T00:00:00\", \"2017-08-06T00:00:00\", \"2017-08-13T00:00:00\", \"2017-08-20T00:00:00\", \"2017-08-27T00:00:00\", \"2017-09-03T00:00:00\", \"2017-09-10T00:00:00\", \"2017-09-17T00:00:00\", \"2017-09-24T00:00:00\", \"2017-10-01T00:00:00\", \"2017-10-08T00:00:00\", \"2017-10-15T00:00:00\", \"2017-10-22T00:00:00\", \"2017-10-29T00:00:00\", \"2017-11-05T00:00:00\", \"2017-11-12T00:00:00\", \"2017-11-19T00:00:00\", \"2017-11-26T00:00:00\", \"2017-12-03T00:00:00\", \"2017-12-10T00:00:00\", \"2017-12-17T00:00:00\", \"2017-12-24T00:00:00\", \"2017-12-31T00:00:00\", \"2018-01-07T00:00:00\", \"2018-01-14T00:00:00\", \"2018-01-21T00:00:00\", \"2018-01-28T00:00:00\", \"2018-02-04T00:00:00\", \"2018-02-11T00:00:00\", \"2018-02-18T00:00:00\", \"2018-02-25T00:00:00\", \"2018-03-04T00:00:00\", \"2018-03-11T00:00:00\", \"2018-03-18T00:00:00\", \"2018-03-25T00:00:00\"], \"xaxis\": \"x\", \"y\": [31324277.73, 29063542.75, 29043458.85, 28470310.84, 44655461.51, 32137333.01, 28012520.93, 29936729.76, 32994014.16, 30094698.85, 29572225.71, 32513550.51, 29982648.43, 31500669.44, 32046401.64, 33091256.26, 30894157.8, 41291704.39, 36400886.58, 32027686.15, 35344183.15, 33720159.09, 36549995.66, 37026085.75, 35734613.9, 32408705.7, 37943670.34, 31660031.68, 32324647.66, 30652211.08, 30358467.88, 33254911.87, 31936856.18, 29699845.61, 29761638.48, 33526480.08, 31245835.65, 29569086.56, 27753508.14, 28243505.52, 29216198.15, 29375123.6, 26240072.11, 31047484.27, 28485715.97, 28597756.27, 25114228.11, 22617999.38, 28800396.57, 28041335.38, 25083647.17, 27297983.67, 38142088.04, 35264336.01, 34426341.87, 32787079.21, 34721249.92, 52288697.89, 36476441.86, 32804733.22, 36801817.68, 35064506.04, 36374516.14, 36335483.78, 35930195.92, 33668450.55, 36584029.39, 37467885.19, 39607695.3, 42867608.54, 46324529.7, 39914996.74, 36958035.51, 40019075.24, 40231259.65, 35580820.0, 38489936.14, 36617023.79, 39993186.04, 35567568.43, 32656123.63, 32339377.09, 31201590.22, 33819909.09, 34386177.3, 33592097.72, 33993931.31, 37130688.91, 34126730.95, 31346091.46, 30305112.89, 29615008.49, 28857581.98, 27707046.82, 24753513.95, 21009730.21, 22534698.38, 24075126.49, 24989702.75, 22923062.65, 31621221.9, 30093540.7, 29583882.61, 30287853.7, 38879716.85, 38049802.62, 38295488.31, 42140393.39, 39373579.25, 61034457.1, 41077470.65, 33905854.58, 37007797.69, 33684175.01, 32020573.94, 31595125.23, 32555119.32, 34468017.36, 34785712.55, 35182320.78, 35729013.92, 38315500.43, 47293921.6, 36634269.03, 34397651.15, 37030893.73, 37352360.59, 37039853.8, 38247669.33, 37305307.68, 38010426.16, 39367336.18, 32455047.11, 32608301.51, 31756097.22, 32529920.23, 32817254.13, 29913744.37, 28785279.75, 26808410.65, 26385081.36, 25394902.82, 24637148.38, 24610645.21, 24397166.19, 25031589.09, 26706971.51, 30237911.23, 32051594.24, 32336225.0, 29253484.0, 24686675.0, 33824253.0, 35634913.01, 30757767.03, 29102349.33, 38267341.61, 36703156.72, 37299945.22, 42939821.55, 40171640.84, 62505646.52, 43167806.09, 36709887.49, 40021528.76, 40741214.05, 40449603.12, 41386314.12, 43409835.75], \"yaxis\": \"y\"}, {\"marker\": {\"size\": 4}, \"mode\": \"markers\", \"name\": \"price\", \"type\": \"scatter\", \"x\": [\"2015-01-04T00:00:00\", \"2015-01-11T00:00:00\", \"2015-01-18T00:00:00\", \"2015-01-25T00:00:00\", \"2015-02-01T00:00:00\", \"2015-02-08T00:00:00\", \"2015-02-15T00:00:00\", \"2015-02-22T00:00:00\", \"2015-03-01T00:00:00\", \"2015-03-08T00:00:00\", \"2015-03-15T00:00:00\", \"2015-03-22T00:00:00\", \"2015-03-29T00:00:00\", \"2015-04-05T00:00:00\", \"2015-04-12T00:00:00\", \"2015-04-19T00:00:00\", \"2015-04-26T00:00:00\", \"2015-05-03T00:00:00\", \"2015-05-10T00:00:00\", \"2015-05-17T00:00:00\", \"2015-05-24T00:00:00\", \"2015-05-31T00:00:00\", \"2015-06-07T00:00:00\", \"2015-06-14T00:00:00\", \"2015-06-21T00:00:00\", \"2015-06-28T00:00:00\", \"2015-07-05T00:00:00\", \"2015-07-12T00:00:00\", \"2015-07-19T00:00:00\", \"2015-07-26T00:00:00\", \"2015-08-02T00:00:00\", \"2015-08-09T00:00:00\", \"2015-08-16T00:00:00\", \"2015-08-23T00:00:00\", \"2015-08-30T00:00:00\", \"2015-09-06T00:00:00\", \"2015-09-13T00:00:00\", \"2015-09-20T00:00:00\", \"2015-09-27T00:00:00\", \"2015-10-04T00:00:00\", \"2015-10-11T00:00:00\", \"2015-10-18T00:00:00\", \"2015-10-25T00:00:00\", \"2015-11-01T00:00:00\", \"2015-11-08T00:00:00\", \"2015-11-15T00:00:00\", \"2015-11-22T00:00:00\", \"2015-11-29T00:00:00\", \"2015-12-06T00:00:00\", \"2015-12-13T00:00:00\", \"2015-12-20T00:00:00\", \"2015-12-27T00:00:00\", \"2016-01-03T00:00:00\", \"2016-01-10T00:00:00\", \"2016-01-17T00:00:00\", \"2016-01-24T00:00:00\", \"2016-01-31T00:00:00\", \"2016-02-07T00:00:00\", \"2016-02-14T00:00:00\", \"2016-02-21T00:00:00\", \"2016-02-28T00:00:00\", \"2016-03-06T00:00:00\", \"2016-03-13T00:00:00\", \"2016-03-20T00:00:00\", \"2016-03-27T00:00:00\", \"2016-04-03T00:00:00\", \"2016-04-10T00:00:00\", \"2016-04-17T00:00:00\", \"2016-04-24T00:00:00\", \"2016-05-01T00:00:00\", \"2016-05-08T00:00:00\", \"2016-05-15T00:00:00\", \"2016-05-22T00:00:00\", \"2016-05-29T00:00:00\", \"2016-06-05T00:00:00\", \"2016-06-12T00:00:00\", \"2016-06-19T00:00:00\", \"2016-06-26T00:00:00\", \"2016-07-03T00:00:00\", \"2016-07-10T00:00:00\", \"2016-07-17T00:00:00\", \"2016-07-24T00:00:00\", \"2016-07-31T00:00:00\", \"2016-08-07T00:00:00\", \"2016-08-14T00:00:00\", \"2016-08-21T00:00:00\", \"2016-08-28T00:00:00\", \"2016-09-04T00:00:00\", \"2016-09-11T00:00:00\", \"2016-09-18T00:00:00\", \"2016-09-25T00:00:00\", \"2016-10-02T00:00:00\", \"2016-10-09T00:00:00\", \"2016-10-16T00:00:00\", \"2016-10-23T00:00:00\", \"2016-10-30T00:00:00\", \"2016-11-06T00:00:00\", \"2016-11-13T00:00:00\", \"2016-11-20T00:00:00\", \"2016-11-27T00:00:00\", \"2016-12-04T00:00:00\", \"2016-12-11T00:00:00\", \"2016-12-18T00:00:00\", \"2016-12-25T00:00:00\", \"2017-01-01T00:00:00\", \"2017-01-08T00:00:00\", \"2017-01-15T00:00:00\", \"2017-01-22T00:00:00\", \"2017-01-29T00:00:00\", \"2017-02-05T00:00:00\", \"2017-02-12T00:00:00\", \"2017-02-19T00:00:00\", \"2017-02-26T00:00:00\", \"2017-03-05T00:00:00\", \"2017-03-12T00:00:00\", \"2017-03-19T00:00:00\", \"2017-03-26T00:00:00\", \"2017-04-02T00:00:00\", \"2017-04-09T00:00:00\", \"2017-04-16T00:00:00\", \"2017-04-23T00:00:00\", \"2017-04-30T00:00:00\", \"2017-05-07T00:00:00\", \"2017-05-14T00:00:00\", \"2017-05-21T00:00:00\", \"2017-05-28T00:00:00\", \"2017-06-04T00:00:00\", \"2017-06-11T00:00:00\", \"2017-06-18T00:00:00\", \"2017-06-25T00:00:00\", \"2017-07-02T00:00:00\", \"2017-07-09T00:00:00\", \"2017-07-16T00:00:00\", \"2017-07-23T00:00:00\", \"2017-07-30T00:00:00\", \"2017-08-06T00:00:00\", \"2017-08-13T00:00:00\", \"2017-08-20T00:00:00\", \"2017-08-27T00:00:00\", \"2017-09-03T00:00:00\", \"2017-09-10T00:00:00\", \"2017-09-17T00:00:00\", \"2017-09-24T00:00:00\", \"2017-10-01T00:00:00\", \"2017-10-08T00:00:00\", \"2017-10-15T00:00:00\", \"2017-10-22T00:00:00\", \"2017-10-29T00:00:00\", \"2017-11-05T00:00:00\", \"2017-11-12T00:00:00\", \"2017-11-19T00:00:00\", \"2017-11-26T00:00:00\", \"2017-12-03T00:00:00\", \"2017-12-10T00:00:00\", \"2017-12-17T00:00:00\", \"2017-12-24T00:00:00\", \"2017-12-31T00:00:00\", \"2018-01-07T00:00:00\", \"2018-01-14T00:00:00\", \"2018-01-21T00:00:00\", \"2018-01-28T00:00:00\", \"2018-02-04T00:00:00\", \"2018-02-11T00:00:00\", \"2018-02-18T00:00:00\", \"2018-02-25T00:00:00\", \"2018-03-04T00:00:00\", \"2018-03-11T00:00:00\", \"2018-03-18T00:00:00\", \"2018-03-25T00:00:00\"], \"xaxis\": \"x\", \"y\": [0.95, 1.01, 1.03, 1.04, 0.89, 0.95, 1.03, 1.02, 0.97, 1.02, 1.04, 1.01, 1.04, 1.06, 1.02, 1.03, 1.07, 0.96, 1.02, 1.06, 1.04, 1.03, 1.0, 0.98, 1.02, 1.06, 1.04, 1.07, 1.07, 1.07, 1.09, 1.05, 1.05, 1.08, 1.07, 1.02, 1.03, 1.02, 1.03, 1.02, 1.0, 0.99, 1.04, 0.97, 0.97, 0.92, 0.96, 0.99, 0.89, 0.93, 0.98, 0.95, 0.86, 0.93, 0.94, 0.95, 0.93, 0.76, 0.88, 0.94, 0.91, 0.95, 0.93, 0.93, 0.94, 0.94, 0.9, 0.9, 0.87, 0.84, 0.82, 0.89, 0.93, 0.94, 0.97, 1.04, 1.02, 1.04, 1.06, 1.1, 1.15, 1.2, 1.23, 1.15, 1.12, 1.1, 1.09, 1.04, 1.08, 1.15, 1.22, 1.23, 1.27, 1.3, 1.34, 1.43, 1.44, 1.36, 1.27, 1.21, 1.0, 0.98, 0.96, 1.0, 0.89, 0.99, 0.98, 0.94, 0.96, 0.77, 0.87, 0.99, 0.99, 1.13, 1.22, 1.25, 1.24, 1.21, 1.21, 1.23, 1.18, 1.18, 1.09, 1.19, 1.26, 1.28, 1.24, 1.21, 1.18, 1.17, 1.21, 1.17, 1.33, 1.31, 1.32, 1.33, 1.33, 1.41, 1.47, 1.57, 1.56, 1.57, 1.62, 1.64, 1.65, 1.58, 1.44, 1.29, 1.19, 1.15, 1.17, 1.24, 1.09, 1.03, 1.07, 1.18, 0.98, 1.13, 1.2, 1.08, 1.09, 0.87, 0.97, 1.08, 1.06, 1.07, 1.09, 1.05, 1.03], \"yaxis\": \"y2\"}],\n",
       "                        {\"template\": {\"data\": {\"bar\": [{\"error_x\": {\"color\": \"#2a3f5f\"}, \"error_y\": {\"color\": \"#2a3f5f\"}, \"marker\": {\"line\": {\"color\": \"#E5ECF6\", \"width\": 0.5}}, \"type\": \"bar\"}], \"barpolar\": [{\"marker\": {\"line\": {\"color\": \"#E5ECF6\", \"width\": 0.5}}, \"type\": \"barpolar\"}], \"carpet\": [{\"aaxis\": {\"endlinecolor\": \"#2a3f5f\", \"gridcolor\": \"white\", \"linecolor\": \"white\", \"minorgridcolor\": \"white\", \"startlinecolor\": \"#2a3f5f\"}, \"baxis\": {\"endlinecolor\": \"#2a3f5f\", \"gridcolor\": \"white\", \"linecolor\": \"white\", \"minorgridcolor\": \"white\", \"startlinecolor\": \"#2a3f5f\"}, \"type\": \"carpet\"}], \"choropleth\": [{\"colorbar\": {\"outlinewidth\": 0, \"ticks\": \"\"}, \"type\": \"choropleth\"}], \"contour\": [{\"colorbar\": {\"outlinewidth\": 0, \"ticks\": \"\"}, \"colorscale\": [[0.0, \"#0d0887\"], [0.1111111111111111, \"#46039f\"], [0.2222222222222222, \"#7201a8\"], [0.3333333333333333, \"#9c179e\"], [0.4444444444444444, \"#bd3786\"], [0.5555555555555556, \"#d8576b\"], [0.6666666666666666, \"#ed7953\"], [0.7777777777777778, \"#fb9f3a\"], [0.8888888888888888, \"#fdca26\"], [1.0, \"#f0f921\"]], \"type\": \"contour\"}], \"contourcarpet\": [{\"colorbar\": {\"outlinewidth\": 0, \"ticks\": \"\"}, \"type\": \"contourcarpet\"}], \"heatmap\": [{\"colorbar\": {\"outlinewidth\": 0, \"ticks\": \"\"}, \"colorscale\": [[0.0, \"#0d0887\"], [0.1111111111111111, \"#46039f\"], [0.2222222222222222, \"#7201a8\"], [0.3333333333333333, \"#9c179e\"], [0.4444444444444444, \"#bd3786\"], [0.5555555555555556, \"#d8576b\"], [0.6666666666666666, \"#ed7953\"], [0.7777777777777778, \"#fb9f3a\"], [0.8888888888888888, \"#fdca26\"], [1.0, \"#f0f921\"]], \"type\": \"heatmap\"}], \"heatmapgl\": [{\"colorbar\": {\"outlinewidth\": 0, \"ticks\": \"\"}, \"colorscale\": [[0.0, \"#0d0887\"], [0.1111111111111111, \"#46039f\"], [0.2222222222222222, \"#7201a8\"], [0.3333333333333333, \"#9c179e\"], [0.4444444444444444, \"#bd3786\"], [0.5555555555555556, \"#d8576b\"], [0.6666666666666666, \"#ed7953\"], [0.7777777777777778, \"#fb9f3a\"], [0.8888888888888888, \"#fdca26\"], [1.0, \"#f0f921\"]], \"type\": \"heatmapgl\"}], \"histogram\": [{\"marker\": {\"colorbar\": {\"outlinewidth\": 0, \"ticks\": \"\"}}, \"type\": \"histogram\"}], \"histogram2d\": [{\"colorbar\": {\"outlinewidth\": 0, \"ticks\": \"\"}, \"colorscale\": [[0.0, \"#0d0887\"], [0.1111111111111111, \"#46039f\"], [0.2222222222222222, \"#7201a8\"], [0.3333333333333333, \"#9c179e\"], [0.4444444444444444, \"#bd3786\"], [0.5555555555555556, \"#d8576b\"], [0.6666666666666666, \"#ed7953\"], [0.7777777777777778, \"#fb9f3a\"], [0.8888888888888888, \"#fdca26\"], [1.0, \"#f0f921\"]], \"type\": \"histogram2d\"}], \"histogram2dcontour\": [{\"colorbar\": {\"outlinewidth\": 0, \"ticks\": \"\"}, \"colorscale\": [[0.0, \"#0d0887\"], [0.1111111111111111, \"#46039f\"], [0.2222222222222222, \"#7201a8\"], [0.3333333333333333, \"#9c179e\"], [0.4444444444444444, \"#bd3786\"], [0.5555555555555556, \"#d8576b\"], [0.6666666666666666, \"#ed7953\"], [0.7777777777777778, \"#fb9f3a\"], [0.8888888888888888, \"#fdca26\"], [1.0, \"#f0f921\"]], \"type\": \"histogram2dcontour\"}], \"mesh3d\": [{\"colorbar\": {\"outlinewidth\": 0, \"ticks\": \"\"}, \"type\": \"mesh3d\"}], \"parcoords\": [{\"line\": {\"colorbar\": {\"outlinewidth\": 0, \"ticks\": \"\"}}, \"type\": \"parcoords\"}], \"pie\": [{\"automargin\": true, \"type\": \"pie\"}], \"scatter\": [{\"marker\": {\"colorbar\": {\"outlinewidth\": 0, \"ticks\": \"\"}}, \"type\": \"scatter\"}], \"scatter3d\": [{\"line\": {\"colorbar\": {\"outlinewidth\": 0, \"ticks\": \"\"}}, \"marker\": {\"colorbar\": {\"outlinewidth\": 0, \"ticks\": \"\"}}, \"type\": \"scatter3d\"}], \"scattercarpet\": [{\"marker\": {\"colorbar\": {\"outlinewidth\": 0, \"ticks\": \"\"}}, \"type\": \"scattercarpet\"}], \"scattergeo\": [{\"marker\": {\"colorbar\": {\"outlinewidth\": 0, \"ticks\": \"\"}}, \"type\": \"scattergeo\"}], \"scattergl\": [{\"marker\": {\"colorbar\": {\"outlinewidth\": 0, \"ticks\": \"\"}}, \"type\": \"scattergl\"}], \"scattermapbox\": [{\"marker\": {\"colorbar\": {\"outlinewidth\": 0, \"ticks\": \"\"}}, \"type\": \"scattermapbox\"}], \"scatterpolar\": [{\"marker\": {\"colorbar\": {\"outlinewidth\": 0, \"ticks\": \"\"}}, \"type\": \"scatterpolar\"}], \"scatterpolargl\": [{\"marker\": {\"colorbar\": {\"outlinewidth\": 0, \"ticks\": \"\"}}, \"type\": \"scatterpolargl\"}], \"scatterternary\": [{\"marker\": {\"colorbar\": {\"outlinewidth\": 0, \"ticks\": \"\"}}, \"type\": \"scatterternary\"}], \"surface\": [{\"colorbar\": {\"outlinewidth\": 0, \"ticks\": \"\"}, \"colorscale\": [[0.0, \"#0d0887\"], [0.1111111111111111, \"#46039f\"], [0.2222222222222222, \"#7201a8\"], [0.3333333333333333, \"#9c179e\"], [0.4444444444444444, \"#bd3786\"], [0.5555555555555556, \"#d8576b\"], [0.6666666666666666, \"#ed7953\"], [0.7777777777777778, \"#fb9f3a\"], [0.8888888888888888, \"#fdca26\"], [1.0, \"#f0f921\"]], \"type\": \"surface\"}], \"table\": [{\"cells\": {\"fill\": {\"color\": \"#EBF0F8\"}, \"line\": {\"color\": \"white\"}}, \"header\": {\"fill\": {\"color\": \"#C8D4E3\"}, \"line\": {\"color\": \"white\"}}, \"type\": \"table\"}]}, \"layout\": {\"annotationdefaults\": {\"arrowcolor\": \"#2a3f5f\", \"arrowhead\": 0, \"arrowwidth\": 1}, \"coloraxis\": {\"colorbar\": {\"outlinewidth\": 0, \"ticks\": \"\"}}, \"colorscale\": {\"diverging\": [[0, \"#8e0152\"], [0.1, \"#c51b7d\"], [0.2, \"#de77ae\"], [0.3, \"#f1b6da\"], [0.4, \"#fde0ef\"], [0.5, \"#f7f7f7\"], [0.6, \"#e6f5d0\"], [0.7, \"#b8e186\"], [0.8, \"#7fbc41\"], [0.9, \"#4d9221\"], [1, \"#276419\"]], \"sequential\": [[0.0, \"#0d0887\"], [0.1111111111111111, \"#46039f\"], [0.2222222222222222, \"#7201a8\"], [0.3333333333333333, \"#9c179e\"], [0.4444444444444444, \"#bd3786\"], [0.5555555555555556, \"#d8576b\"], [0.6666666666666666, \"#ed7953\"], [0.7777777777777778, \"#fb9f3a\"], [0.8888888888888888, \"#fdca26\"], [1.0, \"#f0f921\"]], \"sequentialminus\": [[0.0, \"#0d0887\"], [0.1111111111111111, \"#46039f\"], [0.2222222222222222, \"#7201a8\"], [0.3333333333333333, \"#9c179e\"], [0.4444444444444444, \"#bd3786\"], [0.5555555555555556, \"#d8576b\"], [0.6666666666666666, \"#ed7953\"], [0.7777777777777778, \"#fb9f3a\"], [0.8888888888888888, \"#fdca26\"], [1.0, \"#f0f921\"]]}, \"colorway\": [\"#636efa\", \"#EF553B\", \"#00cc96\", \"#ab63fa\", \"#FFA15A\", \"#19d3f3\", \"#FF6692\", \"#B6E880\", \"#FF97FF\", \"#FECB52\"], \"font\": {\"color\": \"#2a3f5f\"}, \"geo\": {\"bgcolor\": \"white\", \"lakecolor\": \"white\", \"landcolor\": \"#E5ECF6\", \"showlakes\": true, \"showland\": true, \"subunitcolor\": \"white\"}, \"hoverlabel\": {\"align\": \"left\"}, \"hovermode\": \"closest\", \"mapbox\": {\"style\": \"light\"}, \"paper_bgcolor\": \"white\", \"plot_bgcolor\": \"#E5ECF6\", \"polar\": {\"angularaxis\": {\"gridcolor\": \"white\", \"linecolor\": \"white\", \"ticks\": \"\"}, \"bgcolor\": \"#E5ECF6\", \"radialaxis\": {\"gridcolor\": \"white\", \"linecolor\": \"white\", \"ticks\": \"\"}}, \"scene\": {\"xaxis\": {\"backgroundcolor\": \"#E5ECF6\", \"gridcolor\": \"white\", \"gridwidth\": 2, \"linecolor\": \"white\", \"showbackground\": true, \"ticks\": \"\", \"zerolinecolor\": \"white\"}, \"yaxis\": {\"backgroundcolor\": \"#E5ECF6\", \"gridcolor\": \"white\", \"gridwidth\": 2, \"linecolor\": \"white\", \"showbackground\": true, \"ticks\": \"\", \"zerolinecolor\": \"white\"}, \"zaxis\": {\"backgroundcolor\": \"#E5ECF6\", \"gridcolor\": \"white\", \"gridwidth\": 2, \"linecolor\": \"white\", \"showbackground\": true, \"ticks\": \"\", \"zerolinecolor\": \"white\"}}, \"shapedefaults\": {\"line\": {\"color\": \"#2a3f5f\"}}, \"ternary\": {\"aaxis\": {\"gridcolor\": \"white\", \"linecolor\": \"white\", \"ticks\": \"\"}, \"baxis\": {\"gridcolor\": \"white\", \"linecolor\": \"white\", \"ticks\": \"\"}, \"bgcolor\": \"#E5ECF6\", \"caxis\": {\"gridcolor\": \"white\", \"linecolor\": \"white\", \"ticks\": \"\"}}, \"title\": {\"x\": 0.05}, \"xaxis\": {\"automargin\": true, \"gridcolor\": \"white\", \"linecolor\": \"white\", \"ticks\": \"\", \"title\": {\"standoff\": 15}, \"zerolinecolor\": \"white\", \"zerolinewidth\": 2}, \"yaxis\": {\"automargin\": true, \"gridcolor\": \"white\", \"linecolor\": \"white\", \"ticks\": \"\", \"title\": {\"standoff\": 15}, \"zerolinecolor\": \"white\", \"zerolinewidth\": 2}}}, \"title\": {\"text\": \"Time Series Revenue and its Components for Conventional Type\"}, \"width\": 800, \"xaxis\": {\"anchor\": \"y\", \"domain\": [0.0, 0.94], \"rangeslider\": {\"visible\": true}}, \"yaxis\": {\"anchor\": \"x\", \"domain\": [0.0, 1.0]}, \"yaxis2\": {\"anchor\": \"x\", \"overlaying\": \"y\", \"side\": \"right\"}},\n",
       "                        {\"responsive\": true}\n",
       "                    ).then(function(){\n",
       "                            \n",
       "var gd = document.getElementById('16f7e940-7692-4f54-b440-09d6e21e5077');\n",
       "var x = new MutationObserver(function (mutations, observer) {{\n",
       "        var display = window.getComputedStyle(gd).display;\n",
       "        if (!display || display === 'none') {{\n",
       "            console.log([gd, 'removed!']);\n",
       "            Plotly.purge(gd);\n",
       "            observer.disconnect();\n",
       "        }}\n",
       "}});\n",
       "\n",
       "// Listen for the removal of the full notebook cells\n",
       "var notebookContainer = gd.closest('#notebook-container');\n",
       "if (notebookContainer) {{\n",
       "    x.observe(notebookContainer, {childList: true});\n",
       "}}\n",
       "\n",
       "// Listen for the clearing of the current output cell\n",
       "var outputEl = gd.closest('.output');\n",
       "if (outputEl) {{\n",
       "    x.observe(outputEl, {childList: true});\n",
       "}}\n",
       "\n",
       "                        })\n",
       "                };\n",
       "                });\n",
       "            </script>\n",
       "        </div>"
      ]
     },
     "metadata": {},
     "output_type": "display_data"
    }
   ],
   "source": [
    "fig = make_subplots(specs=[[{\"secondary_y\": True}]])\n",
    "\n",
    "dates = df_tidy_conv.query(\"Category=='Revenue'\").Date # Arbitrary filter to get unique dates\n",
    "revenue = df_tidy_conv.query(\"Category=='Revenue'\").Value\n",
    "volume = df_tidy_conv.query(\"Category=='TotalVolume'\").Value\n",
    "price = df_tidy_conv.query(\"Category=='AveragePrice'\").Value\n",
    "\n",
    "fig.add_trace(go.Scatter(x=dates, \n",
    "                         y=revenue, \n",
    "                         mode='lines', \n",
    "                         name='revenue'), \n",
    "              secondary_y=False)\n",
    "fig.add_trace(go.Scatter(x=dates, \n",
    "                         y=volume, \n",
    "                         mode='lines',\n",
    "                         name='volume'), \n",
    "              secondary_y=False)\n",
    "fig.add_trace(go.Scatter(x=dates, \n",
    "                         y=price, \n",
    "                         mode='markers',\n",
    "                         marker={'size': 4},\n",
    "                         name='price'), \n",
    "              secondary_y=True)\n",
    "fig.update_layout(title_text='Time Series Revenue and its Components for Conventional Type',\n",
    "                 xaxis_rangeslider_visible=True,\n",
    "                 width=800)\n",
    "fig.show()"
   ]
  },
  {
   "cell_type": "code",
   "execution_count": 133,
   "metadata": {
    "ExecuteTime": {
     "end_time": "2020-03-22T17:56:53.375012Z",
     "start_time": "2020-03-22T17:56:53.360052Z"
    }
   },
   "outputs": [
    {
     "data": {
      "text/html": [
       "<div>\n",
       "<style scoped>\n",
       "    .dataframe tbody tr th:only-of-type {\n",
       "        vertical-align: middle;\n",
       "    }\n",
       "\n",
       "    .dataframe tbody tr th {\n",
       "        vertical-align: top;\n",
       "    }\n",
       "\n",
       "    .dataframe thead th {\n",
       "        text-align: right;\n",
       "    }\n",
       "</style>\n",
       "<table border=\"1\" class=\"dataframe\">\n",
       "  <thead>\n",
       "    <tr style=\"text-align: right;\">\n",
       "      <th></th>\n",
       "      <th>AveragePrice</th>\n",
       "      <th>TotalVolume</th>\n",
       "      <th>Revenue</th>\n",
       "    </tr>\n",
       "  </thead>\n",
       "  <tbody>\n",
       "    <tr>\n",
       "      <th>AveragePrice</th>\n",
       "      <td>1.00</td>\n",
       "      <td>-0.51</td>\n",
       "      <td>0.36</td>\n",
       "    </tr>\n",
       "    <tr>\n",
       "      <th>TotalVolume</th>\n",
       "      <td>-0.51</td>\n",
       "      <td>1.00</td>\n",
       "      <td>0.60</td>\n",
       "    </tr>\n",
       "    <tr>\n",
       "      <th>Revenue</th>\n",
       "      <td>0.36</td>\n",
       "      <td>0.60</td>\n",
       "      <td>1.00</td>\n",
       "    </tr>\n",
       "  </tbody>\n",
       "</table>\n",
       "</div>"
      ],
      "text/plain": [
       "              AveragePrice  TotalVolume  Revenue\n",
       "AveragePrice          1.00        -0.51     0.36\n",
       "TotalVolume          -0.51         1.00     0.60\n",
       "Revenue               0.36         0.60     1.00"
      ]
     },
     "execution_count": 133,
     "metadata": {},
     "output_type": "execute_result"
    }
   ],
   "source": [
    "df_avo_total.query(\"type=='conventional'\")[['AveragePrice', 'TotalVolume', 'Revenue']].corr()"
   ]
  },
  {
   "cell_type": "code",
   "execution_count": 140,
   "metadata": {
    "ExecuteTime": {
     "end_time": "2020-03-22T19:05:57.597370Z",
     "start_time": "2020-03-22T19:05:57.578418Z"
    }
   },
   "outputs": [
    {
     "data": {
      "text/html": [
       "<div>\n",
       "<style scoped>\n",
       "    .dataframe tbody tr th:only-of-type {\n",
       "        vertical-align: middle;\n",
       "    }\n",
       "\n",
       "    .dataframe tbody tr th {\n",
       "        vertical-align: top;\n",
       "    }\n",
       "\n",
       "    .dataframe thead th {\n",
       "        text-align: right;\n",
       "    }\n",
       "</style>\n",
       "<table border=\"1\" class=\"dataframe\">\n",
       "  <thead>\n",
       "    <tr style=\"text-align: right;\">\n",
       "      <th></th>\n",
       "      <th></th>\n",
       "      <th>AveragePrice</th>\n",
       "      <th>TotalVolume</th>\n",
       "      <th>Revenue</th>\n",
       "    </tr>\n",
       "    <tr>\n",
       "      <th>year</th>\n",
       "      <th></th>\n",
       "      <th></th>\n",
       "      <th></th>\n",
       "      <th></th>\n",
       "    </tr>\n",
       "  </thead>\n",
       "  <tbody>\n",
       "    <tr>\n",
       "      <th rowspan=\"3\" valign=\"top\">2015</th>\n",
       "      <th>AveragePrice</th>\n",
       "      <td>1.00</td>\n",
       "      <td>-0.07</td>\n",
       "      <td>0.32</td>\n",
       "    </tr>\n",
       "    <tr>\n",
       "      <th>TotalVolume</th>\n",
       "      <td>-0.07</td>\n",
       "      <td>1.00</td>\n",
       "      <td>0.92</td>\n",
       "    </tr>\n",
       "    <tr>\n",
       "      <th>Revenue</th>\n",
       "      <td>0.32</td>\n",
       "      <td>0.92</td>\n",
       "      <td>1.00</td>\n",
       "    </tr>\n",
       "    <tr>\n",
       "      <th rowspan=\"3\" valign=\"top\">2016</th>\n",
       "      <th>AveragePrice</th>\n",
       "      <td>1.00</td>\n",
       "      <td>-0.83</td>\n",
       "      <td>0.02</td>\n",
       "    </tr>\n",
       "    <tr>\n",
       "      <th>TotalVolume</th>\n",
       "      <td>-0.83</td>\n",
       "      <td>1.00</td>\n",
       "      <td>0.51</td>\n",
       "    </tr>\n",
       "    <tr>\n",
       "      <th>Revenue</th>\n",
       "      <td>0.02</td>\n",
       "      <td>0.51</td>\n",
       "      <td>1.00</td>\n",
       "    </tr>\n",
       "    <tr>\n",
       "      <th rowspan=\"3\" valign=\"top\">2017</th>\n",
       "      <th>AveragePrice</th>\n",
       "      <td>1.00</td>\n",
       "      <td>-0.79</td>\n",
       "      <td>0.20</td>\n",
       "    </tr>\n",
       "    <tr>\n",
       "      <th>TotalVolume</th>\n",
       "      <td>-0.79</td>\n",
       "      <td>1.00</td>\n",
       "      <td>0.40</td>\n",
       "    </tr>\n",
       "    <tr>\n",
       "      <th>Revenue</th>\n",
       "      <td>0.20</td>\n",
       "      <td>0.40</td>\n",
       "      <td>1.00</td>\n",
       "    </tr>\n",
       "    <tr>\n",
       "      <th rowspan=\"3\" valign=\"top\">2018</th>\n",
       "      <th>AveragePrice</th>\n",
       "      <td>1.00</td>\n",
       "      <td>-0.86</td>\n",
       "      <td>-0.59</td>\n",
       "    </tr>\n",
       "    <tr>\n",
       "      <th>TotalVolume</th>\n",
       "      <td>-0.86</td>\n",
       "      <td>1.00</td>\n",
       "      <td>0.91</td>\n",
       "    </tr>\n",
       "    <tr>\n",
       "      <th>Revenue</th>\n",
       "      <td>-0.59</td>\n",
       "      <td>0.91</td>\n",
       "      <td>1.00</td>\n",
       "    </tr>\n",
       "  </tbody>\n",
       "</table>\n",
       "</div>"
      ],
      "text/plain": [
       "                   AveragePrice  TotalVolume  Revenue\n",
       "year                                                 \n",
       "2015 AveragePrice          1.00        -0.07     0.32\n",
       "     TotalVolume          -0.07         1.00     0.92\n",
       "     Revenue               0.32         0.92     1.00\n",
       "2016 AveragePrice          1.00        -0.83     0.02\n",
       "     TotalVolume          -0.83         1.00     0.51\n",
       "     Revenue               0.02         0.51     1.00\n",
       "2017 AveragePrice          1.00        -0.79     0.20\n",
       "     TotalVolume          -0.79         1.00     0.40\n",
       "     Revenue               0.20         0.40     1.00\n",
       "2018 AveragePrice          1.00        -0.86    -0.59\n",
       "     TotalVolume          -0.86         1.00     0.91\n",
       "     Revenue              -0.59         0.91     1.00"
      ]
     },
     "execution_count": 140,
     "metadata": {},
     "output_type": "execute_result"
    }
   ],
   "source": [
    "(df_avo_total.query(\"type=='conventional'\")\n",
    "             .groupby('year')\n",
    "             [['AveragePrice', 'TotalVolume', 'Revenue']].corr())"
   ]
  },
  {
   "cell_type": "markdown",
   "metadata": {},
   "source": [
    "With organic the natural dynamic of an inverse relationship between volume and price was present from the beginning.  There was also a significant increase in daily revenue going from around $1 million a day to $2.5 million for a 150% increase in the course of 3 years."
   ]
  },
  {
   "cell_type": "code",
   "execution_count": 135,
   "metadata": {
    "ExecuteTime": {
     "end_time": "2020-03-22T17:58:12.234840Z",
     "start_time": "2020-03-22T17:58:12.222862Z"
    }
   },
   "outputs": [],
   "source": [
    "df_tidy_org = (df_avo_total.query(\"type=='organic'\")\n",
    "                    .melt(id_vars=['Date'], \n",
    "                          var_name=['Category'], \n",
    "                          value_vars=['TotalVolume', 'Revenue', 'AveragePrice'], \n",
    "                          value_name='Value'))"
   ]
  },
  {
   "cell_type": "code",
   "execution_count": 137,
   "metadata": {
    "ExecuteTime": {
     "end_time": "2020-03-22T17:58:47.518887Z",
     "start_time": "2020-03-22T17:58:47.365262Z"
    }
   },
   "outputs": [
    {
     "data": {
      "text/html": [
       "<div>\n",
       "        \n",
       "        \n",
       "            <div id=\"07ecf7fa-02db-493e-89b0-5473cb3692ad\" class=\"plotly-graph-div\" style=\"height:525px; width:800px;\"></div>\n",
       "            <script type=\"text/javascript\">\n",
       "                require([\"plotly\"], function(Plotly) {\n",
       "                    window.PLOTLYENV=window.PLOTLYENV || {};\n",
       "                    \n",
       "                if (document.getElementById(\"07ecf7fa-02db-493e-89b0-5473cb3692ad\")) {\n",
       "                    Plotly.newPlot(\n",
       "                        '07ecf7fa-02db-493e-89b0-5473cb3692ad',\n",
       "                        [{\"mode\": \"lines\", \"name\": \"revenue\", \"type\": \"scatter\", \"x\": [\"2015-01-04T00:00:00\", \"2015-01-11T00:00:00\", \"2015-01-18T00:00:00\", \"2015-01-25T00:00:00\", \"2015-02-01T00:00:00\", \"2015-02-08T00:00:00\", \"2015-02-15T00:00:00\", \"2015-02-22T00:00:00\", \"2015-03-01T00:00:00\", \"2015-03-08T00:00:00\", \"2015-03-15T00:00:00\", \"2015-03-22T00:00:00\", \"2015-03-29T00:00:00\", \"2015-04-05T00:00:00\", \"2015-04-12T00:00:00\", \"2015-04-19T00:00:00\", \"2015-04-26T00:00:00\", \"2015-05-03T00:00:00\", \"2015-05-10T00:00:00\", \"2015-05-17T00:00:00\", \"2015-05-24T00:00:00\", \"2015-05-31T00:00:00\", \"2015-06-07T00:00:00\", \"2015-06-14T00:00:00\", \"2015-06-21T00:00:00\", \"2015-06-28T00:00:00\", \"2015-07-05T00:00:00\", \"2015-07-12T00:00:00\", \"2015-07-19T00:00:00\", \"2015-07-26T00:00:00\", \"2015-08-02T00:00:00\", \"2015-08-09T00:00:00\", \"2015-08-16T00:00:00\", \"2015-08-23T00:00:00\", \"2015-08-30T00:00:00\", \"2015-09-06T00:00:00\", \"2015-09-13T00:00:00\", \"2015-09-20T00:00:00\", \"2015-09-27T00:00:00\", \"2015-10-04T00:00:00\", \"2015-10-11T00:00:00\", \"2015-10-18T00:00:00\", \"2015-10-25T00:00:00\", \"2015-11-01T00:00:00\", \"2015-11-08T00:00:00\", \"2015-11-15T00:00:00\", \"2015-11-22T00:00:00\", \"2015-11-29T00:00:00\", \"2015-12-06T00:00:00\", \"2015-12-13T00:00:00\", \"2015-12-20T00:00:00\", \"2015-12-27T00:00:00\", \"2016-01-03T00:00:00\", \"2016-01-10T00:00:00\", \"2016-01-17T00:00:00\", \"2016-01-24T00:00:00\", \"2016-01-31T00:00:00\", \"2016-02-07T00:00:00\", \"2016-02-14T00:00:00\", \"2016-02-21T00:00:00\", \"2016-02-28T00:00:00\", \"2016-03-06T00:00:00\", \"2016-03-13T00:00:00\", \"2016-03-20T00:00:00\", \"2016-03-27T00:00:00\", \"2016-04-03T00:00:00\", \"2016-04-10T00:00:00\", \"2016-04-17T00:00:00\", \"2016-04-24T00:00:00\", \"2016-05-01T00:00:00\", \"2016-05-08T00:00:00\", \"2016-05-15T00:00:00\", \"2016-05-22T00:00:00\", \"2016-05-29T00:00:00\", \"2016-06-05T00:00:00\", \"2016-06-12T00:00:00\", \"2016-06-19T00:00:00\", \"2016-06-26T00:00:00\", \"2016-07-03T00:00:00\", \"2016-07-10T00:00:00\", \"2016-07-17T00:00:00\", \"2016-07-24T00:00:00\", \"2016-07-31T00:00:00\", \"2016-08-07T00:00:00\", \"2016-08-14T00:00:00\", \"2016-08-21T00:00:00\", \"2016-08-28T00:00:00\", \"2016-09-04T00:00:00\", \"2016-09-11T00:00:00\", \"2016-09-18T00:00:00\", \"2016-09-25T00:00:00\", \"2016-10-02T00:00:00\", \"2016-10-09T00:00:00\", \"2016-10-16T00:00:00\", \"2016-10-23T00:00:00\", \"2016-10-30T00:00:00\", \"2016-11-06T00:00:00\", \"2016-11-13T00:00:00\", \"2016-11-20T00:00:00\", \"2016-11-27T00:00:00\", \"2016-12-04T00:00:00\", \"2016-12-11T00:00:00\", \"2016-12-18T00:00:00\", \"2016-12-25T00:00:00\", \"2017-01-01T00:00:00\", \"2017-01-08T00:00:00\", \"2017-01-15T00:00:00\", \"2017-01-22T00:00:00\", \"2017-01-29T00:00:00\", \"2017-02-05T00:00:00\", \"2017-02-12T00:00:00\", \"2017-02-19T00:00:00\", \"2017-02-26T00:00:00\", \"2017-03-05T00:00:00\", \"2017-03-12T00:00:00\", \"2017-03-19T00:00:00\", \"2017-03-26T00:00:00\", \"2017-04-02T00:00:00\", \"2017-04-09T00:00:00\", \"2017-04-16T00:00:00\", \"2017-04-23T00:00:00\", \"2017-04-30T00:00:00\", \"2017-05-07T00:00:00\", \"2017-05-14T00:00:00\", \"2017-05-21T00:00:00\", \"2017-05-28T00:00:00\", \"2017-06-04T00:00:00\", \"2017-06-11T00:00:00\", \"2017-06-18T00:00:00\", \"2017-06-25T00:00:00\", \"2017-07-02T00:00:00\", \"2017-07-09T00:00:00\", \"2017-07-16T00:00:00\", \"2017-07-23T00:00:00\", \"2017-07-30T00:00:00\", \"2017-08-06T00:00:00\", \"2017-08-13T00:00:00\", \"2017-08-20T00:00:00\", \"2017-08-27T00:00:00\", \"2017-09-03T00:00:00\", \"2017-09-10T00:00:00\", \"2017-09-17T00:00:00\", \"2017-09-24T00:00:00\", \"2017-10-01T00:00:00\", \"2017-10-08T00:00:00\", \"2017-10-15T00:00:00\", \"2017-10-22T00:00:00\", \"2017-10-29T00:00:00\", \"2017-11-05T00:00:00\", \"2017-11-12T00:00:00\", \"2017-11-19T00:00:00\", \"2017-11-26T00:00:00\", \"2017-12-03T00:00:00\", \"2017-12-10T00:00:00\", \"2017-12-17T00:00:00\", \"2017-12-24T00:00:00\", \"2017-12-31T00:00:00\", \"2018-01-07T00:00:00\", \"2018-01-14T00:00:00\", \"2018-01-21T00:00:00\", \"2018-01-28T00:00:00\", \"2018-02-04T00:00:00\", \"2018-02-11T00:00:00\", \"2018-02-18T00:00:00\", \"2018-02-25T00:00:00\", \"2018-03-04T00:00:00\", \"2018-03-11T00:00:00\", \"2018-03-18T00:00:00\", \"2018-03-25T00:00:00\"], \"xaxis\": \"x\", \"y\": [894848.819, 950731.0096, 1012630.3999999999, 851244.3558, 1007619.8792000001, 1081693.9788000002, 973559.66, 1016904.5018999999, 1140278.706, 1168030.4445, 966877.0050000001, 1017133.6447000001, 1079281.632, 1078802.4926, 1239327.9531, 1074693.6723, 1264746.6515, 1250373.7509, 1223572.9762, 1142958.975, 1135683.4329000001, 1132769.4818, 1069549.1453, 1085445.3456000001, 1059400.1974, 1082313.1292, 668233.0, 608845.0, 650389.0, 580826.0, 573873.0, 625259.0, 1128206.9925, 1145995.1672, 1112209.8604, 1056958.9626000002, 993707.3520000001, 911976.2514000001, 878176.0225, 958715.4955999999, 878618.6122999999, 885839.6106, 908545.4748000001, 952250.0799, 932003.5648, 818155.616, 870572.4171000001, 761746.215, 781451.6992, 892749.4433, 813161.7072, 835677.1368, 1006863.715, 1118705.2965, 1001291.6448, 1095520.0155, 1104070.396, 1092664.944, 1167874.7347000001, 1071342.534, 1216816.7471999999, 1295892.288, 1320516.0723, 1327722.0207, 1296928.4976000001, 1340240.2416, 1486299.8178, 1410659.9015999998, 1844321.9125, 1686869.76, 1479323.0140000002, 1483715.6465, 1585372.4136, 1530065.1096, 1448186.6399, 1414149.5475, 1553046.657, 1511068.17, 1578185.1939, 1575577.0803, 1659532.7800999999, 1517158.2359999998, 1494818.7398, 1568967.3655, 1618065.9292000001, 1560086.247, 1413311.0112, 1620216.7058, 1677303.0520000001, 1455618.0585999999, 1367027.3786, 1352483.5113000001, 1335118.4632, 1223789.2349999999, 1140614.2604999999, 1250106.4515, 1508087.7672000001, 1468711.855, 1402322.5617, 1249148.4268, 1299117.378, 1216649.7946, 1139770.4461, 1224807.4628, 1197278.3824, 1416732.2168999999, 1405042.9631999999, 1362167.6826000002, 1363084.723, 1381244.6008000001, 1495694.1317999999, 2141689.0141000003, 1738362.4115, 1878501.9584, 1845883.7081999998, 1926027.9749999999, 2039654.2944000002, 2118877.7221999997, 1984033.9376, 2225063.6072, 1916642.4998, 2096934.4872, 2188778.1811, 2131443.936, 2070058.6431000002, 2200727.3795, 2218855.1708, 2180019.1452, 2230787.8359, 1948787.5584, 2041703.9244000001, 1932940.737, 2044071.6152000001, 2136918.4144, 1943031.5884, 1939747.1861999999, 1907653.0516, 2100214.9699999997, 2186123.3218, 2215609.3718000003, 2220729.9897999996, 2149135.4, 2183360.1572, 2091416.6325, 2211866.931, 2168305.8015, 2149099.2978000003, 2067614.6424000002, 1944724.7638000003, 1890710.4883, 1713158.4501, 1647417.2384, 1813306.5000000002, 1875227.7544000002, 1803328.9412, 1935085.3968, 1890788.9368000003, 2291172.377, 2347875.2172000003, 2092899.8694999998, 2152536.3349, 2118565.6173, 2054520.7332000001, 2758693.5544, 2291968.5035, 2484334.7704000003, 2529637.0176, 2580738.4988, 2417949.16], \"yaxis\": \"y\"}, {\"mode\": \"lines\", \"name\": \"volume\", \"type\": \"scatter\", \"x\": [\"2015-01-04T00:00:00\", \"2015-01-11T00:00:00\", \"2015-01-18T00:00:00\", \"2015-01-25T00:00:00\", \"2015-02-01T00:00:00\", \"2015-02-08T00:00:00\", \"2015-02-15T00:00:00\", \"2015-02-22T00:00:00\", \"2015-03-01T00:00:00\", \"2015-03-08T00:00:00\", \"2015-03-15T00:00:00\", \"2015-03-22T00:00:00\", \"2015-03-29T00:00:00\", \"2015-04-05T00:00:00\", \"2015-04-12T00:00:00\", \"2015-04-19T00:00:00\", \"2015-04-26T00:00:00\", \"2015-05-03T00:00:00\", \"2015-05-10T00:00:00\", \"2015-05-17T00:00:00\", \"2015-05-24T00:00:00\", \"2015-05-31T00:00:00\", \"2015-06-07T00:00:00\", \"2015-06-14T00:00:00\", \"2015-06-21T00:00:00\", \"2015-06-28T00:00:00\", \"2015-07-05T00:00:00\", \"2015-07-12T00:00:00\", \"2015-07-19T00:00:00\", \"2015-07-26T00:00:00\", \"2015-08-02T00:00:00\", \"2015-08-09T00:00:00\", \"2015-08-16T00:00:00\", \"2015-08-23T00:00:00\", \"2015-08-30T00:00:00\", \"2015-09-06T00:00:00\", \"2015-09-13T00:00:00\", \"2015-09-20T00:00:00\", \"2015-09-27T00:00:00\", \"2015-10-04T00:00:00\", \"2015-10-11T00:00:00\", \"2015-10-18T00:00:00\", \"2015-10-25T00:00:00\", \"2015-11-01T00:00:00\", \"2015-11-08T00:00:00\", \"2015-11-15T00:00:00\", \"2015-11-22T00:00:00\", \"2015-11-29T00:00:00\", \"2015-12-06T00:00:00\", \"2015-12-13T00:00:00\", \"2015-12-20T00:00:00\", \"2015-12-27T00:00:00\", \"2016-01-03T00:00:00\", \"2016-01-10T00:00:00\", \"2016-01-17T00:00:00\", \"2016-01-24T00:00:00\", \"2016-01-31T00:00:00\", \"2016-02-07T00:00:00\", \"2016-02-14T00:00:00\", \"2016-02-21T00:00:00\", \"2016-02-28T00:00:00\", \"2016-03-06T00:00:00\", \"2016-03-13T00:00:00\", \"2016-03-20T00:00:00\", \"2016-03-27T00:00:00\", \"2016-04-03T00:00:00\", \"2016-04-10T00:00:00\", \"2016-04-17T00:00:00\", \"2016-04-24T00:00:00\", \"2016-05-01T00:00:00\", \"2016-05-08T00:00:00\", \"2016-05-15T00:00:00\", \"2016-05-22T00:00:00\", \"2016-05-29T00:00:00\", \"2016-06-05T00:00:00\", \"2016-06-12T00:00:00\", \"2016-06-19T00:00:00\", \"2016-06-26T00:00:00\", \"2016-07-03T00:00:00\", \"2016-07-10T00:00:00\", \"2016-07-17T00:00:00\", \"2016-07-24T00:00:00\", \"2016-07-31T00:00:00\", \"2016-08-07T00:00:00\", \"2016-08-14T00:00:00\", \"2016-08-21T00:00:00\", \"2016-08-28T00:00:00\", \"2016-09-04T00:00:00\", \"2016-09-11T00:00:00\", \"2016-09-18T00:00:00\", \"2016-09-25T00:00:00\", \"2016-10-02T00:00:00\", \"2016-10-09T00:00:00\", \"2016-10-16T00:00:00\", \"2016-10-23T00:00:00\", \"2016-10-30T00:00:00\", \"2016-11-06T00:00:00\", \"2016-11-13T00:00:00\", \"2016-11-20T00:00:00\", \"2016-11-27T00:00:00\", \"2016-12-04T00:00:00\", \"2016-12-11T00:00:00\", \"2016-12-18T00:00:00\", \"2016-12-25T00:00:00\", \"2017-01-01T00:00:00\", \"2017-01-08T00:00:00\", \"2017-01-15T00:00:00\", \"2017-01-22T00:00:00\", \"2017-01-29T00:00:00\", \"2017-02-05T00:00:00\", \"2017-02-12T00:00:00\", \"2017-02-19T00:00:00\", \"2017-02-26T00:00:00\", \"2017-03-05T00:00:00\", \"2017-03-12T00:00:00\", \"2017-03-19T00:00:00\", \"2017-03-26T00:00:00\", \"2017-04-02T00:00:00\", \"2017-04-09T00:00:00\", \"2017-04-16T00:00:00\", \"2017-04-23T00:00:00\", \"2017-04-30T00:00:00\", \"2017-05-07T00:00:00\", \"2017-05-14T00:00:00\", \"2017-05-21T00:00:00\", \"2017-05-28T00:00:00\", \"2017-06-04T00:00:00\", \"2017-06-11T00:00:00\", \"2017-06-18T00:00:00\", \"2017-06-25T00:00:00\", \"2017-07-02T00:00:00\", \"2017-07-09T00:00:00\", \"2017-07-16T00:00:00\", \"2017-07-23T00:00:00\", \"2017-07-30T00:00:00\", \"2017-08-06T00:00:00\", \"2017-08-13T00:00:00\", \"2017-08-20T00:00:00\", \"2017-08-27T00:00:00\", \"2017-09-03T00:00:00\", \"2017-09-10T00:00:00\", \"2017-09-17T00:00:00\", \"2017-09-24T00:00:00\", \"2017-10-01T00:00:00\", \"2017-10-08T00:00:00\", \"2017-10-15T00:00:00\", \"2017-10-22T00:00:00\", \"2017-10-29T00:00:00\", \"2017-11-05T00:00:00\", \"2017-11-12T00:00:00\", \"2017-11-19T00:00:00\", \"2017-11-26T00:00:00\", \"2017-12-03T00:00:00\", \"2017-12-10T00:00:00\", \"2017-12-17T00:00:00\", \"2017-12-24T00:00:00\", \"2017-12-31T00:00:00\", \"2018-01-07T00:00:00\", \"2018-01-14T00:00:00\", \"2018-01-21T00:00:00\", \"2018-01-28T00:00:00\", \"2018-02-04T00:00:00\", \"2018-02-11T00:00:00\", \"2018-02-18T00:00:00\", \"2018-02-25T00:00:00\", \"2018-03-04T00:00:00\", \"2018-03-11T00:00:00\", \"2018-03-18T00:00:00\", \"2018-03-25T00:00:00\"], \"xaxis\": \"x\", \"y\": [612910.15, 669528.88, 713120.0, 556368.86, 740896.97, 730874.31, 616177.0, 673446.69, 814484.79, 783913.05, 644584.67, 682640.03, 674551.02, 661842.02, 810018.27, 675907.97, 872239.07, 912681.57, 861671.11, 761972.65, 714266.31, 716942.71, 640448.59, 646098.42, 638192.89, 659947.03, 668233.0, 608845.0, 650389.0, 580826.0, 573873.0, 625259.0, 644689.71, 666276.26, 670005.94, 593797.17, 552059.64, 515240.82, 501814.87, 557392.73, 519892.67, 518034.86, 560830.54, 647789.17, 605197.12, 511347.26, 584276.79, 507830.81, 514112.96, 624300.31, 531478.24, 549787.59, 704100.5, 828670.59, 695341.42, 776964.55, 772077.2, 758795.1, 852463.31, 738856.92, 845011.63, 1012415.85, 1023655.87, 1045450.41, 900644.79, 930722.39, 1179603.03, 1022217.32, 1475457.53, 1317867.0, 1137940.78, 1023252.17, 1165715.01, 1085152.56, 1012717.93, 975275.55, 1071066.66, 1007378.78, 1073595.37, 1043428.53, 1018118.27, 919489.84, 946087.81, 1012237.01, 1093287.79, 1033169.7, 948530.88, 1052088.77, 1103488.85, 871627.58, 808891.94, 790926.03, 878367.41, 815859.49, 699763.35, 647723.55, 897671.29, 863948.15, 860320.59, 761675.87, 832767.55, 856795.63, 797042.27, 914035.42, 808971.88, 990721.83, 975724.28, 994282.98, 953206.1, 1015621.03, 1060775.98, 1634877.11, 1436663.15, 1619398.24, 1337596.89, 1284018.65, 1581127.36, 1492167.41, 1387436.32, 1493331.28, 1190461.18, 1248175.29, 1394126.23, 1375125.12, 1210560.61, 1302205.55, 1352960.47, 1397448.17, 1304554.29, 1101009.92, 1173393.06, 1130374.7, 1148354.84, 1214158.19, 1091590.78, 1059971.14, 1014709.07, 1071538.25, 1045992.02, 1075538.53, 1093955.66, 1074567.7, 1125443.38, 1072521.35, 1164140.49, 1172057.19, 1180823.79, 1123703.61, 1068530.09, 1044591.43, 967886.13, 957800.72, 1119325.0, 1217680.36, 1148617.16, 1179930.12, 1243940.09, 1517332.7, 1476651.08, 1283987.65, 1336979.09, 1384683.41, 1317000.47, 1814929.97, 1459852.55, 1634430.77, 1664234.88, 1675804.22, 1559967.2], \"yaxis\": \"y\"}, {\"marker\": {\"size\": 4}, \"mode\": \"markers\", \"name\": \"price\", \"type\": \"scatter\", \"x\": [\"2015-01-04T00:00:00\", \"2015-01-11T00:00:00\", \"2015-01-18T00:00:00\", \"2015-01-25T00:00:00\", \"2015-02-01T00:00:00\", \"2015-02-08T00:00:00\", \"2015-02-15T00:00:00\", \"2015-02-22T00:00:00\", \"2015-03-01T00:00:00\", \"2015-03-08T00:00:00\", \"2015-03-15T00:00:00\", \"2015-03-22T00:00:00\", \"2015-03-29T00:00:00\", \"2015-04-05T00:00:00\", \"2015-04-12T00:00:00\", \"2015-04-19T00:00:00\", \"2015-04-26T00:00:00\", \"2015-05-03T00:00:00\", \"2015-05-10T00:00:00\", \"2015-05-17T00:00:00\", \"2015-05-24T00:00:00\", \"2015-05-31T00:00:00\", \"2015-06-07T00:00:00\", \"2015-06-14T00:00:00\", \"2015-06-21T00:00:00\", \"2015-06-28T00:00:00\", \"2015-07-05T00:00:00\", \"2015-07-12T00:00:00\", \"2015-07-19T00:00:00\", \"2015-07-26T00:00:00\", \"2015-08-02T00:00:00\", \"2015-08-09T00:00:00\", \"2015-08-16T00:00:00\", \"2015-08-23T00:00:00\", \"2015-08-30T00:00:00\", \"2015-09-06T00:00:00\", \"2015-09-13T00:00:00\", \"2015-09-20T00:00:00\", \"2015-09-27T00:00:00\", \"2015-10-04T00:00:00\", \"2015-10-11T00:00:00\", \"2015-10-18T00:00:00\", \"2015-10-25T00:00:00\", \"2015-11-01T00:00:00\", \"2015-11-08T00:00:00\", \"2015-11-15T00:00:00\", \"2015-11-22T00:00:00\", \"2015-11-29T00:00:00\", \"2015-12-06T00:00:00\", \"2015-12-13T00:00:00\", \"2015-12-20T00:00:00\", \"2015-12-27T00:00:00\", \"2016-01-03T00:00:00\", \"2016-01-10T00:00:00\", \"2016-01-17T00:00:00\", \"2016-01-24T00:00:00\", \"2016-01-31T00:00:00\", \"2016-02-07T00:00:00\", \"2016-02-14T00:00:00\", \"2016-02-21T00:00:00\", \"2016-02-28T00:00:00\", \"2016-03-06T00:00:00\", \"2016-03-13T00:00:00\", \"2016-03-20T00:00:00\", \"2016-03-27T00:00:00\", \"2016-04-03T00:00:00\", \"2016-04-10T00:00:00\", \"2016-04-17T00:00:00\", \"2016-04-24T00:00:00\", \"2016-05-01T00:00:00\", \"2016-05-08T00:00:00\", \"2016-05-15T00:00:00\", \"2016-05-22T00:00:00\", \"2016-05-29T00:00:00\", \"2016-06-05T00:00:00\", \"2016-06-12T00:00:00\", \"2016-06-19T00:00:00\", \"2016-06-26T00:00:00\", \"2016-07-03T00:00:00\", \"2016-07-10T00:00:00\", \"2016-07-17T00:00:00\", \"2016-07-24T00:00:00\", \"2016-07-31T00:00:00\", \"2016-08-07T00:00:00\", \"2016-08-14T00:00:00\", \"2016-08-21T00:00:00\", \"2016-08-28T00:00:00\", \"2016-09-04T00:00:00\", \"2016-09-11T00:00:00\", \"2016-09-18T00:00:00\", \"2016-09-25T00:00:00\", \"2016-10-02T00:00:00\", \"2016-10-09T00:00:00\", \"2016-10-16T00:00:00\", \"2016-10-23T00:00:00\", \"2016-10-30T00:00:00\", \"2016-11-06T00:00:00\", \"2016-11-13T00:00:00\", \"2016-11-20T00:00:00\", \"2016-11-27T00:00:00\", \"2016-12-04T00:00:00\", \"2016-12-11T00:00:00\", \"2016-12-18T00:00:00\", \"2016-12-25T00:00:00\", \"2017-01-01T00:00:00\", \"2017-01-08T00:00:00\", \"2017-01-15T00:00:00\", \"2017-01-22T00:00:00\", \"2017-01-29T00:00:00\", \"2017-02-05T00:00:00\", \"2017-02-12T00:00:00\", \"2017-02-19T00:00:00\", \"2017-02-26T00:00:00\", \"2017-03-05T00:00:00\", \"2017-03-12T00:00:00\", \"2017-03-19T00:00:00\", \"2017-03-26T00:00:00\", \"2017-04-02T00:00:00\", \"2017-04-09T00:00:00\", \"2017-04-16T00:00:00\", \"2017-04-23T00:00:00\", \"2017-04-30T00:00:00\", \"2017-05-07T00:00:00\", \"2017-05-14T00:00:00\", \"2017-05-21T00:00:00\", \"2017-05-28T00:00:00\", \"2017-06-04T00:00:00\", \"2017-06-11T00:00:00\", \"2017-06-18T00:00:00\", \"2017-06-25T00:00:00\", \"2017-07-02T00:00:00\", \"2017-07-09T00:00:00\", \"2017-07-16T00:00:00\", \"2017-07-23T00:00:00\", \"2017-07-30T00:00:00\", \"2017-08-06T00:00:00\", \"2017-08-13T00:00:00\", \"2017-08-20T00:00:00\", \"2017-08-27T00:00:00\", \"2017-09-03T00:00:00\", \"2017-09-10T00:00:00\", \"2017-09-17T00:00:00\", \"2017-09-24T00:00:00\", \"2017-10-01T00:00:00\", \"2017-10-08T00:00:00\", \"2017-10-15T00:00:00\", \"2017-10-22T00:00:00\", \"2017-10-29T00:00:00\", \"2017-11-05T00:00:00\", \"2017-11-12T00:00:00\", \"2017-11-19T00:00:00\", \"2017-11-26T00:00:00\", \"2017-12-03T00:00:00\", \"2017-12-10T00:00:00\", \"2017-12-17T00:00:00\", \"2017-12-24T00:00:00\", \"2017-12-31T00:00:00\", \"2018-01-07T00:00:00\", \"2018-01-14T00:00:00\", \"2018-01-21T00:00:00\", \"2018-01-28T00:00:00\", \"2018-02-04T00:00:00\", \"2018-02-11T00:00:00\", \"2018-02-18T00:00:00\", \"2018-02-25T00:00:00\", \"2018-03-04T00:00:00\", \"2018-03-11T00:00:00\", \"2018-03-18T00:00:00\", \"2018-03-25T00:00:00\"], \"xaxis\": \"x\", \"y\": [1.46, 1.42, 1.42, 1.53, 1.36, 1.48, 1.58, 1.51, 1.4, 1.49, 1.5, 1.49, 1.6, 1.63, 1.53, 1.59, 1.45, 1.37, 1.42, 1.5, 1.59, 1.58, 1.67, 1.68, 1.66, 1.64, 1.0, 1.0, 1.0, 1.0, 1.0, 1.0, 1.75, 1.72, 1.66, 1.78, 1.8, 1.77, 1.75, 1.72, 1.69, 1.71, 1.62, 1.47, 1.54, 1.6, 1.49, 1.5, 1.52, 1.43, 1.53, 1.52, 1.43, 1.35, 1.44, 1.41, 1.43, 1.44, 1.37, 1.45, 1.44, 1.28, 1.29, 1.27, 1.44, 1.44, 1.26, 1.38, 1.25, 1.28, 1.3, 1.45, 1.36, 1.41, 1.43, 1.45, 1.45, 1.5, 1.47, 1.51, 1.63, 1.65, 1.58, 1.55, 1.48, 1.51, 1.49, 1.54, 1.52, 1.67, 1.69, 1.71, 1.52, 1.5, 1.63, 1.93, 1.68, 1.7, 1.63, 1.64, 1.56, 1.42, 1.43, 1.34, 1.48, 1.43, 1.44, 1.37, 1.43, 1.36, 1.41, 1.31, 1.21, 1.16, 1.38, 1.5, 1.29, 1.42, 1.43, 1.49, 1.61, 1.68, 1.57, 1.55, 1.71, 1.69, 1.64, 1.56, 1.71, 1.77, 1.74, 1.71, 1.78, 1.76, 1.78, 1.83, 1.88, 1.96, 2.09, 2.06, 2.03, 2.0, 1.94, 1.95, 1.9, 1.85, 1.82, 1.84, 1.82, 1.81, 1.77, 1.72, 1.62, 1.54, 1.57, 1.64, 1.52, 1.51, 1.59, 1.63, 1.61, 1.53, 1.56, 1.52, 1.57, 1.52, 1.52, 1.54, 1.55], \"yaxis\": \"y2\"}],\n",
       "                        {\"template\": {\"data\": {\"bar\": [{\"error_x\": {\"color\": \"#2a3f5f\"}, \"error_y\": {\"color\": \"#2a3f5f\"}, \"marker\": {\"line\": {\"color\": \"#E5ECF6\", \"width\": 0.5}}, \"type\": \"bar\"}], \"barpolar\": [{\"marker\": {\"line\": {\"color\": \"#E5ECF6\", \"width\": 0.5}}, \"type\": \"barpolar\"}], \"carpet\": [{\"aaxis\": {\"endlinecolor\": \"#2a3f5f\", \"gridcolor\": \"white\", \"linecolor\": \"white\", \"minorgridcolor\": \"white\", \"startlinecolor\": \"#2a3f5f\"}, \"baxis\": {\"endlinecolor\": \"#2a3f5f\", \"gridcolor\": \"white\", \"linecolor\": \"white\", \"minorgridcolor\": \"white\", \"startlinecolor\": \"#2a3f5f\"}, \"type\": \"carpet\"}], \"choropleth\": [{\"colorbar\": {\"outlinewidth\": 0, \"ticks\": \"\"}, \"type\": \"choropleth\"}], \"contour\": [{\"colorbar\": {\"outlinewidth\": 0, \"ticks\": \"\"}, \"colorscale\": [[0.0, \"#0d0887\"], [0.1111111111111111, \"#46039f\"], [0.2222222222222222, \"#7201a8\"], [0.3333333333333333, \"#9c179e\"], [0.4444444444444444, \"#bd3786\"], [0.5555555555555556, \"#d8576b\"], [0.6666666666666666, \"#ed7953\"], [0.7777777777777778, \"#fb9f3a\"], [0.8888888888888888, \"#fdca26\"], [1.0, \"#f0f921\"]], \"type\": \"contour\"}], \"contourcarpet\": [{\"colorbar\": {\"outlinewidth\": 0, \"ticks\": \"\"}, \"type\": \"contourcarpet\"}], \"heatmap\": [{\"colorbar\": {\"outlinewidth\": 0, \"ticks\": \"\"}, \"colorscale\": [[0.0, \"#0d0887\"], [0.1111111111111111, \"#46039f\"], [0.2222222222222222, \"#7201a8\"], [0.3333333333333333, \"#9c179e\"], [0.4444444444444444, \"#bd3786\"], [0.5555555555555556, \"#d8576b\"], [0.6666666666666666, \"#ed7953\"], [0.7777777777777778, \"#fb9f3a\"], [0.8888888888888888, \"#fdca26\"], [1.0, \"#f0f921\"]], \"type\": \"heatmap\"}], \"heatmapgl\": [{\"colorbar\": {\"outlinewidth\": 0, \"ticks\": \"\"}, \"colorscale\": [[0.0, \"#0d0887\"], [0.1111111111111111, \"#46039f\"], [0.2222222222222222, \"#7201a8\"], [0.3333333333333333, \"#9c179e\"], [0.4444444444444444, \"#bd3786\"], [0.5555555555555556, \"#d8576b\"], [0.6666666666666666, \"#ed7953\"], [0.7777777777777778, \"#fb9f3a\"], [0.8888888888888888, \"#fdca26\"], [1.0, \"#f0f921\"]], \"type\": \"heatmapgl\"}], \"histogram\": [{\"marker\": {\"colorbar\": {\"outlinewidth\": 0, \"ticks\": \"\"}}, \"type\": \"histogram\"}], \"histogram2d\": [{\"colorbar\": {\"outlinewidth\": 0, \"ticks\": \"\"}, \"colorscale\": [[0.0, \"#0d0887\"], [0.1111111111111111, \"#46039f\"], [0.2222222222222222, \"#7201a8\"], [0.3333333333333333, \"#9c179e\"], [0.4444444444444444, \"#bd3786\"], [0.5555555555555556, \"#d8576b\"], [0.6666666666666666, \"#ed7953\"], [0.7777777777777778, \"#fb9f3a\"], [0.8888888888888888, \"#fdca26\"], [1.0, \"#f0f921\"]], \"type\": \"histogram2d\"}], \"histogram2dcontour\": [{\"colorbar\": {\"outlinewidth\": 0, \"ticks\": \"\"}, \"colorscale\": [[0.0, \"#0d0887\"], [0.1111111111111111, \"#46039f\"], [0.2222222222222222, \"#7201a8\"], [0.3333333333333333, \"#9c179e\"], [0.4444444444444444, \"#bd3786\"], [0.5555555555555556, \"#d8576b\"], [0.6666666666666666, \"#ed7953\"], [0.7777777777777778, \"#fb9f3a\"], [0.8888888888888888, \"#fdca26\"], [1.0, \"#f0f921\"]], \"type\": \"histogram2dcontour\"}], \"mesh3d\": [{\"colorbar\": {\"outlinewidth\": 0, \"ticks\": \"\"}, \"type\": \"mesh3d\"}], \"parcoords\": [{\"line\": {\"colorbar\": {\"outlinewidth\": 0, \"ticks\": \"\"}}, \"type\": \"parcoords\"}], \"pie\": [{\"automargin\": true, \"type\": \"pie\"}], \"scatter\": [{\"marker\": {\"colorbar\": {\"outlinewidth\": 0, \"ticks\": \"\"}}, \"type\": \"scatter\"}], \"scatter3d\": [{\"line\": {\"colorbar\": {\"outlinewidth\": 0, \"ticks\": \"\"}}, \"marker\": {\"colorbar\": {\"outlinewidth\": 0, \"ticks\": \"\"}}, \"type\": \"scatter3d\"}], \"scattercarpet\": [{\"marker\": {\"colorbar\": {\"outlinewidth\": 0, \"ticks\": \"\"}}, \"type\": \"scattercarpet\"}], \"scattergeo\": [{\"marker\": {\"colorbar\": {\"outlinewidth\": 0, \"ticks\": \"\"}}, \"type\": \"scattergeo\"}], \"scattergl\": [{\"marker\": {\"colorbar\": {\"outlinewidth\": 0, \"ticks\": \"\"}}, \"type\": \"scattergl\"}], \"scattermapbox\": [{\"marker\": {\"colorbar\": {\"outlinewidth\": 0, \"ticks\": \"\"}}, \"type\": \"scattermapbox\"}], \"scatterpolar\": [{\"marker\": {\"colorbar\": {\"outlinewidth\": 0, \"ticks\": \"\"}}, \"type\": \"scatterpolar\"}], \"scatterpolargl\": [{\"marker\": {\"colorbar\": {\"outlinewidth\": 0, \"ticks\": \"\"}}, \"type\": \"scatterpolargl\"}], \"scatterternary\": [{\"marker\": {\"colorbar\": {\"outlinewidth\": 0, \"ticks\": \"\"}}, \"type\": \"scatterternary\"}], \"surface\": [{\"colorbar\": {\"outlinewidth\": 0, \"ticks\": \"\"}, \"colorscale\": [[0.0, \"#0d0887\"], [0.1111111111111111, \"#46039f\"], [0.2222222222222222, \"#7201a8\"], [0.3333333333333333, \"#9c179e\"], [0.4444444444444444, \"#bd3786\"], [0.5555555555555556, \"#d8576b\"], [0.6666666666666666, \"#ed7953\"], [0.7777777777777778, \"#fb9f3a\"], [0.8888888888888888, \"#fdca26\"], [1.0, \"#f0f921\"]], \"type\": \"surface\"}], \"table\": [{\"cells\": {\"fill\": {\"color\": \"#EBF0F8\"}, \"line\": {\"color\": \"white\"}}, \"header\": {\"fill\": {\"color\": \"#C8D4E3\"}, \"line\": {\"color\": \"white\"}}, \"type\": \"table\"}]}, \"layout\": {\"annotationdefaults\": {\"arrowcolor\": \"#2a3f5f\", \"arrowhead\": 0, \"arrowwidth\": 1}, \"coloraxis\": {\"colorbar\": {\"outlinewidth\": 0, \"ticks\": \"\"}}, \"colorscale\": {\"diverging\": [[0, \"#8e0152\"], [0.1, \"#c51b7d\"], [0.2, \"#de77ae\"], [0.3, \"#f1b6da\"], [0.4, \"#fde0ef\"], [0.5, \"#f7f7f7\"], [0.6, \"#e6f5d0\"], [0.7, \"#b8e186\"], [0.8, \"#7fbc41\"], [0.9, \"#4d9221\"], [1, \"#276419\"]], \"sequential\": [[0.0, \"#0d0887\"], [0.1111111111111111, \"#46039f\"], [0.2222222222222222, \"#7201a8\"], [0.3333333333333333, \"#9c179e\"], [0.4444444444444444, \"#bd3786\"], [0.5555555555555556, \"#d8576b\"], [0.6666666666666666, \"#ed7953\"], [0.7777777777777778, \"#fb9f3a\"], [0.8888888888888888, \"#fdca26\"], [1.0, \"#f0f921\"]], \"sequentialminus\": [[0.0, \"#0d0887\"], [0.1111111111111111, \"#46039f\"], [0.2222222222222222, \"#7201a8\"], [0.3333333333333333, \"#9c179e\"], [0.4444444444444444, \"#bd3786\"], [0.5555555555555556, \"#d8576b\"], [0.6666666666666666, \"#ed7953\"], [0.7777777777777778, \"#fb9f3a\"], [0.8888888888888888, \"#fdca26\"], [1.0, \"#f0f921\"]]}, \"colorway\": [\"#636efa\", \"#EF553B\", \"#00cc96\", \"#ab63fa\", \"#FFA15A\", \"#19d3f3\", \"#FF6692\", \"#B6E880\", \"#FF97FF\", \"#FECB52\"], \"font\": {\"color\": \"#2a3f5f\"}, \"geo\": {\"bgcolor\": \"white\", \"lakecolor\": \"white\", \"landcolor\": \"#E5ECF6\", \"showlakes\": true, \"showland\": true, \"subunitcolor\": \"white\"}, \"hoverlabel\": {\"align\": \"left\"}, \"hovermode\": \"closest\", \"mapbox\": {\"style\": \"light\"}, \"paper_bgcolor\": \"white\", \"plot_bgcolor\": \"#E5ECF6\", \"polar\": {\"angularaxis\": {\"gridcolor\": \"white\", \"linecolor\": \"white\", \"ticks\": \"\"}, \"bgcolor\": \"#E5ECF6\", \"radialaxis\": {\"gridcolor\": \"white\", \"linecolor\": \"white\", \"ticks\": \"\"}}, \"scene\": {\"xaxis\": {\"backgroundcolor\": \"#E5ECF6\", \"gridcolor\": \"white\", \"gridwidth\": 2, \"linecolor\": \"white\", \"showbackground\": true, \"ticks\": \"\", \"zerolinecolor\": \"white\"}, \"yaxis\": {\"backgroundcolor\": \"#E5ECF6\", \"gridcolor\": \"white\", \"gridwidth\": 2, \"linecolor\": \"white\", \"showbackground\": true, \"ticks\": \"\", \"zerolinecolor\": \"white\"}, \"zaxis\": {\"backgroundcolor\": \"#E5ECF6\", \"gridcolor\": \"white\", \"gridwidth\": 2, \"linecolor\": \"white\", \"showbackground\": true, \"ticks\": \"\", \"zerolinecolor\": \"white\"}}, \"shapedefaults\": {\"line\": {\"color\": \"#2a3f5f\"}}, \"ternary\": {\"aaxis\": {\"gridcolor\": \"white\", \"linecolor\": \"white\", \"ticks\": \"\"}, \"baxis\": {\"gridcolor\": \"white\", \"linecolor\": \"white\", \"ticks\": \"\"}, \"bgcolor\": \"#E5ECF6\", \"caxis\": {\"gridcolor\": \"white\", \"linecolor\": \"white\", \"ticks\": \"\"}}, \"title\": {\"x\": 0.05}, \"xaxis\": {\"automargin\": true, \"gridcolor\": \"white\", \"linecolor\": \"white\", \"ticks\": \"\", \"title\": {\"standoff\": 15}, \"zerolinecolor\": \"white\", \"zerolinewidth\": 2}, \"yaxis\": {\"automargin\": true, \"gridcolor\": \"white\", \"linecolor\": \"white\", \"ticks\": \"\", \"title\": {\"standoff\": 15}, \"zerolinecolor\": \"white\", \"zerolinewidth\": 2}}}, \"title\": {\"text\": \"Time Series Revenue and its Components for Organic Type\"}, \"width\": 800, \"xaxis\": {\"anchor\": \"y\", \"domain\": [0.0, 0.94], \"rangeslider\": {\"visible\": true}}, \"yaxis\": {\"anchor\": \"x\", \"domain\": [0.0, 1.0]}, \"yaxis2\": {\"anchor\": \"x\", \"overlaying\": \"y\", \"side\": \"right\"}},\n",
       "                        {\"responsive\": true}\n",
       "                    ).then(function(){\n",
       "                            \n",
       "var gd = document.getElementById('07ecf7fa-02db-493e-89b0-5473cb3692ad');\n",
       "var x = new MutationObserver(function (mutations, observer) {{\n",
       "        var display = window.getComputedStyle(gd).display;\n",
       "        if (!display || display === 'none') {{\n",
       "            console.log([gd, 'removed!']);\n",
       "            Plotly.purge(gd);\n",
       "            observer.disconnect();\n",
       "        }}\n",
       "}});\n",
       "\n",
       "// Listen for the removal of the full notebook cells\n",
       "var notebookContainer = gd.closest('#notebook-container');\n",
       "if (notebookContainer) {{\n",
       "    x.observe(notebookContainer, {childList: true});\n",
       "}}\n",
       "\n",
       "// Listen for the clearing of the current output cell\n",
       "var outputEl = gd.closest('.output');\n",
       "if (outputEl) {{\n",
       "    x.observe(outputEl, {childList: true});\n",
       "}}\n",
       "\n",
       "                        })\n",
       "                };\n",
       "                });\n",
       "            </script>\n",
       "        </div>"
      ]
     },
     "metadata": {},
     "output_type": "display_data"
    }
   ],
   "source": [
    "fig = make_subplots(specs=[[{\"secondary_y\": True}]])\n",
    "\n",
    "dates = df_tidy_org.query(\"Category=='Revenue'\").Date # Arbitrary filter to get unique dates\n",
    "revenue = df_tidy_org.query(\"Category=='Revenue'\").Value\n",
    "volume = df_tidy_org.query(\"Category=='TotalVolume'\").Value\n",
    "price = df_tidy_org.query(\"Category=='AveragePrice'\").Value\n",
    "\n",
    "fig.add_trace(go.Scatter(x=dates, \n",
    "                         y=revenue, \n",
    "                         mode='lines', \n",
    "                         name='revenue'), \n",
    "              secondary_y=False)\n",
    "fig.add_trace(go.Scatter(x=dates, \n",
    "                         y=volume, \n",
    "                         mode='lines',\n",
    "                         name='volume'), \n",
    "              secondary_y=False)\n",
    "fig.add_trace(go.Scatter(x=dates, \n",
    "                         y=price, \n",
    "                         mode='markers',\n",
    "                         marker={'size': 4},\n",
    "                         name='price'), \n",
    "              secondary_y=True)\n",
    "fig.add_trace(go.Scatter())\n",
    "fig.update_layout(title_text='Time Series Revenue and its Components for Organic Type',\n",
    "                 xaxis_rangeslider_visible=True,\n",
    "                 width=800)\n",
    "fig.show()"
   ]
  },
  {
   "cell_type": "code",
   "execution_count": 138,
   "metadata": {
    "ExecuteTime": {
     "end_time": "2020-03-22T18:01:16.199782Z",
     "start_time": "2020-03-22T18:01:16.188837Z"
    }
   },
   "outputs": [
    {
     "data": {
      "text/html": [
       "<div>\n",
       "<style scoped>\n",
       "    .dataframe tbody tr th:only-of-type {\n",
       "        vertical-align: middle;\n",
       "    }\n",
       "\n",
       "    .dataframe tbody tr th {\n",
       "        vertical-align: top;\n",
       "    }\n",
       "\n",
       "    .dataframe thead th {\n",
       "        text-align: right;\n",
       "    }\n",
       "</style>\n",
       "<table border=\"1\" class=\"dataframe\">\n",
       "  <thead>\n",
       "    <tr style=\"text-align: right;\">\n",
       "      <th></th>\n",
       "      <th>AveragePrice</th>\n",
       "      <th>TotalVolume</th>\n",
       "      <th>Revenue</th>\n",
       "    </tr>\n",
       "  </thead>\n",
       "  <tbody>\n",
       "    <tr>\n",
       "      <th>AveragePrice</th>\n",
       "      <td>1.00</td>\n",
       "      <td>0.02</td>\n",
       "      <td>0.40</td>\n",
       "    </tr>\n",
       "    <tr>\n",
       "      <th>TotalVolume</th>\n",
       "      <td>0.02</td>\n",
       "      <td>1.00</td>\n",
       "      <td>0.92</td>\n",
       "    </tr>\n",
       "    <tr>\n",
       "      <th>Revenue</th>\n",
       "      <td>0.40</td>\n",
       "      <td>0.92</td>\n",
       "      <td>1.00</td>\n",
       "    </tr>\n",
       "  </tbody>\n",
       "</table>\n",
       "</div>"
      ],
      "text/plain": [
       "              AveragePrice  TotalVolume  Revenue\n",
       "AveragePrice          1.00         0.02     0.40\n",
       "TotalVolume           0.02         1.00     0.92\n",
       "Revenue               0.40         0.92     1.00"
      ]
     },
     "execution_count": 138,
     "metadata": {},
     "output_type": "execute_result"
    }
   ],
   "source": [
    "df_avo_total.query(\"type=='organic'\")[['AveragePrice', 'TotalVolume', 'Revenue']].corr()"
   ]
  },
  {
   "cell_type": "code",
   "execution_count": 141,
   "metadata": {
    "ExecuteTime": {
     "end_time": "2020-03-22T19:11:31.004283Z",
     "start_time": "2020-03-22T19:11:30.984372Z"
    }
   },
   "outputs": [
    {
     "data": {
      "text/html": [
       "<div>\n",
       "<style scoped>\n",
       "    .dataframe tbody tr th:only-of-type {\n",
       "        vertical-align: middle;\n",
       "    }\n",
       "\n",
       "    .dataframe tbody tr th {\n",
       "        vertical-align: top;\n",
       "    }\n",
       "\n",
       "    .dataframe thead th {\n",
       "        text-align: right;\n",
       "    }\n",
       "</style>\n",
       "<table border=\"1\" class=\"dataframe\">\n",
       "  <thead>\n",
       "    <tr style=\"text-align: right;\">\n",
       "      <th></th>\n",
       "      <th></th>\n",
       "      <th>AveragePrice</th>\n",
       "      <th>TotalVolume</th>\n",
       "      <th>Revenue</th>\n",
       "    </tr>\n",
       "    <tr>\n",
       "      <th>year</th>\n",
       "      <th></th>\n",
       "      <th></th>\n",
       "      <th></th>\n",
       "      <th></th>\n",
       "    </tr>\n",
       "  </thead>\n",
       "  <tbody>\n",
       "    <tr>\n",
       "      <th rowspan=\"3\" valign=\"top\">2015</th>\n",
       "      <th>AveragePrice</th>\n",
       "      <td>1.00</td>\n",
       "      <td>-0.19</td>\n",
       "      <td>0.58</td>\n",
       "    </tr>\n",
       "    <tr>\n",
       "      <th>TotalVolume</th>\n",
       "      <td>-0.19</td>\n",
       "      <td>1.00</td>\n",
       "      <td>0.68</td>\n",
       "    </tr>\n",
       "    <tr>\n",
       "      <th>Revenue</th>\n",
       "      <td>0.58</td>\n",
       "      <td>0.68</td>\n",
       "      <td>1.00</td>\n",
       "    </tr>\n",
       "    <tr>\n",
       "      <th rowspan=\"3\" valign=\"top\">2016</th>\n",
       "      <th>AveragePrice</th>\n",
       "      <td>1.00</td>\n",
       "      <td>-0.51</td>\n",
       "      <td>0.03</td>\n",
       "    </tr>\n",
       "    <tr>\n",
       "      <th>TotalVolume</th>\n",
       "      <td>-0.51</td>\n",
       "      <td>1.00</td>\n",
       "      <td>0.84</td>\n",
       "    </tr>\n",
       "    <tr>\n",
       "      <th>Revenue</th>\n",
       "      <td>0.03</td>\n",
       "      <td>0.84</td>\n",
       "      <td>1.00</td>\n",
       "    </tr>\n",
       "    <tr>\n",
       "      <th rowspan=\"3\" valign=\"top\">2017</th>\n",
       "      <th>AveragePrice</th>\n",
       "      <td>1.00</td>\n",
       "      <td>-0.47</td>\n",
       "      <td>0.50</td>\n",
       "    </tr>\n",
       "    <tr>\n",
       "      <th>TotalVolume</th>\n",
       "      <td>-0.47</td>\n",
       "      <td>1.00</td>\n",
       "      <td>0.51</td>\n",
       "    </tr>\n",
       "    <tr>\n",
       "      <th>Revenue</th>\n",
       "      <td>0.50</td>\n",
       "      <td>0.51</td>\n",
       "      <td>1.00</td>\n",
       "    </tr>\n",
       "    <tr>\n",
       "      <th rowspan=\"3\" valign=\"top\">2018</th>\n",
       "      <th>AveragePrice</th>\n",
       "      <td>1.00</td>\n",
       "      <td>-0.70</td>\n",
       "      <td>-0.57</td>\n",
       "    </tr>\n",
       "    <tr>\n",
       "      <th>TotalVolume</th>\n",
       "      <td>-0.70</td>\n",
       "      <td>1.00</td>\n",
       "      <td>0.98</td>\n",
       "    </tr>\n",
       "    <tr>\n",
       "      <th>Revenue</th>\n",
       "      <td>-0.57</td>\n",
       "      <td>0.98</td>\n",
       "      <td>1.00</td>\n",
       "    </tr>\n",
       "  </tbody>\n",
       "</table>\n",
       "</div>"
      ],
      "text/plain": [
       "                   AveragePrice  TotalVolume  Revenue\n",
       "year                                                 \n",
       "2015 AveragePrice          1.00        -0.19     0.58\n",
       "     TotalVolume          -0.19         1.00     0.68\n",
       "     Revenue               0.58         0.68     1.00\n",
       "2016 AveragePrice          1.00        -0.51     0.03\n",
       "     TotalVolume          -0.51         1.00     0.84\n",
       "     Revenue               0.03         0.84     1.00\n",
       "2017 AveragePrice          1.00        -0.47     0.50\n",
       "     TotalVolume          -0.47         1.00     0.51\n",
       "     Revenue               0.50         0.51     1.00\n",
       "2018 AveragePrice          1.00        -0.70    -0.57\n",
       "     TotalVolume          -0.70         1.00     0.98\n",
       "     Revenue              -0.57         0.98     1.00"
      ]
     },
     "execution_count": 141,
     "metadata": {},
     "output_type": "execute_result"
    }
   ],
   "source": [
    "(df_avo_total.query(\"type=='organic'\")\n",
    "             .groupby('year')\n",
    "             [['AveragePrice', 'TotalVolume', 'Revenue']].corr())"
   ]
  },
  {
   "cell_type": "code",
   "execution_count": 146,
   "metadata": {
    "ExecuteTime": {
     "end_time": "2020-03-22T19:36:36.055105Z",
     "start_time": "2020-03-22T19:36:35.818083Z"
    }
   },
   "outputs": [
    {
     "data": {
      "text/html": [
       "<div>\n",
       "        \n",
       "        \n",
       "            <div id=\"20501d2d-398b-425e-b75a-c78433531fa4\" class=\"plotly-graph-div\" style=\"height:525px; width:100%;\"></div>\n",
       "            <script type=\"text/javascript\">\n",
       "                require([\"plotly\"], function(Plotly) {\n",
       "                    window.PLOTLYENV=window.PLOTLYENV || {};\n",
       "                    \n",
       "                if (document.getElementById(\"20501d2d-398b-425e-b75a-c78433531fa4\")) {\n",
       "                    Plotly.newPlot(\n",
       "                        '20501d2d-398b-425e-b75a-c78433531fa4',\n",
       "                        [{\"hoverlabel\": {\"namelength\": 0}, \"hovertemplate\": \"Date=%{x}<br>Revenue=%{y}\", \"legendgroup\": \"\", \"line\": {\"color\": \"#636efa\", \"dash\": \"solid\"}, \"mode\": \"lines\", \"name\": \"\", \"showlegend\": false, \"type\": \"scatter\", \"x\": [\"2015-01-04T00:00:00\", \"2015-01-11T00:00:00\", \"2015-01-18T00:00:00\", \"2015-01-25T00:00:00\", \"2015-02-01T00:00:00\", \"2015-02-08T00:00:00\", \"2015-02-15T00:00:00\", \"2015-02-22T00:00:00\", \"2015-03-01T00:00:00\", \"2015-03-08T00:00:00\", \"2015-03-15T00:00:00\", \"2015-03-22T00:00:00\", \"2015-03-29T00:00:00\", \"2015-04-05T00:00:00\", \"2015-04-12T00:00:00\", \"2015-04-19T00:00:00\", \"2015-04-26T00:00:00\", \"2015-05-03T00:00:00\", \"2015-05-10T00:00:00\", \"2015-05-17T00:00:00\", \"2015-05-24T00:00:00\", \"2015-05-31T00:00:00\", \"2015-06-07T00:00:00\", \"2015-06-14T00:00:00\", \"2015-06-21T00:00:00\", \"2015-06-28T00:00:00\", \"2015-07-05T00:00:00\", \"2015-07-12T00:00:00\", \"2015-07-19T00:00:00\", \"2015-07-26T00:00:00\", \"2015-08-02T00:00:00\", \"2015-08-09T00:00:00\", \"2015-08-16T00:00:00\", \"2015-08-23T00:00:00\", \"2015-08-30T00:00:00\", \"2015-09-06T00:00:00\", \"2015-09-13T00:00:00\", \"2015-09-20T00:00:00\", \"2015-09-27T00:00:00\", \"2015-10-04T00:00:00\", \"2015-10-11T00:00:00\", \"2015-10-18T00:00:00\", \"2015-10-25T00:00:00\", \"2015-11-01T00:00:00\", \"2015-11-08T00:00:00\", \"2015-11-15T00:00:00\", \"2015-11-22T00:00:00\", \"2015-11-29T00:00:00\", \"2015-12-06T00:00:00\", \"2015-12-13T00:00:00\", \"2015-12-20T00:00:00\", \"2015-12-27T00:00:00\", \"2016-01-03T00:00:00\", \"2016-01-10T00:00:00\", \"2016-01-17T00:00:00\", \"2016-01-24T00:00:00\", \"2016-01-31T00:00:00\", \"2016-02-07T00:00:00\", \"2016-02-14T00:00:00\", \"2016-02-21T00:00:00\", \"2016-02-28T00:00:00\", \"2016-03-06T00:00:00\", \"2016-03-13T00:00:00\", \"2016-03-20T00:00:00\", \"2016-03-27T00:00:00\", \"2016-04-03T00:00:00\", \"2016-04-10T00:00:00\", \"2016-04-17T00:00:00\", \"2016-04-24T00:00:00\", \"2016-05-01T00:00:00\", \"2016-05-08T00:00:00\", \"2016-05-15T00:00:00\", \"2016-05-22T00:00:00\", \"2016-05-29T00:00:00\", \"2016-06-05T00:00:00\", \"2016-06-12T00:00:00\", \"2016-06-19T00:00:00\", \"2016-06-26T00:00:00\", \"2016-07-03T00:00:00\", \"2016-07-10T00:00:00\", \"2016-07-17T00:00:00\", \"2016-07-24T00:00:00\", \"2016-07-31T00:00:00\", \"2016-08-07T00:00:00\", \"2016-08-14T00:00:00\", \"2016-08-21T00:00:00\", \"2016-08-28T00:00:00\", \"2016-09-04T00:00:00\", \"2016-09-11T00:00:00\", \"2016-09-18T00:00:00\", \"2016-09-25T00:00:00\", \"2016-10-02T00:00:00\", \"2016-10-09T00:00:00\", \"2016-10-16T00:00:00\", \"2016-10-23T00:00:00\", \"2016-10-30T00:00:00\", \"2016-11-06T00:00:00\", \"2016-11-13T00:00:00\", \"2016-11-20T00:00:00\", \"2016-11-27T00:00:00\", \"2016-12-04T00:00:00\", \"2016-12-11T00:00:00\", \"2016-12-18T00:00:00\", \"2016-12-25T00:00:00\", \"2017-01-01T00:00:00\", \"2017-01-08T00:00:00\", \"2017-01-15T00:00:00\", \"2017-01-22T00:00:00\", \"2017-01-29T00:00:00\", \"2017-02-05T00:00:00\", \"2017-02-12T00:00:00\", \"2017-02-19T00:00:00\", \"2017-02-26T00:00:00\", \"2017-03-05T00:00:00\", \"2017-03-12T00:00:00\", \"2017-03-19T00:00:00\", \"2017-03-26T00:00:00\", \"2017-04-02T00:00:00\", \"2017-04-09T00:00:00\", \"2017-04-16T00:00:00\", \"2017-04-23T00:00:00\", \"2017-04-30T00:00:00\", \"2017-05-07T00:00:00\", \"2017-05-14T00:00:00\", \"2017-05-21T00:00:00\", \"2017-05-28T00:00:00\", \"2017-06-04T00:00:00\", \"2017-06-11T00:00:00\", \"2017-06-18T00:00:00\", \"2017-06-25T00:00:00\", \"2017-07-02T00:00:00\", \"2017-07-09T00:00:00\", \"2017-07-16T00:00:00\", \"2017-07-23T00:00:00\", \"2017-07-30T00:00:00\", \"2017-08-06T00:00:00\", \"2017-08-13T00:00:00\", \"2017-08-20T00:00:00\", \"2017-08-27T00:00:00\", \"2017-09-03T00:00:00\", \"2017-09-10T00:00:00\", \"2017-09-17T00:00:00\", \"2017-09-24T00:00:00\", \"2017-10-01T00:00:00\", \"2017-10-08T00:00:00\", \"2017-10-15T00:00:00\", \"2017-10-22T00:00:00\", \"2017-10-29T00:00:00\", \"2017-11-05T00:00:00\", \"2017-11-12T00:00:00\", \"2017-11-19T00:00:00\", \"2017-11-26T00:00:00\", \"2017-12-03T00:00:00\", \"2017-12-10T00:00:00\", \"2017-12-17T00:00:00\", \"2017-12-24T00:00:00\", \"2017-12-31T00:00:00\", \"2018-01-07T00:00:00\", \"2018-01-14T00:00:00\", \"2018-01-21T00:00:00\", \"2018-01-28T00:00:00\", \"2018-02-04T00:00:00\", \"2018-02-11T00:00:00\", \"2018-02-18T00:00:00\", \"2018-02-25T00:00:00\", \"2018-03-04T00:00:00\", \"2018-03-11T00:00:00\", \"2018-03-18T00:00:00\", \"2018-03-25T00:00:00\"], \"xaxis\": \"x\", \"y\": [894848.819, 950731.0096, 1012630.3999999999, 851244.3558, 1007619.8792000001, 1081693.9788000002, 973559.66, 1016904.5018999999, 1140278.706, 1168030.4445, 966877.0050000001, 1017133.6447000001, 1079281.632, 1078802.4926, 1239327.9531, 1074693.6723, 1264746.6515, 1250373.7509, 1223572.9762, 1142958.975, 1135683.4329000001, 1132769.4818, 1069549.1453, 1085445.3456000001, 1059400.1974, 1082313.1292, 668233.0, 608845.0, 650389.0, 580826.0, 573873.0, 625259.0, 1128206.9925, 1145995.1672, 1112209.8604, 1056958.9626000002, 993707.3520000001, 911976.2514000001, 878176.0225, 958715.4955999999, 878618.6122999999, 885839.6106, 908545.4748000001, 952250.0799, 932003.5648, 818155.616, 870572.4171000001, 761746.215, 781451.6992, 892749.4433, 813161.7072, 835677.1368, 1006863.715, 1118705.2965, 1001291.6448, 1095520.0155, 1104070.396, 1092664.944, 1167874.7347000001, 1071342.534, 1216816.7471999999, 1295892.288, 1320516.0723, 1327722.0207, 1296928.4976000001, 1340240.2416, 1486299.8178, 1410659.9015999998, 1844321.9125, 1686869.76, 1479323.0140000002, 1483715.6465, 1585372.4136, 1530065.1096, 1448186.6399, 1414149.5475, 1553046.657, 1511068.17, 1578185.1939, 1575577.0803, 1659532.7800999999, 1517158.2359999998, 1494818.7398, 1568967.3655, 1618065.9292000001, 1560086.247, 1413311.0112, 1620216.7058, 1677303.0520000001, 1455618.0585999999, 1367027.3786, 1352483.5113000001, 1335118.4632, 1223789.2349999999, 1140614.2604999999, 1250106.4515, 1508087.7672000001, 1468711.855, 1402322.5617, 1249148.4268, 1299117.378, 1216649.7946, 1139770.4461, 1224807.4628, 1197278.3824, 1416732.2168999999, 1405042.9631999999, 1362167.6826000002, 1363084.723, 1381244.6008000001, 1495694.1317999999, 2141689.0141000003, 1738362.4115, 1878501.9584, 1845883.7081999998, 1926027.9749999999, 2039654.2944000002, 2118877.7221999997, 1984033.9376, 2225063.6072, 1916642.4998, 2096934.4872, 2188778.1811, 2131443.936, 2070058.6431000002, 2200727.3795, 2218855.1708, 2180019.1452, 2230787.8359, 1948787.5584, 2041703.9244000001, 1932940.737, 2044071.6152000001, 2136918.4144, 1943031.5884, 1939747.1861999999, 1907653.0516, 2100214.9699999997, 2186123.3218, 2215609.3718000003, 2220729.9897999996, 2149135.4, 2183360.1572, 2091416.6325, 2211866.931, 2168305.8015, 2149099.2978000003, 2067614.6424000002, 1944724.7638000003, 1890710.4883, 1713158.4501, 1647417.2384, 1813306.5000000002, 1875227.7544000002, 1803328.9412, 1935085.3968, 1890788.9368000003, 2291172.377, 2347875.2172000003, 2092899.8694999998, 2152536.3349, 2118565.6173, 2054520.7332000001, 2758693.5544, 2291968.5035, 2484334.7704000003, 2529637.0176, 2580738.4988, 2417949.16], \"yaxis\": \"y\"}],\n",
       "                        {\"legend\": {\"tracegroupgap\": 0}, \"template\": {\"data\": {\"bar\": [{\"error_x\": {\"color\": \"#2a3f5f\"}, \"error_y\": {\"color\": \"#2a3f5f\"}, \"marker\": {\"line\": {\"color\": \"#E5ECF6\", \"width\": 0.5}}, \"type\": \"bar\"}], \"barpolar\": [{\"marker\": {\"line\": {\"color\": \"#E5ECF6\", \"width\": 0.5}}, \"type\": \"barpolar\"}], \"carpet\": [{\"aaxis\": {\"endlinecolor\": \"#2a3f5f\", \"gridcolor\": \"white\", \"linecolor\": \"white\", \"minorgridcolor\": \"white\", \"startlinecolor\": \"#2a3f5f\"}, \"baxis\": {\"endlinecolor\": \"#2a3f5f\", \"gridcolor\": \"white\", \"linecolor\": \"white\", \"minorgridcolor\": \"white\", \"startlinecolor\": \"#2a3f5f\"}, \"type\": \"carpet\"}], \"choropleth\": [{\"colorbar\": {\"outlinewidth\": 0, \"ticks\": \"\"}, \"type\": \"choropleth\"}], \"contour\": [{\"colorbar\": {\"outlinewidth\": 0, \"ticks\": \"\"}, \"colorscale\": [[0.0, \"#0d0887\"], [0.1111111111111111, \"#46039f\"], [0.2222222222222222, \"#7201a8\"], [0.3333333333333333, \"#9c179e\"], [0.4444444444444444, \"#bd3786\"], [0.5555555555555556, \"#d8576b\"], [0.6666666666666666, \"#ed7953\"], [0.7777777777777778, \"#fb9f3a\"], [0.8888888888888888, \"#fdca26\"], [1.0, \"#f0f921\"]], \"type\": \"contour\"}], \"contourcarpet\": [{\"colorbar\": {\"outlinewidth\": 0, \"ticks\": \"\"}, \"type\": \"contourcarpet\"}], \"heatmap\": [{\"colorbar\": {\"outlinewidth\": 0, \"ticks\": \"\"}, \"colorscale\": [[0.0, \"#0d0887\"], [0.1111111111111111, \"#46039f\"], [0.2222222222222222, \"#7201a8\"], [0.3333333333333333, \"#9c179e\"], [0.4444444444444444, \"#bd3786\"], [0.5555555555555556, \"#d8576b\"], [0.6666666666666666, \"#ed7953\"], [0.7777777777777778, \"#fb9f3a\"], [0.8888888888888888, \"#fdca26\"], [1.0, \"#f0f921\"]], \"type\": \"heatmap\"}], \"heatmapgl\": [{\"colorbar\": {\"outlinewidth\": 0, \"ticks\": \"\"}, \"colorscale\": [[0.0, \"#0d0887\"], [0.1111111111111111, \"#46039f\"], [0.2222222222222222, \"#7201a8\"], [0.3333333333333333, \"#9c179e\"], [0.4444444444444444, \"#bd3786\"], [0.5555555555555556, \"#d8576b\"], [0.6666666666666666, \"#ed7953\"], [0.7777777777777778, \"#fb9f3a\"], [0.8888888888888888, \"#fdca26\"], [1.0, \"#f0f921\"]], \"type\": \"heatmapgl\"}], \"histogram\": [{\"marker\": {\"colorbar\": {\"outlinewidth\": 0, \"ticks\": \"\"}}, \"type\": \"histogram\"}], \"histogram2d\": [{\"colorbar\": {\"outlinewidth\": 0, \"ticks\": \"\"}, \"colorscale\": [[0.0, \"#0d0887\"], [0.1111111111111111, \"#46039f\"], [0.2222222222222222, \"#7201a8\"], [0.3333333333333333, \"#9c179e\"], [0.4444444444444444, \"#bd3786\"], [0.5555555555555556, \"#d8576b\"], [0.6666666666666666, \"#ed7953\"], [0.7777777777777778, \"#fb9f3a\"], [0.8888888888888888, \"#fdca26\"], [1.0, \"#f0f921\"]], \"type\": \"histogram2d\"}], \"histogram2dcontour\": [{\"colorbar\": {\"outlinewidth\": 0, \"ticks\": \"\"}, \"colorscale\": [[0.0, \"#0d0887\"], [0.1111111111111111, \"#46039f\"], [0.2222222222222222, \"#7201a8\"], [0.3333333333333333, \"#9c179e\"], [0.4444444444444444, \"#bd3786\"], [0.5555555555555556, \"#d8576b\"], [0.6666666666666666, \"#ed7953\"], [0.7777777777777778, \"#fb9f3a\"], [0.8888888888888888, \"#fdca26\"], [1.0, \"#f0f921\"]], \"type\": \"histogram2dcontour\"}], \"mesh3d\": [{\"colorbar\": {\"outlinewidth\": 0, \"ticks\": \"\"}, \"type\": \"mesh3d\"}], \"parcoords\": [{\"line\": {\"colorbar\": {\"outlinewidth\": 0, \"ticks\": \"\"}}, \"type\": \"parcoords\"}], \"pie\": [{\"automargin\": true, \"type\": \"pie\"}], \"scatter\": [{\"marker\": {\"colorbar\": {\"outlinewidth\": 0, \"ticks\": \"\"}}, \"type\": \"scatter\"}], \"scatter3d\": [{\"line\": {\"colorbar\": {\"outlinewidth\": 0, \"ticks\": \"\"}}, \"marker\": {\"colorbar\": {\"outlinewidth\": 0, \"ticks\": \"\"}}, \"type\": \"scatter3d\"}], \"scattercarpet\": [{\"marker\": {\"colorbar\": {\"outlinewidth\": 0, \"ticks\": \"\"}}, \"type\": \"scattercarpet\"}], \"scattergeo\": [{\"marker\": {\"colorbar\": {\"outlinewidth\": 0, \"ticks\": \"\"}}, \"type\": \"scattergeo\"}], \"scattergl\": [{\"marker\": {\"colorbar\": {\"outlinewidth\": 0, \"ticks\": \"\"}}, \"type\": \"scattergl\"}], \"scattermapbox\": [{\"marker\": {\"colorbar\": {\"outlinewidth\": 0, \"ticks\": \"\"}}, \"type\": \"scattermapbox\"}], \"scatterpolar\": [{\"marker\": {\"colorbar\": {\"outlinewidth\": 0, \"ticks\": \"\"}}, \"type\": \"scatterpolar\"}], \"scatterpolargl\": [{\"marker\": {\"colorbar\": {\"outlinewidth\": 0, \"ticks\": \"\"}}, \"type\": \"scatterpolargl\"}], \"scatterternary\": [{\"marker\": {\"colorbar\": {\"outlinewidth\": 0, \"ticks\": \"\"}}, \"type\": \"scatterternary\"}], \"surface\": [{\"colorbar\": {\"outlinewidth\": 0, \"ticks\": \"\"}, \"colorscale\": [[0.0, \"#0d0887\"], [0.1111111111111111, \"#46039f\"], [0.2222222222222222, \"#7201a8\"], [0.3333333333333333, \"#9c179e\"], [0.4444444444444444, \"#bd3786\"], [0.5555555555555556, \"#d8576b\"], [0.6666666666666666, \"#ed7953\"], [0.7777777777777778, \"#fb9f3a\"], [0.8888888888888888, \"#fdca26\"], [1.0, \"#f0f921\"]], \"type\": \"surface\"}], \"table\": [{\"cells\": {\"fill\": {\"color\": \"#EBF0F8\"}, \"line\": {\"color\": \"white\"}}, \"header\": {\"fill\": {\"color\": \"#C8D4E3\"}, \"line\": {\"color\": \"white\"}}, \"type\": \"table\"}]}, \"layout\": {\"annotationdefaults\": {\"arrowcolor\": \"#2a3f5f\", \"arrowhead\": 0, \"arrowwidth\": 1}, \"coloraxis\": {\"colorbar\": {\"outlinewidth\": 0, \"ticks\": \"\"}}, \"colorscale\": {\"diverging\": [[0, \"#8e0152\"], [0.1, \"#c51b7d\"], [0.2, \"#de77ae\"], [0.3, \"#f1b6da\"], [0.4, \"#fde0ef\"], [0.5, \"#f7f7f7\"], [0.6, \"#e6f5d0\"], [0.7, \"#b8e186\"], [0.8, \"#7fbc41\"], [0.9, \"#4d9221\"], [1, \"#276419\"]], \"sequential\": [[0.0, \"#0d0887\"], [0.1111111111111111, \"#46039f\"], [0.2222222222222222, \"#7201a8\"], [0.3333333333333333, \"#9c179e\"], [0.4444444444444444, \"#bd3786\"], [0.5555555555555556, \"#d8576b\"], [0.6666666666666666, \"#ed7953\"], [0.7777777777777778, \"#fb9f3a\"], [0.8888888888888888, \"#fdca26\"], [1.0, \"#f0f921\"]], \"sequentialminus\": [[0.0, \"#0d0887\"], [0.1111111111111111, \"#46039f\"], [0.2222222222222222, \"#7201a8\"], [0.3333333333333333, \"#9c179e\"], [0.4444444444444444, \"#bd3786\"], [0.5555555555555556, \"#d8576b\"], [0.6666666666666666, \"#ed7953\"], [0.7777777777777778, \"#fb9f3a\"], [0.8888888888888888, \"#fdca26\"], [1.0, \"#f0f921\"]]}, \"colorway\": [\"#636efa\", \"#EF553B\", \"#00cc96\", \"#ab63fa\", \"#FFA15A\", \"#19d3f3\", \"#FF6692\", \"#B6E880\", \"#FF97FF\", \"#FECB52\"], \"font\": {\"color\": \"#2a3f5f\"}, \"geo\": {\"bgcolor\": \"white\", \"lakecolor\": \"white\", \"landcolor\": \"#E5ECF6\", \"showlakes\": true, \"showland\": true, \"subunitcolor\": \"white\"}, \"hoverlabel\": {\"align\": \"left\"}, \"hovermode\": \"closest\", \"mapbox\": {\"style\": \"light\"}, \"paper_bgcolor\": \"white\", \"plot_bgcolor\": \"#E5ECF6\", \"polar\": {\"angularaxis\": {\"gridcolor\": \"white\", \"linecolor\": \"white\", \"ticks\": \"\"}, \"bgcolor\": \"#E5ECF6\", \"radialaxis\": {\"gridcolor\": \"white\", \"linecolor\": \"white\", \"ticks\": \"\"}}, \"scene\": {\"xaxis\": {\"backgroundcolor\": \"#E5ECF6\", \"gridcolor\": \"white\", \"gridwidth\": 2, \"linecolor\": \"white\", \"showbackground\": true, \"ticks\": \"\", \"zerolinecolor\": \"white\"}, \"yaxis\": {\"backgroundcolor\": \"#E5ECF6\", \"gridcolor\": \"white\", \"gridwidth\": 2, \"linecolor\": \"white\", \"showbackground\": true, \"ticks\": \"\", \"zerolinecolor\": \"white\"}, \"zaxis\": {\"backgroundcolor\": \"#E5ECF6\", \"gridcolor\": \"white\", \"gridwidth\": 2, \"linecolor\": \"white\", \"showbackground\": true, \"ticks\": \"\", \"zerolinecolor\": \"white\"}}, \"shapedefaults\": {\"line\": {\"color\": \"#2a3f5f\"}}, \"ternary\": {\"aaxis\": {\"gridcolor\": \"white\", \"linecolor\": \"white\", \"ticks\": \"\"}, \"baxis\": {\"gridcolor\": \"white\", \"linecolor\": \"white\", \"ticks\": \"\"}, \"bgcolor\": \"#E5ECF6\", \"caxis\": {\"gridcolor\": \"white\", \"linecolor\": \"white\", \"ticks\": \"\"}}, \"title\": {\"x\": 0.05}, \"xaxis\": {\"automargin\": true, \"gridcolor\": \"white\", \"linecolor\": \"white\", \"ticks\": \"\", \"title\": {\"standoff\": 15}, \"zerolinecolor\": \"white\", \"zerolinewidth\": 2}, \"yaxis\": {\"automargin\": true, \"gridcolor\": \"white\", \"linecolor\": \"white\", \"ticks\": \"\", \"title\": {\"standoff\": 15}, \"zerolinecolor\": \"white\", \"zerolinewidth\": 2}}}, \"title\": {\"text\": \"Organic Revenue\"}, \"xaxis\": {\"anchor\": \"y\", \"domain\": [0.0, 1.0], \"title\": {\"text\": \"Date\"}}, \"yaxis\": {\"anchor\": \"x\", \"domain\": [0.0, 1.0], \"title\": {\"text\": \"Revenue\"}}},\n",
       "                        {\"responsive\": true}\n",
       "                    ).then(function(){\n",
       "                            \n",
       "var gd = document.getElementById('20501d2d-398b-425e-b75a-c78433531fa4');\n",
       "var x = new MutationObserver(function (mutations, observer) {{\n",
       "        var display = window.getComputedStyle(gd).display;\n",
       "        if (!display || display === 'none') {{\n",
       "            console.log([gd, 'removed!']);\n",
       "            Plotly.purge(gd);\n",
       "            observer.disconnect();\n",
       "        }}\n",
       "}});\n",
       "\n",
       "// Listen for the removal of the full notebook cells\n",
       "var notebookContainer = gd.closest('#notebook-container');\n",
       "if (notebookContainer) {{\n",
       "    x.observe(notebookContainer, {childList: true});\n",
       "}}\n",
       "\n",
       "// Listen for the clearing of the current output cell\n",
       "var outputEl = gd.closest('.output');\n",
       "if (outputEl) {{\n",
       "    x.observe(outputEl, {childList: true});\n",
       "}}\n",
       "\n",
       "                        })\n",
       "                };\n",
       "                });\n",
       "            </script>\n",
       "        </div>"
      ]
     },
     "metadata": {},
     "output_type": "display_data"
    }
   ],
   "source": [
    "px.line(df_avo_total.query(\"type=='organic'\"), \n",
    "        x='Date', \n",
    "        y='Revenue', \n",
    "        title='Organic Revenue')"
   ]
  },
  {
   "cell_type": "markdown",
   "metadata": {},
   "source": [
    "Digging into aggregation statistics by year on revenue data we can see that there is a clear positive trend in price and volume with the attendant increase in revenue. "
   ]
  },
  {
   "cell_type": "code",
   "execution_count": 160,
   "metadata": {
    "ExecuteTime": {
     "end_time": "2020-03-22T19:59:19.280398Z",
     "start_time": "2020-03-22T19:59:19.222588Z"
    }
   },
   "outputs": [
    {
     "data": {
      "text/html": [
       "<style  type=\"text/css\" >\n",
       "    #T_9dcf8d24_6c77_11ea_b4ae_24418c64cff2row0_col0 {\n",
       "            background-color:  #da3b46;\n",
       "            color:  #f1f1f1;\n",
       "        }    #T_9dcf8d24_6c77_11ea_b4ae_24418c64cff2row0_col1 {\n",
       "            background-color:  #e36972;\n",
       "            color:  #000000;\n",
       "        }    #T_9dcf8d24_6c77_11ea_b4ae_24418c64cff2row0_col2 {\n",
       "            background-color:  #b0c9db;\n",
       "            color:  #000000;\n",
       "        }    #T_9dcf8d24_6c77_11ea_b4ae_24418c64cff2row0_col3 {\n",
       "            background-color:  #eea6ac;\n",
       "            color:  #000000;\n",
       "        }    #T_9dcf8d24_6c77_11ea_b4ae_24418c64cff2row0_col4 {\n",
       "            background-color:  #729ebf;\n",
       "            color:  #000000;\n",
       "        }    #T_9dcf8d24_6c77_11ea_b4ae_24418c64cff2row0_col5 {\n",
       "            background-color:  #f2b9bd;\n",
       "            color:  #000000;\n",
       "        }    #T_9dcf8d24_6c77_11ea_b4ae_24418c64cff2row1_col0 {\n",
       "            background-color:  #e5767e;\n",
       "            color:  #000000;\n",
       "        }    #T_9dcf8d24_6c77_11ea_b4ae_24418c64cff2row1_col1 {\n",
       "            background-color:  #da3b46;\n",
       "            color:  #f1f1f1;\n",
       "        }    #T_9dcf8d24_6c77_11ea_b4ae_24418c64cff2row1_col2 {\n",
       "            background-color:  #8cb0ca;\n",
       "            color:  #000000;\n",
       "        }    #T_9dcf8d24_6c77_11ea_b4ae_24418c64cff2row1_col3 {\n",
       "            background-color:  #d6e4ed;\n",
       "            color:  #000000;\n",
       "        }    #T_9dcf8d24_6c77_11ea_b4ae_24418c64cff2row1_col4 {\n",
       "            background-color:  #4982ab;\n",
       "            color:  #000000;\n",
       "        }    #T_9dcf8d24_6c77_11ea_b4ae_24418c64cff2row1_col5 {\n",
       "            background-color:  #b2cadc;\n",
       "            color:  #000000;\n",
       "        }    #T_9dcf8d24_6c77_11ea_b4ae_24418c64cff2row2_col0 {\n",
       "            background-color:  #417ca8;\n",
       "            color:  #000000;\n",
       "        }    #T_9dcf8d24_6c77_11ea_b4ae_24418c64cff2row2_col1 {\n",
       "            background-color:  #417ca8;\n",
       "            color:  #000000;\n",
       "        }    #T_9dcf8d24_6c77_11ea_b4ae_24418c64cff2row2_col2 {\n",
       "            background-color:  #417ca8;\n",
       "            color:  #000000;\n",
       "        }    #T_9dcf8d24_6c77_11ea_b4ae_24418c64cff2row2_col3 {\n",
       "            background-color:  #417ca8;\n",
       "            color:  #000000;\n",
       "        }    #T_9dcf8d24_6c77_11ea_b4ae_24418c64cff2row2_col4 {\n",
       "            background-color:  #417ca8;\n",
       "            color:  #000000;\n",
       "        }    #T_9dcf8d24_6c77_11ea_b4ae_24418c64cff2row2_col5 {\n",
       "            background-color:  #417ca8;\n",
       "            color:  #000000;\n",
       "        }    #T_9dcf8d24_6c77_11ea_b4ae_24418c64cff2row3_col0 {\n",
       "            background-color:  #ea8e94;\n",
       "            color:  #000000;\n",
       "        }    #T_9dcf8d24_6c77_11ea_b4ae_24418c64cff2row3_col1 {\n",
       "            background-color:  #f8d8db;\n",
       "            color:  #000000;\n",
       "        }    #T_9dcf8d24_6c77_11ea_b4ae_24418c64cff2row3_col2 {\n",
       "            background-color:  #da3b46;\n",
       "            color:  #f1f1f1;\n",
       "        }    #T_9dcf8d24_6c77_11ea_b4ae_24418c64cff2row3_col3 {\n",
       "            background-color:  #da3b46;\n",
       "            color:  #f1f1f1;\n",
       "        }    #T_9dcf8d24_6c77_11ea_b4ae_24418c64cff2row3_col4 {\n",
       "            background-color:  #da3b46;\n",
       "            color:  #f1f1f1;\n",
       "        }    #T_9dcf8d24_6c77_11ea_b4ae_24418c64cff2row3_col5 {\n",
       "            background-color:  #da3b46;\n",
       "            color:  #f1f1f1;\n",
       "        }</style><table id=\"T_9dcf8d24_6c77_11ea_b4ae_24418c64cff2\" ><thead>    <tr>        <th class=\"blank level0\" ></th>        <th class=\"col_heading level0 col0\" colspan=2>AveragePrice</th>        <th class=\"col_heading level0 col2\" colspan=2>Revenue</th>        <th class=\"col_heading level0 col4\" colspan=2>TotalVolume</th>    </tr>    <tr>        <th class=\"index_name level1\" >type</th>        <th class=\"col_heading level1 col0\" >conventional</th>        <th class=\"col_heading level1 col1\" >organic</th>        <th class=\"col_heading level1 col2\" >conventional</th>        <th class=\"col_heading level1 col3\" >organic</th>        <th class=\"col_heading level1 col4\" >conventional</th>        <th class=\"col_heading level1 col5\" >organic</th>    </tr>    <tr>        <th class=\"index_name level0\" >Date</th>        <th class=\"blank\" ></th>        <th class=\"blank\" ></th>        <th class=\"blank\" ></th>        <th class=\"blank\" ></th>        <th class=\"blank\" ></th>        <th class=\"blank\" ></th>    </tr></thead><tbody>\n",
       "                <tr>\n",
       "                        <th id=\"T_9dcf8d24_6c77_11ea_b4ae_24418c64cff2level0_row0\" class=\"row_heading level0 row0\" >2015</th>\n",
       "                        <td id=\"T_9dcf8d24_6c77_11ea_b4ae_24418c64cff2row0_col0\" class=\"data row0 col0\" >1.01</td>\n",
       "                        <td id=\"T_9dcf8d24_6c77_11ea_b4ae_24418c64cff2row0_col1\" class=\"data row0 col1\" >1.50</td>\n",
       "                        <td id=\"T_9dcf8d24_6c77_11ea_b4ae_24418c64cff2row0_col2\" class=\"data row0 col2\" >1,643,332,393.71</td>\n",
       "                        <td id=\"T_9dcf8d24_6c77_11ea_b4ae_24418c64cff2row0_col3\" class=\"data row0 col3\" >50,224,613.92</td>\n",
       "                        <td id=\"T_9dcf8d24_6c77_11ea_b4ae_24418c64cff2row0_col4\" class=\"data row0 col4\" >1,623,685,915.93</td>\n",
       "                        <td id=\"T_9dcf8d24_6c77_11ea_b4ae_24418c64cff2row0_col5\" class=\"data row0 col5\" >33,569,305.49</td>\n",
       "            </tr>\n",
       "            <tr>\n",
       "                        <th id=\"T_9dcf8d24_6c77_11ea_b4ae_24418c64cff2level0_row1\" class=\"row_heading level0 row1\" >2016</th>\n",
       "                        <td id=\"T_9dcf8d24_6c77_11ea_b4ae_24418c64cff2row1_col0\" class=\"data row1 col0\" >1.05</td>\n",
       "                        <td id=\"T_9dcf8d24_6c77_11ea_b4ae_24418c64cff2row1_col1\" class=\"data row1 col1\" >1.48</td>\n",
       "                        <td id=\"T_9dcf8d24_6c77_11ea_b4ae_24418c64cff2row1_col2\" class=\"data row1 col2\" >1,812,835,357.48</td>\n",
       "                        <td id=\"T_9dcf8d24_6c77_11ea_b4ae_24418c64cff2row1_col3\" class=\"data row1 col3\" >71,806,123.13</td>\n",
       "                        <td id=\"T_9dcf8d24_6c77_11ea_b4ae_24418c64cff2row1_col4\" class=\"data row1 col4\" >1,770,259,388.99</td>\n",
       "                        <td id=\"T_9dcf8d24_6c77_11ea_b4ae_24418c64cff2row1_col5\" class=\"data row1 col5\" >48,899,753.79</td>\n",
       "            </tr>\n",
       "            <tr>\n",
       "                        <th id=\"T_9dcf8d24_6c77_11ea_b4ae_24418c64cff2level0_row2\" class=\"row_heading level0 row2\" >2017</th>\n",
       "                        <td id=\"T_9dcf8d24_6c77_11ea_b4ae_24418c64cff2row2_col0\" class=\"data row2 col0\" >1.22</td>\n",
       "                        <td id=\"T_9dcf8d24_6c77_11ea_b4ae_24418c64cff2row2_col1\" class=\"data row2 col1\" >1.65</td>\n",
       "                        <td id=\"T_9dcf8d24_6c77_11ea_b4ae_24418c64cff2row2_col2\" class=\"data row2 col2\" >2,147,798,348.19</td>\n",
       "                        <td id=\"T_9dcf8d24_6c77_11ea_b4ae_24418c64cff2row2_col3\" class=\"data row2 col3\" >102,905,665.67</td>\n",
       "                        <td id=\"T_9dcf8d24_6c77_11ea_b4ae_24418c64cff2row2_col4\" class=\"data row2 col4\" >1,801,769,881.21</td>\n",
       "                        <td id=\"T_9dcf8d24_6c77_11ea_b4ae_24418c64cff2row2_col5\" class=\"data row2 col5\" >62,923,682.17</td>\n",
       "            </tr>\n",
       "            <tr>\n",
       "                        <th id=\"T_9dcf8d24_6c77_11ea_b4ae_24418c64cff2level0_row3\" class=\"row_heading level0 row3\" >2018</th>\n",
       "                        <td id=\"T_9dcf8d24_6c77_11ea_b4ae_24418c64cff2row3_col0\" class=\"data row3 col0\" >1.06</td>\n",
       "                        <td id=\"T_9dcf8d24_6c77_11ea_b4ae_24418c64cff2row3_col1\" class=\"data row3 col1\" >1.55</td>\n",
       "                        <td id=\"T_9dcf8d24_6c77_11ea_b4ae_24418c64cff2row3_col2\" class=\"data row3 col2\" >530,569,707.58</td>\n",
       "                        <td id=\"T_9dcf8d24_6c77_11ea_b4ae_24418c64cff2row3_col3\" class=\"data row3 col3\" >28,120,891.65</td>\n",
       "                        <td id=\"T_9dcf8d24_6c77_11ea_b4ae_24418c64cff2row3_col4\" class=\"data row3 col4\" >505,506,400.23</td>\n",
       "                        <td id=\"T_9dcf8d24_6c77_11ea_b4ae_24418c64cff2row3_col5\" class=\"data row3 col5\" >18,125,853.99</td>\n",
       "            </tr>\n",
       "    </tbody></table>"
      ],
      "text/plain": [
       "<pandas.io.formats.style.Styler at 0x202cb991488>"
      ]
     },
     "execution_count": 160,
     "metadata": {},
     "output_type": "execute_result"
    }
   ],
   "source": [
    "df_rev_by_year = pd.pivot_table(df_avo_total, \n",
    "                                index=df_avo_total.Date.dt.year, \n",
    "                                columns='type', \n",
    "                                values=['TotalVolume', 'Revenue', 'AveragePrice'], \n",
    "                                aggfunc={'TotalVolume': 'sum',\n",
    "                                        'Revenue': 'sum',\n",
    "                                        'AveragePrice': 'mean'})\n",
    "\n",
    "num_format = {'AveragePrice': \"{:,.4f}\", \n",
    "              'Revenue': \"{:,.0f}\",\n",
    "              'TotalVolume': \"{:,.0f}\"}\n",
    "df_rev_by_year.style.background_gradient(cmap=cm_blue_red).format(\"{:,.2f}\")"
   ]
  },
  {
   "cell_type": "markdown",
   "metadata": {},
   "source": [
    "When looking at the data by month of the year its clear that the first quarter of the year is the highest grossing which is driven by the volumes which are also highest then.  The highest prices are seen in the summer and full between July and November. "
   ]
  },
  {
   "cell_type": "code",
   "execution_count": 176,
   "metadata": {
    "ExecuteTime": {
     "end_time": "2020-03-22T20:13:25.023430Z",
     "start_time": "2020-03-22T20:13:24.762128Z"
    }
   },
   "outputs": [
    {
     "data": {
      "text/html": [
       "<style  type=\"text/css\" >\n",
       "    #T_95e8ee76_6c79_11ea_9888_24418c64cff2row0_col0 {\n",
       "            background-color:  #e5747c;\n",
       "            color:  #000000;\n",
       "        }    #T_95e8ee76_6c79_11ea_9888_24418c64cff2row0_col1 {\n",
       "            background-color:  #e1626c;\n",
       "            color:  #000000;\n",
       "        }    #T_95e8ee76_6c79_11ea_9888_24418c64cff2row0_col2 {\n",
       "            background-color:  #dbe7ef;\n",
       "            color:  #000000;\n",
       "        }    #T_95e8ee76_6c79_11ea_9888_24418c64cff2row0_col3 {\n",
       "            background-color:  #e46f78;\n",
       "            color:  #000000;\n",
       "        }    #T_95e8ee76_6c79_11ea_9888_24418c64cff2row0_col4 {\n",
       "            background-color:  #417ca8;\n",
       "            color:  #000000;\n",
       "        }    #T_95e8ee76_6c79_11ea_9888_24418c64cff2row0_col5 {\n",
       "            background-color:  #b6cdde;\n",
       "            color:  #000000;\n",
       "        }    #T_95e8ee76_6c79_11ea_9888_24418c64cff2row0_col6 {\n",
       "            background-color:  #b9cfe0;\n",
       "            color:  #000000;\n",
       "        }    #T_95e8ee76_6c79_11ea_9888_24418c64cff2row0_col7 {\n",
       "            background-color:  #f2bcc0;\n",
       "            color:  #000000;\n",
       "        }    #T_95e8ee76_6c79_11ea_9888_24418c64cff2row0_col8 {\n",
       "            background-color:  #437da8;\n",
       "            color:  #000000;\n",
       "        }    #T_95e8ee76_6c79_11ea_9888_24418c64cff2row0_col9 {\n",
       "            background-color:  #bad0e0;\n",
       "            color:  #000000;\n",
       "        }    #T_95e8ee76_6c79_11ea_9888_24418c64cff2row1_col0 {\n",
       "            background-color:  #da3b46;\n",
       "            color:  #f1f1f1;\n",
       "        }    #T_95e8ee76_6c79_11ea_9888_24418c64cff2row1_col1 {\n",
       "            background-color:  #dd4d58;\n",
       "            color:  #000000;\n",
       "        }    #T_95e8ee76_6c79_11ea_9888_24418c64cff2row1_col2 {\n",
       "            background-color:  #9fbdd4;\n",
       "            color:  #000000;\n",
       "        }    #T_95e8ee76_6c79_11ea_9888_24418c64cff2row1_col3 {\n",
       "            background-color:  #c6d8e6;\n",
       "            color:  #000000;\n",
       "        }    #T_95e8ee76_6c79_11ea_9888_24418c64cff2row1_col4 {\n",
       "            background-color:  #85abc7;\n",
       "            color:  #000000;\n",
       "        }    #T_95e8ee76_6c79_11ea_9888_24418c64cff2row1_col5 {\n",
       "            background-color:  #b9cfe0;\n",
       "            color:  #000000;\n",
       "        }    #T_95e8ee76_6c79_11ea_9888_24418c64cff2row1_col6 {\n",
       "            background-color:  #417ca8;\n",
       "            color:  #000000;\n",
       "        }    #T_95e8ee76_6c79_11ea_9888_24418c64cff2row1_col7 {\n",
       "            background-color:  #a3c0d6;\n",
       "            color:  #000000;\n",
       "        }    #T_95e8ee76_6c79_11ea_9888_24418c64cff2row1_col8 {\n",
       "            background-color:  #417ca8;\n",
       "            color:  #000000;\n",
       "        }    #T_95e8ee76_6c79_11ea_9888_24418c64cff2row1_col9 {\n",
       "            background-color:  #abc5d9;\n",
       "            color:  #000000;\n",
       "        }    #T_95e8ee76_6c79_11ea_9888_24418c64cff2row2_col0 {\n",
       "            background-color:  #f0b1b5;\n",
       "            color:  #000000;\n",
       "        }    #T_95e8ee76_6c79_11ea_9888_24418c64cff2row2_col1 {\n",
       "            background-color:  #da3b46;\n",
       "            color:  #f1f1f1;\n",
       "        }    #T_95e8ee76_6c79_11ea_9888_24418c64cff2row2_col2 {\n",
       "            background-color:  #b5ccde;\n",
       "            color:  #000000;\n",
       "        }    #T_95e8ee76_6c79_11ea_9888_24418c64cff2row2_col3 {\n",
       "            background-color:  #417ca8;\n",
       "            color:  #000000;\n",
       "        }    #T_95e8ee76_6c79_11ea_9888_24418c64cff2row2_col4 {\n",
       "            background-color:  #5c8eb4;\n",
       "            color:  #000000;\n",
       "        }    #T_95e8ee76_6c79_11ea_9888_24418c64cff2row2_col5 {\n",
       "            background-color:  #417ca8;\n",
       "            color:  #000000;\n",
       "        }    #T_95e8ee76_6c79_11ea_9888_24418c64cff2row2_col6 {\n",
       "            background-color:  #d2e1ec;\n",
       "            color:  #000000;\n",
       "        }    #T_95e8ee76_6c79_11ea_9888_24418c64cff2row2_col7 {\n",
       "            background-color:  #417ca8;\n",
       "            color:  #000000;\n",
       "        }    #T_95e8ee76_6c79_11ea_9888_24418c64cff2row2_col8 {\n",
       "            background-color:  #81a8c5;\n",
       "            color:  #000000;\n",
       "        }    #T_95e8ee76_6c79_11ea_9888_24418c64cff2row2_col9 {\n",
       "            background-color:  #417ca8;\n",
       "            color:  #000000;\n",
       "        }    #T_95e8ee76_6c79_11ea_9888_24418c64cff2row3_col0 {\n",
       "            background-color:  #f1b7bc;\n",
       "            color:  #000000;\n",
       "        }    #T_95e8ee76_6c79_11ea_9888_24418c64cff2row3_col1 {\n",
       "            background-color:  #e36a73;\n",
       "            color:  #000000;\n",
       "        }    #T_95e8ee76_6c79_11ea_9888_24418c64cff2row3_col2 {\n",
       "            background-color:  #aec7da;\n",
       "            color:  #000000;\n",
       "        }    #T_95e8ee76_6c79_11ea_9888_24418c64cff2row3_col3 {\n",
       "            background-color:  #6e9bbd;\n",
       "            color:  #000000;\n",
       "        }    #T_95e8ee76_6c79_11ea_9888_24418c64cff2row3_col4 {\n",
       "            background-color:  #f1b7bc;\n",
       "            color:  #000000;\n",
       "        }    #T_95e8ee76_6c79_11ea_9888_24418c64cff2row3_col5 {\n",
       "            background-color:  #f2babe;\n",
       "            color:  #000000;\n",
       "        }    #T_95e8ee76_6c79_11ea_9888_24418c64cff2row3_col6 {\n",
       "            background-color:  #d5e3ed;\n",
       "            color:  #000000;\n",
       "        }    #T_95e8ee76_6c79_11ea_9888_24418c64cff2row3_col7 {\n",
       "            background-color:  #7ba4c3;\n",
       "            color:  #000000;\n",
       "        }    #T_95e8ee76_6c79_11ea_9888_24418c64cff2row3_col8 {\n",
       "            background-color:  #f2babe;\n",
       "            color:  #000000;\n",
       "        }    #T_95e8ee76_6c79_11ea_9888_24418c64cff2row3_col9 {\n",
       "            background-color:  #f8d8db;\n",
       "            color:  #000000;\n",
       "        }    #T_95e8ee76_6c79_11ea_9888_24418c64cff2row4_col0 {\n",
       "            background-color:  #eb949a;\n",
       "            color:  #000000;\n",
       "        }    #T_95e8ee76_6c79_11ea_9888_24418c64cff2row4_col1 {\n",
       "            background-color:  #e5767e;\n",
       "            color:  #000000;\n",
       "        }    #T_95e8ee76_6c79_11ea_9888_24418c64cff2row4_col2 {\n",
       "            background-color:  #558ab1;\n",
       "            color:  #000000;\n",
       "        }    #T_95e8ee76_6c79_11ea_9888_24418c64cff2row4_col3 {\n",
       "            background-color:  #90b3cc;\n",
       "            color:  #000000;\n",
       "        }    #T_95e8ee76_6c79_11ea_9888_24418c64cff2row4_col4 {\n",
       "            background-color:  #c8dae7;\n",
       "            color:  #000000;\n",
       "        }    #T_95e8ee76_6c79_11ea_9888_24418c64cff2row4_col5 {\n",
       "            background-color:  #f9e1e3;\n",
       "            color:  #000000;\n",
       "        }    #T_95e8ee76_6c79_11ea_9888_24418c64cff2row4_col6 {\n",
       "            background-color:  #749fbf;\n",
       "            color:  #000000;\n",
       "        }    #T_95e8ee76_6c79_11ea_9888_24418c64cff2row4_col7 {\n",
       "            background-color:  #a1bed4;\n",
       "            color:  #000000;\n",
       "        }    #T_95e8ee76_6c79_11ea_9888_24418c64cff2row4_col8 {\n",
       "            background-color:  #c3d6e4;\n",
       "            color:  #000000;\n",
       "        }    #T_95e8ee76_6c79_11ea_9888_24418c64cff2row4_col9 {\n",
       "            background-color:  #f2f2f2;\n",
       "            color:  #000000;\n",
       "        }    #T_95e8ee76_6c79_11ea_9888_24418c64cff2row5_col0 {\n",
       "            background-color:  #f5c9cc;\n",
       "            color:  #000000;\n",
       "        }    #T_95e8ee76_6c79_11ea_9888_24418c64cff2row5_col1 {\n",
       "            background-color:  #fae4e6;\n",
       "            color:  #000000;\n",
       "        }    #T_95e8ee76_6c79_11ea_9888_24418c64cff2row5_col2 {\n",
       "            background-color:  #417ca8;\n",
       "            color:  #000000;\n",
       "        }    #T_95e8ee76_6c79_11ea_9888_24418c64cff2row5_col3 {\n",
       "            background-color:  #a8c4d8;\n",
       "            color:  #000000;\n",
       "        }    #T_95e8ee76_6c79_11ea_9888_24418c64cff2row5_col4 {\n",
       "            background-color:  #f1b3b8;\n",
       "            color:  #000000;\n",
       "        }    #T_95e8ee76_6c79_11ea_9888_24418c64cff2row5_col5 {\n",
       "            background-color:  #e46f78;\n",
       "            color:  #000000;\n",
       "        }    #T_95e8ee76_6c79_11ea_9888_24418c64cff2row5_col6 {\n",
       "            background-color:  #a1bed4;\n",
       "            color:  #000000;\n",
       "        }    #T_95e8ee76_6c79_11ea_9888_24418c64cff2row5_col7 {\n",
       "            background-color:  #f2f2f2;\n",
       "            color:  #000000;\n",
       "        }    #T_95e8ee76_6c79_11ea_9888_24418c64cff2row5_col8 {\n",
       "            background-color:  #f0adb2;\n",
       "            color:  #000000;\n",
       "        }    #T_95e8ee76_6c79_11ea_9888_24418c64cff2row5_col9 {\n",
       "            background-color:  #e5747c;\n",
       "            color:  #000000;\n",
       "        }    #T_95e8ee76_6c79_11ea_9888_24418c64cff2row6_col0 {\n",
       "            background-color:  #c6d8e6;\n",
       "            color:  #000000;\n",
       "        }    #T_95e8ee76_6c79_11ea_9888_24418c64cff2row6_col1 {\n",
       "            background-color:  #e36972;\n",
       "            color:  #000000;\n",
       "        }    #T_95e8ee76_6c79_11ea_9888_24418c64cff2row6_col2 {\n",
       "            background-color:  #417ca8;\n",
       "            color:  #000000;\n",
       "        }    #T_95e8ee76_6c79_11ea_9888_24418c64cff2row6_col3 {\n",
       "            background-color:  #f6cfd2;\n",
       "            color:  #000000;\n",
       "        }    #T_95e8ee76_6c79_11ea_9888_24418c64cff2row6_col4 {\n",
       "            background-color:  #bed3e2;\n",
       "            color:  #000000;\n",
       "        }    #T_95e8ee76_6c79_11ea_9888_24418c64cff2row6_col5 {\n",
       "            background-color:  #eea6ac;\n",
       "            color:  #000000;\n",
       "        }    #T_95e8ee76_6c79_11ea_9888_24418c64cff2row6_col6 {\n",
       "            background-color:  #e7eff5;\n",
       "            color:  #000000;\n",
       "        }    #T_95e8ee76_6c79_11ea_9888_24418c64cff2row6_col7 {\n",
       "            background-color:  #f6d2d4;\n",
       "            color:  #000000;\n",
       "        }    #T_95e8ee76_6c79_11ea_9888_24418c64cff2row6_col8 {\n",
       "            background-color:  #f8d8db;\n",
       "            color:  #000000;\n",
       "        }    #T_95e8ee76_6c79_11ea_9888_24418c64cff2row6_col9 {\n",
       "            background-color:  #efacb1;\n",
       "            color:  #000000;\n",
       "        }    #T_95e8ee76_6c79_11ea_9888_24418c64cff2row7_col0 {\n",
       "            background-color:  #b9cfe0;\n",
       "            color:  #000000;\n",
       "        }    #T_95e8ee76_6c79_11ea_9888_24418c64cff2row7_col1 {\n",
       "            background-color:  #f2f2f2;\n",
       "            color:  #000000;\n",
       "        }    #T_95e8ee76_6c79_11ea_9888_24418c64cff2row7_col2 {\n",
       "            background-color:  #95b6cf;\n",
       "            color:  #000000;\n",
       "        }    #T_95e8ee76_6c79_11ea_9888_24418c64cff2row7_col3 {\n",
       "            background-color:  #f4c7cb;\n",
       "            color:  #000000;\n",
       "        }    #T_95e8ee76_6c79_11ea_9888_24418c64cff2row7_col4 {\n",
       "            background-color:  #f4c3c7;\n",
       "            color:  #000000;\n",
       "        }    #T_95e8ee76_6c79_11ea_9888_24418c64cff2row7_col5 {\n",
       "            background-color:  #e4727b;\n",
       "            color:  #000000;\n",
       "        }    #T_95e8ee76_6c79_11ea_9888_24418c64cff2row7_col6 {\n",
       "            background-color:  #f3c2c5;\n",
       "            color:  #000000;\n",
       "        }    #T_95e8ee76_6c79_11ea_9888_24418c64cff2row7_col7 {\n",
       "            background-color:  #ea9097;\n",
       "            color:  #000000;\n",
       "        }    #T_95e8ee76_6c79_11ea_9888_24418c64cff2row7_col8 {\n",
       "            background-color:  #e98b92;\n",
       "            color:  #000000;\n",
       "        }    #T_95e8ee76_6c79_11ea_9888_24418c64cff2row7_col9 {\n",
       "            background-color:  #e26770;\n",
       "            color:  #000000;\n",
       "        }    #T_95e8ee76_6c79_11ea_9888_24418c64cff2row8_col0 {\n",
       "            background-color:  #7ba4c3;\n",
       "            color:  #000000;\n",
       "        }    #T_95e8ee76_6c79_11ea_9888_24418c64cff2row8_col1 {\n",
       "            background-color:  #417ca8;\n",
       "            color:  #000000;\n",
       "        }    #T_95e8ee76_6c79_11ea_9888_24418c64cff2row8_col2 {\n",
       "            background-color:  #c3d6e4;\n",
       "            color:  #000000;\n",
       "        }    #T_95e8ee76_6c79_11ea_9888_24418c64cff2row8_col3 {\n",
       "            background-color:  #aec7da;\n",
       "            color:  #000000;\n",
       "        }    #T_95e8ee76_6c79_11ea_9888_24418c64cff2row8_col4 {\n",
       "            background-color:  #e5777f;\n",
       "            color:  #000000;\n",
       "        }    #T_95e8ee76_6c79_11ea_9888_24418c64cff2row8_col5 {\n",
       "            background-color:  #e46e77;\n",
       "            color:  #000000;\n",
       "        }    #T_95e8ee76_6c79_11ea_9888_24418c64cff2row8_col6 {\n",
       "            background-color:  #e98b92;\n",
       "            color:  #000000;\n",
       "        }    #T_95e8ee76_6c79_11ea_9888_24418c64cff2row8_col7 {\n",
       "            background-color:  #e78188;\n",
       "            color:  #000000;\n",
       "        }    #T_95e8ee76_6c79_11ea_9888_24418c64cff2row8_col8 {\n",
       "            background-color:  #dc4651;\n",
       "            color:  #f1f1f1;\n",
       "        }    #T_95e8ee76_6c79_11ea_9888_24418c64cff2row8_col9 {\n",
       "            background-color:  #da3d49;\n",
       "            color:  #f1f1f1;\n",
       "        }    #T_95e8ee76_6c79_11ea_9888_24418c64cff2row9_col0 {\n",
       "            background-color:  #417ca8;\n",
       "            color:  #000000;\n",
       "        }    #T_95e8ee76_6c79_11ea_9888_24418c64cff2row9_col1 {\n",
       "            background-color:  #75a0c0;\n",
       "            color:  #000000;\n",
       "        }    #T_95e8ee76_6c79_11ea_9888_24418c64cff2row9_col2 {\n",
       "            background-color:  #f9dfe1;\n",
       "            color:  #000000;\n",
       "        }    #T_95e8ee76_6c79_11ea_9888_24418c64cff2row9_col3 {\n",
       "            background-color:  #f9dddf;\n",
       "            color:  #000000;\n",
       "        }    #T_95e8ee76_6c79_11ea_9888_24418c64cff2row9_col4 {\n",
       "            background-color:  #f3bdc1;\n",
       "            color:  #000000;\n",
       "        }    #T_95e8ee76_6c79_11ea_9888_24418c64cff2row9_col5 {\n",
       "            background-color:  #efacb1;\n",
       "            color:  #000000;\n",
       "        }    #T_95e8ee76_6c79_11ea_9888_24418c64cff2row9_col6 {\n",
       "            background-color:  #da3b46;\n",
       "            color:  #f1f1f1;\n",
       "        }    #T_95e8ee76_6c79_11ea_9888_24418c64cff2row9_col7 {\n",
       "            background-color:  #e2656e;\n",
       "            color:  #000000;\n",
       "        }    #T_95e8ee76_6c79_11ea_9888_24418c64cff2row9_col8 {\n",
       "            background-color:  #e05b65;\n",
       "            color:  #000000;\n",
       "        }    #T_95e8ee76_6c79_11ea_9888_24418c64cff2row9_col9 {\n",
       "            background-color:  #e46f78;\n",
       "            color:  #000000;\n",
       "        }    #T_95e8ee76_6c79_11ea_9888_24418c64cff2row10_col0 {\n",
       "            background-color:  #dfeaf2;\n",
       "            color:  #000000;\n",
       "        }    #T_95e8ee76_6c79_11ea_9888_24418c64cff2row10_col1 {\n",
       "            background-color:  #d4e2ec;\n",
       "            color:  #000000;\n",
       "        }    #T_95e8ee76_6c79_11ea_9888_24418c64cff2row10_col2 {\n",
       "            background-color:  #da3b46;\n",
       "            color:  #f1f1f1;\n",
       "        }    #T_95e8ee76_6c79_11ea_9888_24418c64cff2row10_col3 {\n",
       "            background-color:  #da3b46;\n",
       "            color:  #f1f1f1;\n",
       "        }    #T_95e8ee76_6c79_11ea_9888_24418c64cff2row10_col4 {\n",
       "            background-color:  #da3b46;\n",
       "            color:  #f1f1f1;\n",
       "        }    #T_95e8ee76_6c79_11ea_9888_24418c64cff2row10_col5 {\n",
       "            background-color:  #da3b46;\n",
       "            color:  #f1f1f1;\n",
       "        }    #T_95e8ee76_6c79_11ea_9888_24418c64cff2row10_col6 {\n",
       "            background-color:  #da3b46;\n",
       "            color:  #f1f1f1;\n",
       "        }    #T_95e8ee76_6c79_11ea_9888_24418c64cff2row10_col7 {\n",
       "            background-color:  #da3b46;\n",
       "            color:  #f1f1f1;\n",
       "        }    #T_95e8ee76_6c79_11ea_9888_24418c64cff2row10_col8 {\n",
       "            background-color:  #da3b46;\n",
       "            color:  #f1f1f1;\n",
       "        }    #T_95e8ee76_6c79_11ea_9888_24418c64cff2row10_col9 {\n",
       "            background-color:  #da3b46;\n",
       "            color:  #f1f1f1;\n",
       "        }    #T_95e8ee76_6c79_11ea_9888_24418c64cff2row11_col0 {\n",
       "            background-color:  #e67c84;\n",
       "            color:  #000000;\n",
       "        }    #T_95e8ee76_6c79_11ea_9888_24418c64cff2row11_col1 {\n",
       "            background-color:  #ea8f96;\n",
       "            color:  #000000;\n",
       "        }    #T_95e8ee76_6c79_11ea_9888_24418c64cff2row11_col2 {\n",
       "            background-color:  #dc4853;\n",
       "            color:  #000000;\n",
       "        }    #T_95e8ee76_6c79_11ea_9888_24418c64cff2row11_col3 {\n",
       "            background-color:  #df5761;\n",
       "            color:  #000000;\n",
       "        }    #T_95e8ee76_6c79_11ea_9888_24418c64cff2row11_col4 {\n",
       "            background-color:  #db414d;\n",
       "            color:  #f1f1f1;\n",
       "        }    #T_95e8ee76_6c79_11ea_9888_24418c64cff2row11_col5 {\n",
       "            background-color:  #dc4651;\n",
       "            color:  #f1f1f1;\n",
       "        }    #T_95e8ee76_6c79_11ea_9888_24418c64cff2row11_col6 {\n",
       "            background-color:  #eda0a6;\n",
       "            color:  #000000;\n",
       "        }    #T_95e8ee76_6c79_11ea_9888_24418c64cff2row11_col7 {\n",
       "            background-color:  #eb979d;\n",
       "            color:  #000000;\n",
       "        }    #T_95e8ee76_6c79_11ea_9888_24418c64cff2row11_col8 {\n",
       "            background-color:  #e5777f;\n",
       "            color:  #000000;\n",
       "        }    #T_95e8ee76_6c79_11ea_9888_24418c64cff2row11_col9 {\n",
       "            background-color:  #e36a73;\n",
       "            color:  #000000;\n",
       "        }</style><table id=\"T_95e8ee76_6c79_11ea_9888_24418c64cff2\" ><thead>    <tr>        <th class=\"blank level0\" ></th>        <th class=\"col_heading level0 col0\" colspan=2>AveragePrice</th>        <th class=\"col_heading level0 col2\" colspan=4>Revenue</th>        <th class=\"col_heading level0 col6\" colspan=4>TotalVolume</th>    </tr>    <tr>        <th class=\"blank level1\" ></th>        <th class=\"col_heading level1 col0\" colspan=2>mean</th>        <th class=\"col_heading level1 col2\" colspan=2>mean</th>        <th class=\"col_heading level1 col4\" colspan=2>sum</th>        <th class=\"col_heading level1 col6\" colspan=2>mean</th>        <th class=\"col_heading level1 col8\" colspan=2>sum</th>    </tr>    <tr>        <th class=\"index_name level2\" >type</th>        <th class=\"col_heading level2 col0\" >conventional</th>        <th class=\"col_heading level2 col1\" >organic</th>        <th class=\"col_heading level2 col2\" >conventional</th>        <th class=\"col_heading level2 col3\" >organic</th>        <th class=\"col_heading level2 col4\" >conventional</th>        <th class=\"col_heading level2 col5\" >organic</th>        <th class=\"col_heading level2 col6\" >conventional</th>        <th class=\"col_heading level2 col7\" >organic</th>        <th class=\"col_heading level2 col8\" >conventional</th>        <th class=\"col_heading level2 col9\" >organic</th>    </tr>    <tr>        <th class=\"index_name level0\" >Date</th>        <th class=\"blank\" ></th>        <th class=\"blank\" ></th>        <th class=\"blank\" ></th>        <th class=\"blank\" ></th>        <th class=\"blank\" ></th>        <th class=\"blank\" ></th>        <th class=\"blank\" ></th>        <th class=\"blank\" ></th>        <th class=\"blank\" ></th>        <th class=\"blank\" ></th>    </tr></thead><tbody>\n",
       "                <tr>\n",
       "                        <th id=\"T_95e8ee76_6c79_11ea_9888_24418c64cff2level0_row0\" class=\"row_heading level0 row0\" >1</th>\n",
       "                        <td id=\"T_95e8ee76_6c79_11ea_9888_24418c64cff2row0_col0\" class=\"data row0 col0\" >0.99</td>\n",
       "                        <td id=\"T_95e8ee76_6c79_11ea_9888_24418c64cff2row0_col1\" class=\"data row0 col1\" >1.47</td>\n",
       "                        <td id=\"T_95e8ee76_6c79_11ea_9888_24418c64cff2row0_col2\" class=\"data row0 col2\" >35,757,913.29</td>\n",
       "                        <td id=\"T_95e8ee76_6c79_11ea_9888_24418c64cff2row0_col3\" class=\"data row0 col3\" >1,370,260.86</td>\n",
       "                        <td id=\"T_95e8ee76_6c79_11ea_9888_24418c64cff2row0_col4\" class=\"data row0 col4\" >643,642,439.29</td>\n",
       "                        <td id=\"T_95e8ee76_6c79_11ea_9888_24418c64cff2row0_col5\" class=\"data row0 col5\" >24,664,695.42</td>\n",
       "                        <td id=\"T_95e8ee76_6c79_11ea_9888_24418c64cff2row0_col6\" class=\"data row0 col6\" >35,949,790.55</td>\n",
       "                        <td id=\"T_95e8ee76_6c79_11ea_9888_24418c64cff2row0_col7\" class=\"data row0 col7\" >925,941.10</td>\n",
       "                        <td id=\"T_95e8ee76_6c79_11ea_9888_24418c64cff2row0_col8\" class=\"data row0 col8\" >647,096,229.97</td>\n",
       "                        <td id=\"T_95e8ee76_6c79_11ea_9888_24418c64cff2row0_col9\" class=\"data row0 col9\" >16,666,939.74</td>\n",
       "            </tr>\n",
       "            <tr>\n",
       "                        <th id=\"T_95e8ee76_6c79_11ea_9888_24418c64cff2level0_row1\" class=\"row_heading level0 row1\" >2</th>\n",
       "                        <td id=\"T_95e8ee76_6c79_11ea_9888_24418c64cff2row1_col0\" class=\"data row1 col0\" >0.94</td>\n",
       "                        <td id=\"T_95e8ee76_6c79_11ea_9888_24418c64cff2row1_col1\" class=\"data row1 col1\" >1.44</td>\n",
       "                        <td id=\"T_95e8ee76_6c79_11ea_9888_24418c64cff2row1_col2\" class=\"data row1 col2\" >37,317,975.07</td>\n",
       "                        <td id=\"T_95e8ee76_6c79_11ea_9888_24418c64cff2row1_col3\" class=\"data row1 col3\" >1,538,075.97</td>\n",
       "                        <td id=\"T_95e8ee76_6c79_11ea_9888_24418c64cff2row1_col4\" class=\"data row1 col4\" >597,087,601.10</td>\n",
       "                        <td id=\"T_95e8ee76_6c79_11ea_9888_24418c64cff2row1_col5\" class=\"data row1 col5\" >24,609,215.55</td>\n",
       "                        <td id=\"T_95e8ee76_6c79_11ea_9888_24418c64cff2row1_col6\" class=\"data row1 col6\" >40,534,011.55</td>\n",
       "                        <td id=\"T_95e8ee76_6c79_11ea_9888_24418c64cff2row1_col7\" class=\"data row1 col7\" >1,067,557.85</td>\n",
       "                        <td id=\"T_95e8ee76_6c79_11ea_9888_24418c64cff2row1_col8\" class=\"data row1 col8\" >648,544,184.74</td>\n",
       "                        <td id=\"T_95e8ee76_6c79_11ea_9888_24418c64cff2row1_col9\" class=\"data row1 col9\" >17,080,925.60</td>\n",
       "            </tr>\n",
       "            <tr>\n",
       "                        <th id=\"T_95e8ee76_6c79_11ea_9888_24418c64cff2level0_row2\" class=\"row_heading level0 row2\" >3</th>\n",
       "                        <td id=\"T_95e8ee76_6c79_11ea_9888_24418c64cff2row2_col0\" class=\"data row2 col0\" >1.05</td>\n",
       "                        <td id=\"T_95e8ee76_6c79_11ea_9888_24418c64cff2row2_col1\" class=\"data row2 col1\" >1.42</td>\n",
       "                        <td id=\"T_95e8ee76_6c79_11ea_9888_24418c64cff2row2_col2\" class=\"data row2 col2\" >36,766,112.12</td>\n",
       "                        <td id=\"T_95e8ee76_6c79_11ea_9888_24418c64cff2row2_col3\" class=\"data row2 col3\" >1,665,611.04</td>\n",
       "                        <td id=\"T_95e8ee76_6c79_11ea_9888_24418c64cff2row2_col4\" class=\"data row2 col4\" >625,023,906.06</td>\n",
       "                        <td id=\"T_95e8ee76_6c79_11ea_9888_24418c64cff2row2_col5\" class=\"data row2 col5\" >28,315,387.69</td>\n",
       "                        <td id=\"T_95e8ee76_6c79_11ea_9888_24418c64cff2row2_col6\" class=\"data row2 col6\" >34,982,576.48</td>\n",
       "                        <td id=\"T_95e8ee76_6c79_11ea_9888_24418c64cff2row2_col7\" class=\"data row2 col7\" >1,172,877.57</td>\n",
       "                        <td id=\"T_95e8ee76_6c79_11ea_9888_24418c64cff2row2_col8\" class=\"data row2 col8\" >594,703,800.08</td>\n",
       "                        <td id=\"T_95e8ee76_6c79_11ea_9888_24418c64cff2row2_col9\" class=\"data row2 col9\" >19,938,918.69</td>\n",
       "            </tr>\n",
       "            <tr>\n",
       "                        <th id=\"T_95e8ee76_6c79_11ea_9888_24418c64cff2level0_row3\" class=\"row_heading level0 row3\" >4</th>\n",
       "                        <td id=\"T_95e8ee76_6c79_11ea_9888_24418c64cff2row3_col0\" class=\"data row3 col0\" >1.06</td>\n",
       "                        <td id=\"T_95e8ee76_6c79_11ea_9888_24418c64cff2row3_col1\" class=\"data row3 col1\" >1.47</td>\n",
       "                        <td id=\"T_95e8ee76_6c79_11ea_9888_24418c64cff2row3_col2\" class=\"data row3 col2\" >36,955,102.95</td>\n",
       "                        <td id=\"T_95e8ee76_6c79_11ea_9888_24418c64cff2row3_col3\" class=\"data row3 col3\" >1,621,588.07</td>\n",
       "                        <td id=\"T_95e8ee76_6c79_11ea_9888_24418c64cff2row3_col4\" class=\"data row3 col4\" >480,416,338.31</td>\n",
       "                        <td id=\"T_95e8ee76_6c79_11ea_9888_24418c64cff2row3_col5\" class=\"data row3 col5\" >21,080,644.90</td>\n",
       "                        <td id=\"T_95e8ee76_6c79_11ea_9888_24418c64cff2row3_col6\" class=\"data row3 col6\" >34,872,393.12</td>\n",
       "                        <td id=\"T_95e8ee76_6c79_11ea_9888_24418c64cff2row3_col7\" class=\"data row3 col7\" >1,110,736.85</td>\n",
       "                        <td id=\"T_95e8ee76_6c79_11ea_9888_24418c64cff2row3_col8\" class=\"data row3 col8\" >453,341,110.61</td>\n",
       "                        <td id=\"T_95e8ee76_6c79_11ea_9888_24418c64cff2row3_col9\" class=\"data row3 col9\" >14,439,579.08</td>\n",
       "            </tr>\n",
       "            <tr>\n",
       "                        <th id=\"T_95e8ee76_6c79_11ea_9888_24418c64cff2level0_row4\" class=\"row_heading level0 row4\" >5</th>\n",
       "                        <td id=\"T_95e8ee76_6c79_11ea_9888_24418c64cff2row4_col0\" class=\"data row4 col0\" >1.02</td>\n",
       "                        <td id=\"T_95e8ee76_6c79_11ea_9888_24418c64cff2row4_col1\" class=\"data row4 col1\" >1.48</td>\n",
       "                        <td id=\"T_95e8ee76_6c79_11ea_9888_24418c64cff2row4_col2\" class=\"data row4 col2\" >39,257,278.41</td>\n",
       "                        <td id=\"T_95e8ee76_6c79_11ea_9888_24418c64cff2row4_col3\" class=\"data row4 col3\" >1,588,693.76</td>\n",
       "                        <td id=\"T_95e8ee76_6c79_11ea_9888_24418c64cff2row4_col4\" class=\"data row4 col4\" >549,601,897.67</td>\n",
       "                        <td id=\"T_95e8ee76_6c79_11ea_9888_24418c64cff2row4_col5\" class=\"data row4 col5\" >22,241,712.70</td>\n",
       "                        <td id=\"T_95e8ee76_6c79_11ea_9888_24418c64cff2row4_col6\" class=\"data row4 col6\" >38,587,542.90</td>\n",
       "                        <td id=\"T_95e8ee76_6c79_11ea_9888_24418c64cff2row4_col7\" class=\"data row4 col7\" >1,069,962.81</td>\n",
       "                        <td id=\"T_95e8ee76_6c79_11ea_9888_24418c64cff2row4_col8\" class=\"data row4 col8\" >540,225,600.60</td>\n",
       "                        <td id=\"T_95e8ee76_6c79_11ea_9888_24418c64cff2row4_col9\" class=\"data row4 col9\" >14,979,479.38</td>\n",
       "            </tr>\n",
       "            <tr>\n",
       "                        <th id=\"T_95e8ee76_6c79_11ea_9888_24418c64cff2level0_row5\" class=\"row_heading level0 row5\" >6</th>\n",
       "                        <td id=\"T_95e8ee76_6c79_11ea_9888_24418c64cff2row5_col0\" class=\"data row5 col0\" >1.08</td>\n",
       "                        <td id=\"T_95e8ee76_6c79_11ea_9888_24418c64cff2row5_col1\" class=\"data row5 col1\" >1.60</td>\n",
       "                        <td id=\"T_95e8ee76_6c79_11ea_9888_24418c64cff2row5_col2\" class=\"data row5 col2\" >39,743,543.18</td>\n",
       "                        <td id=\"T_95e8ee76_6c79_11ea_9888_24418c64cff2row5_col3\" class=\"data row5 col3\" >1,566,800.71</td>\n",
       "                        <td id=\"T_95e8ee76_6c79_11ea_9888_24418c64cff2row5_col4\" class=\"data row5 col4\" >476,922,518.20</td>\n",
       "                        <td id=\"T_95e8ee76_6c79_11ea_9888_24418c64cff2row5_col5\" class=\"data row5 col5\" >18,801,608.54</td>\n",
       "                        <td id=\"T_95e8ee76_6c79_11ea_9888_24418c64cff2row5_col6\" class=\"data row5 col6\" >36,881,969.33</td>\n",
       "                        <td id=\"T_95e8ee76_6c79_11ea_9888_24418c64cff2row5_col7\" class=\"data row5 col7\" >983,924.89</td>\n",
       "                        <td id=\"T_95e8ee76_6c79_11ea_9888_24418c64cff2row5_col8\" class=\"data row5 col8\" >442,583,631.99</td>\n",
       "                        <td id=\"T_95e8ee76_6c79_11ea_9888_24418c64cff2row5_col9\" class=\"data row5 col9\" >11,807,098.70</td>\n",
       "            </tr>\n",
       "            <tr>\n",
       "                        <th id=\"T_95e8ee76_6c79_11ea_9888_24418c64cff2level0_row6\" class=\"row_heading level0 row6\" >7</th>\n",
       "                        <td id=\"T_95e8ee76_6c79_11ea_9888_24418c64cff2row6_col0\" class=\"data row6 col0\" >1.17</td>\n",
       "                        <td id=\"T_95e8ee76_6c79_11ea_9888_24418c64cff2row6_col1\" class=\"data row6 col1\" >1.47</td>\n",
       "                        <td id=\"T_95e8ee76_6c79_11ea_9888_24418c64cff2row6_col2\" class=\"data row6 col2\" >39,773,734.14</td>\n",
       "                        <td id=\"T_95e8ee76_6c79_11ea_9888_24418c64cff2row6_col3\" class=\"data row6 col3\" >1,459,445.09</td>\n",
       "                        <td id=\"T_95e8ee76_6c79_11ea_9888_24418c64cff2row6_col4\" class=\"data row6 col4\" >556,832,277.98</td>\n",
       "                        <td id=\"T_95e8ee76_6c79_11ea_9888_24418c64cff2row6_col5\" class=\"data row6 col5\" >20,432,231.31</td>\n",
       "                        <td id=\"T_95e8ee76_6c79_11ea_9888_24418c64cff2row6_col6\" class=\"data row6 col6\" >34,181,115.31</td>\n",
       "                        <td id=\"T_95e8ee76_6c79_11ea_9888_24418c64cff2row6_col7\" class=\"data row6 col7\" >947,634.60</td>\n",
       "                        <td id=\"T_95e8ee76_6c79_11ea_9888_24418c64cff2row6_col8\" class=\"data row6 col8\" >478,535,614.35</td>\n",
       "                        <td id=\"T_95e8ee76_6c79_11ea_9888_24418c64cff2row6_col9\" class=\"data row6 col9\" >13,266,884.39</td>\n",
       "            </tr>\n",
       "            <tr>\n",
       "                        <th id=\"T_95e8ee76_6c79_11ea_9888_24418c64cff2level0_row7\" class=\"row_heading level0 row7\" >8</th>\n",
       "                        <td id=\"T_95e8ee76_6c79_11ea_9888_24418c64cff2row7_col0\" class=\"data row7 col0\" >1.18</td>\n",
       "                        <td id=\"T_95e8ee76_6c79_11ea_9888_24418c64cff2row7_col1\" class=\"data row7 col1\" >1.61</td>\n",
       "                        <td id=\"T_95e8ee76_6c79_11ea_9888_24418c64cff2row7_col2\" class=\"data row7 col2\" >37,559,804.79</td>\n",
       "                        <td id=\"T_95e8ee76_6c79_11ea_9888_24418c64cff2row7_col3\" class=\"data row7 col3\" >1,452,285.62</td>\n",
       "                        <td id=\"T_95e8ee76_6c79_11ea_9888_24418c64cff2row7_col4\" class=\"data row7 col4\" >488,277,462.22</td>\n",
       "                        <td id=\"T_95e8ee76_6c79_11ea_9888_24418c64cff2row7_col5\" class=\"data row7 col5\" >18,879,713.10</td>\n",
       "                        <td id=\"T_95e8ee76_6c79_11ea_9888_24418c64cff2row7_col6\" class=\"data row7 col6\" >31,911,541.07</td>\n",
       "                        <td id=\"T_95e8ee76_6c79_11ea_9888_24418c64cff2row7_col7\" class=\"data row7 col7\" >881,503.06</td>\n",
       "                        <td id=\"T_95e8ee76_6c79_11ea_9888_24418c64cff2row7_col8\" class=\"data row7 col8\" >414,850,033.92</td>\n",
       "                        <td id=\"T_95e8ee76_6c79_11ea_9888_24418c64cff2row7_col9\" class=\"data row7 col9\" >11,459,539.77</td>\n",
       "            </tr>\n",
       "            <tr>\n",
       "                        <th id=\"T_95e8ee76_6c79_11ea_9888_24418c64cff2level0_row8\" class=\"row_heading level0 row8\" >9</th>\n",
       "                        <td id=\"T_95e8ee76_6c79_11ea_9888_24418c64cff2row8_col0\" class=\"data row8 col0\" >1.24</td>\n",
       "                        <td id=\"T_95e8ee76_6c79_11ea_9888_24418c64cff2row8_col1\" class=\"data row8 col1\" >1.80</td>\n",
       "                        <td id=\"T_95e8ee76_6c79_11ea_9888_24418c64cff2row8_col2\" class=\"data row8 col2\" >36,387,661.69</td>\n",
       "                        <td id=\"T_95e8ee76_6c79_11ea_9888_24418c64cff2row8_col3\" class=\"data row8 col3\" >1,560,818.23</td>\n",
       "                        <td id=\"T_95e8ee76_6c79_11ea_9888_24418c64cff2row8_col4\" class=\"data row8 col4\" >436,651,940.32</td>\n",
       "                        <td id=\"T_95e8ee76_6c79_11ea_9888_24418c64cff2row8_col5\" class=\"data row8 col5\" >18,729,818.70</td>\n",
       "                        <td id=\"T_95e8ee76_6c79_11ea_9888_24418c64cff2row8_col6\" class=\"data row8 col6\" >29,852,423.15</td>\n",
       "                        <td id=\"T_95e8ee76_6c79_11ea_9888_24418c64cff2row8_col7\" class=\"data row8 col7\" >864,042.91</td>\n",
       "                        <td id=\"T_95e8ee76_6c79_11ea_9888_24418c64cff2row8_col8\" class=\"data row8 col8\" >358,229,077.85</td>\n",
       "                        <td id=\"T_95e8ee76_6c79_11ea_9888_24418c64cff2row8_col9\" class=\"data row8 col9\" >10,368,514.91</td>\n",
       "            </tr>\n",
       "            <tr>\n",
       "                        <th id=\"T_95e8ee76_6c79_11ea_9888_24418c64cff2level0_row9\" class=\"row_heading level0 row9\" >10</th>\n",
       "                        <td id=\"T_95e8ee76_6c79_11ea_9888_24418c64cff2row9_col0\" class=\"data row9 col0\" >1.30</td>\n",
       "                        <td id=\"T_95e8ee76_6c79_11ea_9888_24418c64cff2row9_col1\" class=\"data row9 col1\" >1.74</td>\n",
       "                        <td id=\"T_95e8ee76_6c79_11ea_9888_24418c64cff2row9_col2\" class=\"data row9 col2\" >34,595,402.29</td>\n",
       "                        <td id=\"T_95e8ee76_6c79_11ea_9888_24418c64cff2row9_col3\" class=\"data row9 col3\" >1,473,009.60</td>\n",
       "                        <td id=\"T_95e8ee76_6c79_11ea_9888_24418c64cff2row9_col4\" class=\"data row9 col4\" >484,335,632.04</td>\n",
       "                        <td id=\"T_95e8ee76_6c79_11ea_9888_24418c64cff2row9_col5\" class=\"data row9 col5\" >20,622,134.42</td>\n",
       "                        <td id=\"T_95e8ee76_6c79_11ea_9888_24418c64cff2row9_col6\" class=\"data row9 col6\" >26,857,290.29</td>\n",
       "                        <td id=\"T_95e8ee76_6c79_11ea_9888_24418c64cff2row9_col7\" class=\"data row9 col7\" >835,859.79</td>\n",
       "                        <td id=\"T_95e8ee76_6c79_11ea_9888_24418c64cff2row9_col8\" class=\"data row9 col8\" >376,002,064.06</td>\n",
       "                        <td id=\"T_95e8ee76_6c79_11ea_9888_24418c64cff2row9_col9\" class=\"data row9 col9\" >11,702,037.06</td>\n",
       "            </tr>\n",
       "            <tr>\n",
       "                        <th id=\"T_95e8ee76_6c79_11ea_9888_24418c64cff2level0_row10\" class=\"row_heading level0 row10\" >11</th>\n",
       "                        <td id=\"T_95e8ee76_6c79_11ea_9888_24418c64cff2row10_col0\" class=\"data row10 col0\" >1.14</td>\n",
       "                        <td id=\"T_95e8ee76_6c79_11ea_9888_24418c64cff2row10_col1\" class=\"data row10 col1\" >1.64</td>\n",
       "                        <td id=\"T_95e8ee76_6c79_11ea_9888_24418c64cff2row10_col2\" class=\"data row10 col2\" >30,414,668.73</td>\n",
       "                        <td id=\"T_95e8ee76_6c79_11ea_9888_24418c64cff2row10_col3\" class=\"data row10 col3\" >1,319,923.80</td>\n",
       "                        <td id=\"T_95e8ee76_6c79_11ea_9888_24418c64cff2row10_col4\" class=\"data row10 col4\" >395,390,693.54</td>\n",
       "                        <td id=\"T_95e8ee76_6c79_11ea_9888_24418c64cff2row10_col5\" class=\"data row10 col5\" >17,159,009.44</td>\n",
       "                        <td id=\"T_95e8ee76_6c79_11ea_9888_24418c64cff2row10_col6\" class=\"data row10 col6\" >26,824,134.81</td>\n",
       "                        <td id=\"T_95e8ee76_6c79_11ea_9888_24418c64cff2row10_col7\" class=\"data row10 col7\" >790,681.96</td>\n",
       "                        <td id=\"T_95e8ee76_6c79_11ea_9888_24418c64cff2row10_col8\" class=\"data row10 col8\" >348,713,752.51</td>\n",
       "                        <td id=\"T_95e8ee76_6c79_11ea_9888_24418c64cff2row10_col9\" class=\"data row10 col9\" >10,278,865.42</td>\n",
       "            </tr>\n",
       "            <tr>\n",
       "                        <th id=\"T_95e8ee76_6c79_11ea_9888_24418c64cff2level0_row11\" class=\"row_heading level0 row11\" >12</th>\n",
       "                        <td id=\"T_95e8ee76_6c79_11ea_9888_24418c64cff2row11_col0\" class=\"data row11 col0\" >1.00</td>\n",
       "                        <td id=\"T_95e8ee76_6c79_11ea_9888_24418c64cff2row11_col1\" class=\"data row11 col1\" >1.51</td>\n",
       "                        <td id=\"T_95e8ee76_6c79_11ea_9888_24418c64cff2row11_col2\" class=\"data row11 col2\" >30,796,392.33</td>\n",
       "                        <td id=\"T_95e8ee76_6c79_11ea_9888_24418c64cff2row11_col3\" class=\"data row11 col3\" >1,347,778.66</td>\n",
       "                        <td id=\"T_95e8ee76_6c79_11ea_9888_24418c64cff2row11_col4\" class=\"data row11 col4\" >400,353,100.24</td>\n",
       "                        <td id=\"T_95e8ee76_6c79_11ea_9888_24418c64cff2row11_col5\" class=\"data row11 col5\" >17,521,122.60</td>\n",
       "                        <td id=\"T_95e8ee76_6c79_11ea_9888_24418c64cff2row11_col6\" class=\"data row11 col6\" >30,645,883.51</td>\n",
       "                        <td id=\"T_95e8ee76_6c79_11ea_9888_24418c64cff2row11_col7\" class=\"data row11 col7\" >886,908.67</td>\n",
       "                        <td id=\"T_95e8ee76_6c79_11ea_9888_24418c64cff2row11_col8\" class=\"data row11 col8\" >398,396,485.68</td>\n",
       "                        <td id=\"T_95e8ee76_6c79_11ea_9888_24418c64cff2row11_col9\" class=\"data row11 col9\" >11,529,812.70</td>\n",
       "            </tr>\n",
       "    </tbody></table>"
      ],
      "text/plain": [
       "<pandas.io.formats.style.Styler at 0x202cc1ffd08>"
      ]
     },
     "execution_count": 176,
     "metadata": {},
     "output_type": "execute_result"
    }
   ],
   "source": [
    "df_rev_by_month = pd.pivot_table(df_avo_total, \n",
    "                                index=df_avo_total.Date.dt.month, \n",
    "                                columns='type', \n",
    "                                values=['TotalVolume', 'Revenue', 'AveragePrice'], \n",
    "                                aggfunc={'TotalVolume': ['sum', 'mean'],\n",
    "                                        'Revenue': ['sum', 'mean'],\n",
    "                                        'AveragePrice': 'mean'})\n",
    "\n",
    "df_rev_by_month.style.background_gradient(cmap=cm_blue_red).format(\"{:,.2f}\".format)"
   ]
  }
 ],
 "metadata": {
  "kernelspec": {
   "display_name": "Python 3.7.6 64-bit ('learning': conda)",
   "language": "python",
   "name": "python37664bitlearningconda19657ba668a546319d94c84a2735f47c"
  },
  "language_info": {
   "codemirror_mode": {
    "name": "ipython",
    "version": 3
   },
   "file_extension": ".py",
   "mimetype": "text/x-python",
   "name": "python",
   "nbconvert_exporter": "python",
   "pygments_lexer": "ipython3",
   "version": "3.7.6"
  },
  "toc": {
   "base_numbering": 1,
   "nav_menu": {},
   "number_sections": true,
   "sideBar": true,
   "skip_h1_title": false,
   "title_cell": "Table of Contents",
   "title_sidebar": "Contents",
   "toc_cell": false,
   "toc_position": {},
   "toc_section_display": true,
   "toc_window_display": false
  }
 },
 "nbformat": 4,
 "nbformat_minor": 4
}
