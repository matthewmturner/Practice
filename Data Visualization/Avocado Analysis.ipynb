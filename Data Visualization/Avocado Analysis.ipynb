{
 "cells": [
  {
   "cell_type": "markdown",
   "metadata": {
    "toc-hr-collapsed": true
   },
   "source": [
    "# Setup"
   ]
  },
  {
   "cell_type": "markdown",
   "metadata": {},
   "source": [
    "## Imports"
   ]
  },
  {
   "cell_type": "code",
   "execution_count": 3,
   "metadata": {},
   "outputs": [],
   "source": [
    "import pandas as pd\n",
    "from pyarrow import csv\n",
    "import plotly.express as px"
   ]
  },
  {
   "cell_type": "markdown",
   "metadata": {},
   "source": [
    "## Config"
   ]
  },
  {
   "cell_type": "code",
   "execution_count": 4,
   "metadata": {},
   "outputs": [],
   "source": [
    "pd.options.display.float_format = '${:,.2f}'.format\n",
    "pd.options.display.max_rows = 25"
   ]
  },
  {
   "cell_type": "markdown",
   "metadata": {},
   "source": [
    "# Data Ingestion"
   ]
  },
  {
   "cell_type": "markdown",
   "metadata": {},
   "source": [
    "**Data source**: https://www.kaggle.com/neuromusic/avocado-prices"
   ]
  },
  {
   "cell_type": "code",
   "execution_count": 8,
   "metadata": {},
   "outputs": [],
   "source": [
    "avocado_path = r\"C:\\Users\\matth\\OneDrive\\Data\\Kaggle\\avocado.csv\""
   ]
  },
  {
   "cell_type": "code",
   "execution_count": 11,
   "metadata": {},
   "outputs": [],
   "source": [
    "arrow_avo = csv.read_csv(avocado_path)"
   ]
  },
  {
   "cell_type": "code",
   "execution_count": 12,
   "metadata": {},
   "outputs": [
    {
     "data": {
      "text/plain": [
       "pyarrow.Table\n",
       ": int64\n",
       "Date: timestamp[s]\n",
       "AveragePrice: double\n",
       "Total Volume: double\n",
       "4046: double\n",
       "4225: double\n",
       "4770: double\n",
       "Total Bags: double\n",
       "Small Bags: double\n",
       "Large Bags: double\n",
       "XLarge Bags: double\n",
       "type: string\n",
       "year: int64\n",
       "region: string"
      ]
     },
     "execution_count": 12,
     "metadata": {},
     "output_type": "execute_result"
    }
   ],
   "source": [
    "arrow_avo"
   ]
  },
  {
   "cell_type": "code",
   "execution_count": 19,
   "metadata": {},
   "outputs": [],
   "source": [
    "df_avo = arrow_avo.remove_column(0).to_pandas()"
   ]
  },
  {
   "cell_type": "code",
   "execution_count": 20,
   "metadata": {},
   "outputs": [
    {
     "name": "stdout",
     "output_type": "stream",
     "text": [
      "<class 'pandas.core.frame.DataFrame'>\n",
      "RangeIndex: 18249 entries, 0 to 18248\n",
      "Data columns (total 13 columns):\n",
      " #   Column        Non-Null Count  Dtype         \n",
      "---  ------        --------------  -----         \n",
      " 0   Date          18249 non-null  datetime64[ns]\n",
      " 1   AveragePrice  18249 non-null  float64       \n",
      " 2   Total Volume  18249 non-null  float64       \n",
      " 3   4046          18249 non-null  float64       \n",
      " 4   4225          18249 non-null  float64       \n",
      " 5   4770          18249 non-null  float64       \n",
      " 6   Total Bags    18249 non-null  float64       \n",
      " 7   Small Bags    18249 non-null  float64       \n",
      " 8   Large Bags    18249 non-null  float64       \n",
      " 9   XLarge Bags   18249 non-null  float64       \n",
      " 10  type          18249 non-null  object        \n",
      " 11  year          18249 non-null  int64         \n",
      " 12  region        18249 non-null  object        \n",
      "dtypes: datetime64[ns](1), float64(9), int64(1), object(2)\n",
      "memory usage: 1.8+ MB\n"
     ]
    }
   ],
   "source": [
    "df_avo.info()"
   ]
  },
  {
   "cell_type": "code",
   "execution_count": 21,
   "metadata": {},
   "outputs": [
    {
     "data": {
      "text/html": [
       "<div>\n",
       "<style scoped>\n",
       "    .dataframe tbody tr th:only-of-type {\n",
       "        vertical-align: middle;\n",
       "    }\n",
       "\n",
       "    .dataframe tbody tr th {\n",
       "        vertical-align: top;\n",
       "    }\n",
       "\n",
       "    .dataframe thead th {\n",
       "        text-align: right;\n",
       "    }\n",
       "</style>\n",
       "<table border=\"1\" class=\"dataframe\">\n",
       "  <thead>\n",
       "    <tr style=\"text-align: right;\">\n",
       "      <th></th>\n",
       "      <th>Date</th>\n",
       "      <th>AveragePrice</th>\n",
       "      <th>Total Volume</th>\n",
       "      <th>4046</th>\n",
       "      <th>4225</th>\n",
       "      <th>4770</th>\n",
       "      <th>Total Bags</th>\n",
       "      <th>Small Bags</th>\n",
       "      <th>Large Bags</th>\n",
       "      <th>XLarge Bags</th>\n",
       "      <th>type</th>\n",
       "      <th>year</th>\n",
       "      <th>region</th>\n",
       "    </tr>\n",
       "  </thead>\n",
       "  <tbody>\n",
       "    <tr>\n",
       "      <th>0</th>\n",
       "      <td>2015-12-27</td>\n",
       "      <td>$1.33</td>\n",
       "      <td>$64,236.62</td>\n",
       "      <td>$1,036.74</td>\n",
       "      <td>$54,454.85</td>\n",
       "      <td>$48.16</td>\n",
       "      <td>$8,696.87</td>\n",
       "      <td>$8,603.62</td>\n",
       "      <td>$93.25</td>\n",
       "      <td>$0.00</td>\n",
       "      <td>conventional</td>\n",
       "      <td>2015</td>\n",
       "      <td>Albany</td>\n",
       "    </tr>\n",
       "    <tr>\n",
       "      <th>1</th>\n",
       "      <td>2015-12-20</td>\n",
       "      <td>$1.35</td>\n",
       "      <td>$54,876.98</td>\n",
       "      <td>$674.28</td>\n",
       "      <td>$44,638.81</td>\n",
       "      <td>$58.33</td>\n",
       "      <td>$9,505.56</td>\n",
       "      <td>$9,408.07</td>\n",
       "      <td>$97.49</td>\n",
       "      <td>$0.00</td>\n",
       "      <td>conventional</td>\n",
       "      <td>2015</td>\n",
       "      <td>Albany</td>\n",
       "    </tr>\n",
       "    <tr>\n",
       "      <th>2</th>\n",
       "      <td>2015-12-13</td>\n",
       "      <td>$0.93</td>\n",
       "      <td>$118,220.22</td>\n",
       "      <td>$794.70</td>\n",
       "      <td>$109,149.67</td>\n",
       "      <td>$130.50</td>\n",
       "      <td>$8,145.35</td>\n",
       "      <td>$8,042.21</td>\n",
       "      <td>$103.14</td>\n",
       "      <td>$0.00</td>\n",
       "      <td>conventional</td>\n",
       "      <td>2015</td>\n",
       "      <td>Albany</td>\n",
       "    </tr>\n",
       "    <tr>\n",
       "      <th>3</th>\n",
       "      <td>2015-12-06</td>\n",
       "      <td>$1.08</td>\n",
       "      <td>$78,992.15</td>\n",
       "      <td>$1,132.00</td>\n",
       "      <td>$71,976.41</td>\n",
       "      <td>$72.58</td>\n",
       "      <td>$5,811.16</td>\n",
       "      <td>$5,677.40</td>\n",
       "      <td>$133.76</td>\n",
       "      <td>$0.00</td>\n",
       "      <td>conventional</td>\n",
       "      <td>2015</td>\n",
       "      <td>Albany</td>\n",
       "    </tr>\n",
       "    <tr>\n",
       "      <th>4</th>\n",
       "      <td>2015-11-29</td>\n",
       "      <td>$1.28</td>\n",
       "      <td>$51,039.60</td>\n",
       "      <td>$941.48</td>\n",
       "      <td>$43,838.39</td>\n",
       "      <td>$75.78</td>\n",
       "      <td>$6,183.95</td>\n",
       "      <td>$5,986.26</td>\n",
       "      <td>$197.69</td>\n",
       "      <td>$0.00</td>\n",
       "      <td>conventional</td>\n",
       "      <td>2015</td>\n",
       "      <td>Albany</td>\n",
       "    </tr>\n",
       "  </tbody>\n",
       "</table>\n",
       "</div>"
      ],
      "text/plain": [
       "        Date  AveragePrice  Total Volume      4046        4225    4770  \\\n",
       "0 2015-12-27         $1.33    $64,236.62 $1,036.74  $54,454.85  $48.16   \n",
       "1 2015-12-20         $1.35    $54,876.98   $674.28  $44,638.81  $58.33   \n",
       "2 2015-12-13         $0.93   $118,220.22   $794.70 $109,149.67 $130.50   \n",
       "3 2015-12-06         $1.08    $78,992.15 $1,132.00  $71,976.41  $72.58   \n",
       "4 2015-11-29         $1.28    $51,039.60   $941.48  $43,838.39  $75.78   \n",
       "\n",
       "   Total Bags  Small Bags  Large Bags  XLarge Bags          type  year  region  \n",
       "0   $8,696.87   $8,603.62      $93.25        $0.00  conventional  2015  Albany  \n",
       "1   $9,505.56   $9,408.07      $97.49        $0.00  conventional  2015  Albany  \n",
       "2   $8,145.35   $8,042.21     $103.14        $0.00  conventional  2015  Albany  \n",
       "3   $5,811.16   $5,677.40     $133.76        $0.00  conventional  2015  Albany  \n",
       "4   $6,183.95   $5,986.26     $197.69        $0.00  conventional  2015  Albany  "
      ]
     },
     "execution_count": 21,
     "metadata": {},
     "output_type": "execute_result"
    }
   ],
   "source": [
    "df_avo.head()"
   ]
  },
  {
   "cell_type": "markdown",
   "metadata": {},
   "source": [
    "# Data Cleaning"
   ]
  },
  {
   "cell_type": "code",
   "execution_count": 23,
   "metadata": {},
   "outputs": [
    {
     "data": {
      "text/html": [
       "<div>\n",
       "<style scoped>\n",
       "    .dataframe tbody tr th:only-of-type {\n",
       "        vertical-align: middle;\n",
       "    }\n",
       "\n",
       "    .dataframe tbody tr th {\n",
       "        vertical-align: top;\n",
       "    }\n",
       "\n",
       "    .dataframe thead th {\n",
       "        text-align: right;\n",
       "    }\n",
       "</style>\n",
       "<table border=\"1\" class=\"dataframe\">\n",
       "  <thead>\n",
       "    <tr style=\"text-align: right;\">\n",
       "      <th></th>\n",
       "      <th>AveragePrice</th>\n",
       "      <th>Total Volume</th>\n",
       "      <th>4046</th>\n",
       "      <th>4225</th>\n",
       "      <th>4770</th>\n",
       "      <th>Total Bags</th>\n",
       "      <th>Small Bags</th>\n",
       "      <th>Large Bags</th>\n",
       "      <th>XLarge Bags</th>\n",
       "      <th>year</th>\n",
       "    </tr>\n",
       "  </thead>\n",
       "  <tbody>\n",
       "    <tr>\n",
       "      <th>count</th>\n",
       "      <td>$18,249.00</td>\n",
       "      <td>$18,249.00</td>\n",
       "      <td>$18,249.00</td>\n",
       "      <td>$18,249.00</td>\n",
       "      <td>$18,249.00</td>\n",
       "      <td>$18,249.00</td>\n",
       "      <td>$18,249.00</td>\n",
       "      <td>$18,249.00</td>\n",
       "      <td>$18,249.00</td>\n",
       "      <td>$18,249.00</td>\n",
       "    </tr>\n",
       "    <tr>\n",
       "      <th>mean</th>\n",
       "      <td>$1.41</td>\n",
       "      <td>$850,644.01</td>\n",
       "      <td>$293,008.42</td>\n",
       "      <td>$295,154.57</td>\n",
       "      <td>$22,839.74</td>\n",
       "      <td>$239,639.20</td>\n",
       "      <td>$182,194.69</td>\n",
       "      <td>$54,338.09</td>\n",
       "      <td>$3,106.43</td>\n",
       "      <td>$2,016.15</td>\n",
       "    </tr>\n",
       "    <tr>\n",
       "      <th>std</th>\n",
       "      <td>$0.40</td>\n",
       "      <td>$3,453,545.36</td>\n",
       "      <td>$1,264,989.08</td>\n",
       "      <td>$1,204,120.40</td>\n",
       "      <td>$107,464.07</td>\n",
       "      <td>$986,242.40</td>\n",
       "      <td>$746,178.51</td>\n",
       "      <td>$243,965.96</td>\n",
       "      <td>$17,692.89</td>\n",
       "      <td>$0.94</td>\n",
       "    </tr>\n",
       "    <tr>\n",
       "      <th>min</th>\n",
       "      <td>$0.44</td>\n",
       "      <td>$84.56</td>\n",
       "      <td>$0.00</td>\n",
       "      <td>$0.00</td>\n",
       "      <td>$0.00</td>\n",
       "      <td>$0.00</td>\n",
       "      <td>$0.00</td>\n",
       "      <td>$0.00</td>\n",
       "      <td>$0.00</td>\n",
       "      <td>$2,015.00</td>\n",
       "    </tr>\n",
       "    <tr>\n",
       "      <th>25%</th>\n",
       "      <td>$1.10</td>\n",
       "      <td>$10,838.58</td>\n",
       "      <td>$854.07</td>\n",
       "      <td>$3,008.78</td>\n",
       "      <td>$0.00</td>\n",
       "      <td>$5,088.64</td>\n",
       "      <td>$2,849.42</td>\n",
       "      <td>$127.47</td>\n",
       "      <td>$0.00</td>\n",
       "      <td>$2,015.00</td>\n",
       "    </tr>\n",
       "    <tr>\n",
       "      <th>50%</th>\n",
       "      <td>$1.37</td>\n",
       "      <td>$107,376.76</td>\n",
       "      <td>$8,645.30</td>\n",
       "      <td>$29,061.02</td>\n",
       "      <td>$184.99</td>\n",
       "      <td>$39,743.83</td>\n",
       "      <td>$26,362.82</td>\n",
       "      <td>$2,647.71</td>\n",
       "      <td>$0.00</td>\n",
       "      <td>$2,016.00</td>\n",
       "    </tr>\n",
       "    <tr>\n",
       "      <th>75%</th>\n",
       "      <td>$1.66</td>\n",
       "      <td>$432,962.29</td>\n",
       "      <td>$111,020.20</td>\n",
       "      <td>$150,206.86</td>\n",
       "      <td>$6,243.42</td>\n",
       "      <td>$110,783.37</td>\n",
       "      <td>$83,337.67</td>\n",
       "      <td>$22,029.25</td>\n",
       "      <td>$132.50</td>\n",
       "      <td>$2,017.00</td>\n",
       "    </tr>\n",
       "    <tr>\n",
       "      <th>max</th>\n",
       "      <td>$3.25</td>\n",
       "      <td>$62,505,646.52</td>\n",
       "      <td>$22,743,616.17</td>\n",
       "      <td>$20,470,572.61</td>\n",
       "      <td>$2,546,439.11</td>\n",
       "      <td>$19,373,134.37</td>\n",
       "      <td>$13,384,586.80</td>\n",
       "      <td>$5,719,096.61</td>\n",
       "      <td>$551,693.65</td>\n",
       "      <td>$2,018.00</td>\n",
       "    </tr>\n",
       "  </tbody>\n",
       "</table>\n",
       "</div>"
      ],
      "text/plain": [
       "       AveragePrice   Total Volume           4046           4225  \\\n",
       "count    $18,249.00     $18,249.00     $18,249.00     $18,249.00   \n",
       "mean          $1.41    $850,644.01    $293,008.42    $295,154.57   \n",
       "std           $0.40  $3,453,545.36  $1,264,989.08  $1,204,120.40   \n",
       "min           $0.44         $84.56          $0.00          $0.00   \n",
       "25%           $1.10     $10,838.58        $854.07      $3,008.78   \n",
       "50%           $1.37    $107,376.76      $8,645.30     $29,061.02   \n",
       "75%           $1.66    $432,962.29    $111,020.20    $150,206.86   \n",
       "max           $3.25 $62,505,646.52 $22,743,616.17 $20,470,572.61   \n",
       "\n",
       "               4770     Total Bags     Small Bags    Large Bags  XLarge Bags  \\\n",
       "count    $18,249.00     $18,249.00     $18,249.00    $18,249.00   $18,249.00   \n",
       "mean     $22,839.74    $239,639.20    $182,194.69    $54,338.09    $3,106.43   \n",
       "std     $107,464.07    $986,242.40    $746,178.51   $243,965.96   $17,692.89   \n",
       "min           $0.00          $0.00          $0.00         $0.00        $0.00   \n",
       "25%           $0.00      $5,088.64      $2,849.42       $127.47        $0.00   \n",
       "50%         $184.99     $39,743.83     $26,362.82     $2,647.71        $0.00   \n",
       "75%       $6,243.42    $110,783.37     $83,337.67    $22,029.25      $132.50   \n",
       "max   $2,546,439.11 $19,373,134.37 $13,384,586.80 $5,719,096.61  $551,693.65   \n",
       "\n",
       "            year  \n",
       "count $18,249.00  \n",
       "mean   $2,016.15  \n",
       "std        $0.94  \n",
       "min    $2,015.00  \n",
       "25%    $2,015.00  \n",
       "50%    $2,016.00  \n",
       "75%    $2,017.00  \n",
       "max    $2,018.00  "
      ]
     },
     "execution_count": 23,
     "metadata": {},
     "output_type": "execute_result"
    }
   ],
   "source": [
    "df_avo.describe()"
   ]
  }
 ],
 "metadata": {
  "kernelspec": {
   "display_name": "Python 3.8.1 64-bit",
   "language": "python",
   "name": "python38164bit09737aa77633486b86a97a68e7882761"
  },
  "language_info": {
   "codemirror_mode": {
    "name": "ipython",
    "version": 3
   },
   "file_extension": ".py",
   "mimetype": "text/x-python",
   "name": "python",
   "nbconvert_exporter": "python",
   "pygments_lexer": "ipython3",
   "version": "3.8.1"
  }
 },
 "nbformat": 4,
 "nbformat_minor": 4
}
